{
  "cells": [
    {
      "metadata": {},
      "cell_type": "markdown",
      "source": "# Title: msticpy - GeoIP Lookup\n\n## Introduction\nThis module contains two classes that allow you to look up the Geolocation of IP Addresses.\n\n### MaxMind GeoIPLite\nThis product includes GeoLite2 data created by MaxMind, available from\n<a>https://www.maxmind.com</a>.\n\nThis uses a local database which is downloaded first time when class object is instantiated. It gives very fast lookups but you need to download updates regularly. Maxmind offers a free tier of this database, updated monthly. For greater accuracy and more detailed information they have varying levels of paid service. Please check out their site for more details.\n\nThe geoip module uses official maxmind pypi package - geoip2 and also has options to customize the behavior of local maxmind database.\n* ```db_folder``` : Specify custom path containing local maxmind city database. If not specified, download to .msticpy dir under user\\`s home dir.\n* ```force_update``` : can be set to True/False to issue force update despite of age check.\n* Check age of maxmind city database based on database info and download new if it is not updated in last 30 days.\n* ``auto_update``` : can be set to True/False Allow option to override auto update database if user is desired not to update database older than 30 days.\n\n### IPStack\nThis library uses services provided by ipstack.\n<a>https://ipstack.com</a>\n\nIPStack is an online service and also offers a free tier of their service. Again, the paid tiers offer greater accuracy, more detailed information and higher throughput. Please check out their site for more details.\n\n"
    },
    {
      "metadata": {},
      "cell_type": "markdown",
      "source": "<a></a>\n## Table of Contents\n- [Maxmind GeoIP Lookup](#geoip_lookups)\n- [IPStack GeoIP Lookup](#ipstack_lookups)\n- [Dataframe input](#dataframe_input)\n- [Creating your own GeoIP Class](#custom_lookup)\n- [Calculating Geographical Distances](#calc_distance)"
    },
    {
      "metadata": {
        "ExecuteTime": {
          "start_time": "2019-10-07T16:47:52.628151Z",
          "end_time": "2019-10-07T16:48:02.210305Z"
        },
        "scrolled": true,
        "trusted": true
      },
      "cell_type": "code",
      "source": "# Imports\nimport sys\nMIN_REQ_PYTHON = (3,6)\nif sys.version_info < MIN_REQ_PYTHON:\n    print('Check the Kernel->Change Kernel menu and ensure that Python 3.6')\n    print('or later is selected as the active kernel.')\n    sys.exit(\"Python %s.%s or later is required.\\n\" % MIN_REQ_PYTHON)\n\n\nfrom IPython.display import display\nimport pandas as pd\n\nimport msticpy.sectools as sectools\nfrom msticpy.nbtools import *\nfrom msticpy.nbtools.entityschema import IpAddress, GeoLocation\nfrom msticpy.sectools.geoip import GeoLiteLookup, IPStackLookup",
      "execution_count": 2,
      "outputs": [
        {
          "output_type": "display_data",
          "data": {
            "text/html": "\nThis product includes GeoLite2 data created by MaxMind, available from\n<a href=\"https://www.maxmind.com\">https://www.maxmind.com</a>.\n",
            "text/plain": "<IPython.core.display.HTML object>"
          },
          "metadata": {}
        },
        {
          "output_type": "display_data",
          "data": {
            "text/html": "\nThis library uses services provided by ipstack.\n<a href=\"https://ipstack.com\">https://ipstack.com</a>",
            "text/plain": "<IPython.core.display.HTML object>"
          },
          "metadata": {}
        }
      ]
    },
    {
      "metadata": {},
      "cell_type": "markdown",
      "source": "<a></a>[Contents](#contents)\n## Maxmind GeoIP Lite Loopup Class\nSignature:\n```\niplocation.lookup_ip(ip_address: str = None, \n                     ip_addr_list: collections.abc.Iterable = None,\n                     ip_entity: msticpy.nbtools.entityschema.IpAddress = None)\nDocstring:\nLookup IP location from GeoLite2 data created by MaxMind.\n\nKeyword Arguments:\n    ip_address {str} -- a single address to look up (default: {None})\n    ip_addr_list {Iterable} -- a collection of addresses to lookup (default: {None})\n    ip_entity {IpAddress} -- an IpAddress entity\n\nReturns:\n    tuple(list{dict}, list{entity}) -- returns raw geolocation results and\n        same results as IP/Geolocation entities\n```"
    },
    {
      "metadata": {
        "ExecuteTime": {
          "start_time": "2019-10-07T16:48:07.713258Z",
          "end_time": "2019-10-07T16:48:11.900644Z"
        },
        "trusted": true
      },
      "cell_type": "code",
      "source": "iplocation = GeoLiteLookup()\nloc_result, ip_entity = iplocation.lookup_ip(ip_address='90.156.201.97')\n\nprint('Raw result')\ndisplay(loc_result)\n\nprint('IP Address Entity')\ndisplay(ip_entity[0])",
      "execution_count": 3,
      "outputs": [
        {
          "output_type": "stream",
          "text": "No local Maxmind City Database found.  Attempting to downloading new database to /home/nbuser/.msticpy\nDownloading GeoLite DB archive from MaxMind....\nExtracting city database...\nExtraction complete. Local Maxmind city DB: /home/nbuser/.msticpy/GeoLite2-City.mmdb\nRaw result\n",
          "name": "stdout"
        },
        {
          "output_type": "display_data",
          "data": {
            "text/plain": "[{'continent': {'code': 'EU',\n   'geoname_id': 6255148,\n   'names': {'de': 'Europa',\n    'en': 'Europe',\n    'es': 'Europa',\n    'fr': 'Europe',\n    'ja': 'ヨーロッパ',\n    'pt-BR': 'Europa',\n    'ru': 'Европа',\n    'zh-CN': '欧洲'}},\n  'country': {'geoname_id': 2017370,\n   'iso_code': 'RU',\n   'names': {'de': 'Russland',\n    'en': 'Russia',\n    'es': 'Rusia',\n    'fr': 'Russie',\n    'ja': 'ロシア',\n    'pt-BR': 'Rússia',\n    'ru': 'Россия',\n    'zh-CN': '俄罗斯'}},\n  'location': {'accuracy_radius': 1000,\n   'latitude': 55.7386,\n   'longitude': 37.6068,\n   'time_zone': 'Europe/Moscow'},\n  'registered_country': {'geoname_id': 2017370,\n   'iso_code': 'RU',\n   'names': {'de': 'Russland',\n    'en': 'Russia',\n    'es': 'Rusia',\n    'fr': 'Russie',\n    'ja': 'ロシア',\n    'pt-BR': 'Rússia',\n    'ru': 'Россия',\n    'zh-CN': '俄罗斯'}},\n  'traits': {'ip_address': '90.156.201.97'}}]"
          },
          "metadata": {}
        },
        {
          "output_type": "stream",
          "text": "IP Address Entity\n",
          "name": "stdout"
        },
        {
          "output_type": "display_data",
          "data": {
            "text/plain": "IpAddress(Type=ipaddress, Address=90.156.201.97, Location={ 'AdditionalData': {},\n  'Count...)"
          },
          "metadata": {}
        }
      ]
    },
    {
      "metadata": {
        "ExecuteTime": {
          "start_time": "2019-10-07T16:48:16.53949Z",
          "end_time": "2019-10-07T16:48:16.553796Z"
        },
        "trusted": true
      },
      "cell_type": "code",
      "source": "iplocation = GeoLiteLookup(db_folder='/home/nbuser/.msticpy')\nloc_result, ip_entity = iplocation.lookup_ip(ip_address='90.156.201.97')\n\nprint('Raw result')\ndisplay(loc_result)\n\nprint('IP Address Entity')\ndisplay(ip_entity[0])",
      "execution_count": 4,
      "outputs": [
        {
          "output_type": "stream",
          "text": "Raw result\n",
          "name": "stdout"
        },
        {
          "output_type": "display_data",
          "data": {
            "text/plain": "[{'continent': {'code': 'EU',\n   'geoname_id': 6255148,\n   'names': {'de': 'Europa',\n    'en': 'Europe',\n    'es': 'Europa',\n    'fr': 'Europe',\n    'ja': 'ヨーロッパ',\n    'pt-BR': 'Europa',\n    'ru': 'Европа',\n    'zh-CN': '欧洲'}},\n  'country': {'geoname_id': 2017370,\n   'iso_code': 'RU',\n   'names': {'de': 'Russland',\n    'en': 'Russia',\n    'es': 'Rusia',\n    'fr': 'Russie',\n    'ja': 'ロシア',\n    'pt-BR': 'Rússia',\n    'ru': 'Россия',\n    'zh-CN': '俄罗斯'}},\n  'location': {'accuracy_radius': 1000,\n   'latitude': 55.7386,\n   'longitude': 37.6068,\n   'time_zone': 'Europe/Moscow'},\n  'registered_country': {'geoname_id': 2017370,\n   'iso_code': 'RU',\n   'names': {'de': 'Russland',\n    'en': 'Russia',\n    'es': 'Rusia',\n    'fr': 'Russie',\n    'ja': 'ロシア',\n    'pt-BR': 'Rússia',\n    'ru': 'Россия',\n    'zh-CN': '俄罗斯'}},\n  'traits': {'ip_address': '90.156.201.97'}}]"
          },
          "metadata": {}
        },
        {
          "output_type": "stream",
          "text": "IP Address Entity\n",
          "name": "stdout"
        },
        {
          "output_type": "display_data",
          "data": {
            "text/plain": "IpAddress(Type=ipaddress, Address=90.156.201.97, Location={ 'AdditionalData': {},\n  'Count...)"
          },
          "metadata": {}
        }
      ]
    },
    {
      "metadata": {
        "ExecuteTime": {
          "start_time": "2019-10-07T16:48:25.044955Z",
          "end_time": "2019-10-07T16:48:27.807208Z"
        },
        "trusted": true
      },
      "cell_type": "code",
      "source": "iplocation = GeoLiteLookup(force_update=True)\nloc_result, ip_entity = iplocation.lookup_ip(ip_address='90.156.201.97')\n\nprint('Raw result')\ndisplay(loc_result)\n\nprint('IP Address Entity')\ndisplay(ip_entity[0])",
      "execution_count": 5,
      "outputs": [
        {
          "output_type": "stream",
          "text": "force_update is set to True. Attempting to download new database to /home/nbuser/.msticpy\nDownloading GeoLite DB archive from MaxMind....\nExtracting city database...\nExtraction complete. Local Maxmind city DB: /home/nbuser/.msticpy/GeoLite2-City.mmdb\nRaw result\n",
          "name": "stdout"
        },
        {
          "output_type": "display_data",
          "data": {
            "text/plain": "[{'continent': {'code': 'EU',\n   'geoname_id': 6255148,\n   'names': {'de': 'Europa',\n    'en': 'Europe',\n    'es': 'Europa',\n    'fr': 'Europe',\n    'ja': 'ヨーロッパ',\n    'pt-BR': 'Europa',\n    'ru': 'Европа',\n    'zh-CN': '欧洲'}},\n  'country': {'geoname_id': 2017370,\n   'iso_code': 'RU',\n   'names': {'de': 'Russland',\n    'en': 'Russia',\n    'es': 'Rusia',\n    'fr': 'Russie',\n    'ja': 'ロシア',\n    'pt-BR': 'Rússia',\n    'ru': 'Россия',\n    'zh-CN': '俄罗斯'}},\n  'location': {'accuracy_radius': 1000,\n   'latitude': 55.7386,\n   'longitude': 37.6068,\n   'time_zone': 'Europe/Moscow'},\n  'registered_country': {'geoname_id': 2017370,\n   'iso_code': 'RU',\n   'names': {'de': 'Russland',\n    'en': 'Russia',\n    'es': 'Rusia',\n    'fr': 'Russie',\n    'ja': 'ロシア',\n    'pt-BR': 'Rússia',\n    'ru': 'Россия',\n    'zh-CN': '俄罗斯'}},\n  'traits': {'ip_address': '90.156.201.97'}}]"
          },
          "metadata": {}
        },
        {
          "output_type": "stream",
          "text": "IP Address Entity\n",
          "name": "stdout"
        },
        {
          "output_type": "display_data",
          "data": {
            "text/plain": "IpAddress(Type=ipaddress, Address=90.156.201.97, Location={ 'AdditionalData': {},\n  'Count...)"
          },
          "metadata": {}
        }
      ]
    },
    {
      "metadata": {
        "ExecuteTime": {
          "start_time": "2019-10-07T16:48:36.339767Z",
          "end_time": "2019-10-07T16:48:36.358986Z"
        },
        "trusted": true
      },
      "cell_type": "code",
      "source": "iplocation = GeoLiteLookup(auto_update=False)\nloc_result, ip_entity = iplocation.lookup_ip(ip_address='90.156.201.97')\n\nprint('Raw result')\ndisplay(loc_result)\n\nprint('IP Address Entity')\ndisplay(ip_entity[0])",
      "execution_count": 6,
      "outputs": [
        {
          "output_type": "stream",
          "text": "Raw result\n",
          "name": "stdout"
        },
        {
          "output_type": "display_data",
          "data": {
            "text/plain": "[{'continent': {'code': 'EU',\n   'geoname_id': 6255148,\n   'names': {'de': 'Europa',\n    'en': 'Europe',\n    'es': 'Europa',\n    'fr': 'Europe',\n    'ja': 'ヨーロッパ',\n    'pt-BR': 'Europa',\n    'ru': 'Европа',\n    'zh-CN': '欧洲'}},\n  'country': {'geoname_id': 2017370,\n   'iso_code': 'RU',\n   'names': {'de': 'Russland',\n    'en': 'Russia',\n    'es': 'Rusia',\n    'fr': 'Russie',\n    'ja': 'ロシア',\n    'pt-BR': 'Rússia',\n    'ru': 'Россия',\n    'zh-CN': '俄罗斯'}},\n  'location': {'accuracy_radius': 1000,\n   'latitude': 55.7386,\n   'longitude': 37.6068,\n   'time_zone': 'Europe/Moscow'},\n  'registered_country': {'geoname_id': 2017370,\n   'iso_code': 'RU',\n   'names': {'de': 'Russland',\n    'en': 'Russia',\n    'es': 'Rusia',\n    'fr': 'Russie',\n    'ja': 'ロシア',\n    'pt-BR': 'Rússia',\n    'ru': 'Россия',\n    'zh-CN': '俄罗斯'}},\n  'traits': {'ip_address': '90.156.201.97'}}]"
          },
          "metadata": {}
        },
        {
          "output_type": "stream",
          "text": "IP Address Entity\n",
          "name": "stdout"
        },
        {
          "output_type": "display_data",
          "data": {
            "text/plain": "IpAddress(Type=ipaddress, Address=90.156.201.97, Location={ 'AdditionalData': {},\n  'Count...)"
          },
          "metadata": {}
        }
      ]
    },
    {
      "metadata": {
        "ExecuteTime": {
          "start_time": "2019-10-07T16:48:44.068734Z",
          "end_time": "2019-10-07T16:48:44.15598Z"
        },
        "trusted": true
      },
      "cell_type": "code",
      "source": "import socket\nsocket_info = socket.getaddrinfo(\"pypi.org\",0,0,0,0)\n\nips = [res[4][0] for res in socket_info]\nprint(ips)\n\n_, ip_entities = iplocation.lookup_ip(ip_addr_list=ips)\ndisplay(ip_entities)",
      "execution_count": 7,
      "outputs": [
        {
          "output_type": "stream",
          "text": "['151.101.0.223', '151.101.0.223', '151.101.0.223', '151.101.128.223', '151.101.128.223', '151.101.128.223', '151.101.64.223', '151.101.64.223', '151.101.64.223', '151.101.192.223', '151.101.192.223', '151.101.192.223', '2a04:4e42::223', '2a04:4e42::223', '2a04:4e42::223', '2a04:4e42:600::223', '2a04:4e42:600::223', '2a04:4e42:600::223', '2a04:4e42:400::223', '2a04:4e42:400::223', '2a04:4e42:400::223', '2a04:4e42:200::223', '2a04:4e42:200::223', '2a04:4e42:200::223']\n",
          "name": "stdout"
        },
        {
          "output_type": "display_data",
          "data": {
            "text/plain": "[IpAddress(Type=ipaddress, Address=151.101.0.223, Location={ 'AdditionalData': {},\n   'Count...),\n IpAddress(Type=ipaddress, Address=151.101.0.223, Location={ 'AdditionalData': {},\n   'Count...),\n IpAddress(Type=ipaddress, Address=151.101.0.223, Location={ 'AdditionalData': {},\n   'Count...),\n IpAddress(Type=ipaddress, Address=151.101.128.223, Location={ 'AdditionalData': {},\n   'Cou...),\n IpAddress(Type=ipaddress, Address=151.101.128.223, Location={ 'AdditionalData': {},\n   'Cou...),\n IpAddress(Type=ipaddress, Address=151.101.128.223, Location={ 'AdditionalData': {},\n   'Cou...),\n IpAddress(Type=ipaddress, Address=151.101.64.223, Location={ 'AdditionalData': {},\n   'Coun...),\n IpAddress(Type=ipaddress, Address=151.101.64.223, Location={ 'AdditionalData': {},\n   'Coun...),\n IpAddress(Type=ipaddress, Address=151.101.64.223, Location={ 'AdditionalData': {},\n   'Coun...),\n IpAddress(Type=ipaddress, Address=151.101.192.223, Location={ 'AdditionalData': {},\n   'Cou...),\n IpAddress(Type=ipaddress, Address=151.101.192.223, Location={ 'AdditionalData': {},\n   'Cou...),\n IpAddress(Type=ipaddress, Address=151.101.192.223, Location={ 'AdditionalData': {},\n   'Cou...),\n IpAddress(Type=ipaddress, Address=2a04:4e42::223, Location={'AdditionalData': {}, 'Latitud...),\n IpAddress(Type=ipaddress, Address=2a04:4e42::223, Location={'AdditionalData': {}, 'Latitud...),\n IpAddress(Type=ipaddress, Address=2a04:4e42::223, Location={'AdditionalData': {}, 'Latitud...),\n IpAddress(Type=ipaddress, Address=2a04:4e42:600::223, Location={'AdditionalData': {}, 'Lat...),\n IpAddress(Type=ipaddress, Address=2a04:4e42:600::223, Location={'AdditionalData': {}, 'Lat...),\n IpAddress(Type=ipaddress, Address=2a04:4e42:600::223, Location={'AdditionalData': {}, 'Lat...),\n IpAddress(Type=ipaddress, Address=2a04:4e42:400::223, Location={'AdditionalData': {}, 'Lat...),\n IpAddress(Type=ipaddress, Address=2a04:4e42:400::223, Location={'AdditionalData': {}, 'Lat...),\n IpAddress(Type=ipaddress, Address=2a04:4e42:400::223, Location={'AdditionalData': {}, 'Lat...),\n IpAddress(Type=ipaddress, Address=2a04:4e42:200::223, Location={'AdditionalData': {}, 'Lat...),\n IpAddress(Type=ipaddress, Address=2a04:4e42:200::223, Location={'AdditionalData': {}, 'Lat...),\n IpAddress(Type=ipaddress, Address=2a04:4e42:200::223, Location={'AdditionalData': {}, 'Lat...)]"
          },
          "metadata": {}
        }
      ]
    },
    {
      "metadata": {},
      "cell_type": "markdown",
      "source": "<a></a>[Contents](#contents)\n## IPStack Geo-lookup Class\n\n#### Class Initialization\n\nNote - requires IPStack API Key, Optional parameter bulk_lookup allows multiple IPs in a single request. This is only available with the paid Professional tier and above.\n```\nInit signature: IPStackLookup(api_key: str, bulk_lookup: bool = False)\nDocstring:     \nGeoIP Lookup using IPStack web service.\n\nRaises:\n    ConnectionError -- Invalid status returned from http request\n    PermissionError -- Service refused request (e.g. requesting batch of addresses\n            on free tier API key)\nInit docstring:\nCreate a new instance of IPStackLookup.\n\nArguments:\n    api_key {str} -- API Key from IPStack - see https://ipstack.com\n    bulk_lookup {bool} -- For Professional and above tiers allowing you to\n        submit multiple IPs in a single request.\n        \n```\n\n#### lookup_ip method\n```\nSignature:\niplocation.lookup_ip(\n    ['ip_address: str = None', 'ip_addr_list: collections.abc.Iterable = None', 'ip_entity: msticpy.nbtools.entityschema.IpAddress = None'],\n) -&gt; tuple\nDocstring:\nLookup IP location from IPStack web service.\n\nKeyword Arguments:\n    ip_address {str} -- a single address to look up (default: {None})\n    ip_addr_list {Iterable} -- a collection of addresses to lookup (default: {None})\n    ip_entity {IpAddress} -- an IpAddress entity\n\nRaises:\n    ConnectionError -- Invalid status returned from http request\n    PermissionError -- Service refused request (e.g. requesting batch of addresses\n        on free tier API key)\n\nReturns:\n    tuple(list{dict}, list{entity}) -- returns raw geolocation results and\n        same results as IP/Geolocation entities\n```"
    },
    {
      "metadata": {},
      "cell_type": "markdown",
      "source": "<a></a>[Contents](#contents)\n### You will need a IPStack API key\nYou will get more detailed results and a higher throughput allowance if you have a paid tier. See IPStack website for more details"
    },
    {
      "metadata": {
        "trusted": true,
        "ExecuteTime": {
          "start_time": "2019-10-07T16:48:50.738694Z",
          "end_time": "2019-10-07T16:48:50.791773Z"
        }
      },
      "cell_type": "code",
      "source": "# Enter your IPStack Key here\nips_key = nbwidgets.GetEnvironmentKey(env_var='IPSTACK_API_KEY',\n                           help_str='To obtain an API key sign up here https://www.ipstack.com/',\n                           prompt='IPStack API key:')\nips_key.display()",
      "execution_count": 8,
      "outputs": [
        {
          "output_type": "display_data",
          "data": {
            "application/vnd.jupyter.widget-view+json": {
              "model_id": "801ddf2c744645cc99cc5c3de69c776a",
              "version_minor": 0,
              "version_major": 2
            },
            "text/plain": "HTML(value='To obtain an API key sign up here https://www.ipstack.com/')"
          },
          "metadata": {}
        },
        {
          "output_type": "display_data",
          "data": {
            "application/vnd.jupyter.widget-view+json": {
              "model_id": "b0227b778eaa4c178774ee8b1933a197",
              "version_minor": 0,
              "version_major": 2
            },
            "text/plain": "HBox(children=(Text(value='', description='IPStack API key:', layout=Layout(width='50%'), style=DescriptionSty…"
          },
          "metadata": {}
        }
      ]
    },
    {
      "metadata": {
        "scrolled": true,
        "trusted": false
      },
      "cell_type": "code",
      "source": "iplocation = IPStackLookup(api_key=ips_key.value)\nloc_result, ip_entity = iplocation.lookup_ip(ip_address='90.156.201.97')\nprint('Raw result')\ndisplay(loc_result)\n\nprint('IP Address Entity')\ndisplay(ip_entity[0])",
      "execution_count": 11,
      "outputs": [
        {
          "name": "stdout",
          "output_type": "stream",
          "text": "Raw result\n"
        },
        {
          "data": {
            "text/plain": "[({'ip': '90.156.201.97',\n   'type': 'ipv4',\n   'continent_code': 'EU',\n   'continent_name': 'Europe',\n   'country_code': 'RU',\n   'country_name': 'Russia',\n   'region_code': None,\n   'region_name': None,\n   'city': None,\n   'zip': None,\n   'latitude': 55.7386,\n   'longitude': 37.6068,\n   'location': {'geoname_id': None,\n    'capital': 'Moscow',\n    'languages': [{'code': 'ru', 'name': 'Russian', 'native': 'Русский'}],\n    'country_flag': 'http://assets.ipstack.com/flags/ru.svg',\n    'country_flag_emoji': '🇷🇺',\n    'country_flag_emoji_unicode': 'U+1F1F7 U+1F1FA',\n    'calling_code': '7',\n    'is_eu': False}},\n  200)]"
          },
          "metadata": {},
          "output_type": "display_data"
        },
        {
          "name": "stdout",
          "output_type": "stream",
          "text": "IP Address Entity\n"
        },
        {
          "data": {
            "text/plain": "{\"Address\": \"90.156.201.97\", \"Location\": {\"CountryCode\": \"RU\", \"CountryName\": \"Russia\", \"Longitude\": 37.6068, \"Latitude\": 55.7386, \"Type\": \"geolocation\"}, \"Type\": \"ipaddress\"}"
          },
          "metadata": {},
          "output_type": "display_data"
        }
      ]
    },
    {
      "metadata": {
        "scrolled": true,
        "trusted": false
      },
      "cell_type": "code",
      "source": "loc_result, ip_entities = iplocation.lookup_ip(ip_addr_list=ips)\nprint('Raw results')\ndisplay(loc_result)\n\nprint('IP Address Entities')\ndisplay(ip_entities)",
      "execution_count": 13,
      "outputs": [
        {
          "name": "stdout",
          "output_type": "stream",
          "text": "Raw results\n"
        },
        {
          "data": {
            "text/plain": "[({'ip': '2a04:4e42:400::223',\n   'type': 'ipv6',\n   'continent_code': 'EU',\n   'continent_name': 'Europe',\n   'country_code': None,\n   'country_name': None,\n   'region_code': None,\n   'region_name': None,\n   'city': None,\n   'zip': None,\n   'latitude': 47,\n   'longitude': 8,\n   'location': {'geoname_id': None,\n    'capital': None,\n    'languages': None,\n    'country_flag': None,\n    'country_flag_emoji': None,\n    'country_flag_emoji_unicode': None,\n    'calling_code': None,\n    'is_eu': False}},\n  200),\n ({'ip': '2a04:4e42:200::223',\n   'type': 'ipv6',\n   'continent_code': 'EU',\n   'continent_name': 'Europe',\n   'country_code': None,\n   'country_name': None,\n   'region_code': None,\n   'region_name': None,\n   'city': None,\n   'zip': None,\n   'latitude': 47,\n   'longitude': 8,\n   'location': {'geoname_id': None,\n    'capital': None,\n    'languages': None,\n    'country_flag': None,\n    'country_flag_emoji': None,\n    'country_flag_emoji_unicode': None,\n    'calling_code': None,\n    'is_eu': False}},\n  200),\n ({'ip': '2a04:4e42:600::223',\n   'type': 'ipv6',\n   'continent_code': 'EU',\n   'continent_name': 'Europe',\n   'country_code': None,\n   'country_name': None,\n   'region_code': None,\n   'region_name': None,\n   'city': None,\n   'zip': None,\n   'latitude': 47,\n   'longitude': 8,\n   'location': {'geoname_id': None,\n    'capital': None,\n    'languages': None,\n    'country_flag': None,\n    'country_flag_emoji': None,\n    'country_flag_emoji_unicode': None,\n    'calling_code': None,\n    'is_eu': False}},\n  200),\n ({'ip': '2a04:4e42::223',\n   'type': 'ipv6',\n   'continent_code': 'EU',\n   'continent_name': 'Europe',\n   'country_code': None,\n   'country_name': None,\n   'region_code': None,\n   'region_name': None,\n   'city': None,\n   'zip': None,\n   'latitude': 47,\n   'longitude': 8,\n   'location': {'geoname_id': None,\n    'capital': None,\n    'languages': None,\n    'country_flag': None,\n    'country_flag_emoji': None,\n    'country_flag_emoji_unicode': None,\n    'calling_code': None,\n    'is_eu': False}},\n  200),\n ({'ip': '151.101.64.223',\n   'type': 'ipv4',\n   'continent_code': 'NA',\n   'continent_name': 'North America',\n   'country_code': 'US',\n   'country_name': 'United States',\n   'region_code': None,\n   'region_name': None,\n   'city': None,\n   'zip': None,\n   'latitude': 37.751,\n   'longitude': -97.822,\n   'location': {'geoname_id': None,\n    'capital': 'Washington D.C.',\n    'languages': [{'code': 'en', 'name': 'English', 'native': 'English'}],\n    'country_flag': 'http://assets.ipstack.com/flags/us.svg',\n    'country_flag_emoji': '🇺🇸',\n    'country_flag_emoji_unicode': 'U+1F1FA U+1F1F8',\n    'calling_code': '1',\n    'is_eu': False}},\n  200),\n ({'ip': '151.101.0.223',\n   'type': 'ipv4',\n   'continent_code': 'NA',\n   'continent_name': 'North America',\n   'country_code': 'US',\n   'country_name': 'United States',\n   'region_code': None,\n   'region_name': None,\n   'city': None,\n   'zip': None,\n   'latitude': 37.751,\n   'longitude': -97.822,\n   'location': {'geoname_id': None,\n    'capital': 'Washington D.C.',\n    'languages': [{'code': 'en', 'name': 'English', 'native': 'English'}],\n    'country_flag': 'http://assets.ipstack.com/flags/us.svg',\n    'country_flag_emoji': '🇺🇸',\n    'country_flag_emoji_unicode': 'U+1F1FA U+1F1F8',\n    'calling_code': '1',\n    'is_eu': False}},\n  200),\n ({'ip': '151.101.192.223',\n   'type': 'ipv4',\n   'continent_code': 'NA',\n   'continent_name': 'North America',\n   'country_code': 'US',\n   'country_name': 'United States',\n   'region_code': None,\n   'region_name': None,\n   'city': None,\n   'zip': None,\n   'latitude': 37.751,\n   'longitude': -97.822,\n   'location': {'geoname_id': None,\n    'capital': 'Washington D.C.',\n    'languages': [{'code': 'en', 'name': 'English', 'native': 'English'}],\n    'country_flag': 'http://assets.ipstack.com/flags/us.svg',\n    'country_flag_emoji': '🇺🇸',\n    'country_flag_emoji_unicode': 'U+1F1FA U+1F1F8',\n    'calling_code': '1',\n    'is_eu': False}},\n  200),\n ({'ip': '151.101.128.223',\n   'type': 'ipv4',\n   'continent_code': 'NA',\n   'continent_name': 'North America',\n   'country_code': 'US',\n   'country_name': 'United States',\n   'region_code': None,\n   'region_name': None,\n   'city': None,\n   'zip': None,\n   'latitude': 37.751,\n   'longitude': -97.822,\n   'location': {'geoname_id': None,\n    'capital': 'Washington D.C.',\n    'languages': [{'code': 'en', 'name': 'English', 'native': 'English'}],\n    'country_flag': 'http://assets.ipstack.com/flags/us.svg',\n    'country_flag_emoji': '🇺🇸',\n    'country_flag_emoji_unicode': 'U+1F1FA U+1F1F8',\n    'calling_code': '1',\n    'is_eu': False}},\n  200)]"
          },
          "metadata": {},
          "output_type": "display_data"
        },
        {
          "name": "stdout",
          "output_type": "stream",
          "text": "IP Address Entities\n"
        },
        {
          "data": {
            "text/plain": "[{\"Address\": \"2a04:4e42:400::223\", \"Location\": {\"Longitude\": 8, \"Latitude\": 47, \"Type\": \"geolocation\"}, \"Type\": \"ipaddress\"},\n {\"Address\": \"2a04:4e42:200::223\", \"Location\": {\"Longitude\": 8, \"Latitude\": 47, \"Type\": \"geolocation\"}, \"Type\": \"ipaddress\"},\n {\"Address\": \"2a04:4e42:600::223\", \"Location\": {\"Longitude\": 8, \"Latitude\": 47, \"Type\": \"geolocation\"}, \"Type\": \"ipaddress\"},\n {\"Address\": \"2a04:4e42::223\", \"Location\": {\"Longitude\": 8, \"Latitude\": 47, \"Type\": \"geolocation\"}, \"Type\": \"ipaddress\"},\n {\"Address\": \"151.101.64.223\", \"Location\": {\"CountryCode\": \"US\", \"CountryName\": \"United States\", \"Longitude\": -97.822, \"Latitude\": 37.751, \"Type\": \"geolocation\"}, \"Type\": \"ipaddress\"},\n {\"Address\": \"151.101.0.223\", \"Location\": {\"CountryCode\": \"US\", \"CountryName\": \"United States\", \"Longitude\": -97.822, \"Latitude\": 37.751, \"Type\": \"geolocation\"}, \"Type\": \"ipaddress\"},\n {\"Address\": \"151.101.192.223\", \"Location\": {\"CountryCode\": \"US\", \"CountryName\": \"United States\", \"Longitude\": -97.822, \"Latitude\": 37.751, \"Type\": \"geolocation\"}, \"Type\": \"ipaddress\"},\n {\"Address\": \"151.101.128.223\", \"Location\": {\"CountryCode\": \"US\", \"CountryName\": \"United States\", \"Longitude\": -97.822, \"Latitude\": 37.751, \"Type\": \"geolocation\"}, \"Type\": \"ipaddress\"}]"
          },
          "metadata": {},
          "output_type": "display_data"
        }
      ]
    },
    {
      "metadata": {},
      "cell_type": "markdown",
      "source": "<a></a>[Contents](#contents)\n## Taking input from a pandas DataFrame\n\nThe base class for both implementations has a method that sources the ip addresses from a dataframe column and returns a new dataframe with the location information merged with the input frame\n```\nSignature: iplocation.df_lookup_ip(data: pandas.core.frame.DataFrame, column: str)\nDocstring:\nLookup Geolocation data from a pandas Dataframe.\n\nKeyword Arguments:\n    data {pd.DataFrame} -- pandas dataframe containing IpAddress column\n    column {str} -- the name of the dataframe column to use as a source\n```"
    },
    {
      "metadata": {},
      "cell_type": "markdown",
      "source": "<a></a>[Contents](#contents)\n## Creating a Custom GeopIP Lookup Class\n\nYou can derive a class that implements the same operations to use with a different GeoIP service.\n\nThe class signature is as follows:\n```\nclass GeoIpLookup(ABC):\n    \"\"\"Abstract base class for GeoIP Lookup classes.\"\"\"\n\n    @abstractmethod\n    def lookup_ip(self, ip_address: str = None, ip_addr_list: Iterable = None,\n                  ip_entity: IpAddress = None):\n        \"\"\"\n        Lookup IP location.\n\n        Keyword Arguments:\n            ip_address {str} -- a single address to look up (default: {None})\n            ip_addr_list {Iterable} -- a collection of addresses to lookup (default: {None})\n            ip_entity {IpAddress} -- an IpAddress entity\n\n        Returns:\n            tuple(list{dict}, list{entity}) -- returns raw geolocation results and\n                same results as IP/Geolocation entities\n\n        \"\"\"\n```\nYou should override the lookup_ip method implementing your own method of geoip lookup."
    },
    {
      "metadata": {},
      "cell_type": "markdown",
      "source": "<a></a>[Contents](#contents)\n## Calculating Geographical Distances\n\nUse the geo_distance function from msticpy.sectools.geoip to calculated distances between two locations.\nI am indebted to Martin Thoma who posted this solution (which I've modified slightly) on Stackoverflow.\n\n\n```\nSignature: geo_distance(origin: Tuple[float, float], destination: Tuple[float, float]) -&gt; float\nDocstring:\nCalculate the Haversine distance.\n\nAuthor: Martin Thoma - stackoverflow\n\nParameters\n----------\norigin : tuple of float\n    (lat, long)\ndestination : tuple of float\n    (lat, long)\n\nReturns\n-------\ndistance_in_km : float\n```\n\n\nOr where you have source and destination IpAddress entities, you can use the wrapper entity_distance.\n```\nSignature:\nentity_distance(\n    ['ip_src: msticpy.nbtools.entityschema.IpAddress', 'ip_dest: msticpy.nbtools.entityschema.IpAddress'],\n) -&gt; float\nDocstring:\nReturn distance between two IP Entities.\n\nArguments:\n    ip_src {IpAddress} -- Source IpAddress Entity\n    ip_dest {IpAddress} -- Destination IpAddress Entity\n\nRaises:\n    AttributeError -- if either entity has no location information\n\nReturns:\n    float -- Distance in kilometers.\n```"
    },
    {
      "metadata": {
        "trusted": false
      },
      "cell_type": "code",
      "source": "from msticpy.sectools.geoip import geo_distance\n_, ip_entity1 = iplocation.lookup_ip(ip_address='90.156.201.97')\n_, ip_entity2 = iplocation.lookup_ip(ip_address='151.101.64.223')\n\nprint(ip_entity1[0])\nprint(ip_entity2[0])\ndist = geo_distance(origin=(ip_entity1[0].Location.Latitude, ip_entity1[0].Location.Longitude),\n                    destination=(ip_entity2[0].Location.Latitude, ip_entity2[0].Location.Longitude))\nprint(f'\\nDistance between IP Locations = {round(dist, 1)}km')",
      "execution_count": 24,
      "outputs": [
        {
          "name": "stdout",
          "output_type": "stream",
          "text": "{ 'Address': '90.156.201.97',\n  'Location': { 'CountryCode': 'RU',\n                'CountryName': 'Russia',\n                'Latitude': 55.7386,\n                'Longitude': 37.6068,\n                'Type': 'geolocation'},\n  'Type': 'ipaddress'}\n{ 'Address': '151.101.64.223',\n  'Location': { 'CountryCode': 'US',\n                'CountryName': 'United States',\n                'Latitude': 37.751,\n                'Longitude': -97.822,\n                'Type': 'geolocation'},\n  'Type': 'ipaddress'}\n\nDistance between IP Locations = 8796.8km\n"
        }
      ]
    },
    {
      "metadata": {
        "trusted": false
      },
      "cell_type": "code",
      "source": "dist2 = entity_distance(ip_entity1[0],ip_entity2[0])\nprint(f'\\nDistance between IP Entity Locations = {round(dist2, 1)}km')",
      "execution_count": 31,
      "outputs": [
        {
          "name": "stdout",
          "output_type": "stream",
          "text": "\nDistance between IP Locations = 8796.8km\n"
        }
      ]
    }
  ],
  "metadata": {
    "celltoolbar": "Tags",
    "hide_input": false,
    "kernelspec": {
      "name": "python36",
      "display_name": "Python 3.6",
      "language": "python"
    },
    "language_info": {
      "mimetype": "text/x-python",
      "nbconvert_exporter": "python",
      "name": "python",
      "pygments_lexer": "ipython3",
      "version": "3.6.6",
      "file_extension": ".py",
      "codemirror_mode": {
        "version": 3,
        "name": "ipython"
      }
    },
    "toc": {
      "base_numbering": 1,
      "nav_menu": {
        "height": "318.996px",
        "width": "320.994px"
      },
      "number_sections": false,
      "sideBar": true,
      "skip_h1_title": false,
      "title_cell": "Table of Contents",
      "title_sidebar": "Contents",
      "toc_cell": false,
      "toc_position": {
        "height": "calc(100% - 180px)",
        "left": "10px",
        "top": "150px",
        "width": "165px"
      },
      "toc_section_display": true,
      "toc_window_display": true
    },
    "varInspector": {
      "cols": {
        "lenName": 16,
        "lenType": 16,
        "lenVar": 40
      },
      "kernels_config": {
        "python": {
          "delete_cmd_postfix": "",
          "delete_cmd_prefix": "del ",
          "library": "var_list.py",
          "varRefreshCmd": "print(var_dic_list())"
        },
        "r": {
          "delete_cmd_postfix": ") ",
          "delete_cmd_prefix": "rm(",
          "library": "var_list.r",
          "varRefreshCmd": "cat(var_dic_list()) "
        }
      },
      "position": {
        "height": "406.193px",
        "left": "1468.4px",
        "right": "20px",
        "top": "120px",
        "width": "456.572px"
      },
      "types_to_exclude": [
        "module",
        "function",
        "builtin_function_or_method",
        "instance",
        "_Feature"
      ],
      "window_display": false
    },
    "widgets": {
      "application/vnd.jupyter.widget-state+json": {
        "version_major": 2,
        "version_minor": 0,
        "state": {
          "854cec0017a043658be01da816c8b3e0": {
            "model_name": "LayoutModel",
            "model_module": "@jupyter-widgets/base",
            "model_module_version": "1.1.0",
            "state": {
              "grid_template_rows": null,
              "_model_module_version": "1.1.0",
              "grid_column": null,
              "grid_auto_flow": null,
              "grid_area": null,
              "grid_template_columns": null,
              "grid_row": null,
              "grid_auto_rows": null,
              "grid_gap": null,
              "_view_module_version": "1.1.0",
              "grid_template_areas": null,
              "grid_auto_columns": null
            }
          },
          "95f101497cdb4e60808376e83501fc8c": {
            "model_name": "DescriptionStyleModel",
            "model_module": "@jupyter-widgets/controls",
            "model_module_version": "1.4.0",
            "state": {
              "description_width": "",
              "_model_module_version": "1.4.0",
              "_view_module_version": "1.1.0"
            }
          },
          "801ddf2c744645cc99cc5c3de69c776a": {
            "model_name": "HTMLModel",
            "model_module": "@jupyter-widgets/controls",
            "model_module_version": "1.4.0",
            "state": {
              "style": "IPY_MODEL_95f101497cdb4e60808376e83501fc8c",
              "_model_module_version": "1.4.0",
              "value": "To obtain an API key sign up here https://www.ipstack.com/",
              "_view_module_version": "1.4.0",
              "description_tooltip": null,
              "layout": "IPY_MODEL_854cec0017a043658be01da816c8b3e0"
            }
          },
          "4b27d9d66bc34d4b8d02ffab695e492a": {
            "model_name": "LayoutModel",
            "model_module": "@jupyter-widgets/base",
            "model_module_version": "1.1.0",
            "state": {
              "grid_template_rows": null,
              "_model_module_version": "1.1.0",
              "grid_column": null,
              "width": "50%",
              "grid_auto_flow": null,
              "grid_area": null,
              "grid_template_columns": null,
              "grid_row": null,
              "grid_auto_rows": null,
              "grid_gap": null,
              "_view_module_version": "1.1.0",
              "grid_template_areas": null,
              "grid_auto_columns": null
            }
          },
          "5858c82440554924816dafc3f673085a": {
            "model_name": "DescriptionStyleModel",
            "model_module": "@jupyter-widgets/controls",
            "model_module_version": "1.4.0",
            "state": {
              "description_width": "initial",
              "_model_module_version": "1.4.0",
              "_view_module_version": "1.1.0"
            }
          },
          "c527bfcb6a6a4ebe8bb4489035a5fe22": {
            "model_name": "TextModel",
            "model_module": "@jupyter-widgets/controls",
            "model_module_version": "1.4.0",
            "state": {
              "style": "IPY_MODEL_5858c82440554924816dafc3f673085a",
              "description": "IPStack API key:",
              "_model_module_version": "1.4.0",
              "_view_module_version": "1.4.0",
              "description_tooltip": null,
              "layout": "IPY_MODEL_4b27d9d66bc34d4b8d02ffab695e492a"
            }
          },
          "6c4e34e70f4840c3aaacdbfc2561ec10": {
            "model_name": "LayoutModel",
            "model_module": "@jupyter-widgets/base",
            "model_module_version": "1.1.0",
            "state": {
              "grid_template_rows": null,
              "_model_module_version": "1.1.0",
              "grid_column": null,
              "width": "10%",
              "grid_auto_flow": null,
              "grid_area": null,
              "grid_template_columns": null,
              "grid_row": null,
              "grid_auto_rows": null,
              "grid_gap": null,
              "_view_module_version": "1.1.0",
              "grid_template_areas": null,
              "grid_auto_columns": null
            }
          },
          "37fa860786a44601a5150349b393c09a": {
            "model_name": "ButtonStyleModel",
            "model_module": "@jupyter-widgets/controls",
            "model_module_version": "1.4.0",
            "state": {
              "_model_module_version": "1.4.0",
              "_view_module_version": "1.1.0"
            }
          },
          "97f15bf50bef410382df24030c2d956c": {
            "model_name": "ButtonModel",
            "model_module": "@jupyter-widgets/controls",
            "model_module_version": "1.4.0",
            "state": {
              "style": "IPY_MODEL_37fa860786a44601a5150349b393c09a",
              "description": "Set",
              "_model_module_version": "1.4.0",
              "_view_module_version": "1.4.0",
              "layout": "IPY_MODEL_6c4e34e70f4840c3aaacdbfc2561ec10"
            }
          },
          "29a7e85b29114becbfb3435d5525c786": {
            "model_name": "LayoutModel",
            "model_module": "@jupyter-widgets/base",
            "model_module_version": "1.1.0",
            "state": {
              "grid_template_rows": null,
              "_model_module_version": "1.1.0",
              "grid_column": null,
              "grid_auto_flow": null,
              "grid_area": null,
              "grid_template_columns": null,
              "grid_row": null,
              "grid_auto_rows": null,
              "grid_gap": null,
              "_view_module_version": "1.1.0",
              "grid_template_areas": null,
              "grid_auto_columns": null
            }
          },
          "8a456c3501164860bc0d75fb481f626d": {
            "model_name": "DescriptionStyleModel",
            "model_module": "@jupyter-widgets/controls",
            "model_module_version": "1.4.0",
            "state": {
              "description_width": "",
              "_model_module_version": "1.4.0",
              "_view_module_version": "1.1.0"
            }
          },
          "1b99767e6d73444aacbb01f5a134c71e": {
            "model_name": "CheckboxModel",
            "model_module": "@jupyter-widgets/controls",
            "model_module_version": "1.4.0",
            "state": {
              "style": "IPY_MODEL_8a456c3501164860bc0d75fb481f626d",
              "description": "Save as environment var",
              "_model_module_version": "1.4.0",
              "value": true,
              "disabled": false,
              "_view_module_version": "1.4.0",
              "description_tooltip": null,
              "layout": "IPY_MODEL_29a7e85b29114becbfb3435d5525c786"
            }
          },
          "d255bf9198654d89b4a89456ce8e2c96": {
            "model_name": "LayoutModel",
            "model_module": "@jupyter-widgets/base",
            "model_module_version": "1.1.0",
            "state": {
              "grid_template_rows": null,
              "_model_module_version": "1.1.0",
              "grid_column": null,
              "grid_auto_flow": null,
              "grid_area": null,
              "grid_template_columns": null,
              "grid_row": null,
              "grid_auto_rows": null,
              "grid_gap": null,
              "_view_module_version": "1.1.0",
              "grid_template_areas": null,
              "grid_auto_columns": null
            }
          },
          "b0227b778eaa4c178774ee8b1933a197": {
            "model_name": "HBoxModel",
            "model_module": "@jupyter-widgets/controls",
            "model_module_version": "1.4.0",
            "state": {
              "_model_module_version": "1.4.0",
              "_view_module_version": "1.4.0",
              "layout": "IPY_MODEL_d255bf9198654d89b4a89456ce8e2c96",
              "children": [
                "IPY_MODEL_c527bfcb6a6a4ebe8bb4489035a5fe22",
                "IPY_MODEL_97f15bf50bef410382df24030c2d956c",
                "IPY_MODEL_1b99767e6d73444aacbb01f5a134c71e"
              ]
            }
          }
        }
      }
    }
  },
  "nbformat": 4,
  "nbformat_minor": 2
}