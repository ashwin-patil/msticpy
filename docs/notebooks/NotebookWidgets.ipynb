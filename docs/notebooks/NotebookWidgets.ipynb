{
 "cells": [
  {
   "cell_type": "markdown",
   "metadata": {},
   "source": [
    "# Title: msticpy - nbwidgets\n",
    "## Description:\n",
    "This contains a few aggregated widgets using IPyWidgets that help speed things up during an investigation.\n",
    "\n"
   ]
  },
  {
   "cell_type": "markdown",
   "metadata": {},
   "source": [
    "<a id='contents'></a>\n",
    "## Table of Contents\n",
    "- [Setting query start/end times](#QueryTime)\n",
    "- [Simple time range](#Lookback)\n",
    "- [Selecting and Displaying Alerts](#AlertSelector)\n",
    "- [Selecting from list or dict](#SelectString)\n",
    "- [Getting a value from environment](#GetEnvironmentKey)\n"
   ]
  },
  {
   "cell_type": "code",
   "execution_count": 1,
   "metadata": {
    "ExecuteTime": {
     "end_time": "2019-12-19T22:12:36.439490Z",
     "start_time": "2019-12-19T22:12:34.694845Z"
    },
    "scrolled": true
   },
   "outputs": [
    {
     "data": {
      "text/html": [
       "\n",
       "This product includes GeoLite2 data created by MaxMind, available from\n",
       "<a href=\"https://www.maxmind.com\">https://www.maxmind.com</a>.\n"
      ],
      "text/plain": [
       "<IPython.core.display.HTML object>"
      ]
     },
     "metadata": {},
     "output_type": "display_data"
    },
    {
     "data": {
      "text/html": [
       "\n",
       "This library uses services provided by ipstack.\n",
       "<a href=\"https://ipstack.com\">https://ipstack.com</a>"
      ],
      "text/plain": [
       "<IPython.core.display.HTML object>"
      ]
     },
     "metadata": {},
     "output_type": "display_data"
    },
    {
     "name": "stdout",
     "output_type": "stream",
     "text": [
      "Using Open PageRank. See https://www.domcop.com/openpagerank/what-is-openpagerank\n"
     ]
    }
   ],
   "source": [
    "# Imports\n",
    "import sys\n",
    "MIN_REQ_PYTHON = (3,6)\n",
    "if sys.version_info < MIN_REQ_PYTHON:\n",
    "    print('Check the Kernel->Change Kernel menu and ensure that Python 3.6')\n",
    "    print('or later is selected as the active kernel.')\n",
    "    sys.exit(\"Python %s.%s or later is required.\\n\" % MIN_REQ_PYTHON)\n",
    "\n",
    "from IPython.display import display, Markdown\n",
    "import pandas as pd\n",
    "# Import nbtools package\n",
    "from msticpy.nbtools import *\n"
   ]
  },
  {
   "cell_type": "markdown",
   "metadata": {},
   "source": [
    "<a id='QueryTime'></a>[Contents](#contents)\n",
    "## QueryTime\n",
    "\n",
    "This widget is used to specify time boundaries - designed to be used with the built-in msticpy queries and custom queries.\n",
    "The `start` and `end` times are exposed as datetime properties.\n",
    "\n",
    "```\n",
    "QueryTime.\n",
    "\n",
    "Composite widget to capture date and time origin\n",
    "and set start and end times for queries.\n",
    "\n",
    "Parameters\n",
    "----------\n",
    "QueryParamProvider : QueryParamProvider\n",
    "    Abstract base class\n",
    "\n",
    "Parameters\n",
    "----------\n",
    "origin_time : datetime, optional\n",
    "    The origin time (the default is `datetime.utcnow()`)\n",
    "label : str, optional\n",
    "    The description to display\n",
    "    (the default is 'Select time ({units}) to look back')\n",
    "before : int, optional\n",
    "    The default number of `units` before the `origin_time`\n",
    "    (the default is 60)\n",
    "after : int, optional\n",
    "    The default number of `units` after the `origin_time`\n",
    "    (the default is 10)\n",
    "max_before : int, optional\n",
    "    The largest value for `before` (the default is 600)\n",
    "max_after : int, optional\n",
    "    The largest value for `after` (the default is 100)\n",
    "units : str, optional\n",
    "    Time unit (the default is 'min')\n",
    "    Permissable values are 'day', 'hour', 'minute', 'second'\n",
    "    These can all be abbreviated down to initial characters\n",
    "    ('d', 'm', etc.)\n",
    "auto_display : bool, optional\n",
    "    Whether to display on instantiation (the default is False)\n",
    "```"
   ]
  },
  {
   "cell_type": "code",
   "execution_count": 2,
   "metadata": {
    "ExecuteTime": {
     "end_time": "2019-12-19T22:12:42.494790Z",
     "start_time": "2019-12-19T22:12:42.453819Z"
    }
   },
   "outputs": [
    {
     "data": {
      "application/vnd.jupyter.widget-view+json": {
       "model_id": "3279fc9e730f4c2b940ef405c1835576",
       "version_major": 2,
       "version_minor": 0
      },
      "text/plain": [
       "HTML(value='<h4>Set query time boundaries</h4>')"
      ]
     },
     "metadata": {},
     "output_type": "display_data"
    },
    {
     "data": {
      "application/vnd.jupyter.widget-view+json": {
       "model_id": "c8970712e505455e90822d5875e9997a",
       "version_major": 2,
       "version_minor": 0
      },
      "text/plain": [
       "HBox(children=(DatePicker(value=datetime.date(2019, 12, 19), description='Origin Date'), Text(value='22:12:42.…"
      ]
     },
     "metadata": {},
     "output_type": "display_data"
    },
    {
     "data": {
      "application/vnd.jupyter.widget-view+json": {
       "model_id": "9ad2c862ba224965b303baeef07c17c8",
       "version_major": 2,
       "version_minor": 0
      },
      "text/plain": [
       "VBox(children=(IntRangeSlider(value=(-5, 1), description='Time Range (day):', layout=Layout(width='80%'), max=…"
      ]
     },
     "metadata": {},
     "output_type": "display_data"
    }
   ],
   "source": [
    "q_times = nbwidgets.QueryTime(units='day', max_before=20, before=5, max_after=1)\n",
    "q_times.display()"
   ]
  },
  {
   "cell_type": "code",
   "execution_count": 4,
   "metadata": {
    "ExecuteTime": {
     "end_time": "2019-09-02T23:37:00.573557Z",
     "start_time": "2019-09-02T23:37:00.569561Z"
    },
    "scrolled": false
   },
   "outputs": [
    {
     "name": "stdout",
     "output_type": "stream",
     "text": [
      "2019-08-28 23:36:59.410918 .... 2019-09-03 23:36:59.410918\n"
     ]
    }
   ],
   "source": [
    "print(q_times.start, '....', q_times.end)"
   ]
  },
  {
   "cell_type": "markdown",
   "metadata": {},
   "source": [
    "Keep multiple query boundaries aligged by having QueryTime instances reference the time of the same alert or event."
   ]
  },
  {
   "cell_type": "code",
   "execution_count": 4,
   "metadata": {
    "ExecuteTime": {
     "end_time": "2019-12-19T22:29:50.924729Z",
     "start_time": "2019-12-19T22:29:50.845790Z"
    },
    "scrolled": true
   },
   "outputs": [
    {
     "data": {
      "application/vnd.jupyter.widget-view+json": {
       "model_id": "55465b3e98d947148fa924ed867da5a2",
       "version_major": 2,
       "version_minor": 0
      },
      "text/plain": [
       "HTML(value='<h4>Set query time boundaries</h4>')"
      ]
     },
     "metadata": {},
     "output_type": "display_data"
    },
    {
     "data": {
      "application/vnd.jupyter.widget-view+json": {
       "model_id": "7582206bdb4045ad94e4f2bbe9bc7e1a",
       "version_major": 2,
       "version_minor": 0
      },
      "text/plain": [
       "HBox(children=(DatePicker(value=datetime.date(2019, 12, 4), description='Origin Date'), Text(value='22:29:50.8…"
      ]
     },
     "metadata": {},
     "output_type": "display_data"
    },
    {
     "data": {
      "application/vnd.jupyter.widget-view+json": {
       "model_id": "a6d00d5700b24f2f8270aa1f275c5384",
       "version_major": 2,
       "version_minor": 0
      },
      "text/plain": [
       "VBox(children=(IntRangeSlider(value=(-1, 1), description='Time Range (hour):', layout=Layout(width='80%'), max…"
      ]
     },
     "metadata": {},
     "output_type": "display_data"
    },
    {
     "data": {
      "application/vnd.jupyter.widget-view+json": {
       "model_id": "9be187d1960047779d44290c79c10259",
       "version_major": 2,
       "version_minor": 0
      },
      "text/plain": [
       "HTML(value='<h4>Set query time boundaries</h4>')"
      ]
     },
     "metadata": {},
     "output_type": "display_data"
    },
    {
     "data": {
      "application/vnd.jupyter.widget-view+json": {
       "model_id": "5f88ec63b0704dc0b18f9db7d704dcf2",
       "version_major": 2,
       "version_minor": 0
      },
      "text/plain": [
       "HBox(children=(DatePicker(value=datetime.date(2019, 12, 4), description='Origin Date'), Text(value='22:29:50.8…"
      ]
     },
     "metadata": {},
     "output_type": "display_data"
    },
    {
     "data": {
      "application/vnd.jupyter.widget-view+json": {
       "model_id": "396de1da22ed4486bb9d16b90d19741f",
       "version_major": 2,
       "version_minor": 0
      },
      "text/plain": [
       "VBox(children=(IntRangeSlider(value=(-4, 2), description='Time Range (hour):', layout=Layout(width='80%'), max…"
      ]
     },
     "metadata": {},
     "output_type": "display_data"
    }
   ],
   "source": [
    "from datetime import datetime, timedelta\n",
    "class MyAlert:\n",
    "    pass\n",
    "alert = MyAlert()\n",
    "alert.TimeGenerated = datetime.utcnow() - timedelta(15)\n",
    "alert.TimeGenerated\n",
    "\n",
    "q_times1 = nbwidgets.QueryTime(units='hour', max_before=20, before=1, max_after=1, \n",
    "                             origin_time=alert.TimeGenerated, auto_display=True)\n",
    "\n",
    "q_times2 = nbwidgets.QueryTime(units='hour', max_before=20, before=4, max_after=2, \n",
    "                             origin_time=alert.TimeGenerated, auto_display=True)"
   ]
  },
  {
   "cell_type": "code",
   "execution_count": 5,
   "metadata": {
    "ExecuteTime": {
     "end_time": "2019-12-19T22:29:53.682587Z",
     "start_time": "2019-12-19T22:29:53.608644Z"
    },
    "scrolled": true
   },
   "outputs": [
    {
     "data": {
      "application/vnd.jupyter.widget-view+json": {
       "model_id": "c4edbd9a785c41649b8bf9d6605abebc",
       "version_major": 2,
       "version_minor": 0
      },
      "text/plain": [
       "HTML(value='<h4>Set query time boundaries</h4>')"
      ]
     },
     "metadata": {},
     "output_type": "display_data"
    },
    {
     "data": {
      "application/vnd.jupyter.widget-view+json": {
       "model_id": "6bd6bc4f954449c390feb16e30a145c1",
       "version_major": 2,
       "version_minor": 0
      },
      "text/plain": [
       "HBox(children=(DatePicker(value=datetime.date(2019, 12, 19), description='Origin Date'), Text(value='22:29:53.…"
      ]
     },
     "metadata": {},
     "output_type": "display_data"
    },
    {
     "data": {
      "application/vnd.jupyter.widget-view+json": {
       "model_id": "a12319db4e4e481c986fce7d4d06a011",
       "version_major": 2,
       "version_minor": 0
      },
      "text/plain": [
       "VBox(children=(IntRangeSlider(value=(-1, 1), description='Time Range (hour):', layout=Layout(width='80%'), max…"
      ]
     },
     "metadata": {},
     "output_type": "display_data"
    },
    {
     "data": {
      "application/vnd.jupyter.widget-view+json": {
       "model_id": "e56439b55a974a6eb0a2d72ee63b4abd",
       "version_major": 2,
       "version_minor": 0
      },
      "text/plain": [
       "HTML(value='<h4>Set query time boundaries</h4>')"
      ]
     },
     "metadata": {},
     "output_type": "display_data"
    },
    {
     "data": {
      "application/vnd.jupyter.widget-view+json": {
       "model_id": "9551d15daf5c4c23952c2b758c6976aa",
       "version_major": 2,
       "version_minor": 0
      },
      "text/plain": [
       "HBox(children=(DatePicker(value=datetime.date(2019, 12, 19), description='Origin Date'), Text(value='22:29:53.…"
      ]
     },
     "metadata": {},
     "output_type": "display_data"
    },
    {
     "data": {
      "application/vnd.jupyter.widget-view+json": {
       "model_id": "ab07cab90e2d4cb18c9e9eabff211465",
       "version_major": 2,
       "version_minor": 0
      },
      "text/plain": [
       "VBox(children=(IntRangeSlider(value=(-4, 2), description='Time Range (hour):', layout=Layout(width='80%'), max…"
      ]
     },
     "metadata": {},
     "output_type": "display_data"
    }
   ],
   "source": [
    "alert.TimeGenerated = datetime.utcnow()\n",
    "q_times1 = nbwidgets.QueryTime(units='hour', max_before=20, before=1, max_after=1, \n",
    "                             origin_time=alert.TimeGenerated, auto_display=True)\n",
    "\n",
    "q_times2 = nbwidgets.QueryTime(units='hour', max_before=20, before=4, max_after=2, \n",
    "                             origin_time=alert.TimeGenerated, auto_display=True)"
   ]
  },
  {
   "cell_type": "code",
   "execution_count": 7,
   "metadata": {
    "ExecuteTime": {
     "end_time": "2019-09-02T23:37:04.725203Z",
     "start_time": "2019-09-02T23:37:04.721208Z"
    },
    "scrolled": true
   },
   "outputs": [
    {
     "name": "stdout",
     "output_type": "stream",
     "text": [
      "\n",
      "SecurityAlert \n",
      "| where TimeGenerated >= datetime(2019-09-02 22:37:03.860216)\n",
      "| where TimeGenerated <= datetime(2019-09-03 00:37:03.860216)\n"
     ]
    }
   ],
   "source": [
    "# Use in a query\n",
    "my_kql = f'''\n",
    "SecurityAlert \n",
    "| where TimeGenerated >= datetime({q_times1.start})\n",
    "| where TimeGenerated <= datetime({q_times1.end})'''\n",
    "print(my_kql)"
   ]
  },
  {
   "cell_type": "markdown",
   "metadata": {},
   "source": [
    "<a id='Lookback'></a>[Contents](#contents)\n",
    "## Lookback\n",
    "Simpler version with single slider value\n",
    "\n",
    "Docstring:\n",
    "`nbtools.Lookback?`"
   ]
  },
  {
   "cell_type": "code",
   "execution_count": 6,
   "metadata": {
    "ExecuteTime": {
     "end_time": "2019-12-19T22:29:59.905261Z",
     "start_time": "2019-12-19T22:29:59.893270Z"
    },
    "scrolled": true
   },
   "outputs": [
    {
     "data": {
      "application/vnd.jupyter.widget-view+json": {
       "model_id": "81ad19be18134658b1191e7cd1a40aaa",
       "version_major": 2,
       "version_minor": 0
      },
      "text/plain": [
       "IntSlider(value=4, description='Select time (hour) to look back', layout=Layout(height='50px', width='60%'), m…"
      ]
     },
     "metadata": {},
     "output_type": "display_data"
    }
   ],
   "source": [
    "alert.TimeGenerated = datetime.utcnow() - timedelta(5)\n",
    "lb = nbwidgets.Lookback(origin_time=alert.TimeGenerated, auto_display=True, max_value=48)"
   ]
  },
  {
   "cell_type": "code",
   "execution_count": 9,
   "metadata": {
    "ExecuteTime": {
     "end_time": "2019-09-02T23:37:09.268885Z",
     "start_time": "2019-09-02T23:37:09.265888Z"
    }
   },
   "outputs": [
    {
     "name": "stdout",
     "output_type": "stream",
     "text": [
      "2019-08-28 19:37:06.883677 .... 2019-08-28 23:37:06.883677\n"
     ]
    }
   ],
   "source": [
    "print(lb.start, '....', lb.end)"
   ]
  },
  {
   "cell_type": "markdown",
   "metadata": {},
   "source": [
    "<a id='AlertSelector'></a>[Contents](#contents)\n",
    "## AlertSelector\n",
    "\n",
    "```\n",
    "AlertSelector.\n",
    "\n",
    "View list of alerts and select one for investigation.\n",
    "Optionally provide and action to call with the selected alert as a parameter\n",
    "(typically used to display the alert.)\n",
    "\n",
    "Attributes:\n",
    "    selected_alert: the selected alert\n",
    "    alert_id: the ID of the selected alert\n",
    "    alerts: the current alert list (DataFrame)\n",
    "Init docstring:\n",
    "Create a new instance of AlertSelector.\n",
    "\n",
    "Parameters\n",
    "----------\n",
    "alerts : pd.DataFrame\n",
    "    DataFrame of alerts.\n",
    "action : Callable[..., None], optional\n",
    "    Optional function to execute for each selected alert.\n",
    "    (the default is None)\n",
    "columns : list, optional\n",
    "    Override the default column names to use from `alerts`\n",
    "    (the default is ['StartTimeUtc', 'AlertName',\n",
    "    'CompromisedEntity', 'SystemAlertId'])\n",
    "auto_display : bool, optional\n",
    "    Whether to display on instantiation (the default is False)\n",
    "```"
   ]
  },
  {
   "cell_type": "code",
   "execution_count": 7,
   "metadata": {
    "ExecuteTime": {
     "end_time": "2019-12-19T22:33:01.169572Z",
     "start_time": "2019-12-19T22:33:01.108619Z"
    }
   },
   "outputs": [
    {
     "data": {
      "text/markdown": [
       "### Simple alert selector"
      ],
      "text/plain": [
       "<IPython.core.display.Markdown object>"
      ]
     },
     "metadata": {},
     "output_type": "display_data"
    },
    {
     "data": {
      "application/vnd.jupyter.widget-view+json": {
       "model_id": "48366496e64d4496ab32ebeb79ea2905",
       "version_major": 2,
       "version_minor": 0
      },
      "text/plain": [
       "VBox(children=(Text(value='', description='Filter alerts by title:', style=DescriptionStyle(description_width=…"
      ]
     },
     "metadata": {},
     "output_type": "display_data"
    }
   ],
   "source": [
    "# Load test data\n",
    "alerts = pd.read_csv('data/alertlist.csv')\n",
    "\n",
    "display(Markdown('### Simple alert selector'))\n",
    "alert_select = nbwidgets.AlertSelector(alerts=alerts)\n",
    "alert_select.display()"
   ]
  },
  {
   "cell_type": "code",
   "execution_count": 8,
   "metadata": {
    "ExecuteTime": {
     "end_time": "2019-12-19T22:33:22.044868Z",
     "start_time": "2019-12-19T22:33:21.987913Z"
    },
    "scrolled": false
   },
   "outputs": [
    {
     "data": {
      "text/markdown": [
       "### Alert selector with action=DisplayAlert"
      ],
      "text/plain": [
       "<IPython.core.display.Markdown object>"
      ]
     },
     "metadata": {},
     "output_type": "display_data"
    },
    {
     "data": {
      "application/vnd.jupyter.widget-view+json": {
       "model_id": "edc6b7b8c1b64be0bd6976265e51f36c",
       "version_major": 2,
       "version_minor": 0
      },
      "text/plain": [
       "VBox(children=(Text(value='', description='Filter alerts by title:', style=DescriptionStyle(description_width=…"
      ]
     },
     "metadata": {},
     "output_type": "display_data"
    }
   ],
   "source": [
    "alert_select = nbwidgets.AlertSelector(alerts=alerts, action=nbdisplay.display_alert)\n",
    "display(Markdown('### Alert selector with action=DisplayAlert'))\n",
    "alert_select.display()"
   ]
  },
  {
   "cell_type": "code",
   "execution_count": 10,
   "metadata": {
    "ExecuteTime": {
     "end_time": "2019-12-19T22:39:52.652753Z",
     "start_time": "2019-12-19T22:39:52.584806Z"
    },
    "scrolled": true
   },
   "outputs": [
    {
     "data": {
      "text/markdown": [
       "### Or a more detailed display with extracted entities"
      ],
      "text/plain": [
       "<IPython.core.display.Markdown object>"
      ]
     },
     "metadata": {},
     "output_type": "display_data"
    },
    {
     "data": {
      "application/vnd.jupyter.widget-view+json": {
       "model_id": "aea39ef21951467caddb6ebd7799a2a1",
       "version_major": 2,
       "version_minor": 0
      },
      "text/plain": [
       "VBox(children=(Text(value='', description='Filter alerts by title:', style=DescriptionStyle(description_width=…"
      ]
     },
     "metadata": {},
     "output_type": "display_data"
    }
   ],
   "source": [
    "security_alert = None\n",
    "def show_full_alert(selected_alert):\n",
    "    global security_alert, alert_ip_entities\n",
    "    security_alert = SecurityAlert(alert_select.selected_alert)\n",
    "    nbdisplay.display_alert(security_alert, show_entities=True)\n",
    "        \n",
    "alert_select = nbwidgets.AlertSelector(alerts=alerts.query('CompromisedEntity == \"MSTICALERTSWIN1\"'), \n",
    "                                     action=show_full_alert)\n",
    "display(Markdown('### Or a more detailed display with extracted entities'))\n",
    "alert_select.display()"
   ]
  },
  {
   "cell_type": "markdown",
   "metadata": {},
   "source": [
    "<a id='SelectString'></a>[Contents](#contents)\n",
    "## SelectString\n",
    "\n",
    "Similar to AlertSelector but simpler and allows you to use any list or dictionary of items.\n",
    "\n",
    "```\n",
    "Selection list from list or dict.\n",
    "\n",
    "Attributes:\n",
    "    value : The selected value.\n",
    "Init docstring:\n",
    "Select an item from a list or dict.\n",
    "\n",
    "Parameters\n",
    "----------\n",
    "description : str, optional\n",
    "    The widget label to display (the default is None)\n",
    "item_list : List[str], optional\n",
    "    A `list` of items to select from (the default is None)\n",
    "item_dict : Mapping[str, str], optional\n",
    "    A `dict` of items to select from. When using `item_dict`\n",
    "    the keys are displayed as the selectable items and value\n",
    "    corresponding to the selected key is set as the `value`\n",
    "    property.\n",
    "    (the default is None)\n",
    "action : Callable[..., None], optional\n",
    "    function to call when item selected (passed a single\n",
    "    parameter - the value of the currently selected item)\n",
    "    (the default is None)\n",
    "auto_display : bool, optional\n",
    "    Whether to display on instantiation (the default is False)\n",
    "height : str, optional\n",
    "    Selection list height (the default is '100px')\n",
    "width : str, optional\n",
    "    Selection list width (the default is '50%')\n",
    "```"
   ]
  },
  {
   "cell_type": "code",
   "execution_count": 11,
   "metadata": {
    "ExecuteTime": {
     "end_time": "2019-12-19T22:40:00.225872Z",
     "start_time": "2019-12-19T22:40:00.198893Z"
    }
   },
   "outputs": [
    {
     "data": {
      "application/vnd.jupyter.widget-view+json": {
       "model_id": "89b8e2a47ef149a3b950a37866ed625c",
       "version_major": 2,
       "version_minor": 0
      },
      "text/plain": [
       "VBox(children=(Text(value='', description='Filter:', style=DescriptionStyle(description_width='initial')), Sel…"
      ]
     },
     "metadata": {},
     "output_type": "display_data"
    }
   ],
   "source": [
    "if security_alert is None:\n",
    "    security_alert = SecurityAlert(alerts.iloc[0])\n",
    "ent_dict = {ent['Type']:ent for ent in security_alert.entities}\n",
    "\n",
    "nbwidgets.SelectString(item_dict=ent_dict,\n",
    "                       description='Select an item',\n",
    "                       action=print,\n",
    "                       auto_display=True);\n"
   ]
  },
  {
   "cell_type": "markdown",
   "metadata": {},
   "source": [
    "<a id='GetEnvironmentKey'></a>[Contents](#contents)\n",
    "## GetEnvironmentKey\n",
    "Get editable value of environment variable. Common use would be retrieving an API key from your environment or allowing you to paste in a value if the environment key isn't set.\n",
    "\n",
    "Note setting the variable only persists in the python kernel process running at the time. So you can retrieve it later in the notebook but not in other processes."
   ]
  },
  {
   "cell_type": "code",
   "execution_count": 12,
   "metadata": {
    "ExecuteTime": {
     "end_time": "2019-12-19T22:43:18.702480Z",
     "start_time": "2019-12-19T22:43:18.680497Z"
    },
    "scrolled": true
   },
   "outputs": [
    {
     "data": {
      "application/vnd.jupyter.widget-view+json": {
       "model_id": "24d35b360dbe4033b34392be757e9bb0",
       "version_major": 2,
       "version_minor": 0
      },
      "text/plain": [
       "HBox(children=(Text(value='C:\\\\Users\\\\Ian', description='Enter the value: ', layout=Layout(width='50%'), style…"
      ]
     },
     "metadata": {},
     "output_type": "display_data"
    }
   ],
   "source": [
    "nbwidgets.GetEnvironmentKey(env_var='userprofile', auto_display=True);"
   ]
  },
  {
   "cell_type": "markdown",
   "metadata": {},
   "source": [
    "<a id='SelectSubset'></a>[Contents](#contents)\n",
    "## SelectSubset\n",
    "Allows you to select one or multiple items from a list to populate an output set.\n",
    "\n",
    "```\n",
    "Class to select a subset from an input list.\n",
    "\n",
    "    Attributes\n",
    "    ----------\n",
    "    selected_values : List[Any]\n",
    "        The selected item values.\n",
    "    selected_items : List[Any]\n",
    "        The selected items label and value\n",
    "        \n",
    "Init docstring:\n",
    "Create instance of SelectSubset widget.\n",
    "\n",
    "Parameters\n",
    "----------\n",
    "source_items : Union[Dict[str, str], List[Any]]\n",
    "    List of source items - either a dictionary(label, value),\n",
    "    a simple list or\n",
    "    a list of (label, value) tuples.\n",
    "default_selected : Union[Dict[str, str], List[Any]]\n",
    "    Populate the selected list with values - either\n",
    "    a dictionary(label, value),\n",
    "    a simple list or\n",
    "    a list of (label, value) tuples.\n",
    "```"
   ]
  },
  {
   "cell_type": "code",
   "execution_count": 13,
   "metadata": {
    "ExecuteTime": {
     "end_time": "2019-12-19T22:52:10.297759Z",
     "start_time": "2019-12-19T22:52:10.252790Z"
    }
   },
   "outputs": [
    {
     "data": {
      "application/vnd.jupyter.widget-view+json": {
       "model_id": "bceeb3cc70154d428852e5dfc7d4388e",
       "version_major": 2,
       "version_minor": 0
      },
      "text/plain": [
       "VBox(children=(Text(value='', description='Filter:', style=DescriptionStyle(description_width='initial')), HBo…"
      ]
     },
     "metadata": {},
     "output_type": "display_data"
    }
   ],
   "source": [
    "# Simple list\n",
    "items = list(alerts[\"AlertName\"].values)\n",
    "sel_sub = nbwidgets.SelectSubset(source_items=items)"
   ]
  },
  {
   "cell_type": "code",
   "execution_count": 14,
   "metadata": {
    "ExecuteTime": {
     "end_time": "2019-12-19T22:52:37.922930Z",
     "start_time": "2019-12-19T22:52:37.880962Z"
    },
    "scrolled": true
   },
   "outputs": [
    {
     "data": {
      "application/vnd.jupyter.widget-view+json": {
       "model_id": "e305bfa5d5694f98a3c0a33adfb48f36",
       "version_major": 2,
       "version_minor": 0
      },
      "text/plain": [
       "VBox(children=(Text(value='', description='Filter:', style=DescriptionStyle(description_width='initial')), HBo…"
      ]
     },
     "metadata": {},
     "output_type": "display_data"
    }
   ],
   "source": [
    "# Label/Value pair items with a a subset of pre-selected items\n",
    "items = {v: k for k, v in alerts[\"AlertName\"].to_dict().items()}\n",
    "pre_selected = {v: k for k, v in alerts[\"AlertName\"].to_dict().items() if \"commandline\" in v}\n",
    "sel_sub = nbwidgets.SelectSubset(source_items=items, default_selected=pre_selected)\n"
   ]
  },
  {
   "cell_type": "code",
   "execution_count": 46,
   "metadata": {
    "ExecuteTime": {
     "end_time": "2019-09-02T23:54:08.581230Z",
     "start_time": "2019-09-02T23:54:08.577235Z"
    },
    "scrolled": true
   },
   "outputs": [
    {
     "name": "stdout",
     "output_type": "stream",
     "text": [
      "Values: [79, 109, 83] \n",
      "\n",
      "Items: [('Detected suspicious commandline arguments', 79), ('Detected suspicious commandline used to start all executables in a directory', 109), ('Detected suspicious credentials in commandline', 83)]\n"
     ]
    }
   ],
   "source": [
    "print(\"Values:\", sel_sub.selected_values, \"\\n\")\n",
    "print(\"Items:\", sel_sub.selected_items)"
   ]
  },
  {
   "cell_type": "markdown",
   "metadata": {},
   "source": [
    "## Progress Indicator"
   ]
  },
  {
   "cell_type": "code",
   "execution_count": 24,
   "metadata": {
    "ExecuteTime": {
     "end_time": "2019-12-19T23:04:17.717178Z",
     "start_time": "2019-12-19T23:04:14.399755Z"
    }
   },
   "outputs": [
    {
     "data": {
      "application/vnd.jupyter.widget-view+json": {
       "model_id": "4666b895225e4e09bb08a0123fcad800",
       "version_major": 2,
       "version_minor": 0
      },
      "text/plain": [
       "HBox(children=(IntProgress(value=0, bar_style='info', description='Progress:'), Label(value='0%')))"
      ]
     },
     "metadata": {},
     "output_type": "display_data"
    },
    {
     "data": {
      "application/vnd.jupyter.widget-view+json": {
       "model_id": "92976a6f8d5a4be9a196d4e8ab8a2afc",
       "version_major": 2,
       "version_minor": 0
      },
      "text/plain": [
       "HBox(children=(IntProgress(value=0, bar_style='info', description='Progress:'), Label(value='0%')))"
      ]
     },
     "metadata": {},
     "output_type": "display_data"
    }
   ],
   "source": [
    "from time import sleep\n",
    "progress = nbwidgets.Progress(completed_len=2000)\n",
    "for i in range(0, 2100, 100):\n",
    "    progress.update_progress(new_total=i)\n",
    "    sleep(0.1)\n",
    "    \n",
    "inc_progress = nbwidgets.Progress(completed_len=2000)\n",
    "for i in range(0, 2100, 100):\n",
    "    inc_progress.update_progress(delta=100)\n",
    "    sleep(0.1)"
   ]
  }
 ],
 "metadata": {
  "hide_input": false,
  "kernelspec": {
   "display_name": "Python [conda env:condadev] *",
   "language": "python",
   "name": "conda-env-condadev-py"
  },
  "language_info": {
   "codemirror_mode": {
    "name": "ipython",
    "version": 3
   },
   "file_extension": ".py",
   "mimetype": "text/x-python",
   "name": "python",
   "nbconvert_exporter": "python",
   "pygments_lexer": "ipython3",
   "version": "3.7.3"
  },
  "latex_envs": {
   "LaTeX_envs_menu_present": true,
   "autoclose": false,
   "autocomplete": true,
   "bibliofile": "biblio.bib",
   "cite_by": "apalike",
   "current_citInitial": 1,
   "eqLabelWithNumbers": true,
   "eqNumInitial": 1,
   "hotkeys": {
    "equation": "Ctrl-E",
    "itemize": "Ctrl-I"
   },
   "labels_anchors": false,
   "latex_user_defs": false,
   "report_style_numbering": false,
   "user_envs_cfg": false
  },
  "toc": {
   "base_numbering": 1,
   "nav_menu": {},
   "number_sections": false,
   "sideBar": true,
   "skip_h1_title": false,
   "title_cell": "Table of Contents",
   "title_sidebar": "Contents",
   "toc_cell": false,
   "toc_position": {},
   "toc_section_display": true,
   "toc_window_display": false
  },
  "varInspector": {
   "cols": {
    "lenName": 16,
    "lenType": 16,
    "lenVar": 40
   },
   "kernels_config": {
    "python": {
     "delete_cmd_postfix": "",
     "delete_cmd_prefix": "del ",
     "library": "var_list.py",
     "varRefreshCmd": "print(var_dic_list())"
    },
    "r": {
     "delete_cmd_postfix": ") ",
     "delete_cmd_prefix": "rm(",
     "library": "var_list.r",
     "varRefreshCmd": "cat(var_dic_list()) "
    }
   },
   "types_to_exclude": [
    "module",
    "function",
    "builtin_function_or_method",
    "instance",
    "_Feature"
   ],
   "window_display": false
  },
  "widgets": {
   "application/vnd.jupyter.widget-state+json": {
    "state": {
     "004e026ef17b4b069553667a1c9f9f4d": {
      "model_module": "@jupyter-widgets/controls",
      "model_module_version": "1.5.0",
      "model_name": "SelectModel",
      "state": {
       "_options_labels": [
        "Account added and removed from group within 24h",
        "Analysis of host data detected a powershell script running on MSTICALERTSWIN1 that has features in common with known suspicious scripts. This script could either be legitimate activity, or an indication of a compromised host."
       ],
       "description": "Selected: ",
       "index": 0,
       "layout": "IPY_MODEL_2af4f57a79ff44c09749abb619cee9b3",
       "style": "IPY_MODEL_14683d8882ae4309a0db4322863c3651"
      }
     },
     "0088ac545e5b4706ac7ff3eb425b7263": {
      "model_module": "@jupyter-widgets/base",
      "model_module_version": "1.2.0",
      "model_name": "LayoutModel",
      "state": {
       "height": "200px",
       "width": "40%"
      }
     },
     "00ba6049d77945ec8095324590d82999": {
      "model_module": "@jupyter-widgets/controls",
      "model_module_version": "1.5.0",
      "model_name": "DescriptionStyleModel",
      "state": {
       "description_width": "initial"
      }
     },
     "0113096b8be64fd78619d97a5df8a3a9": {
      "model_module": "@jupyter-widgets/base",
      "model_module_version": "1.2.0",
      "model_name": "LayoutModel",
      "state": {}
     },
     "021c80516ea64279bf36a09361930abb": {
      "model_module": "@jupyter-widgets/base",
      "model_module_version": "1.2.0",
      "model_name": "LayoutModel",
      "state": {
       "width": "50%"
      }
     },
     "02882c7ab3e443c3863f11a9e52b8c08": {
      "model_module": "@jupyter-widgets/base",
      "model_module_version": "1.2.0",
      "model_name": "LayoutModel",
      "state": {}
     },
     "0316993512784173b3d0b23028681d5e": {
      "model_module": "@jupyter-widgets/base",
      "model_module_version": "1.2.0",
      "model_name": "LayoutModel",
      "state": {
       "width": "50%"
      }
     },
     "031f51c2d5ac496791829594856103f2": {
      "model_module": "@jupyter-widgets/controls",
      "model_module_version": "1.5.0",
      "model_name": "HBoxModel",
      "state": {
       "children": [
        "IPY_MODEL_3b84056a36bf4931805e074994121045",
        "IPY_MODEL_434501ef4c2542709bda148e04889283",
        "IPY_MODEL_26eaef0849b64611a142f624c5fb0d5e"
       ],
       "layout": "IPY_MODEL_74e03177fffa45219a32700595d0e4a4"
      }
     },
     "037e55706f7e4abaab103c67ce40b38c": {
      "model_module": "@jupyter-widgets/controls",
      "model_module_version": "1.5.0",
      "model_name": "SelectModel",
      "state": {
       "_options_labels": [
        "2018-12-30 00:02:00  Network communication with a malicious machine detected (nan) [id:a511e1bb-69e1-41a2-8054-c6fcb6aa2362]",
        "2019-01-01 00:02:00  Possible compromised machine detected (nan) [id:62ded865-938b-4bb3-afef-605d692607f1]",
        "2019-01-01 00:02:00  An event log was cleared (nan) [id:48facfa1-fe35-45ff-8c91-7a710cd462b9]",
        "2019-01-03 00:02:00  Suspicious process executed (nan) [id:a32adc3f-43f7-4e5d-b833-98baa71c2f51]",
        "2019-01-03 00:02:00  Suspicious double extension file executed (nan) [id:112dc225-bc2d-4328-97fd-a99e0b000b1f]",
        "2019-01-05 01:02:00  SQL injection blocked (nan) [id:0c68e539-f060-401f-b967-6b64b8f49198]",
        "2019-01-05 02:02:00  Failed RDP Brute Force Attack (nan) [id:8832e816-d634-4214-bb48-7a6678fdf0b7]",
        "2019-01-06 02:02:00  Successful RDP brute force attack (nan) [id:3b2b5ecc-ec29-4703-9450-29b29b937fd8]",
        "2019-01-06 03:02:00  Suspicious SVCHOST process executed (nan) [id:614ae18e-cd79-4d4c-97dc-24431be12b5b]",
        "2019-01-06 04:02:00  Multiple Domain Accounts Queried (vm1) [id:7b27ffab-7204-4856-a013-908de6c1804e]",
        "2019-01-06 05:02:00  Network communication with a malicious machine detected (nan) [id:98a6dea6-1b64-41d0-938e-0dec24b234ec]",
        "2019-01-07 05:02:00  Modified system binary discovered in dump file 5bd767e4-2d08-4714-b744-aaed04b57107__391365252.hdmp (nan) [id:775505ce-0ef9-4945-b697-303f7666d1b6]",
        "2019-01-08 05:02:00  Possible outgoing spam activity detected (vm1lin) [id:28f9b83a-33e6-44da-a002-0f48bff46a67]",
        "2019-01-09 05:02:00  Deep Security Agent detected a malware (nan) [id:5fc4f6a0-0687-4b93-998e-a230af39c10b]",
        "2019-01-09 05:38:06  Global domain trust creation - Demo (nan) [id:9740fe80-b642-4a38-8e86-05fa4d35508b]",
        "2019-01-09 06:25:57  Maliciuos IP communication (nan) [id:04e14d6f-6d4f-46d4-a5f6-2a26bcd34ce8]",
        "2019-01-09 06:31:40  DC local group addition - Demo (nan) [id:ace7fb98-ef96-46df-ba7b-9a15a141d368]",
        "2019-01-09 06:31:42  Palo Alto admin logged on via SSH - Demo (nan) [id:40a5916b-9697-423a-a5e4-95cca7c735e7]",
        "2019-01-09 06:33:55  DC with MS AM engine failure - Demo (nan) [id:78cc7e02-6116-459d-9cdc-a6dcc40ba937]",
        "2019-01-10 05:02:00  Potential SQL Injection (nan) [id:5365ee7a-f730-42d2-bcdf-b2e898ab98d7]",
        "2019-01-10 05:38:06  Global domain trust creation - Demo (nan) [id:401f2680-cc05-4e6f-a1f6-69cff2055cd9]",
        "2019-01-10 06:25:57  Maliciuos IP communication (nan) [id:b5786d68-7f5e-4be1-92e6-e255010d1d8c]",
        "2019-01-10 06:31:40  DC local group addition - Demo (nan) [id:01659bf1-1228-4e46-b73b-e7d173d365eb]",
        "2019-01-10 06:31:42  Palo Alto admin logged on via SSH - Demo (nan) [id:0ce6ad61-302a-4142-8eaa-4da9dfad9ca9]",
        "2019-01-10 06:33:55  DC with MS AM engine failure - Demo (nan) [id:df9f92cb-6fd2-469b-9b72-28f128df1adf]",
        "2019-01-10 19:18:10  Suspicious Account Added (nan) [id:b3f02c05-e844-4161-81d6-d736548d91ae]",
        "2019-01-11 05:38:06  Global domain trust creation - Demo (nan) [id:6b56aa8c-da76-4caf-b09d-8706292a8b89]",
        "2019-01-11 06:25:57  Maliciuos IP communication (nan) [id:4586bd9e-5c1e-4229-9a01-ecd84ad51448]",
        "2019-01-11 06:31:40  DC local group addition - Demo (nan) [id:047f47d6-79b7-4502-824b-97abc4905a73]",
        "2019-01-11 06:31:42  Palo Alto admin logged on via SSH - Demo (nan) [id:2d06cb42-bdff-426d-8091-ccc151bcbc94]",
        "2019-01-11 06:33:55  DC with MS AM engine failure - Demo (nan) [id:412ca580-63c8-4fd2-87e4-87b1ba4260b3]",
        "2019-01-11 19:18:10  Suspicious Account Added (nan) [id:42a8b425-1c41-4355-8343-18ad563c43b6]",
        "2019-01-12 05:38:06  Global domain trust creation - Demo (nan) [id:bc44b302-78c7-4be8-bf70-d39d6935fd74]",
        "2019-01-12 06:25:57  Maliciuos IP communication (nan) [id:c76f17e2-e739-4e7e-bf17-4dd163fc831f]",
        "2019-01-12 06:31:40  DC local group addition - Demo (nan) [id:07be11df-3dbf-49a5-8b5a-dcea75d89993]",
        "2019-01-12 06:31:42  Palo Alto admin logged on via SSH - Demo (nan) [id:09ec519f-96b0-4332-be30-b0379c8cbd04]",
        "2019-01-12 06:33:55  DC with MS AM engine failure - Demo (nan) [id:6a7aaa2e-a575-4e8b-87ed-0d964bf1005e]",
        "2019-01-12 19:18:10  Suspicious Account Added (nan) [id:d4638075-fed2-4031-8e52-d37c220b0fe4]",
        "2019-01-13 05:38:06  Global domain trust creation - Demo (nan) [id:5d733fc8-ff32-436d-a595-beaf8943bd63]",
        "2019-01-13 06:25:57  Maliciuos IP communication (nan) [id:54a8f6d8-f69b-4872-96f8-ef274d5fc8d4]",
        "2019-01-13 06:31:40  DC local group addition - Demo (nan) [id:47445dca-b87d-45f5-9073-b713e3c69a56]",
        "2019-01-13 06:31:42  Palo Alto admin logged on via SSH - Demo (nan) [id:45176796-d3f9-40ce-a8f2-aba9bb3c8063]",
        "2019-01-13 06:33:55  DC with MS AM engine failure - Demo (nan) [id:985be534-6f40-4b0c-a951-8f3915eacd61]",
        "2019-01-13 19:18:10  Suspicious Account Added (nan) [id:790217fc-9597-4159-b469-bb383c747435]",
        "2019-01-14 05:38:06  Global domain trust creation - Demo (nan) [id:fbaf48de-152a-4aa6-8a69-902b219bf972]",
        "2019-01-14 06:25:57  Maliciuos IP communication (nan) [id:1828afac-b4c2-41d9-acbd-7d23b7219557]",
        "2019-01-14 06:31:40  DC local group addition - Demo (nan) [id:b34d24c9-2223-4887-af93-7598abf28763]",
        "2019-01-14 06:31:42  Palo Alto admin logged on via SSH - Demo (nan) [id:9442245d-eaf6-47c5-b715-1c16b2c54fc4]",
        "2019-01-14 06:33:55  DC with MS AM engine failure - Demo (nan) [id:edc4065d-886f-4aff-b17d-f1397ce4baec]",
        "2019-01-14 21:18:10  Suspicious Account Added (nan) [id:1cca38a9-e0c5-4165-a78d-491ca2641c1c]",
        "2019-01-15 05:15:03  Suspicious Account Creation Detected (MSTICALERTSWIN1) [id:2518547714966107270_3c380601-b5ad-4fff-9cdb-24528a3a19fd]",
        "2019-01-15 05:15:03  Anomalous account creation detected (nan) [id:2518547714966107270_90beedae-1285-43d6-8f33-16bc542af39b]",
        "2019-01-15 05:15:10  Potential attempt to bypass AppLocker detected (MSTICALERTSWIN1) [id:2518547714892475358_9e449abd-e67b-4ec8-a191-e688d7d63e26]",
        "2019-01-15 05:15:11  Detected decoding of an executable using built-in certutil.exe tool (MSTICALERTSWIN1) [id:2518547714882331861_5c56421d-d894-4437-9b9a-a3b5c6b7e1df]",
        "2019-01-15 05:15:11  Detected suspicious credentials in commandline (MSTICALERTSWIN1) [id:2518547714880519889_9d6d471a-c94f-4706-b0ff-b2f0301495aa]",
        "2019-01-15 05:15:11  Digital currency mining related behavior detected (MSTICALERTSWIN1) [id:2518547714887413669_4fa0022e-f431-4ba1-ae5f-ee23247e0853]",
        "2019-01-15 05:15:11  Suspiciously named process detected (MSTICALERTSWIN1) [id:2518547714887413669_1c680842-2a1d-40c0-a6e4-32e5dd144647]",
        "2019-01-15 05:15:11  Detected encoded executable in command line data (MSTICALERTSWIN1) [id:2518547714885867955_290559aa-a3d0-425b-8ed2-e98ccc9f0aa0]",
        "2019-01-15 05:15:12  Detected suspicious commandline arguments (MSTICALERTSWIN1) [id:2518547714879317674_226cc394-fccf-483d-888a-beafad2ed4a4]",
        "2019-01-15 05:15:12  Detected suspicious document credentials (MSTICALERTSWIN1) [id:2518547714879970078_b080127b-d5c1-425e-a7ca-e4bbd873009d]",
        "2019-01-15 05:15:12  Detected obfuscated command line. (MSTICALERTSWIN1) [id:2518547714871530079_77211491-86de-4295-82bc-38e332fe1112]",
        "2019-01-15 05:15:12  Suspicious powershell cmdlets executed (MSTICALERTSWIN1) [id:2518547714874872692_3eb0eb4b-0536-430c-8ab6-cd48524c14b1]",
        "2019-01-15 05:15:12  Suspicious Powershell Activity Detected (MSTICALERTSWIN1) [id:2518547714874872692_30d988ff-b8d9-45df-8217-e56b0d4d591c]",
        "2019-01-15 05:15:12  Suspicious Powershell Activity Detected (MSTICALERTSWIN1) [id:2518547714873290756_df1b9eb2-05c4-4f7c-8540-cbb18ec5c608]",
        "2019-01-15 05:15:12  Suspicious Powershell Activity Detected (MSTICALERTSWIN1) [id:2518547714876077067_953def48-a24b-42a9-bd02-7221be90f84a]",
        "2019-01-15 05:15:13  Suspicious Powershell Activity Detected (MSTICALERTSWIN1) [id:2518547714867787710_76336679-bddf-460f-90fb-35a1386de7a6]",
        "2019-01-15 05:15:14  Executable found running from a suspicious location (MSTICALERTSWIN1) [id:2518547714857061520_f4324711-aeae-4912-a634-331b7e7456b6]",
        "2019-01-15 05:15:14  Suspicious system process executed (nan) [id:2518547714857061520_28f9a2e6-1925-455e-ad97-7af7f92f521d]",
        "2019-01-15 05:15:14  Suspicious WindowPosition registry value detected (MSTICALERTSWIN1) [id:2518547714858429362_9bfd0e4b-ec93-46bb-8eea-f72e8f1262f1]",
        "2019-01-15 05:15:14  Suspicious process executed (MSTICALERTSWIN1) [id:2518547714854375707_e2a60bd1-d7c8-466d-a176-4333d4e0d1d5]",
        "2019-01-15 05:15:14  Detected suspicious named pipe communications (MSTICALERTSWIN1) [id:2518547714859677078_9b4e4942-d564-4755-862c-7171d52921e3]",
        "2019-01-15 05:15:14  Executable found running from a suspicious location (MSTICALERTSWIN1) [id:2518547714853062206_f9ddd8b3-5fa8-4f2f-b811-bdca90091195]",
        "2019-01-15 05:15:15  Detected change to a registry key that can be abused to bypass UAC (MSTICALERTSWIN1) [id:2518547714844291280_8f71e695-ba9b-4c97-9770-63cdeb34b7b4]",
        "2019-01-15 05:15:15  Detected anomalous mix of upper and lower case characters in command-line (MSTICALERTSWIN1) [id:2518547714844457503_55cd3e12-3a91-4b06-9be6-833df3365142]",
        "2019-01-15 05:15:15  Detected suspicious use of FTP -s Switch (MSTICALERTSWIN1) [id:2518547714843218505_265472ff-3820-4dad-8da7-00e39e1a99fd]",
        "2019-01-15 05:15:15  Sticky keys attack detected (MSTICALERTSWIN1) [id:2518547714843796759_b3737297-038c-4514-a957-d591384b4256]",
        "2019-01-15 05:15:15  Suspicious process executed (MSTICALERTSWIN1) [id:2518547714842732992_ad5981a5-fdcc-406a-8742-e50bd7f84917]",
        "2019-01-15 05:15:16  Detected suspicious new firewall rule (MSTICALERTSWIN1) [id:2518547714839319574_33edaa83-fe35-47de-9486-fc9792c5b65b]",
        "2019-01-15 05:15:16  Detected suspicious execution via rundll32.exe (MSTICALERTSWIN1) [id:2518547714834806864_4bb2ecc3-f4aa-40cd-a3d7-802fc9086e89]",
        "2019-01-15 05:15:16  Detected suspicious execution via rundll32.exe (MSTICALERTSWIN1) [id:2518547714835690929_8e73946b-ebea-4625-aa60-d97b82dcfb07]",
        "2019-01-15 05:15:16  Detected possible local reconnaissance activity (MSTICALERTSWIN1) [id:2518547714837217151_f0d023fb-376f-46ab-9976-a5825d826bea]",
        "2019-01-15 05:15:16  Detected suspicious Set-ExecutionPolicy and WinRM changes (MSTICALERTSWIN1) [id:2518547714832788202_b56b9e61-fefb-47a3-a34f-7c1b44f8268a]",
        "2019-01-15 05:15:16  Detected suspicious commandline used to start all executables in a directory (MSTICALERTSWIN1) [id:2518547714833232927_0e8db234-9727-41f3-a6e0-0773519603d2]",
        "2019-01-15 05:15:16  Detected potentially suspicious use of Telegram tool (MSTICALERTSWIN1) [id:2518547714833859291_4fa26308-1daf-49ee-8880-b194f950d8b0]",
        "2019-01-15 05:15:16  Suspected Kerberos Golden Ticket attack parameters observed (MSTICALERTSWIN1) [id:2518547714838326136_e776fca2-4c01-43eb-ab97-b9845af3529c]",
        "2019-01-15 05:15:16  Detected actions indicative of disabling and deleting IIS log files. (MSTICALERTSWIN1) [id:2518547714831067013_8df27789-fb10-4035-ac48-cd0883b2e6b0]",
        "2019-01-15 05:15:17  Azure Security Center test alert (not a threat) (MSTICALERTSWIN1) [id:2518547714824290520_b2d9be9f-58e2-4174-8658-419670393253]",
        "2019-01-15 05:15:17  Suspicious SVCHOST process executed (nan) [id:2518547714825902697_fcbb6bb7-4c7c-488e-903c-f625e98db7c4]",
        "2019-01-15 05:15:17  Random process name detected (MSTICALERTSWIN1) [id:2518547714829244584_9984a237-2dd7-4932-bb8d-23ca535a6254]",
        "2019-01-15 05:15:17  Rare SVCHOST service group executed (nan) [id:2518547714825070946_58694b54-2bee-4160-9595-30903b466f6e]",
        "2019-01-15 05:15:17  Suspicious double extension file executed (nan) [id:2518547714828736209_2b2ff728-1a2a-46e8-a49a-6991e074a740]",
        "2019-01-15 05:15:17  Suspicious Volume Shadow Copy Activity (nan) [id:2518547714828638992_6c6836bb-23cd-4b31-b78e-08360c5a4f83]",
        "2019-01-15 05:15:18  Detected suspicious execution of VBScript.Encode command (MSTICALERTSWIN1) [id:2518547714811804858_5b42a152-64c2-4f16-8cc3-887b8b0161fc]",
        "2019-01-15 05:15:18  Detected suspicious file cleanup commands (MSTICALERTSWIN1) [id:2518547714814450855_c0822e2b-785b-41a8-8136-21b7430a0078]",
        "2019-01-15 05:15:18  Detected Petya ransomware indicators (MSTICALERTSWIN1) [id:2518547714812938298_fa4939d4-a20c-440a-839c-89c0c43e1ccc]",
        "2019-01-15 05:15:18  Detected suspicious file creation (MSTICALERTSWIN1) [id:2518547714816637303_3252483f-2fdb-411a-93f5-e268d5e56abf]",
        "2019-01-15 05:15:18  Detected suspicious use of Pcalua.exe to launch executable code (MSTICALERTSWIN1) [id:2518547714811337754_ad1fd62a-9565-41e4-b94a-6264942033f6]",
        "2019-01-15 05:15:18  Detected possible execution of keygen executable (MSTICALERTSWIN1) [id:2518547714814533914_38d53571-e98a-4bb6-a17f-0361a561019e]",
        "2019-01-15 05:15:18  Detected suspicious use of Cacls to lower the security state of the system. (MSTICALERTSWIN1) [id:2518547714815952205_1ba5718e-529b-441b-8036-ad06ee862e76]",
        "2019-01-15 05:15:18  Detected the disabling of critical services (MSTICALERTSWIN1) [id:2518547714813299511_a5df127a-f7e8-44ff-b404-6d5b37d06488]",
        "2019-01-15 05:15:18  Ransomware indicators detected (MSTICALERTSWIN1) [id:2518547714812286467_d5e026fa-6687-495e-878d-c4c93477cc78]",
        "2019-01-15 05:15:18  Detected possible execution of malware dropper (MSTICALERTSWIN1) [id:2518547714815009424_9a34d332-2fb6-4f3f-beb0-d9817dc9b7cd]",
        "2019-01-15 05:15:18  High risk software detected (MSTICALERTSWIN1) [id:2518547714813699414_d12ed618-567b-4b8f-8241-82ad4c1cb28e]",
        "2019-01-15 05:15:19  Possible credential dumping detected (MSTICALERTSWIN1) [id:2518547714809416002_76bf04a5-71fa-487a-9742-d54941a7a194]",
        "2019-01-15 05:15:19  Suspicious download using Certutil detected (MSTICALERTSWIN1) [id:2518547714805546049_03e7bf17-8f77-42ca-8ac1-af8258f4d1ca]",
        "2019-01-15 09:15:03  Suspicious Account Creation Detected (MSTICALERTSWIN1) [id:2518547570966661760_526e34b6-6578-4fc0-9db6-e126b4d673f0]",
        "2019-01-15 09:15:07  Potential attempt to bypass AppLocker detected (MSTICALERTSWIN1) [id:2518547570924760670_9868ed7d-397e-4aa4-8dbd-5a1c5f736c1e]",
        "2019-01-15 09:15:10  Suspiciously named process detected (MSTICALERTSWIN1) [id:2518547570895430544_4ea6c432-6d20-4986-9679-ecf58ac4854d]",
        "2019-01-15 09:15:10  Digital currency mining related behavior detected (MSTICALERTSWIN1) [id:2518547570895430544_72351be4-ae78-4cc6-9f6a-1ff87c31baeb]",
        "2019-01-15 09:15:11  Detected obfuscated command line. (MSTICALERTSWIN1) [id:2518547570880067443_c1a9004f-7f64-4144-8ce0-8f76f9041703]",
        "2019-01-15 09:15:11  Suspicious Powershell Activity Detected (MSTICALERTSWIN1) [id:2518547570883109415_c762b0f7-a0f5-4dda-ab48-54b5ae6eade4]",
        "2019-01-15 09:15:11  Suspicious Powershell Activity Detected (MSTICALERTSWIN1) [id:2518547570884378777_92a2f884-5827-4fb6-acf8-b0087b76aa73]",
        "2019-01-15 09:15:11  Suspicious Powershell Activity Detected (MSTICALERTSWIN1) [id:2518547570881721037_4ca5c629-673c-4372-9bd3-ab7bf6d6e6f0]",
        "2019-01-15 09:15:12  Suspicious Powershell Activity Detected (MSTICALERTSWIN1) [id:2518547570876432155_ce7c7361-8ac9-47be-b8fb-7a87c87ee178]",
        "2019-01-15 09:15:13  Suspicious system process executed (nan) [id:2518547570865502616_9d5e263f-55d2-441f-acf4-bf569b4cd976]",
        "2019-01-15 09:15:13  Executable found running from a suspicious location (MSTICALERTSWIN1) [id:2518547570865502616_c6f3dea2-fe36-4e65-b161-1b1cd1104eb3]",
        "2019-01-15 09:15:13  Suspicious WindowPosition registry value detected (MSTICALERTSWIN1) [id:2518547570866947129_1b074412-133c-4ac9-8e3f-24103159b03e]",
        "2019-01-15 09:15:13  Executable found running from a suspicious location (MSTICALERTSWIN1) [id:2518547570860979996_bddac8c5-cba5-4da2-a6dd-c0a39fc2b256]",
        "2019-01-15 09:15:13  Suspicious process executed (MSTICALERTSWIN1) [id:2518547570862568702_029c9c95-c1fe-4419-bc3b-a6d832c87e65]",
        "2019-01-15 09:15:14  Suspicious process executed (MSTICALERTSWIN1) [id:2518547570851316041_43f7d8f3-fea5-4fca-a884-713c2d65203c]",
        "2019-01-15 09:15:14  Detected anomalous mix of upper and lower case characters in command-line (MSTICALERTSWIN1) [id:2518547570852901341_3ca6ca5a-8bf2-417f-b8c9-3cea37c84f4b]",
        "2019-01-15 09:15:16  Suspicious double extension file executed (nan) [id:2518547570836535349_c45bcb62-9d89-44e8-bea9-7a9e35205576]",
        "2019-01-15 09:15:16  Rare SVCHOST service group executed (nan) [id:2518547570834399134_26ccc2ad-8ce0-4f60-8215-18f99377b547]",
        "2019-01-15 09:15:16  Suspicious Volume Shadow Copy Activity (nan) [id:2518547570836431794_b9d79b27-d725-4a87-b7ec-6fc9ec591e8c]",
        "2019-01-15 09:15:16  Azure Security Center test alert (not a threat) (MSTICALERTSWIN1) [id:2518547570833725387_2df8ae94-03fe-4b9f-a3a9-f3c6dab95c05]",
        "2019-01-15 09:15:16  Suspicious SVCHOST process executed (nan) [id:2518547570835168086_117b7a02-d1d0-4cf2-bc04-0b19a796b4d3]",
        "2019-01-15 09:15:17  Ransomware indicators detected (MSTICALERTSWIN1) [id:2518547570821365949_48327b74-c904-402d-a1d8-2b3a882924e7]",
        "2019-01-15 09:15:17  Detected Petya ransomware indicators (MSTICALERTSWIN1) [id:2518547570821871899_e647375c-9979-47b5-9f78-f414a1aad26d]",
        "2019-01-15 11:45:00  Suspicious Account Creation Detected (MSTICALERTSWIN1) [id:2518547480991748435_836318d1-0fa0-4cfe-a3d0-2b1fdbaf2216]",
        "2019-01-15 11:45:01  Suspiciously named process detected (MSTICALERTSWIN1) [id:2518547480988516756_54bb943e-7fe9-4146-a43e-4064c8e0049f]",
        "2019-01-15 11:45:01  Digital currency mining related behavior detected (MSTICALERTSWIN1) [id:2518547480988516756_668ed54c-9e73-4d4f-a9c2-b88fd1b13db0]",
        "2019-01-15 11:45:01  Potential attempt to bypass AppLocker detected (MSTICALERTSWIN1) [id:2518547480989617678_f3490cf7-a303-4001-b7d6-8acf7e83f191]",
        "2019-01-15 11:45:01  Suspicious Powershell Activity Detected (MSTICALERTSWIN1) [id:2518547480982973701_24a6d6f3-acf1-41bd-a11f-01a1369bac02]",
        "2019-01-15 11:45:01  Suspicious Powershell Activity Detected (MSTICALERTSWIN1) [id:2518547480984263491_d46877bd-e04d-401a-99bd-eec2a6b25663]",
        "2019-01-15 11:45:01  Detected obfuscated command line. (MSTICALERTSWIN1) [id:2518547480982511513_adfabbe0-fce0-44f3-be4b-17283bd03bed]",
        "2019-01-15 11:45:01  Suspicious Powershell Activity Detected (MSTICALERTSWIN1) [id:2518547480980813134_5cb7ab95-6017-4031-afb2-e11518b0f5cc]",
        "2019-01-15 11:45:01  Suspicious Powershell Activity Detected (MSTICALERTSWIN1) [id:2518547480983467170_9da8e3df-9c3b-4e20-8bd0-ace00aff9def]",
        "2019-01-15 11:45:02  Executable found running from a suspicious location (MSTICALERTSWIN1) [id:2518547480975043692_7e663699-5412-496f-ac91-e21a7b6f0be5]",
        "2019-01-15 11:45:02  Executable found running from a suspicious location (MSTICALERTSWIN1) [id:2518547480977057409_ed9d92ac-0ab8-4a2e-a1dd-f70ee30a9af1]",
        "2019-01-15 11:45:02  Suspicious WindowPosition registry value detected (MSTICALERTSWIN1) [id:2518547480977469312_e9ff6947-fd12-42d2-bb63-2d814f04482a]",
        "2019-01-15 11:45:02  Suspicious process executed (MSTICALERTSWIN1) [id:2518547480976076338_2a106d12-acd8-4dd7-9e1c-3c20b4eaa320]",
        "2019-01-15 11:45:02  Suspicious system process executed (nan) [id:2518547480977057409_492fbb97-a1fc-4880-95d2-e55ab2f142b6]",
        "2019-01-15 11:45:02  Detected anomalous mix of upper and lower case characters in command-line (MSTICALERTSWIN1) [id:2518547480970182118_c0558adc-b4a9-4289-b9ad-7e7260f1cde0]",
        "2019-01-15 11:45:03  Suspicious process executed (MSTICALERTSWIN1) [id:2518547480968677354_88eb8a87-a876-46aa-b8ed-be7298929ea8]",
        "2019-01-15 11:45:04  Random process name detected (MSTICALERTSWIN1) [id:2518547480956885358_b66e93d7-b38b-4785-baa5-093edc18e649]",
        "2019-01-15 11:45:04  Suspicious Volume Shadow Copy Activity (nan) [id:2518547480955968326_fa350f8b-2c81-478c-a383-debe0ab0c892]",
        "2019-01-15 11:45:04  Suspicious double extension file executed (nan) [id:2518547480956378190_2b59c1d5-a815-4562-a8d4-36d9777e6546]",
        "2019-01-15 11:45:05  Rare SVCHOST service group executed (nan) [id:2518547480946682289_f83c0705-d2ff-4355-a25d-ae858ee39b2d]",
        "2019-01-15 11:45:05  Suspicious SVCHOST process executed (nan) [id:2518547480947565906_5c82cd9c-60f8-4056-bd39-8ccb2cdb7678]",
        "2019-01-15 11:45:05  Azure Security Center test alert (not a threat) (MSTICALERTSWIN1) [id:2518547480945920380_00d33245-c643-4155-8c05-6abc4ee3b3cd]",
        "2019-01-15 11:45:06  Ransomware indicators detected (MSTICALERTSWIN1) [id:2518547480937987105_ec1678a1-0fe8-44c5-91b5-621c40d2bb8c]",
        "2019-01-15 11:45:06  Detected Petya ransomware indicators (MSTICALERTSWIN1) [id:2518547480938543829_91a4f9a7-70ad-433b-a568-34314e3f467f]",
        "2019-01-15 13:15:10  Suspiciously named process detected (MSTICALERTSWIN1) [id:2518547426892072407_171b74b2-a431-4b55-8d69-128e5fb95329]",
        "2019-01-15 13:15:13  Suspicious WindowPosition registry value detected (MSTICALERTSWIN1) [id:2518547426863814510_75495c57-4fd6-4e27-b94c-c6f81f78bcb5]",
        "2019-01-15 13:15:13  Suspicious system process executed (nan) [id:2518547426862437699_184c075e-64ee-4901-bc37-6eb999e81a11]",
        "2019-01-15 13:15:14  Suspicious process executed (MSTICALERTSWIN1) [id:2518547426859453218_89d1850f-dccd-4d45-b194-650819d358d9]",
        "2019-01-15 13:15:14  Executable found running from a suspicious location (MSTICALERTSWIN1) [id:2518547426858055460_51b74398-40e2-4b1b-9d92-89c0004738c9]",
        "2019-01-15 13:15:15  Suspicious process executed (MSTICALERTSWIN1) [id:2518547426847947731_caa12d6c-4928-4787-90d4-cb27ff94373c]",
        "2019-01-15 13:15:16  Suspicious SVCHOST process executed (nan) [id:2518547426831794607_a513ab17-2b6a-4b1a-a925-a0b3c21ec38c]",
        "2019-01-15 13:15:16  Rare SVCHOST service group executed (nan) [id:2518547426830640211_88f9ae7a-e6b5-4b54-b967-08f3fc503d91]",
        "2019-01-15 13:15:16  Suspicious Volume Shadow Copy Activity (nan) [id:2518547426833434810_b6e594ea-16d3-480e-81a7-2f8fe3af64ba]",
        "2019-01-15 13:15:16  Suspicious double extension file executed (nan) [id:2518547426833838523_7b30c978-28d5-4a28-a4c2-0985f08ab1c6]",
        "2019-01-15 13:15:17  Azure Security Center test alert (not a threat) (MSTICALERTSWIN1) [id:2518547426829675756_846ec406-bb3e-451b-bf6f-9e1e17a69bd6]",
        "2019-01-15 13:15:18  Ransomware indicators detected (MSTICALERTSWIN1) [id:2518547426817428483_636ab38f-2528-4356-8602-d0910f8ac600]",
        "2019-01-15 13:15:18  Detected Petya ransomware indicators (MSTICALERTSWIN1) [id:2518547426817928329_a4aa878d-93b5-4cd1-931f-30f85b9e6db2]",
        "2019-01-15 17:15:03  Suspicious Account Creation Detected (MSTICALERTSWIN1) [id:2518547282966696689_3db7e1e7-2edc-4dd9-8c1d-d908f5b8a904]",
        "2019-01-15 17:15:10  Potential attempt to bypass AppLocker detected (MSTICALERTSWIN1) [id:2518547282896095305_82730ffa-b9ce-43f4-bf3c-a97113107cc5]",
        "2019-01-15 17:15:10  Suspiciously named process detected (MSTICALERTSWIN1) [id:2518547282892925953_0073e6d8-6c2e-42e4-8966-d1f5a3dd3517]",
        "2019-01-15 17:15:10  Digital currency mining related behavior detected (MSTICALERTSWIN1) [id:2518547282892925953_35c8d588-ddf7-46b5-a0bf-f47023f9343c]",
        "2019-01-15 17:15:11  Suspicious Powershell Activity Detected (MSTICALERTSWIN1) [id:2518547282880013417_d65aa787-e867-43b1-9182-025a1a38173a]",
        "2019-01-15 17:15:11  Suspicious Powershell Activity Detected (MSTICALERTSWIN1) [id:2518547282881581273_ed5bcf39-ffd3-468a-82e3-28e108d4f06f]",
        "2019-01-15 17:15:11  Suspicious Powershell Activity Detected (MSTICALERTSWIN1) [id:2518547282883193041_31ae6eeb-bd1d-4018-8df9-eeedd60bf1ab]",
        "2019-01-15 17:15:12  Suspicious Powershell Activity Detected (MSTICALERTSWIN1) [id:2518547282874783943_bd1a0865-a507-4e2b-b8df-613238a950df]",
        "2019-01-15 17:15:12  Detected obfuscated command line. (MSTICALERTSWIN1) [id:2518547282878855119_d89d1ab7-e5b7-426c-a98f-eab95deea3ad]",
        "2019-01-15 17:15:13  Suspicious system process executed (nan) [id:2518547282863799328_7e169933-4275-4b94-b37f-490417bcfc98]",
        "2019-01-15 17:15:13  Suspicious WindowPosition registry value detected (MSTICALERTSWIN1) [id:2518547282865194453_9895a5cc-6f49-45f5-a0eb-f05c1f11f264]",
        "2019-01-15 17:15:13  Executable found running from a suspicious location (MSTICALERTSWIN1) [id:2518547282863799328_84ea8dcd-9436-4b4d-82b2-36114028bd61]",
        "2019-01-15 17:15:14  Suspicious process executed (MSTICALERTSWIN1) [id:2518547282859754476_0c3ae402-a9ea-4d5c-9c09-4274b7847c2c]",
        "2019-01-15 17:15:14  Detected anomalous mix of upper and lower case characters in command-line (MSTICALERTSWIN1) [id:2518547282850984831_7f983018-fd59-4e9e-ba70-295f6beb0e9c]",
        "2019-01-15 17:15:14  Executable found running from a suspicious location (MSTICALERTSWIN1) [id:2518547282858353938_58851b10-8f5c-48f1-aade-b1529f4e2c7f]",
        "2019-01-15 17:15:15  Suspicious process executed (MSTICALERTSWIN1) [id:2518547282845656644_c7318da8-368f-47f8-bff5-e15600a3fb80]",
        "2019-01-15 17:15:17  Suspicious double extension file executed (nan) [id:2518547282825853773_e6c85135-2b91-4537-b9a0-dae7eabb8e9d]",
        "2019-01-15 17:15:17  Suspicious Volume Shadow Copy Activity (nan) [id:2518547282825448815_6a71b543-4832-4658-8467-825aeafbe031]",
        "2019-01-15 17:15:18  Rare SVCHOST service group executed (nan) [id:2518547282813841329_a7e8e8c1-4561-48ea-bf75-a22c7bfc2257]",
        "2019-01-15 17:15:18  Azure Security Center test alert (not a threat) (MSTICALERTSWIN1) [id:2518547282812706885_12ae1e22-347e-454c-ae0d-ebb48cdf189b]",
        "2019-01-15 17:15:18  Suspicious SVCHOST process executed (nan) [id:2518547282814913644_34cc156e-9179-44c4-bd60-89dd1812e9e7]",
        "2019-01-15 17:15:19  Detected Petya ransomware indicators (MSTICALERTSWIN1) [id:2518547282803821916_c76cdb6c-cea0-4b2b-9ab6-1442a5857ed8]",
        "2019-01-15 17:15:19  Ransomware indicators detected (MSTICALERTSWIN1) [id:2518547282802847718_4a524cc8-7613-4c42-93a9-8c1e466a4476]",
        "2019-01-15 21:18:10  Suspicious Account Added (nan) [id:cbdce694-666c-4844-a29c-e7f4b66e27d1]"
       ],
       "description": "Select alert :",
       "index": 0,
       "layout": "IPY_MODEL_3c0d3b71c6bd464d80eb80b7df86c430",
       "style": "IPY_MODEL_194304d0f3e846e0a0908418b851ee0d"
      }
     },
     "03d533b5bde149d88fab0127c6e50c16": {
      "model_module": "@jupyter-widgets/controls",
      "model_module_version": "1.5.0",
      "model_name": "HTMLModel",
      "state": {
       "layout": "IPY_MODEL_3c79636370314411b58e11cbc408b5e4",
       "style": "IPY_MODEL_4697f993ec8443d2891f25b01c702042",
       "value": "<h4>Set query time boundaries</h4>"
      }
     },
     "03f21ff1c0ce476cbdaa85ed7046f6e2": {
      "model_module": "@jupyter-widgets/controls",
      "model_module_version": "1.5.0",
      "model_name": "DescriptionStyleModel",
      "state": {
       "description_width": ""
      }
     },
     "040f58b9fb31435fb099e6c166e7a6ee": {
      "model_module": "@jupyter-widgets/controls",
      "model_module_version": "1.5.0",
      "model_name": "IntRangeSliderModel",
      "state": {
       "_model_name": "IntRangeSliderModel",
       "_view_name": "IntRangeSliderView",
       "description": "Time Range (day):",
       "layout": "IPY_MODEL_2a5d0fee984b415086b59161039fa08e",
       "max": 1,
       "min": -20,
       "style": "IPY_MODEL_3f6b9e360fa94832950f0ac3757700cc",
       "value": [
        -5,
        1
       ]
      }
     },
     "0515ec94dc604e3e9f70a03fc7a1322c": {
      "model_module": "@jupyter-widgets/controls",
      "model_module_version": "1.5.0",
      "model_name": "DescriptionStyleModel",
      "state": {
       "description_width": "initial"
      }
     },
     "05e200dfd22346c9bb025e7800515ef1": {
      "model_module": "@jupyter-widgets/base",
      "model_module_version": "1.2.0",
      "model_name": "LayoutModel",
      "state": {}
     },
     "061abaa02f7741428c8ff5afdbbced24": {
      "model_module": "@jupyter-widgets/controls",
      "model_module_version": "1.5.0",
      "model_name": "DescriptionStyleModel",
      "state": {
       "description_width": "initial"
      }
     },
     "06cbc02e11884bea886b66359d9fb7dd": {
      "model_module": "@jupyter-widgets/controls",
      "model_module_version": "1.5.0",
      "model_name": "HBoxModel",
      "state": {
       "children": [
        "IPY_MODEL_b0577f6c22cf47e2aac1ad8e62630c24",
        "IPY_MODEL_d053ff76479f4f26a883e6903deff28f",
        "IPY_MODEL_7d50e8af6c5e4db6bb39229fdf121340"
       ],
       "layout": "IPY_MODEL_de84e77d41a24c178b99df5ae46f598a"
      }
     },
     "07bde6b6c73d4c9e805acc6a1f401d2a": {
      "model_module": "@jupyter-widgets/controls",
      "model_module_version": "1.5.0",
      "model_name": "DescriptionStyleModel",
      "state": {
       "description_width": ""
      }
     },
     "07fde5b281f541b2bf1a11c6db6da099": {
      "model_module": "@jupyter-widgets/base",
      "model_module_version": "1.2.0",
      "model_name": "LayoutModel",
      "state": {}
     },
     "08416df967484c16b126903b23b70a2c": {
      "model_module": "@jupyter-widgets/controls",
      "model_module_version": "1.5.0",
      "model_name": "ButtonModel",
      "state": {
       "description": "⇽ Remove All",
       "layout": "IPY_MODEL_a879746f71e74a6a82c06705a9230687",
       "style": "IPY_MODEL_1eb2ce646a87498ab538dcc39c20eec1"
      }
     },
     "0880fba51003408a94e813f49b17e947": {
      "model_module": "@jupyter-widgets/controls",
      "model_module_version": "1.5.0",
      "model_name": "ButtonModel",
      "state": {
       "description": "Add All ⇾",
       "layout": "IPY_MODEL_43133ee297f4409ebe410b9381c0e262",
       "style": "IPY_MODEL_78684231938445e78b1b3eeb82d48e8e"
      }
     },
     "08da76098ffe4a7ca7e3406cf1d7f958": {
      "model_module": "@jupyter-widgets/controls",
      "model_module_version": "1.5.0",
      "model_name": "DescriptionStyleModel",
      "state": {
       "description_width": ""
      }
     },
     "0903fc623fbd41389b9624aa96d2120d": {
      "model_module": "@jupyter-widgets/controls",
      "model_module_version": "1.5.0",
      "model_name": "DescriptionStyleModel",
      "state": {
       "description_width": ""
      }
     },
     "0916e9eff435431c855b2e33ce5641b0": {
      "model_module": "@jupyter-widgets/controls",
      "model_module_version": "1.5.0",
      "model_name": "DescriptionStyleModel",
      "state": {
       "description_width": ""
      }
     },
     "0952c1ad89064a05860887078606f72a": {
      "model_module": "@jupyter-widgets/controls",
      "model_module_version": "1.5.0",
      "model_name": "DescriptionStyleModel",
      "state": {
       "description_width": ""
      }
     },
     "0a9a9ead30694934906d12c22c693c68": {
      "model_module": "@jupyter-widgets/controls",
      "model_module_version": "1.5.0",
      "model_name": "SelectModel",
      "state": {
       "_options_labels": [
        "Detected suspicious commandline arguments",
        "Detected suspicious commandline used to start all executables in a directory",
        "Detected suspicious credentials in commandline"
       ],
       "description": "Selected: ",
       "index": 0,
       "layout": "IPY_MODEL_710f4a8fe7cc4d2d8fb26fe6f3d2ef7d",
       "style": "IPY_MODEL_584bad102e72415b843004d3cd19f9c8"
      }
     },
     "0ad40cd061ae4c1bbdf727ee051dc5de": {
      "model_module": "@jupyter-widgets/base",
      "model_module_version": "1.2.0",
      "model_name": "LayoutModel",
      "state": {}
     },
     "0c2d1e3e8edf4944b80b10482cce42d2": {
      "model_module": "@jupyter-widgets/controls",
      "model_module_version": "1.5.0",
      "model_name": "ButtonModel",
      "state": {
       "description": "⇽ Remove",
       "layout": "IPY_MODEL_26d07fa456f340009099ea3f3aca1212",
       "style": "IPY_MODEL_30901b5a2bcc46faa835c7621cb11e9a"
      }
     },
     "0cce750b5f714388b0e4b359504f49b0": {
      "model_module": "@jupyter-widgets/base",
      "model_module_version": "1.2.0",
      "model_name": "LayoutModel",
      "state": {}
     },
     "0dc01ac45e3941939ef93e6778504e64": {
      "model_module": "@jupyter-widgets/controls",
      "model_module_version": "1.5.0",
      "model_name": "SelectModel",
      "state": {
       "description": "Selected: ",
       "index": null,
       "layout": "IPY_MODEL_c4b47717bd7d4e6590153614361b95ea",
       "style": "IPY_MODEL_a8360de291ad45f0af1c6c04952fc605"
      }
     },
     "0dca30e4459e457e81ef4ea2f53b6a9a": {
      "model_module": "@jupyter-widgets/base",
      "model_module_version": "1.2.0",
      "model_name": "LayoutModel",
      "state": {
       "height": "300px",
       "width": "95%"
      }
     },
     "0e5a711acebd4d13aa0a25b9cc154354": {
      "model_module": "@jupyter-widgets/base",
      "model_module_version": "1.2.0",
      "model_name": "LayoutModel",
      "state": {}
     },
     "0e6e7f5d06ef4d2795f7e60dcd130408": {
      "model_module": "@jupyter-widgets/controls",
      "model_module_version": "1.5.0",
      "model_name": "DescriptionStyleModel",
      "state": {
       "description_width": "initial"
      }
     },
     "0f2efc9330a047b1be11261107950070": {
      "model_module": "@jupyter-widgets/base",
      "model_module_version": "1.2.0",
      "model_name": "LayoutModel",
      "state": {}
     },
     "0f3c8978404e40e990f488e9e0d25786": {
      "model_module": "@jupyter-widgets/controls",
      "model_module_version": "1.5.0",
      "model_name": "SelectModel",
      "state": {
       "_options_labels": [
        "An event log was cleared",
        "Anomalous account creation detected",
        "Azure Security Center test alert (not a threat)",
        "DC local group addition - Demo",
        "DC with MS AM engine failure - Demo",
        "Deep Security Agent detected a malware",
        "Detected Petya ransomware indicators",
        "Detected actions indicative of disabling and deleting IIS log files.",
        "Detected anomalous mix of upper and lower case characters in command-line",
        "Detected change to a registry key that can be abused to bypass UAC",
        "Detected decoding of an executable using built-in certutil.exe tool",
        "Detected encoded executable in command line data",
        "Detected obfuscated command line.",
        "Detected possible execution of keygen executable",
        "Detected possible execution of malware dropper",
        "Detected possible local reconnaissance activity",
        "Detected potentially suspicious use of Telegram tool",
        "Detected suspicious Set-ExecutionPolicy and WinRM changes",
        "Detected suspicious commandline arguments",
        "Detected suspicious commandline used to start all executables in a directory",
        "Detected suspicious credentials in commandline",
        "Detected suspicious document credentials",
        "Detected suspicious execution of VBScript.Encode command",
        "Detected suspicious execution via rundll32.exe",
        "Detected suspicious file cleanup commands",
        "Detected suspicious file creation",
        "Detected suspicious named pipe communications",
        "Detected suspicious new firewall rule",
        "Detected suspicious use of Cacls to lower the security state of the system.",
        "Detected suspicious use of FTP -s Switch",
        "Detected suspicious use of Pcalua.exe to launch executable code",
        "Detected the disabling of critical services",
        "Digital currency mining related behavior detected",
        "Executable found running from a suspicious location",
        "Failed RDP Brute Force Attack",
        "Global domain trust creation - Demo",
        "High risk software detected",
        "Maliciuos IP communication",
        "Modified system binary discovered in dump file 5bd767e4-2d08-4714-b744-aaed04b57107__391365252.hdmp",
        "Multiple Domain Accounts Queried",
        "Network communication with a malicious machine detected",
        "Palo Alto admin logged on via SSH - Demo",
        "Possible compromised machine detected",
        "Possible credential dumping detected",
        "Possible outgoing spam activity detected",
        "Potential SQL Injection",
        "Potential attempt to bypass AppLocker detected",
        "Random process name detected",
        "Ransomware indicators detected",
        "Rare SVCHOST service group executed",
        "SQL injection blocked",
        "Sticky keys attack detected",
        "Successful RDP brute force attack",
        "Suspected Kerberos Golden Ticket attack parameters observed",
        "Suspicious Account Added",
        "Suspicious Account Creation Detected",
        "Suspicious Powershell Activity Detected",
        "Suspicious SVCHOST process executed",
        "Suspicious Volume Shadow Copy Activity",
        "Suspicious WindowPosition registry value detected",
        "Suspicious double extension file executed",
        "Suspicious download using Certutil detected",
        "Suspicious powershell cmdlets executed",
        "Suspicious process executed",
        "Suspicious system process executed",
        "Suspiciously named process detected"
       ],
       "description": "Source: ",
       "index": 0,
       "layout": "IPY_MODEL_1f7fcd59887b47e494eca35b6e22002e",
       "style": "IPY_MODEL_bb1284662e9a46049f8c9d7675b55fa9"
      }
     },
     "0f5ea8b479464122825513e7f4bebccd": {
      "model_module": "@jupyter-widgets/controls",
      "model_module_version": "1.5.0",
      "model_name": "SliderStyleModel",
      "state": {
       "description_width": "initial"
      }
     },
     "0f6d8d5b834d454cb1c5baa90e680cda": {
      "model_module": "@jupyter-widgets/controls",
      "model_module_version": "1.5.0",
      "model_name": "TextModel",
      "state": {
       "description": "Filter alerts by title:",
       "layout": "IPY_MODEL_b477bc6d3cd4445c822fb5b471ea1afc",
       "style": "IPY_MODEL_0e6e7f5d06ef4d2795f7e60dcd130408"
      }
     },
     "0faebf45f2474f15a541ab7dd83043ec": {
      "model_module": "@jupyter-widgets/controls",
      "model_module_version": "1.5.0",
      "model_name": "HTMLModel",
      "state": {
       "layout": "IPY_MODEL_918c32af1ae5452798327e23bc70c2c5",
       "style": "IPY_MODEL_32edd9e694374b6f8af34496a772e0ea",
       "value": "<h4>Set query time boundaries</h4>"
      }
     },
     "0fede05dde48465fa88030df500ec66e": {
      "model_module": "@jupyter-widgets/controls",
      "model_module_version": "1.5.0",
      "model_name": "TextModel",
      "state": {
       "description": "Time (24hr)",
       "layout": "IPY_MODEL_294024c44a3d4c2fa0b5d12a7b5aaaa6",
       "style": "IPY_MODEL_f6f6a138ee40469892ed509e61b0d111",
       "value": "22:06:44.157048"
      }
     },
     "103528083c214aa3aa4d3d1e772a9528": {
      "model_module": "@jupyter-widgets/base",
      "model_module_version": "1.2.0",
      "model_name": "LayoutModel",
      "state": {}
     },
     "11a00b259ee0473a874bfae2214e60d4": {
      "model_module": "@jupyter-widgets/base",
      "model_module_version": "1.2.0",
      "model_name": "LayoutModel",
      "state": {}
     },
     "11cd440bb1f046e2bce8b5d3346fba57": {
      "model_module": "@jupyter-widgets/controls",
      "model_module_version": "1.5.0",
      "model_name": "SelectModel",
      "state": {
       "_options_labels": [
        "An event log was cleared",
        "Anomalous account creation detected",
        "Azure Security Center test alert (not a threat)",
        "DC local group addition - Demo",
        "DC with MS AM engine failure - Demo",
        "Deep Security Agent detected a malware",
        "Detected Petya ransomware indicators",
        "Detected actions indicative of disabling and deleting IIS log files.",
        "Detected anomalous mix of upper and lower case characters in command-line",
        "Detected change to a registry key that can be abused to bypass UAC",
        "Detected decoding of an executable using built-in certutil.exe tool",
        "Detected encoded executable in command line data",
        "Detected obfuscated command line.",
        "Detected possible execution of keygen executable",
        "Detected possible execution of malware dropper",
        "Detected possible local reconnaissance activity",
        "Detected potentially suspicious use of Telegram tool",
        "Detected suspicious Set-ExecutionPolicy and WinRM changes",
        "Detected suspicious commandline arguments",
        "Detected suspicious commandline used to start all executables in a directory",
        "Detected suspicious credentials in commandline",
        "Detected suspicious document credentials",
        "Detected suspicious execution of VBScript.Encode command",
        "Detected suspicious execution via rundll32.exe",
        "Detected suspicious file cleanup commands",
        "Detected suspicious file creation",
        "Detected suspicious named pipe communications",
        "Detected suspicious new firewall rule",
        "Detected suspicious use of Cacls to lower the security state of the system.",
        "Detected suspicious use of FTP -s Switch",
        "Detected suspicious use of Pcalua.exe to launch executable code",
        "Detected the disabling of critical services",
        "Digital currency mining related behavior detected",
        "Executable found running from a suspicious location",
        "Failed RDP Brute Force Attack",
        "Global domain trust creation - Demo",
        "High risk software detected",
        "Maliciuos IP communication",
        "Modified system binary discovered in dump file 5bd767e4-2d08-4714-b744-aaed04b57107__391365252.hdmp",
        "Multiple Domain Accounts Queried",
        "Network communication with a malicious machine detected",
        "Palo Alto admin logged on via SSH - Demo",
        "Possible compromised machine detected",
        "Possible credential dumping detected",
        "Possible outgoing spam activity detected",
        "Potential SQL Injection",
        "Potential attempt to bypass AppLocker detected",
        "Random process name detected",
        "Ransomware indicators detected",
        "Rare SVCHOST service group executed",
        "SQL injection blocked",
        "Sticky keys attack detected",
        "Successful RDP brute force attack",
        "Suspected Kerberos Golden Ticket attack parameters observed",
        "Suspicious Account Added",
        "Suspicious Account Creation Detected",
        "Suspicious Powershell Activity Detected",
        "Suspicious SVCHOST process executed",
        "Suspicious Volume Shadow Copy Activity",
        "Suspicious WindowPosition registry value detected",
        "Suspicious double extension file executed",
        "Suspicious download using Certutil detected",
        "Suspicious powershell cmdlets executed",
        "Suspicious process executed",
        "Suspicious system process executed",
        "Suspiciously named process detected"
       ],
       "description": "Source: ",
       "index": 0,
       "layout": "IPY_MODEL_635deb7526a7473fb4942ca7e9fd6fa4",
       "style": "IPY_MODEL_619633a2a3a34c948b64d13d1c3c0176"
      }
     },
     "124196b3f80a402baa01e5f16642b631": {
      "model_module": "@jupyter-widgets/base",
      "model_module_version": "1.2.0",
      "model_name": "LayoutModel",
      "state": {
       "height": "200px",
       "width": "40%"
      }
     },
     "126cf63bfafb4773b75fe890c08638f3": {
      "model_module": "@jupyter-widgets/controls",
      "model_module_version": "1.5.0",
      "model_name": "HBoxModel",
      "state": {
       "children": [
        "IPY_MODEL_d4ddfbee67904f4cb434e9bd4baa9afb",
        "IPY_MODEL_33d63720474241b082d22fa8d82fe8fe",
        "IPY_MODEL_81266c6d7a294becbc39f2007d0652c0"
       ],
       "layout": "IPY_MODEL_d92a3e75ae2749ce95354aae0cde538d"
      }
     },
     "12c9c8517b2041bd9d520b1fb8e36476": {
      "model_module": "@jupyter-widgets/controls",
      "model_module_version": "1.5.0",
      "model_name": "ButtonModel",
      "state": {
       "description": "Add All ⇾",
       "layout": "IPY_MODEL_9a61f52fc4b44ffea5c76941e99ef6c1",
       "style": "IPY_MODEL_3120b06fdf5a4f9693fb5a1b39c469c9"
      }
     },
     "135195cf583b41d3b48447f7fdd0e59b": {
      "model_module": "@jupyter-widgets/controls",
      "model_module_version": "1.5.0",
      "model_name": "TextModel",
      "state": {
       "description": "Query end time (UTC) :  ",
       "layout": "IPY_MODEL_643781bb8b9a49cebf74dc5e1fdb6421",
       "style": "IPY_MODEL_67ea7e6faa094adb82314d3e4642af0e",
       "value": "2019-08-19 00:06:32.175073"
      }
     },
     "13dde555ef0b4193a35818d565e37c1f": {
      "model_module": "@jupyter-widgets/controls",
      "model_module_version": "1.5.0",
      "model_name": "IntRangeSliderModel",
      "state": {
       "_model_name": "IntRangeSliderModel",
       "_view_name": "IntRangeSliderView",
       "description": "Time Range (day):",
       "layout": "IPY_MODEL_fc5665a1f3944a118138e8698423f743",
       "max": 1,
       "min": -20,
       "style": "IPY_MODEL_337ba77abd2843c5a8353ebff9908b4b",
       "value": [
        -5,
        1
       ]
      }
     },
     "14683d8882ae4309a0db4322863c3651": {
      "model_module": "@jupyter-widgets/controls",
      "model_module_version": "1.5.0",
      "model_name": "DescriptionStyleModel",
      "state": {
       "description_width": ""
      }
     },
     "151f3dd0ace8420aa3217942cf5f0b3f": {
      "model_module": "@jupyter-widgets/controls",
      "model_module_version": "1.5.0",
      "model_name": "DescriptionStyleModel",
      "state": {
       "description_width": ""
      }
     },
     "154a1bcdcce74b2f80225f76ffc0f437": {
      "model_module": "@jupyter-widgets/controls",
      "model_module_version": "1.5.0",
      "model_name": "DescriptionStyleModel",
      "state": {
       "description_width": ""
      }
     },
     "15c06dfe8a854852a8abbd271b58caf6": {
      "model_module": "@jupyter-widgets/base",
      "model_module_version": "1.2.0",
      "model_name": "LayoutModel",
      "state": {}
     },
     "16be32a1f2614a8b8ca1f08e1f2a3df5": {
      "model_module": "@jupyter-widgets/controls",
      "model_module_version": "1.5.0",
      "model_name": "ButtonStyleModel",
      "state": {}
     },
     "16c2c6e5646c4910afa7632b405fa431": {
      "model_module": "@jupyter-widgets/controls",
      "model_module_version": "1.5.0",
      "model_name": "ButtonModel",
      "state": {
       "description": "Add ⇾",
       "layout": "IPY_MODEL_fbdfe45f5d5141a9a4e441c2ec8ae83e",
       "style": "IPY_MODEL_5a0634ac45714ce1ad9321ba70d8b2f9"
      }
     },
     "16c4539db666437c9b80b483de6865cd": {
      "model_module": "@jupyter-widgets/output",
      "model_module_version": "1.0.0",
      "model_name": "OutputModel",
      "state": {
       "layout": "IPY_MODEL_1f60d74444ff4696847b8760ad4f0605"
      }
     },
     "17272ddb13bc450c9216301088d90555": {
      "model_module": "@jupyter-widgets/base",
      "model_module_version": "1.2.0",
      "model_name": "LayoutModel",
      "state": {
       "width": "50%"
      }
     },
     "174a61f3146744c48c27a8b066ac00b7": {
      "model_module": "@jupyter-widgets/base",
      "model_module_version": "1.2.0",
      "model_name": "LayoutModel",
      "state": {}
     },
     "179bf3d81526443db591b0e22d6d9089": {
      "model_module": "@jupyter-widgets/base",
      "model_module_version": "1.2.0",
      "model_name": "LayoutModel",
      "state": {}
     },
     "183e05a344314f5595b6943d224d946d": {
      "model_module": "@jupyter-widgets/controls",
      "model_module_version": "1.5.0",
      "model_name": "ButtonModel",
      "state": {
       "description": "Add All ⇾",
       "layout": "IPY_MODEL_6b4ce08c0752445f91890e900fc728c0",
       "style": "IPY_MODEL_ad7f6359f86f47cea3fbbc67b1a2b0a0"
      }
     },
     "194304d0f3e846e0a0908418b851ee0d": {
      "model_module": "@jupyter-widgets/controls",
      "model_module_version": "1.5.0",
      "model_name": "DescriptionStyleModel",
      "state": {
       "description_width": "initial"
      }
     },
     "194f5ad4ef6c4063b547319c1e917634": {
      "model_module": "@jupyter-widgets/base",
      "model_module_version": "1.2.0",
      "model_name": "LayoutModel",
      "state": {}
     },
     "19d3fcd56a844f648c30c7dc0bfd8c1a": {
      "model_module": "@jupyter-widgets/controls",
      "model_module_version": "1.5.0",
      "model_name": "VBoxModel",
      "state": {
       "children": [
        "IPY_MODEL_226ac47e15924821885702e4ff74bc1e",
        "IPY_MODEL_f7e466cdb3694ceba2457e22919e29d3",
        "IPY_MODEL_a72934c7e4a04abbbfb353c2dd28dd4e"
       ],
       "layout": "IPY_MODEL_58728492253b4c048d40e656e4ee1316"
      }
     },
     "1a103da3dd9147e9a6b74faf493fa0e7": {
      "model_module": "@jupyter-widgets/base",
      "model_module_version": "1.2.0",
      "model_name": "LayoutModel",
      "state": {}
     },
     "1a76a625244a4a5fbfc7bce8e69ad9ae": {
      "model_module": "@jupyter-widgets/controls",
      "model_module_version": "1.5.0",
      "model_name": "DescriptionStyleModel",
      "state": {
       "description_width": "initial"
      }
     },
     "1a83cfd4ef84418e811c7bbfaa9f95ae": {
      "model_module": "@jupyter-widgets/base",
      "model_module_version": "1.2.0",
      "model_name": "LayoutModel",
      "state": {
       "height": "300px",
       "width": "95%"
      }
     },
     "1a9b451c9833428b8baec8a185b72b06": {
      "model_module": "@jupyter-widgets/base",
      "model_module_version": "1.2.0",
      "model_name": "LayoutModel",
      "state": {
       "height": "200px",
       "width": "40%"
      }
     },
     "1aa6054a8f8a4064bd71de5b1c4dcb4b": {
      "model_module": "@jupyter-widgets/controls",
      "model_module_version": "1.5.0",
      "model_name": "HBoxModel",
      "state": {
       "children": [
        "IPY_MODEL_712366ee00764197864501a5182e00b1",
        "IPY_MODEL_c256117ab2e34d268dbfea36a06c6c6f"
       ],
       "layout": "IPY_MODEL_967002d04cdf4bd1a56df3aee0e9b2b9"
      }
     },
     "1b26345924c947f0839425514e67ddb6": {
      "model_module": "@jupyter-widgets/controls",
      "model_module_version": "1.5.0",
      "model_name": "ButtonModel",
      "state": {
       "description": "Add All ⇾",
       "layout": "IPY_MODEL_ce48b8ff2e9445309a2f0a1dd69d8163",
       "style": "IPY_MODEL_e746a54987404531824ae56d4ebd3e86"
      }
     },
     "1ba8590b363c48fb982aea81a2b5d2e9": {
      "model_module": "@jupyter-widgets/controls",
      "model_module_version": "1.5.0",
      "model_name": "HBoxModel",
      "state": {
       "children": [
        "IPY_MODEL_ac74027fa5b64a3988ca1999a9763b96",
        "IPY_MODEL_aaf330c5244749daa7e107180da4b502"
       ],
       "layout": "IPY_MODEL_b5870c59c3194ab5b3364362f91e4905"
      }
     },
     "1c187af170fd4884b37057a478df88ab": {
      "model_module": "@jupyter-widgets/controls",
      "model_module_version": "1.5.0",
      "model_name": "IntRangeSliderModel",
      "state": {
       "_model_name": "IntRangeSliderModel",
       "_view_name": "IntRangeSliderView",
       "description": "Time Range (hour):",
       "layout": "IPY_MODEL_f5d6a5e7e914465aa5b21a27c1269de1",
       "max": 1,
       "min": -20,
       "style": "IPY_MODEL_0f5ea8b479464122825513e7f4bebccd",
       "value": [
        -1,
        1
       ]
      }
     },
     "1c69131470a445428020f91cc8a418d6": {
      "model_module": "@jupyter-widgets/controls",
      "model_module_version": "1.5.0",
      "model_name": "SliderStyleModel",
      "state": {
       "description_width": "initial"
      }
     },
     "1e9791e9b6f94ab98aefafb338295cb0": {
      "model_module": "@jupyter-widgets/base",
      "model_module_version": "1.2.0",
      "model_name": "LayoutModel",
      "state": {}
     },
     "1ea6d3d6000e4a15a453c02ebf77612c": {
      "model_module": "@jupyter-widgets/controls",
      "model_module_version": "1.5.0",
      "model_name": "DescriptionStyleModel",
      "state": {
       "description_width": "initial"
      }
     },
     "1eb2ce646a87498ab538dcc39c20eec1": {
      "model_module": "@jupyter-widgets/controls",
      "model_module_version": "1.5.0",
      "model_name": "ButtonStyleModel",
      "state": {}
     },
     "1ed0fcf5265f417d9f4aaf7e41d00a1a": {
      "model_module": "@jupyter-widgets/base",
      "model_module_version": "1.2.0",
      "model_name": "LayoutModel",
      "state": {}
     },
     "1f60d74444ff4696847b8760ad4f0605": {
      "model_module": "@jupyter-widgets/base",
      "model_module_version": "1.2.0",
      "model_name": "LayoutModel",
      "state": {
       "border": "1px solid black"
      }
     },
     "1f6fd482e3ed4f008efbb3e214ba1470": {
      "model_module": "@jupyter-widgets/controls",
      "model_module_version": "1.5.0",
      "model_name": "SliderStyleModel",
      "state": {
       "description_width": "initial"
      }
     },
     "1f7fcd59887b47e494eca35b6e22002e": {
      "model_module": "@jupyter-widgets/base",
      "model_module_version": "1.2.0",
      "model_name": "LayoutModel",
      "state": {
       "height": "200px",
       "width": "40%"
      }
     },
     "20245298d4af4a00a2d2936c5962567a": {
      "model_module": "@jupyter-widgets/controls",
      "model_module_version": "1.5.0",
      "model_name": "ButtonModel",
      "state": {
       "description": "Add All ⇾",
       "layout": "IPY_MODEL_da589ecf1ac5406fa21e7c31a20ce11a",
       "style": "IPY_MODEL_a33a6db6c59f4aa3a2a4fc4427dccf42"
      }
     },
     "20a5e853ac494f73bdee464edde8e374": {
      "model_module": "@jupyter-widgets/base",
      "model_module_version": "1.2.0",
      "model_name": "LayoutModel",
      "state": {
       "width": "10%"
      }
     },
     "20c248946c7c486e918715e29c4bda73": {
      "model_module": "@jupyter-widgets/controls",
      "model_module_version": "1.5.0",
      "model_name": "ButtonStyleModel",
      "state": {}
     },
     "21050f48b43a48b6a5cc71577d0330fa": {
      "model_module": "@jupyter-widgets/base",
      "model_module_version": "1.2.0",
      "model_name": "LayoutModel",
      "state": {}
     },
     "2113bbc3b0e4443786fc54b508060fd3": {
      "model_module": "@jupyter-widgets/controls",
      "model_module_version": "1.5.0",
      "model_name": "SliderStyleModel",
      "state": {
       "description_width": "initial"
      }
     },
     "219404a5111e4af3b0128a9869797527": {
      "model_module": "@jupyter-widgets/base",
      "model_module_version": "1.2.0",
      "model_name": "LayoutModel",
      "state": {
       "height": "300px",
       "width": "95%"
      }
     },
     "21bfcf4455834867824f589bf1dfc6c3": {
      "model_module": "@jupyter-widgets/base",
      "model_module_version": "1.2.0",
      "model_name": "LayoutModel",
      "state": {}
     },
     "22364f23ea944674934c8b747b86e074": {
      "model_module": "@jupyter-widgets/base",
      "model_module_version": "1.2.0",
      "model_name": "LayoutModel",
      "state": {}
     },
     "2268f0b6aa604ffda544959545215a77": {
      "model_module": "@jupyter-widgets/controls",
      "model_module_version": "1.5.0",
      "model_name": "DescriptionStyleModel",
      "state": {
       "description_width": "initial"
      }
     },
     "226ac47e15924821885702e4ff74bc1e": {
      "model_module": "@jupyter-widgets/controls",
      "model_module_version": "1.5.0",
      "model_name": "TextModel",
      "state": {
       "description": "Filter alerts by title:",
       "layout": "IPY_MODEL_3f2b7a8c44d547808a52bb79acae11b0",
       "style": "IPY_MODEL_ad741f5827704f19a40c26a11e79550b"
      }
     },
     "226c06a7d29d491791edd15a81050dbc": {
      "model_module": "@jupyter-widgets/base",
      "model_module_version": "1.2.0",
      "model_name": "LayoutModel",
      "state": {}
     },
     "232bd767e8234dfd9000b96231c0945d": {
      "model_module": "@jupyter-widgets/controls",
      "model_module_version": "1.5.0",
      "model_name": "TextModel",
      "state": {
       "description": "Query end time (UTC) :  ",
       "layout": "IPY_MODEL_6019670db1ef47a3adce8bf04e35d849",
       "style": "IPY_MODEL_92d54d68f11048ddaaf1456e0c89d2aa",
       "value": "2019-09-03 23:36:59.410918"
      }
     },
     "23630d33c21043b6a4f40db20a6d200e": {
      "model_module": "@jupyter-widgets/controls",
      "model_module_version": "1.5.0",
      "model_name": "DescriptionStyleModel",
      "state": {
       "description_width": "initial"
      }
     },
     "237aa409f0ba46308bec77daaba19cd8": {
      "model_module": "@jupyter-widgets/output",
      "model_module_version": "1.0.0",
      "model_name": "OutputModel",
      "state": {
       "layout": "IPY_MODEL_a8b0ab35a1304d678ff5c25834d978fc",
       "outputs": [
        {
         "data": {
          "text/html": "\n            <h3>Alert: 'Detected decoding of an executable using built-in certutil.exe tool'</h3><br>time=<b>2019-01-15 05:15:11</b>,\n            entity=<b>MSTICALERTSWIN1</b>, id=<b>2518547714882331861_5c56421d-d894-4437-9b9a-a3b5c6b7e1df</b>\n            <br/>\n            <table border=\"1\" class=\"dataframe\">\n  <thead>\n    <tr style=\"text-align: right;\">\n      <th></th>\n      <th>84</th>\n    </tr>\n  </thead>\n  <tbody>\n    <tr>\n      <th>Unnamed: 0</th>\n      <td>84</td>\n    </tr>\n    <tr>\n      <th>TenantId</th>\n      <td>802d39e1-9d70-404d-832c-2de5e2478eda</td>\n    </tr>\n    <tr>\n      <th>StartTimeUtc</th>\n      <td>2019-01-15 05:15:11</td>\n    </tr>\n    <tr>\n      <th>EndTimeUtc</th>\n      <td>2019-01-15 05:15:11</td>\n    </tr>\n    <tr>\n      <th>ProviderAlertId</th>\n      <td>5c56421d-d894-4437-9b9a-a3b5c6b7e1df</td>\n    </tr>\n    <tr>\n      <th>SystemAlertId</th>\n      <td>2518547714882331861_5c56421d-d894-4437-9b9a-a3b5c6b7e1df</td>\n    </tr>\n    <tr>\n      <th>ProviderName</th>\n      <td>Detection</td>\n    </tr>\n    <tr>\n      <th>VendorName</th>\n      <td>Microsoft</td>\n    </tr>\n    <tr>\n      <th>AlertType</th>\n      <td>Detected decoding of an executable using built-in certutil.exe tool</td>\n    </tr>\n    <tr>\n      <th>AlertName</th>\n      <td>Detected decoding of an executable using built-in certutil.exe tool</td>\n    </tr>\n    <tr>\n      <th>AlertDisplayName</th>\n      <td>Detected decoding of an executable using built-in certutil.exe tool</td>\n    </tr>\n    <tr>\n      <th>Description</th>\n      <td>Analysis of host data on MSTICALERTSWIN1 detected that certutil.exe, a built-in administrator utility, was being used to decode an executable instead of its mainstream purpose that relates to manipulating certificates and certificate data. Attackers are known to abuse functionality of legitimate administrator tools to perform malicious actions, for example using a tool such as certutil.exe to decode a malicious executable that will then be subsequently executed.</td>\n    </tr>\n    <tr>\n      <th>Severity</th>\n      <td>High</td>\n    </tr>\n    <tr>\n      <th>IsIncident</th>\n      <td>False</td>\n    </tr>\n    <tr>\n      <th>ExtendedProperties</th>\n      <td>{'Compromised Host': 'MSTICALERTSWIN1', 'User Name': 'MSTICALERTSWIN1\\MSTICAdmin', 'Account Session Id': '0xfaac27', 'Suspicious Process': 'c:\\diagnostics\\usertmp\\certutil.exe', 'Suspicious Command Line': 'certutil  -decode delme.b64 implant.exe', 'Parent Process': 'c:\\windows\\system32\\cmd.exe', 'Suspicious Process Id': '0xa08', 'resourceType': 'Virtual Machine', 'ServiceId': '14fa08c7-c48e-4c18-950c-8148024b4398', 'ReportingSystem': 'Azure', 'OccuringDatacenter': 'eastus'}</td>\n    </tr>\n    <tr>\n      <th>Entities</th>\n      <td>[{'$id': '4', 'DnsDomain': '', 'NTDomain': '', 'HostName': 'MSTICALERTSWIN1', 'NetBiosName': 'MSTICALERTSWIN1', 'OSFamily': 'Windows', 'OSVersion': 'Windows', 'IsDomainJoined': False, 'Type': 'host'}, {'$id': '5', 'Directory': 'c:\\windows\\system32', 'Name': 'cmd.exe', 'Type': 'file'}, {'$id': '6', 'ProcessId': '0xbc8', 'CommandLine': '', 'ImageFile': {'$ref': '5'}, 'Host': {'$ref': '4'}, 'Type': 'process'}, {'$id': '7', 'Name': 'MSTICAdmin', 'NTDomain': 'MSTICAlertsWin1', 'Host': {'$ref': '4'}, 'Sid': 'S-1-5-21-996632719-2361334927-4038480536-500', 'IsDomainJoined': False, 'Type': 'account', 'LogonId': '0xfaac27'}, {'$id': '8', 'Directory': 'c:\\diagnostics\\usertmp', 'Name': 'certutil.exe', 'Type': 'file'}, {'$id': '9', 'ProcessId': '0xa08', 'CommandLine': 'certutil  -decode delme.b64 implant.exe', 'ElevationToken': 'Default', 'CreationTimeUtc': '2019-01-15T05:15:11.7668138Z', 'ImageFile': {'$ref': '8'}, 'Account': {'$ref': '7'}, 'ParentProcess': {'$ref': '6'}, 'Host': {'$ref': '4'}, 'Type': 'process'}, {'$id': '10', 'SessionId': '0xfaac27', 'StartTimeUtc': '2019-01-15T05:15:11.7668138Z', 'EndTimeUtc': '2019-01-15T05:15:11.7668138Z', 'Type': 'host-logon-session', 'Host': {'$ref': '4'}, 'Account': {'$ref': '7'}}]</td>\n    </tr>\n    <tr>\n      <th>ConfidenceLevel</th>\n      <td>Unknown</td>\n    </tr>\n    <tr>\n      <th>ConfidenceScore</th>\n      <td>NaN</td>\n    </tr>\n    <tr>\n      <th>ExtendedLinks</th>\n      <td>NaN</td>\n    </tr>\n    <tr>\n      <th>WorkspaceSubscriptionId</th>\n      <td>3c1bb38c-82e3-4f8d-a115-a7110ba70d05</td>\n    </tr>\n    <tr>\n      <th>WorkspaceResourceGroup</th>\n      <td>contoso77</td>\n    </tr>\n    <tr>\n      <th>TimeGenerated</th>\n      <td>2019-01-15 05:15:14</td>\n    </tr>\n    <tr>\n      <th>ResourceId</th>\n      <td>/subscriptions/40dcc8bf-0478-4f3b-b275-ed0a94f2c013/resourceGroups/ASIHuntOMSWorkspaceRG/providers/Microsoft.Compute/virtualMachines/MSTICAlertsWin1</td>\n    </tr>\n    <tr>\n      <th>SourceComputerId</th>\n      <td>46fe7078-61bb-4bed-9430-7ac01d91c273</td>\n    </tr>\n    <tr>\n      <th>CompromisedEntity</th>\n      <td>MSTICALERTSWIN1</td>\n    </tr>\n  </tbody>\n</table><br/><h3>ExtendedProperties:</h3><table border=\"1\" class=\"dataframe\">\n  <thead>\n    <tr style=\"text-align: right;\">\n      <th></th>\n      <th>0</th>\n    </tr>\n  </thead>\n  <tbody>\n    <tr>\n      <th>Compromised Host</th>\n      <td>MSTICALERTSWIN1</td>\n    </tr>\n    <tr>\n      <th>User Name</th>\n      <td>MSTICALERTSWIN1\\MSTICAdmin</td>\n    </tr>\n    <tr>\n      <th>Account Session Id</th>\n      <td>0xfaac27</td>\n    </tr>\n    <tr>\n      <th>Suspicious Process</th>\n      <td>c:\\diagnostics\\usertmp\\certutil.exe</td>\n    </tr>\n    <tr>\n      <th>Suspicious Command Line</th>\n      <td>certutil  -decode delme.b64 implant.exe</td>\n    </tr>\n    <tr>\n      <th>Parent Process</th>\n      <td>c:\\windows\\system32\\cmd.exe</td>\n    </tr>\n    <tr>\n      <th>Suspicious Process Id</th>\n      <td>0xa08</td>\n    </tr>\n    <tr>\n      <th>resourceType</th>\n      <td>Virtual Machine</td>\n    </tr>\n    <tr>\n      <th>ServiceId</th>\n      <td>14fa08c7-c48e-4c18-950c-8148024b4398</td>\n    </tr>\n    <tr>\n      <th>ReportingSystem</th>\n      <td>Azure</td>\n    </tr>\n    <tr>\n      <th>OccuringDatacenter</th>\n      <td>eastus</td>\n    </tr>\n  </tbody>\n</table><h3>Entity counts: </h3>host: 1, file: 2, process: 2, account: 1, hostlogonsession: 1",
          "text/plain": "<IPython.core.display.HTML object>"
         },
         "metadata": {},
         "output_type": "display_data"
        },
        {
         "name": "stdout",
         "output_type": "stream",
         "text": "{ 'HostName': 'MSTICALERTSWIN1',\n  'NetBiosName': 'MSTICALERTSWIN1',\n  'OSFamily': 'Windows',\n  'Type': 'host'}\n{ 'Directory': 'c:\\\\windows\\\\system32',\n  'FullPath': 'c:\\\\windows\\\\system32\\\\cmd.exe',\n  'Name': 'cmd.exe',\n  'Type': 'file'}\n{ 'Host': { 'HostName': 'MSTICALERTSWIN1',\n            'NetBiosName': 'MSTICALERTSWIN1',\n            'OSFamily': 'Windows',\n            'Type': 'host'},\n  'ImageFile': { 'Directory': 'c:\\\\windows\\\\system32',\n                 'FullPath': 'c:\\\\windows\\\\system32\\\\cmd.exe',\n                 'Name': 'cmd.exe',\n                 'Type': 'file'},\n  'ProcessId': '0xbc8',\n  'Type': 'process'}\n{ 'Host': { 'HostName': 'MSTICALERTSWIN1',\n            'NetBiosName': 'MSTICALERTSWIN1',\n            'OSFamily': 'Windows',\n            'Type': 'host'},\n  'LogonId': '0xfaac27',\n  'NTDomain': 'MSTICAlertsWin1',\n  'Name': 'MSTICAdmin',\n  'Sid': 'S-1-5-21-996632719-2361334927-4038480536-500',\n  'Type': 'account'}\n{ 'Directory': 'c:\\\\diagnostics\\\\usertmp',\n  'FullPath': 'c:\\\\diagnostics\\\\usertmp\\\\certutil.exe',\n  'Name': 'certutil.exe',\n  'Type': 'file'}\n{ 'Account': { 'Host': { 'HostName': 'MSTICALERTSWIN1',\n                         'NetBiosName': 'MSTICALERTSWIN1',\n                         'OSFamily': 'Windows',\n                         'Type': 'host'},\n               'LogonId': '0xfaac27',\n               'NTDomain': 'MSTICAlertsWin1',\n               'Name': 'MSTICAdmin',\n               'Sid': 'S-1-5-21-996632719-2361334927-4038480536-500',\n               'Type': 'account'},\n  'CommandLine': 'certutil  -decode delme.b64 implant.exe',\n  'CreationTimeUtc': '2019-01-15T05:15:11.7668138Z',\n  'ElevationToken': 'Default',\n  'Host': { 'HostName': 'MSTICALERTSWIN1',\n            'NetBiosName': 'MSTICALERTSWIN1',\n            'OSFamily': 'Windows',\n            'Type': 'host'},\n  'ImageFile': { 'Directory': 'c:\\\\diagnostics\\\\usertmp',\n                 'FullPath': 'c:\\\\diagnostics\\\\usertmp\\\\certutil.exe',\n                 'Name': 'certutil.exe',\n                 'Type': 'file'},\n  'ParentProcess': { 'Host': { 'HostName': 'MSTICALERTSWIN1',\n                               'NetBiosName': 'MSTICALERTSWIN1',\n                               'OSFamily': 'Windows',\n                               'Type': 'host'},\n                     'ImageFile': { 'Directory': 'c:\\\\windows\\\\system32',\n                                    'FullPath': 'c:\\\\windows\\\\system32\\\\cmd.exe',\n                                    'Name': 'cmd.exe',\n                                    'Type': 'file'},\n                     'ProcessId': '0xbc8',\n                     'Type': 'process'},\n  'ProcessId': '0xa08',\n  'Type': 'process'}\n{ 'Account': { 'Host': { 'HostName': 'MSTICALERTSWIN1',\n                         'NetBiosName': 'MSTICALERTSWIN1',\n                         'OSFamily': 'Windows',\n                         'Type': 'host'},\n               'LogonId': '0xfaac27',\n               'NTDomain': 'MSTICAlertsWin1',\n               'Name': 'MSTICAdmin',\n               'Sid': 'S-1-5-21-996632719-2361334927-4038480536-500',\n               'Type': 'account'},\n  'EndTimeUtc': '2019-01-15T05:15:11.7668138Z',\n  'Host': { 'HostName': 'MSTICALERTSWIN1',\n            'NetBiosName': 'MSTICALERTSWIN1',\n            'OSFamily': 'Windows',\n            'Type': 'host'},\n  'SessionId': '0xfaac27',\n  'StartTimeUtc': '2019-01-15T05:15:11.7668138Z',\n  'Type': 'hostlogonsession'}\n"
        }
       ]
      }
     },
     "24b08516fef14363af12c3dc8b4ff7d7": {
      "model_module": "@jupyter-widgets/controls",
      "model_module_version": "1.5.0",
      "model_name": "HTMLModel",
      "state": {
       "layout": "IPY_MODEL_98323309a93c4638a0881679f111445a",
       "style": "IPY_MODEL_79eb769c67f04fb190f444c51a10056f",
       "value": "<h4>Set query time boundaries</h4>"
      }
     },
     "24b638d90a1c401b893f8583a319e0bb": {
      "model_module": "@jupyter-widgets/base",
      "model_module_version": "1.2.0",
      "model_name": "LayoutModel",
      "state": {}
     },
     "250b3da4e4a24bc4be8a317a6cfdb763": {
      "model_module": "@jupyter-widgets/controls",
      "model_module_version": "1.5.0",
      "model_name": "ButtonStyleModel",
      "state": {}
     },
     "25812b22671045fcaddb9535ba756b34": {
      "model_module": "@jupyter-widgets/controls",
      "model_module_version": "1.5.0",
      "model_name": "SelectModel",
      "state": {
       "_options_labels": [
        "An event log was cleared",
        "Anomalous account creation detected",
        "Azure Security Center test alert (not a threat)",
        "DC local group addition - Demo",
        "DC with MS AM engine failure - Demo",
        "Deep Security Agent detected a malware",
        "Detected Petya ransomware indicators",
        "Detected actions indicative of disabling and deleting IIS log files.",
        "Detected anomalous mix of upper and lower case characters in command-line",
        "Detected change to a registry key that can be abused to bypass UAC",
        "Detected decoding of an executable using built-in certutil.exe tool",
        "Detected encoded executable in command line data",
        "Detected obfuscated command line.",
        "Detected possible execution of keygen executable",
        "Detected possible execution of malware dropper",
        "Detected possible local reconnaissance activity",
        "Detected potentially suspicious use of Telegram tool",
        "Detected suspicious Set-ExecutionPolicy and WinRM changes",
        "Detected suspicious commandline arguments",
        "Detected suspicious commandline used to start all executables in a directory",
        "Detected suspicious credentials in commandline",
        "Detected suspicious document credentials",
        "Detected suspicious execution of VBScript.Encode command",
        "Detected suspicious execution via rundll32.exe",
        "Detected suspicious file cleanup commands",
        "Detected suspicious file creation",
        "Detected suspicious named pipe communications",
        "Detected suspicious new firewall rule",
        "Detected suspicious use of Cacls to lower the security state of the system.",
        "Detected suspicious use of FTP -s Switch",
        "Detected suspicious use of Pcalua.exe to launch executable code",
        "Detected the disabling of critical services",
        "Digital currency mining related behavior detected",
        "Executable found running from a suspicious location",
        "Failed RDP Brute Force Attack",
        "Global domain trust creation - Demo",
        "High risk software detected",
        "Maliciuos IP communication",
        "Modified system binary discovered in dump file 5bd767e4-2d08-4714-b744-aaed04b57107__391365252.hdmp",
        "Multiple Domain Accounts Queried",
        "Network communication with a malicious machine detected",
        "Palo Alto admin logged on via SSH - Demo",
        "Possible compromised machine detected",
        "Possible credential dumping detected",
        "Possible outgoing spam activity detected",
        "Potential SQL Injection",
        "Potential attempt to bypass AppLocker detected",
        "Random process name detected",
        "Ransomware indicators detected",
        "Rare SVCHOST service group executed",
        "SQL injection blocked",
        "Sticky keys attack detected",
        "Successful RDP brute force attack",
        "Suspected Kerberos Golden Ticket attack parameters observed",
        "Suspicious Account Added",
        "Suspicious Account Creation Detected",
        "Suspicious Powershell Activity Detected",
        "Suspicious SVCHOST process executed",
        "Suspicious Volume Shadow Copy Activity",
        "Suspicious WindowPosition registry value detected",
        "Suspicious double extension file executed",
        "Suspicious download using Certutil detected",
        "Suspicious powershell cmdlets executed",
        "Suspicious process executed",
        "Suspicious system process executed",
        "Suspiciously named process detected"
       ],
       "description": "Source: ",
       "index": 11,
       "layout": "IPY_MODEL_c4b47717bd7d4e6590153614361b95ea",
       "style": "IPY_MODEL_a98636b7170e4cfe8b263cf804697efe"
      }
     },
     "25bace08474945b8b17e089c15d117b8": {
      "model_module": "@jupyter-widgets/controls",
      "model_module_version": "1.5.0",
      "model_name": "TextModel",
      "state": {
       "description": "Query end time (UTC) :  ",
       "layout": "IPY_MODEL_fdafe72f9cfc449cb47a49fa786634b9",
       "style": "IPY_MODEL_aabac5306adf428890963356ae99b75f",
       "value": "2019-09-03 00:37:03.860216"
      }
     },
     "25ed172a7a4e4f4e983ec8bf44faae01": {
      "model_module": "@jupyter-widgets/controls",
      "model_module_version": "1.5.0",
      "model_name": "SelectModel",
      "state": {
       "_options_labels": [
        "2018-12-30 00:02:00  Network communication with a malicious machine detected (nan) [id:a511e1bb-69e1-41a2-8054-c6fcb6aa2362]",
        "2019-01-01 00:02:00  Possible compromised machine detected (nan) [id:62ded865-938b-4bb3-afef-605d692607f1]",
        "2019-01-01 00:02:00  An event log was cleared (nan) [id:48facfa1-fe35-45ff-8c91-7a710cd462b9]",
        "2019-01-03 00:02:00  Suspicious process executed (nan) [id:a32adc3f-43f7-4e5d-b833-98baa71c2f51]",
        "2019-01-03 00:02:00  Suspicious double extension file executed (nan) [id:112dc225-bc2d-4328-97fd-a99e0b000b1f]",
        "2019-01-05 01:02:00  SQL injection blocked (nan) [id:0c68e539-f060-401f-b967-6b64b8f49198]",
        "2019-01-05 02:02:00  Failed RDP Brute Force Attack (nan) [id:8832e816-d634-4214-bb48-7a6678fdf0b7]",
        "2019-01-06 02:02:00  Successful RDP brute force attack (nan) [id:3b2b5ecc-ec29-4703-9450-29b29b937fd8]",
        "2019-01-06 03:02:00  Suspicious SVCHOST process executed (nan) [id:614ae18e-cd79-4d4c-97dc-24431be12b5b]",
        "2019-01-06 04:02:00  Multiple Domain Accounts Queried (vm1) [id:7b27ffab-7204-4856-a013-908de6c1804e]",
        "2019-01-06 05:02:00  Network communication with a malicious machine detected (nan) [id:98a6dea6-1b64-41d0-938e-0dec24b234ec]",
        "2019-01-07 05:02:00  Modified system binary discovered in dump file 5bd767e4-2d08-4714-b744-aaed04b57107__391365252.hdmp (nan) [id:775505ce-0ef9-4945-b697-303f7666d1b6]",
        "2019-01-08 05:02:00  Possible outgoing spam activity detected (vm1lin) [id:28f9b83a-33e6-44da-a002-0f48bff46a67]",
        "2019-01-09 05:02:00  Deep Security Agent detected a malware (nan) [id:5fc4f6a0-0687-4b93-998e-a230af39c10b]",
        "2019-01-09 05:38:06  Global domain trust creation - Demo (nan) [id:9740fe80-b642-4a38-8e86-05fa4d35508b]",
        "2019-01-09 06:25:57  Maliciuos IP communication (nan) [id:04e14d6f-6d4f-46d4-a5f6-2a26bcd34ce8]",
        "2019-01-09 06:31:40  DC local group addition - Demo (nan) [id:ace7fb98-ef96-46df-ba7b-9a15a141d368]",
        "2019-01-09 06:31:42  Palo Alto admin logged on via SSH - Demo (nan) [id:40a5916b-9697-423a-a5e4-95cca7c735e7]",
        "2019-01-09 06:33:55  DC with MS AM engine failure - Demo (nan) [id:78cc7e02-6116-459d-9cdc-a6dcc40ba937]",
        "2019-01-10 05:02:00  Potential SQL Injection (nan) [id:5365ee7a-f730-42d2-bcdf-b2e898ab98d7]",
        "2019-01-10 05:38:06  Global domain trust creation - Demo (nan) [id:401f2680-cc05-4e6f-a1f6-69cff2055cd9]",
        "2019-01-10 06:25:57  Maliciuos IP communication (nan) [id:b5786d68-7f5e-4be1-92e6-e255010d1d8c]",
        "2019-01-10 06:31:40  DC local group addition - Demo (nan) [id:01659bf1-1228-4e46-b73b-e7d173d365eb]",
        "2019-01-10 06:31:42  Palo Alto admin logged on via SSH - Demo (nan) [id:0ce6ad61-302a-4142-8eaa-4da9dfad9ca9]",
        "2019-01-10 06:33:55  DC with MS AM engine failure - Demo (nan) [id:df9f92cb-6fd2-469b-9b72-28f128df1adf]",
        "2019-01-10 19:18:10  Suspicious Account Added (nan) [id:b3f02c05-e844-4161-81d6-d736548d91ae]",
        "2019-01-11 05:38:06  Global domain trust creation - Demo (nan) [id:6b56aa8c-da76-4caf-b09d-8706292a8b89]",
        "2019-01-11 06:25:57  Maliciuos IP communication (nan) [id:4586bd9e-5c1e-4229-9a01-ecd84ad51448]",
        "2019-01-11 06:31:40  DC local group addition - Demo (nan) [id:047f47d6-79b7-4502-824b-97abc4905a73]",
        "2019-01-11 06:31:42  Palo Alto admin logged on via SSH - Demo (nan) [id:2d06cb42-bdff-426d-8091-ccc151bcbc94]",
        "2019-01-11 06:33:55  DC with MS AM engine failure - Demo (nan) [id:412ca580-63c8-4fd2-87e4-87b1ba4260b3]",
        "2019-01-11 19:18:10  Suspicious Account Added (nan) [id:42a8b425-1c41-4355-8343-18ad563c43b6]",
        "2019-01-12 05:38:06  Global domain trust creation - Demo (nan) [id:bc44b302-78c7-4be8-bf70-d39d6935fd74]",
        "2019-01-12 06:25:57  Maliciuos IP communication (nan) [id:c76f17e2-e739-4e7e-bf17-4dd163fc831f]",
        "2019-01-12 06:31:40  DC local group addition - Demo (nan) [id:07be11df-3dbf-49a5-8b5a-dcea75d89993]",
        "2019-01-12 06:31:42  Palo Alto admin logged on via SSH - Demo (nan) [id:09ec519f-96b0-4332-be30-b0379c8cbd04]",
        "2019-01-12 06:33:55  DC with MS AM engine failure - Demo (nan) [id:6a7aaa2e-a575-4e8b-87ed-0d964bf1005e]",
        "2019-01-12 19:18:10  Suspicious Account Added (nan) [id:d4638075-fed2-4031-8e52-d37c220b0fe4]",
        "2019-01-13 05:38:06  Global domain trust creation - Demo (nan) [id:5d733fc8-ff32-436d-a595-beaf8943bd63]",
        "2019-01-13 06:25:57  Maliciuos IP communication (nan) [id:54a8f6d8-f69b-4872-96f8-ef274d5fc8d4]",
        "2019-01-13 06:31:40  DC local group addition - Demo (nan) [id:47445dca-b87d-45f5-9073-b713e3c69a56]",
        "2019-01-13 06:31:42  Palo Alto admin logged on via SSH - Demo (nan) [id:45176796-d3f9-40ce-a8f2-aba9bb3c8063]",
        "2019-01-13 06:33:55  DC with MS AM engine failure - Demo (nan) [id:985be534-6f40-4b0c-a951-8f3915eacd61]",
        "2019-01-13 19:18:10  Suspicious Account Added (nan) [id:790217fc-9597-4159-b469-bb383c747435]",
        "2019-01-14 05:38:06  Global domain trust creation - Demo (nan) [id:fbaf48de-152a-4aa6-8a69-902b219bf972]",
        "2019-01-14 06:25:57  Maliciuos IP communication (nan) [id:1828afac-b4c2-41d9-acbd-7d23b7219557]",
        "2019-01-14 06:31:40  DC local group addition - Demo (nan) [id:b34d24c9-2223-4887-af93-7598abf28763]",
        "2019-01-14 06:31:42  Palo Alto admin logged on via SSH - Demo (nan) [id:9442245d-eaf6-47c5-b715-1c16b2c54fc4]",
        "2019-01-14 06:33:55  DC with MS AM engine failure - Demo (nan) [id:edc4065d-886f-4aff-b17d-f1397ce4baec]",
        "2019-01-14 21:18:10  Suspicious Account Added (nan) [id:1cca38a9-e0c5-4165-a78d-491ca2641c1c]",
        "2019-01-15 05:15:03  Suspicious Account Creation Detected (MSTICALERTSWIN1) [id:2518547714966107270_3c380601-b5ad-4fff-9cdb-24528a3a19fd]",
        "2019-01-15 05:15:03  Anomalous account creation detected (nan) [id:2518547714966107270_90beedae-1285-43d6-8f33-16bc542af39b]",
        "2019-01-15 05:15:10  Potential attempt to bypass AppLocker detected (MSTICALERTSWIN1) [id:2518547714892475358_9e449abd-e67b-4ec8-a191-e688d7d63e26]",
        "2019-01-15 05:15:11  Detected decoding of an executable using built-in certutil.exe tool (MSTICALERTSWIN1) [id:2518547714882331861_5c56421d-d894-4437-9b9a-a3b5c6b7e1df]",
        "2019-01-15 05:15:11  Detected suspicious credentials in commandline (MSTICALERTSWIN1) [id:2518547714880519889_9d6d471a-c94f-4706-b0ff-b2f0301495aa]",
        "2019-01-15 05:15:11  Digital currency mining related behavior detected (MSTICALERTSWIN1) [id:2518547714887413669_4fa0022e-f431-4ba1-ae5f-ee23247e0853]",
        "2019-01-15 05:15:11  Suspiciously named process detected (MSTICALERTSWIN1) [id:2518547714887413669_1c680842-2a1d-40c0-a6e4-32e5dd144647]",
        "2019-01-15 05:15:11  Detected encoded executable in command line data (MSTICALERTSWIN1) [id:2518547714885867955_290559aa-a3d0-425b-8ed2-e98ccc9f0aa0]",
        "2019-01-15 05:15:12  Detected suspicious commandline arguments (MSTICALERTSWIN1) [id:2518547714879317674_226cc394-fccf-483d-888a-beafad2ed4a4]",
        "2019-01-15 05:15:12  Detected suspicious document credentials (MSTICALERTSWIN1) [id:2518547714879970078_b080127b-d5c1-425e-a7ca-e4bbd873009d]",
        "2019-01-15 05:15:12  Detected obfuscated command line. (MSTICALERTSWIN1) [id:2518547714871530079_77211491-86de-4295-82bc-38e332fe1112]",
        "2019-01-15 05:15:12  Suspicious powershell cmdlets executed (MSTICALERTSWIN1) [id:2518547714874872692_3eb0eb4b-0536-430c-8ab6-cd48524c14b1]",
        "2019-01-15 05:15:12  Suspicious Powershell Activity Detected (MSTICALERTSWIN1) [id:2518547714874872692_30d988ff-b8d9-45df-8217-e56b0d4d591c]",
        "2019-01-15 05:15:12  Suspicious Powershell Activity Detected (MSTICALERTSWIN1) [id:2518547714873290756_df1b9eb2-05c4-4f7c-8540-cbb18ec5c608]",
        "2019-01-15 05:15:12  Suspicious Powershell Activity Detected (MSTICALERTSWIN1) [id:2518547714876077067_953def48-a24b-42a9-bd02-7221be90f84a]",
        "2019-01-15 05:15:13  Suspicious Powershell Activity Detected (MSTICALERTSWIN1) [id:2518547714867787710_76336679-bddf-460f-90fb-35a1386de7a6]",
        "2019-01-15 05:15:14  Executable found running from a suspicious location (MSTICALERTSWIN1) [id:2518547714857061520_f4324711-aeae-4912-a634-331b7e7456b6]",
        "2019-01-15 05:15:14  Suspicious system process executed (nan) [id:2518547714857061520_28f9a2e6-1925-455e-ad97-7af7f92f521d]",
        "2019-01-15 05:15:14  Suspicious WindowPosition registry value detected (MSTICALERTSWIN1) [id:2518547714858429362_9bfd0e4b-ec93-46bb-8eea-f72e8f1262f1]",
        "2019-01-15 05:15:14  Suspicious process executed (MSTICALERTSWIN1) [id:2518547714854375707_e2a60bd1-d7c8-466d-a176-4333d4e0d1d5]",
        "2019-01-15 05:15:14  Detected suspicious named pipe communications (MSTICALERTSWIN1) [id:2518547714859677078_9b4e4942-d564-4755-862c-7171d52921e3]",
        "2019-01-15 05:15:14  Executable found running from a suspicious location (MSTICALERTSWIN1) [id:2518547714853062206_f9ddd8b3-5fa8-4f2f-b811-bdca90091195]",
        "2019-01-15 05:15:15  Detected change to a registry key that can be abused to bypass UAC (MSTICALERTSWIN1) [id:2518547714844291280_8f71e695-ba9b-4c97-9770-63cdeb34b7b4]",
        "2019-01-15 05:15:15  Detected anomalous mix of upper and lower case characters in command-line (MSTICALERTSWIN1) [id:2518547714844457503_55cd3e12-3a91-4b06-9be6-833df3365142]",
        "2019-01-15 05:15:15  Detected suspicious use of FTP -s Switch (MSTICALERTSWIN1) [id:2518547714843218505_265472ff-3820-4dad-8da7-00e39e1a99fd]",
        "2019-01-15 05:15:15  Sticky keys attack detected (MSTICALERTSWIN1) [id:2518547714843796759_b3737297-038c-4514-a957-d591384b4256]",
        "2019-01-15 05:15:15  Suspicious process executed (MSTICALERTSWIN1) [id:2518547714842732992_ad5981a5-fdcc-406a-8742-e50bd7f84917]",
        "2019-01-15 05:15:16  Detected suspicious new firewall rule (MSTICALERTSWIN1) [id:2518547714839319574_33edaa83-fe35-47de-9486-fc9792c5b65b]",
        "2019-01-15 05:15:16  Detected suspicious execution via rundll32.exe (MSTICALERTSWIN1) [id:2518547714834806864_4bb2ecc3-f4aa-40cd-a3d7-802fc9086e89]",
        "2019-01-15 05:15:16  Detected suspicious execution via rundll32.exe (MSTICALERTSWIN1) [id:2518547714835690929_8e73946b-ebea-4625-aa60-d97b82dcfb07]",
        "2019-01-15 05:15:16  Detected possible local reconnaissance activity (MSTICALERTSWIN1) [id:2518547714837217151_f0d023fb-376f-46ab-9976-a5825d826bea]",
        "2019-01-15 05:15:16  Detected suspicious Set-ExecutionPolicy and WinRM changes (MSTICALERTSWIN1) [id:2518547714832788202_b56b9e61-fefb-47a3-a34f-7c1b44f8268a]",
        "2019-01-15 05:15:16  Detected suspicious commandline used to start all executables in a directory (MSTICALERTSWIN1) [id:2518547714833232927_0e8db234-9727-41f3-a6e0-0773519603d2]",
        "2019-01-15 05:15:16  Detected potentially suspicious use of Telegram tool (MSTICALERTSWIN1) [id:2518547714833859291_4fa26308-1daf-49ee-8880-b194f950d8b0]",
        "2019-01-15 05:15:16  Suspected Kerberos Golden Ticket attack parameters observed (MSTICALERTSWIN1) [id:2518547714838326136_e776fca2-4c01-43eb-ab97-b9845af3529c]",
        "2019-01-15 05:15:16  Detected actions indicative of disabling and deleting IIS log files. (MSTICALERTSWIN1) [id:2518547714831067013_8df27789-fb10-4035-ac48-cd0883b2e6b0]",
        "2019-01-15 05:15:17  Azure Security Center test alert (not a threat) (MSTICALERTSWIN1) [id:2518547714824290520_b2d9be9f-58e2-4174-8658-419670393253]",
        "2019-01-15 05:15:17  Suspicious SVCHOST process executed (nan) [id:2518547714825902697_fcbb6bb7-4c7c-488e-903c-f625e98db7c4]",
        "2019-01-15 05:15:17  Random process name detected (MSTICALERTSWIN1) [id:2518547714829244584_9984a237-2dd7-4932-bb8d-23ca535a6254]",
        "2019-01-15 05:15:17  Rare SVCHOST service group executed (nan) [id:2518547714825070946_58694b54-2bee-4160-9595-30903b466f6e]",
        "2019-01-15 05:15:17  Suspicious double extension file executed (nan) [id:2518547714828736209_2b2ff728-1a2a-46e8-a49a-6991e074a740]",
        "2019-01-15 05:15:17  Suspicious Volume Shadow Copy Activity (nan) [id:2518547714828638992_6c6836bb-23cd-4b31-b78e-08360c5a4f83]",
        "2019-01-15 05:15:18  Detected suspicious execution of VBScript.Encode command (MSTICALERTSWIN1) [id:2518547714811804858_5b42a152-64c2-4f16-8cc3-887b8b0161fc]",
        "2019-01-15 05:15:18  Detected suspicious file cleanup commands (MSTICALERTSWIN1) [id:2518547714814450855_c0822e2b-785b-41a8-8136-21b7430a0078]",
        "2019-01-15 05:15:18  Detected Petya ransomware indicators (MSTICALERTSWIN1) [id:2518547714812938298_fa4939d4-a20c-440a-839c-89c0c43e1ccc]",
        "2019-01-15 05:15:18  Detected suspicious file creation (MSTICALERTSWIN1) [id:2518547714816637303_3252483f-2fdb-411a-93f5-e268d5e56abf]",
        "2019-01-15 05:15:18  Detected suspicious use of Pcalua.exe to launch executable code (MSTICALERTSWIN1) [id:2518547714811337754_ad1fd62a-9565-41e4-b94a-6264942033f6]",
        "2019-01-15 05:15:18  Detected possible execution of keygen executable (MSTICALERTSWIN1) [id:2518547714814533914_38d53571-e98a-4bb6-a17f-0361a561019e]",
        "2019-01-15 05:15:18  Detected suspicious use of Cacls to lower the security state of the system. (MSTICALERTSWIN1) [id:2518547714815952205_1ba5718e-529b-441b-8036-ad06ee862e76]",
        "2019-01-15 05:15:18  Detected the disabling of critical services (MSTICALERTSWIN1) [id:2518547714813299511_a5df127a-f7e8-44ff-b404-6d5b37d06488]",
        "2019-01-15 05:15:18  Ransomware indicators detected (MSTICALERTSWIN1) [id:2518547714812286467_d5e026fa-6687-495e-878d-c4c93477cc78]",
        "2019-01-15 05:15:18  Detected possible execution of malware dropper (MSTICALERTSWIN1) [id:2518547714815009424_9a34d332-2fb6-4f3f-beb0-d9817dc9b7cd]",
        "2019-01-15 05:15:18  High risk software detected (MSTICALERTSWIN1) [id:2518547714813699414_d12ed618-567b-4b8f-8241-82ad4c1cb28e]",
        "2019-01-15 05:15:19  Possible credential dumping detected (MSTICALERTSWIN1) [id:2518547714809416002_76bf04a5-71fa-487a-9742-d54941a7a194]",
        "2019-01-15 05:15:19  Suspicious download using Certutil detected (MSTICALERTSWIN1) [id:2518547714805546049_03e7bf17-8f77-42ca-8ac1-af8258f4d1ca]",
        "2019-01-15 09:15:03  Suspicious Account Creation Detected (MSTICALERTSWIN1) [id:2518547570966661760_526e34b6-6578-4fc0-9db6-e126b4d673f0]",
        "2019-01-15 09:15:07  Potential attempt to bypass AppLocker detected (MSTICALERTSWIN1) [id:2518547570924760670_9868ed7d-397e-4aa4-8dbd-5a1c5f736c1e]",
        "2019-01-15 09:15:10  Suspiciously named process detected (MSTICALERTSWIN1) [id:2518547570895430544_4ea6c432-6d20-4986-9679-ecf58ac4854d]",
        "2019-01-15 09:15:10  Digital currency mining related behavior detected (MSTICALERTSWIN1) [id:2518547570895430544_72351be4-ae78-4cc6-9f6a-1ff87c31baeb]",
        "2019-01-15 09:15:11  Detected obfuscated command line. (MSTICALERTSWIN1) [id:2518547570880067443_c1a9004f-7f64-4144-8ce0-8f76f9041703]",
        "2019-01-15 09:15:11  Suspicious Powershell Activity Detected (MSTICALERTSWIN1) [id:2518547570883109415_c762b0f7-a0f5-4dda-ab48-54b5ae6eade4]",
        "2019-01-15 09:15:11  Suspicious Powershell Activity Detected (MSTICALERTSWIN1) [id:2518547570884378777_92a2f884-5827-4fb6-acf8-b0087b76aa73]",
        "2019-01-15 09:15:11  Suspicious Powershell Activity Detected (MSTICALERTSWIN1) [id:2518547570881721037_4ca5c629-673c-4372-9bd3-ab7bf6d6e6f0]",
        "2019-01-15 09:15:12  Suspicious Powershell Activity Detected (MSTICALERTSWIN1) [id:2518547570876432155_ce7c7361-8ac9-47be-b8fb-7a87c87ee178]",
        "2019-01-15 09:15:13  Suspicious system process executed (nan) [id:2518547570865502616_9d5e263f-55d2-441f-acf4-bf569b4cd976]",
        "2019-01-15 09:15:13  Executable found running from a suspicious location (MSTICALERTSWIN1) [id:2518547570865502616_c6f3dea2-fe36-4e65-b161-1b1cd1104eb3]",
        "2019-01-15 09:15:13  Suspicious WindowPosition registry value detected (MSTICALERTSWIN1) [id:2518547570866947129_1b074412-133c-4ac9-8e3f-24103159b03e]",
        "2019-01-15 09:15:13  Executable found running from a suspicious location (MSTICALERTSWIN1) [id:2518547570860979996_bddac8c5-cba5-4da2-a6dd-c0a39fc2b256]",
        "2019-01-15 09:15:13  Suspicious process executed (MSTICALERTSWIN1) [id:2518547570862568702_029c9c95-c1fe-4419-bc3b-a6d832c87e65]",
        "2019-01-15 09:15:14  Suspicious process executed (MSTICALERTSWIN1) [id:2518547570851316041_43f7d8f3-fea5-4fca-a884-713c2d65203c]",
        "2019-01-15 09:15:14  Detected anomalous mix of upper and lower case characters in command-line (MSTICALERTSWIN1) [id:2518547570852901341_3ca6ca5a-8bf2-417f-b8c9-3cea37c84f4b]",
        "2019-01-15 09:15:16  Suspicious double extension file executed (nan) [id:2518547570836535349_c45bcb62-9d89-44e8-bea9-7a9e35205576]",
        "2019-01-15 09:15:16  Rare SVCHOST service group executed (nan) [id:2518547570834399134_26ccc2ad-8ce0-4f60-8215-18f99377b547]",
        "2019-01-15 09:15:16  Suspicious Volume Shadow Copy Activity (nan) [id:2518547570836431794_b9d79b27-d725-4a87-b7ec-6fc9ec591e8c]",
        "2019-01-15 09:15:16  Azure Security Center test alert (not a threat) (MSTICALERTSWIN1) [id:2518547570833725387_2df8ae94-03fe-4b9f-a3a9-f3c6dab95c05]",
        "2019-01-15 09:15:16  Suspicious SVCHOST process executed (nan) [id:2518547570835168086_117b7a02-d1d0-4cf2-bc04-0b19a796b4d3]",
        "2019-01-15 09:15:17  Ransomware indicators detected (MSTICALERTSWIN1) [id:2518547570821365949_48327b74-c904-402d-a1d8-2b3a882924e7]",
        "2019-01-15 09:15:17  Detected Petya ransomware indicators (MSTICALERTSWIN1) [id:2518547570821871899_e647375c-9979-47b5-9f78-f414a1aad26d]",
        "2019-01-15 11:45:00  Suspicious Account Creation Detected (MSTICALERTSWIN1) [id:2518547480991748435_836318d1-0fa0-4cfe-a3d0-2b1fdbaf2216]",
        "2019-01-15 11:45:01  Suspiciously named process detected (MSTICALERTSWIN1) [id:2518547480988516756_54bb943e-7fe9-4146-a43e-4064c8e0049f]",
        "2019-01-15 11:45:01  Digital currency mining related behavior detected (MSTICALERTSWIN1) [id:2518547480988516756_668ed54c-9e73-4d4f-a9c2-b88fd1b13db0]",
        "2019-01-15 11:45:01  Potential attempt to bypass AppLocker detected (MSTICALERTSWIN1) [id:2518547480989617678_f3490cf7-a303-4001-b7d6-8acf7e83f191]",
        "2019-01-15 11:45:01  Suspicious Powershell Activity Detected (MSTICALERTSWIN1) [id:2518547480982973701_24a6d6f3-acf1-41bd-a11f-01a1369bac02]",
        "2019-01-15 11:45:01  Suspicious Powershell Activity Detected (MSTICALERTSWIN1) [id:2518547480984263491_d46877bd-e04d-401a-99bd-eec2a6b25663]",
        "2019-01-15 11:45:01  Detected obfuscated command line. (MSTICALERTSWIN1) [id:2518547480982511513_adfabbe0-fce0-44f3-be4b-17283bd03bed]",
        "2019-01-15 11:45:01  Suspicious Powershell Activity Detected (MSTICALERTSWIN1) [id:2518547480980813134_5cb7ab95-6017-4031-afb2-e11518b0f5cc]",
        "2019-01-15 11:45:01  Suspicious Powershell Activity Detected (MSTICALERTSWIN1) [id:2518547480983467170_9da8e3df-9c3b-4e20-8bd0-ace00aff9def]",
        "2019-01-15 11:45:02  Executable found running from a suspicious location (MSTICALERTSWIN1) [id:2518547480975043692_7e663699-5412-496f-ac91-e21a7b6f0be5]",
        "2019-01-15 11:45:02  Executable found running from a suspicious location (MSTICALERTSWIN1) [id:2518547480977057409_ed9d92ac-0ab8-4a2e-a1dd-f70ee30a9af1]",
        "2019-01-15 11:45:02  Suspicious WindowPosition registry value detected (MSTICALERTSWIN1) [id:2518547480977469312_e9ff6947-fd12-42d2-bb63-2d814f04482a]",
        "2019-01-15 11:45:02  Suspicious process executed (MSTICALERTSWIN1) [id:2518547480976076338_2a106d12-acd8-4dd7-9e1c-3c20b4eaa320]",
        "2019-01-15 11:45:02  Suspicious system process executed (nan) [id:2518547480977057409_492fbb97-a1fc-4880-95d2-e55ab2f142b6]",
        "2019-01-15 11:45:02  Detected anomalous mix of upper and lower case characters in command-line (MSTICALERTSWIN1) [id:2518547480970182118_c0558adc-b4a9-4289-b9ad-7e7260f1cde0]",
        "2019-01-15 11:45:03  Suspicious process executed (MSTICALERTSWIN1) [id:2518547480968677354_88eb8a87-a876-46aa-b8ed-be7298929ea8]",
        "2019-01-15 11:45:04  Random process name detected (MSTICALERTSWIN1) [id:2518547480956885358_b66e93d7-b38b-4785-baa5-093edc18e649]",
        "2019-01-15 11:45:04  Suspicious Volume Shadow Copy Activity (nan) [id:2518547480955968326_fa350f8b-2c81-478c-a383-debe0ab0c892]",
        "2019-01-15 11:45:04  Suspicious double extension file executed (nan) [id:2518547480956378190_2b59c1d5-a815-4562-a8d4-36d9777e6546]",
        "2019-01-15 11:45:05  Rare SVCHOST service group executed (nan) [id:2518547480946682289_f83c0705-d2ff-4355-a25d-ae858ee39b2d]",
        "2019-01-15 11:45:05  Suspicious SVCHOST process executed (nan) [id:2518547480947565906_5c82cd9c-60f8-4056-bd39-8ccb2cdb7678]",
        "2019-01-15 11:45:05  Azure Security Center test alert (not a threat) (MSTICALERTSWIN1) [id:2518547480945920380_00d33245-c643-4155-8c05-6abc4ee3b3cd]",
        "2019-01-15 11:45:06  Ransomware indicators detected (MSTICALERTSWIN1) [id:2518547480937987105_ec1678a1-0fe8-44c5-91b5-621c40d2bb8c]",
        "2019-01-15 11:45:06  Detected Petya ransomware indicators (MSTICALERTSWIN1) [id:2518547480938543829_91a4f9a7-70ad-433b-a568-34314e3f467f]",
        "2019-01-15 13:15:10  Suspiciously named process detected (MSTICALERTSWIN1) [id:2518547426892072407_171b74b2-a431-4b55-8d69-128e5fb95329]",
        "2019-01-15 13:15:13  Suspicious WindowPosition registry value detected (MSTICALERTSWIN1) [id:2518547426863814510_75495c57-4fd6-4e27-b94c-c6f81f78bcb5]",
        "2019-01-15 13:15:13  Suspicious system process executed (nan) [id:2518547426862437699_184c075e-64ee-4901-bc37-6eb999e81a11]",
        "2019-01-15 13:15:14  Suspicious process executed (MSTICALERTSWIN1) [id:2518547426859453218_89d1850f-dccd-4d45-b194-650819d358d9]",
        "2019-01-15 13:15:14  Executable found running from a suspicious location (MSTICALERTSWIN1) [id:2518547426858055460_51b74398-40e2-4b1b-9d92-89c0004738c9]",
        "2019-01-15 13:15:15  Suspicious process executed (MSTICALERTSWIN1) [id:2518547426847947731_caa12d6c-4928-4787-90d4-cb27ff94373c]",
        "2019-01-15 13:15:16  Suspicious SVCHOST process executed (nan) [id:2518547426831794607_a513ab17-2b6a-4b1a-a925-a0b3c21ec38c]",
        "2019-01-15 13:15:16  Rare SVCHOST service group executed (nan) [id:2518547426830640211_88f9ae7a-e6b5-4b54-b967-08f3fc503d91]",
        "2019-01-15 13:15:16  Suspicious Volume Shadow Copy Activity (nan) [id:2518547426833434810_b6e594ea-16d3-480e-81a7-2f8fe3af64ba]",
        "2019-01-15 13:15:16  Suspicious double extension file executed (nan) [id:2518547426833838523_7b30c978-28d5-4a28-a4c2-0985f08ab1c6]",
        "2019-01-15 13:15:17  Azure Security Center test alert (not a threat) (MSTICALERTSWIN1) [id:2518547426829675756_846ec406-bb3e-451b-bf6f-9e1e17a69bd6]",
        "2019-01-15 13:15:18  Ransomware indicators detected (MSTICALERTSWIN1) [id:2518547426817428483_636ab38f-2528-4356-8602-d0910f8ac600]",
        "2019-01-15 13:15:18  Detected Petya ransomware indicators (MSTICALERTSWIN1) [id:2518547426817928329_a4aa878d-93b5-4cd1-931f-30f85b9e6db2]",
        "2019-01-15 17:15:03  Suspicious Account Creation Detected (MSTICALERTSWIN1) [id:2518547282966696689_3db7e1e7-2edc-4dd9-8c1d-d908f5b8a904]",
        "2019-01-15 17:15:10  Potential attempt to bypass AppLocker detected (MSTICALERTSWIN1) [id:2518547282896095305_82730ffa-b9ce-43f4-bf3c-a97113107cc5]",
        "2019-01-15 17:15:10  Suspiciously named process detected (MSTICALERTSWIN1) [id:2518547282892925953_0073e6d8-6c2e-42e4-8966-d1f5a3dd3517]",
        "2019-01-15 17:15:10  Digital currency mining related behavior detected (MSTICALERTSWIN1) [id:2518547282892925953_35c8d588-ddf7-46b5-a0bf-f47023f9343c]",
        "2019-01-15 17:15:11  Suspicious Powershell Activity Detected (MSTICALERTSWIN1) [id:2518547282880013417_d65aa787-e867-43b1-9182-025a1a38173a]",
        "2019-01-15 17:15:11  Suspicious Powershell Activity Detected (MSTICALERTSWIN1) [id:2518547282881581273_ed5bcf39-ffd3-468a-82e3-28e108d4f06f]",
        "2019-01-15 17:15:11  Suspicious Powershell Activity Detected (MSTICALERTSWIN1) [id:2518547282883193041_31ae6eeb-bd1d-4018-8df9-eeedd60bf1ab]",
        "2019-01-15 17:15:12  Suspicious Powershell Activity Detected (MSTICALERTSWIN1) [id:2518547282874783943_bd1a0865-a507-4e2b-b8df-613238a950df]",
        "2019-01-15 17:15:12  Detected obfuscated command line. (MSTICALERTSWIN1) [id:2518547282878855119_d89d1ab7-e5b7-426c-a98f-eab95deea3ad]",
        "2019-01-15 17:15:13  Suspicious system process executed (nan) [id:2518547282863799328_7e169933-4275-4b94-b37f-490417bcfc98]",
        "2019-01-15 17:15:13  Suspicious WindowPosition registry value detected (MSTICALERTSWIN1) [id:2518547282865194453_9895a5cc-6f49-45f5-a0eb-f05c1f11f264]",
        "2019-01-15 17:15:13  Executable found running from a suspicious location (MSTICALERTSWIN1) [id:2518547282863799328_84ea8dcd-9436-4b4d-82b2-36114028bd61]",
        "2019-01-15 17:15:14  Suspicious process executed (MSTICALERTSWIN1) [id:2518547282859754476_0c3ae402-a9ea-4d5c-9c09-4274b7847c2c]",
        "2019-01-15 17:15:14  Detected anomalous mix of upper and lower case characters in command-line (MSTICALERTSWIN1) [id:2518547282850984831_7f983018-fd59-4e9e-ba70-295f6beb0e9c]",
        "2019-01-15 17:15:14  Executable found running from a suspicious location (MSTICALERTSWIN1) [id:2518547282858353938_58851b10-8f5c-48f1-aade-b1529f4e2c7f]",
        "2019-01-15 17:15:15  Suspicious process executed (MSTICALERTSWIN1) [id:2518547282845656644_c7318da8-368f-47f8-bff5-e15600a3fb80]",
        "2019-01-15 17:15:17  Suspicious double extension file executed (nan) [id:2518547282825853773_e6c85135-2b91-4537-b9a0-dae7eabb8e9d]",
        "2019-01-15 17:15:17  Suspicious Volume Shadow Copy Activity (nan) [id:2518547282825448815_6a71b543-4832-4658-8467-825aeafbe031]",
        "2019-01-15 17:15:18  Rare SVCHOST service group executed (nan) [id:2518547282813841329_a7e8e8c1-4561-48ea-bf75-a22c7bfc2257]",
        "2019-01-15 17:15:18  Azure Security Center test alert (not a threat) (MSTICALERTSWIN1) [id:2518547282812706885_12ae1e22-347e-454c-ae0d-ebb48cdf189b]",
        "2019-01-15 17:15:18  Suspicious SVCHOST process executed (nan) [id:2518547282814913644_34cc156e-9179-44c4-bd60-89dd1812e9e7]",
        "2019-01-15 17:15:19  Detected Petya ransomware indicators (MSTICALERTSWIN1) [id:2518547282803821916_c76cdb6c-cea0-4b2b-9ab6-1442a5857ed8]",
        "2019-01-15 17:15:19  Ransomware indicators detected (MSTICALERTSWIN1) [id:2518547282802847718_4a524cc8-7613-4c42-93a9-8c1e466a4476]",
        "2019-01-15 21:18:10  Suspicious Account Added (nan) [id:cbdce694-666c-4844-a29c-e7f4b66e27d1]"
       ],
       "description": "Select alert :",
       "index": 0,
       "layout": "IPY_MODEL_1a83cfd4ef84418e811c7bbfaa9f95ae",
       "style": "IPY_MODEL_061abaa02f7741428c8ff5afdbbced24"
      }
     },
     "265bd07b6e2b4b06ae165ad5063758f2": {
      "model_module": "@jupyter-widgets/controls",
      "model_module_version": "1.5.0",
      "model_name": "ButtonStyleModel",
      "state": {}
     },
     "2697aa1d4b774708a08ac673ade1990b": {
      "model_module": "@jupyter-widgets/controls",
      "model_module_version": "1.5.0",
      "model_name": "ButtonModel",
      "state": {
       "description": "Add All ⇾",
       "layout": "IPY_MODEL_d73980c266ba47e6af4779b873aa9497",
       "style": "IPY_MODEL_558d70c5469c43a1b7a6fd16f831b713"
      }
     },
     "26d07fa456f340009099ea3f3aca1212": {
      "model_module": "@jupyter-widgets/base",
      "model_module_version": "1.2.0",
      "model_name": "LayoutModel",
      "state": {}
     },
     "26de0090275748ba90ee1780b10f4a9f": {
      "model_module": "@jupyter-widgets/controls",
      "model_module_version": "1.5.0",
      "model_name": "ButtonModel",
      "state": {
       "description": "Add ⇾",
       "layout": "IPY_MODEL_3295ce5ff20d4816b04ac2237653fb9f",
       "style": "IPY_MODEL_e8bdce329281416cba3e52354c14ef78"
      }
     },
     "26eaef0849b64611a142f624c5fb0d5e": {
      "model_module": "@jupyter-widgets/controls",
      "model_module_version": "1.5.0",
      "model_name": "SelectModel",
      "state": {
       "_options_labels": [
        "Suspicious Powershell Activity Detected"
       ],
       "description": "Selected: ",
       "index": 0,
       "layout": "IPY_MODEL_de7bfdda28734c9488121b3f21dd989b",
       "style": "IPY_MODEL_b228b59989604ff8996cc057030e0b07"
      }
     },
     "276c4361548047e1ae146cd0e300b804": {
      "model_module": "@jupyter-widgets/controls",
      "model_module_version": "1.5.0",
      "model_name": "VBoxModel",
      "state": {
       "children": [
        "IPY_MODEL_c825845a078a4d07b7b8b7615a2ffbb5",
        "IPY_MODEL_cb2c31f1952c4f7f9ac974a56f3a827b",
        "IPY_MODEL_c3190aadfc1e44e08c499b6a2bfb7d36",
        "IPY_MODEL_8075274527114f8ab14e46e962e5251a"
       ],
       "layout": "IPY_MODEL_be023f69a10f4169acf27d6d127207ae"
      }
     },
     "28ab947a6d194c4181b1220539bb8125": {
      "model_module": "@jupyter-widgets/controls",
      "model_module_version": "1.5.0",
      "model_name": "SelectModel",
      "state": {
       "description": "Selected: ",
       "index": null,
       "layout": "IPY_MODEL_0088ac545e5b4706ac7ff3eb425b7263",
       "style": "IPY_MODEL_6f97cb63472c4b1ba5f881283801e576"
      }
     },
     "28d61bc02a46464487c70a1739a7841b": {
      "model_module": "@jupyter-widgets/base",
      "model_module_version": "1.2.0",
      "model_name": "LayoutModel",
      "state": {}
     },
     "294024c44a3d4c2fa0b5d12a7b5aaaa6": {
      "model_module": "@jupyter-widgets/base",
      "model_module_version": "1.2.0",
      "model_name": "LayoutModel",
      "state": {}
     },
     "297493f6490b4327993c3ec14f39492f": {
      "model_module": "@jupyter-widgets/controls",
      "model_module_version": "1.5.0",
      "model_name": "VBoxModel",
      "state": {
       "children": [
        "IPY_MODEL_67477b709ad74ebb8194f4fca0a022d9",
        "IPY_MODEL_c092e524f950460baf696239a8cd4ef6",
        "IPY_MODEL_b29a77bc93644ff2a55d5670cc87f1a6"
       ],
       "layout": "IPY_MODEL_896c1b577f3440f8912b2775faf63ff4"
      }
     },
     "2994fc60c22c421fa5bec6424238c646": {
      "model_module": "@jupyter-widgets/controls",
      "model_module_version": "1.5.0",
      "model_name": "DescriptionStyleModel",
      "state": {
       "description_width": "initial"
      }
     },
     "299b05da888d4c2b9168ea46bfa0c0f7": {
      "model_module": "@jupyter-widgets/base",
      "model_module_version": "1.2.0",
      "model_name": "LayoutModel",
      "state": {}
     },
     "2a260455cb4e499481c11be42b1e7eeb": {
      "model_module": "@jupyter-widgets/output",
      "model_module_version": "1.0.0",
      "model_name": "OutputModel",
      "state": {
       "layout": "IPY_MODEL_a2a4b07a3d094152840727c9f0e0d524"
      }
     },
     "2a421e618c64446397205ecc374f46af": {
      "model_module": "@jupyter-widgets/controls",
      "model_module_version": "1.5.0",
      "model_name": "VBoxModel",
      "state": {
       "children": [
        "IPY_MODEL_c9eb7d6b9fb14526bbee3c033535ac94",
        "IPY_MODEL_e8527433faa345ed9eb9231553e2281a",
        "IPY_MODEL_e99a66cc351a43f587874af292690fa7",
        "IPY_MODEL_d844945a0dc74d229e091e665e93eef2"
       ],
       "layout": "IPY_MODEL_11a00b259ee0473a874bfae2214e60d4"
      }
     },
     "2a5d0fee984b415086b59161039fa08e": {
      "model_module": "@jupyter-widgets/base",
      "model_module_version": "1.2.0",
      "model_name": "LayoutModel",
      "state": {
       "width": "80%"
      }
     },
     "2a879c5f55c34335ac5537cef73f9aa4": {
      "model_module": "@jupyter-widgets/controls",
      "model_module_version": "1.5.0",
      "model_name": "HBoxModel",
      "state": {
       "children": [
        "IPY_MODEL_97e148ff649b41aab0666dde458d06fc",
        "IPY_MODEL_f496bbf81c6a45d4936db3f66606c376",
        "IPY_MODEL_d96c68b18cdd438f815a7ad750af075d"
       ],
       "layout": "IPY_MODEL_32b9f5fb07584d9d9c43e81eecd54aa5"
      }
     },
     "2af4f57a79ff44c09749abb619cee9b3": {
      "model_module": "@jupyter-widgets/base",
      "model_module_version": "1.2.0",
      "model_name": "LayoutModel",
      "state": {
       "height": "200px",
       "width": "40%"
      }
     },
     "2b92996f20914f7a8a9e6fcd8cb4a7da": {
      "model_module": "@jupyter-widgets/output",
      "model_module_version": "1.0.0",
      "model_name": "OutputModel",
      "state": {
       "layout": "IPY_MODEL_bfbb284fb1dc41b89a32b41f7ec58f31"
      }
     },
     "2c713fecc8f5464a85108d05d40bdc24": {
      "model_module": "@jupyter-widgets/controls",
      "model_module_version": "1.5.0",
      "model_name": "ButtonModel",
      "state": {
       "description": "Add ⇾",
       "layout": "IPY_MODEL_3f2c060fa248494098b0ecc07d8e0b54",
       "style": "IPY_MODEL_5821eb8b9211480e86e9f22329e4e451"
      }
     },
     "2cd52c9b9c8d44618208c254e26e92a0": {
      "model_module": "@jupyter-widgets/controls",
      "model_module_version": "1.5.0",
      "model_name": "TextModel",
      "state": {
       "description": "Query start time (UTC):",
       "layout": "IPY_MODEL_9d1936aede9b43d98374583fe54398cc",
       "style": "IPY_MODEL_1ea6d3d6000e4a15a453c02ebf77612c",
       "value": "2019-08-18 21:06:32.175073"
      }
     },
     "2cf3318db305482f96cd878d683eb18e": {
      "model_module": "@jupyter-widgets/controls",
      "model_module_version": "1.5.0",
      "model_name": "DescriptionStyleModel",
      "state": {
       "description_width": "initial"
      }
     },
     "2cfcf037da44425bab2fa75ce5f0b76f": {
      "model_module": "@jupyter-widgets/controls",
      "model_module_version": "1.5.0",
      "model_name": "ButtonModel",
      "state": {
       "description": "Add ⇾",
       "layout": "IPY_MODEL_4ef789cc20994b238f12db9d884c87ac",
       "style": "IPY_MODEL_7ec0836902d5483e9ce7529442a5a70d"
      }
     },
     "2d97c4485aa74ea59d6aade2a956a4cd": {
      "model_module": "@jupyter-widgets/controls",
      "model_module_version": "1.5.0",
      "model_name": "DescriptionStyleModel",
      "state": {
       "description_width": ""
      }
     },
     "2dab77e9a5d34e52abd337cb9d4a8933": {
      "model_module": "@jupyter-widgets/base",
      "model_module_version": "1.2.0",
      "model_name": "LayoutModel",
      "state": {}
     },
     "2dadae50c0dc4279b7c4d62f87e1ae72": {
      "model_module": "@jupyter-widgets/controls",
      "model_module_version": "1.5.0",
      "model_name": "SelectModel",
      "state": {
       "_options_labels": [
        "An event log was cleared",
        "Anomalous account creation detected",
        "Azure Security Center test alert (not a threat)",
        "DC local group addition - Demo",
        "DC with MS AM engine failure - Demo",
        "Deep Security Agent detected a malware",
        "Detected Petya ransomware indicators",
        "Detected actions indicative of disabling and deleting IIS log files.",
        "Detected anomalous mix of upper and lower case characters in command-line",
        "Detected change to a registry key that can be abused to bypass UAC",
        "Detected decoding of an executable using built-in certutil.exe tool",
        "Detected encoded executable in command line data",
        "Detected obfuscated command line.",
        "Detected possible execution of keygen executable",
        "Detected possible execution of malware dropper",
        "Detected possible local reconnaissance activity",
        "Detected potentially suspicious use of Telegram tool",
        "Detected suspicious Set-ExecutionPolicy and WinRM changes",
        "Detected suspicious commandline arguments",
        "Detected suspicious commandline used to start all executables in a directory",
        "Detected suspicious credentials in commandline",
        "Detected suspicious document credentials",
        "Detected suspicious execution of VBScript.Encode command",
        "Detected suspicious execution via rundll32.exe",
        "Detected suspicious file cleanup commands",
        "Detected suspicious file creation",
        "Detected suspicious named pipe communications",
        "Detected suspicious new firewall rule",
        "Detected suspicious use of Cacls to lower the security state of the system.",
        "Detected suspicious use of FTP -s Switch",
        "Detected suspicious use of Pcalua.exe to launch executable code",
        "Detected the disabling of critical services",
        "Digital currency mining related behavior detected",
        "Executable found running from a suspicious location",
        "Failed RDP Brute Force Attack",
        "Global domain trust creation - Demo",
        "High risk software detected",
        "Maliciuos IP communication",
        "Modified system binary discovered in dump file 5bd767e4-2d08-4714-b744-aaed04b57107__391365252.hdmp",
        "Multiple Domain Accounts Queried",
        "Network communication with a malicious machine detected",
        "Palo Alto admin logged on via SSH - Demo",
        "Possible compromised machine detected",
        "Possible credential dumping detected",
        "Possible outgoing spam activity detected",
        "Potential SQL Injection",
        "Potential attempt to bypass AppLocker detected",
        "Random process name detected",
        "Ransomware indicators detected",
        "Rare SVCHOST service group executed",
        "SQL injection blocked",
        "Sticky keys attack detected",
        "Successful RDP brute force attack",
        "Suspected Kerberos Golden Ticket attack parameters observed",
        "Suspicious Account Added",
        "Suspicious Account Creation Detected",
        "Suspicious Powershell Activity Detected",
        "Suspicious SVCHOST process executed",
        "Suspicious Volume Shadow Copy Activity",
        "Suspicious WindowPosition registry value detected",
        "Suspicious double extension file executed",
        "Suspicious download using Certutil detected",
        "Suspicious powershell cmdlets executed",
        "Suspicious process executed",
        "Suspicious system process executed",
        "Suspiciously named process detected"
       ],
       "description": "Source: ",
       "index": 0,
       "layout": "IPY_MODEL_c3c51011ae4b4ae386fadc6d20e6cc1f",
       "style": "IPY_MODEL_39ebfb00d74e4f898003f9ff70e80adf"
      }
     },
     "2ec666b93af64ee287e8edfc4a4730e8": {
      "model_module": "@jupyter-widgets/controls",
      "model_module_version": "1.5.0",
      "model_name": "SliderStyleModel",
      "state": {
       "description_width": "initial"
      }
     },
     "30901b5a2bcc46faa835c7621cb11e9a": {
      "model_module": "@jupyter-widgets/controls",
      "model_module_version": "1.5.0",
      "model_name": "ButtonStyleModel",
      "state": {}
     },
     "30cf422cfa39428395314c2d09aeda7a": {
      "model_module": "@jupyter-widgets/base",
      "model_module_version": "1.2.0",
      "model_name": "LayoutModel",
      "state": {}
     },
     "30d994a0f6284863a028978d1a6f0909": {
      "model_module": "@jupyter-widgets/controls",
      "model_module_version": "1.5.0",
      "model_name": "SelectModel",
      "state": {
       "_options_labels": [
        "An event log was cleared",
        "Anomalous account creation detected",
        "Azure Security Center test alert (not a threat)",
        "DC local group addition - Demo",
        "DC with MS AM engine failure - Demo",
        "Deep Security Agent detected a malware",
        "Detected Petya ransomware indicators",
        "Detected actions indicative of disabling and deleting IIS log files.",
        "Detected anomalous mix of upper and lower case characters in command-line",
        "Detected change to a registry key that can be abused to bypass UAC",
        "Detected decoding of an executable using built-in certutil.exe tool",
        "Detected encoded executable in command line data",
        "Detected obfuscated command line.",
        "Detected possible execution of keygen executable",
        "Detected possible execution of malware dropper",
        "Detected possible local reconnaissance activity",
        "Detected potentially suspicious use of Telegram tool",
        "Detected suspicious Set-ExecutionPolicy and WinRM changes",
        "Detected suspicious commandline arguments",
        "Detected suspicious commandline used to start all executables in a directory",
        "Detected suspicious credentials in commandline",
        "Detected suspicious document credentials",
        "Detected suspicious execution of VBScript.Encode command",
        "Detected suspicious execution via rundll32.exe",
        "Detected suspicious file cleanup commands",
        "Detected suspicious file creation",
        "Detected suspicious named pipe communications",
        "Detected suspicious new firewall rule",
        "Detected suspicious use of Cacls to lower the security state of the system.",
        "Detected suspicious use of FTP -s Switch",
        "Detected suspicious use of Pcalua.exe to launch executable code",
        "Detected the disabling of critical services",
        "Digital currency mining related behavior detected",
        "Executable found running from a suspicious location",
        "Failed RDP Brute Force Attack",
        "Global domain trust creation - Demo",
        "High risk software detected",
        "Maliciuos IP communication",
        "Modified system binary discovered in dump file 5bd767e4-2d08-4714-b744-aaed04b57107__391365252.hdmp",
        "Multiple Domain Accounts Queried",
        "Network communication with a malicious machine detected",
        "Palo Alto admin logged on via SSH - Demo",
        "Possible compromised machine detected",
        "Possible credential dumping detected",
        "Possible outgoing spam activity detected",
        "Potential SQL Injection",
        "Potential attempt to bypass AppLocker detected",
        "Random process name detected",
        "Ransomware indicators detected",
        "Rare SVCHOST service group executed",
        "SQL injection blocked",
        "Sticky keys attack detected",
        "Successful RDP brute force attack",
        "Suspected Kerberos Golden Ticket attack parameters observed",
        "Suspicious Account Added",
        "Suspicious Account Creation Detected",
        "Suspicious Powershell Activity Detected",
        "Suspicious SVCHOST process executed",
        "Suspicious Volume Shadow Copy Activity",
        "Suspicious WindowPosition registry value detected",
        "Suspicious double extension file executed",
        "Suspicious download using Certutil detected",
        "Suspicious powershell cmdlets executed",
        "Suspicious process executed",
        "Suspicious system process executed",
        "Suspiciously named process detected"
       ],
       "description": "Source: ",
       "index": 0,
       "layout": "IPY_MODEL_a73b17f3d25948bab53b677accedd18f",
       "style": "IPY_MODEL_03f21ff1c0ce476cbdaa85ed7046f6e2"
      }
     },
     "3120b06fdf5a4f9693fb5a1b39c469c9": {
      "model_module": "@jupyter-widgets/controls",
      "model_module_version": "1.5.0",
      "model_name": "ButtonStyleModel",
      "state": {}
     },
     "312c9ad86c1f41349852576094a40bf9": {
      "model_module": "@jupyter-widgets/controls",
      "model_module_version": "1.5.0",
      "model_name": "DescriptionStyleModel",
      "state": {
       "description_width": ""
      }
     },
     "31403f31d5ca4fad878ae4de5a3e1755": {
      "model_module": "@jupyter-widgets/output",
      "model_module_version": "1.0.0",
      "model_name": "OutputModel",
      "state": {
       "layout": "IPY_MODEL_b8c4bbb7c4344b86ab9464ed5ad30205"
      }
     },
     "31eaef366a854bb0863cb8498e361fe8": {
      "model_module": "@jupyter-widgets/controls",
      "model_module_version": "1.5.0",
      "model_name": "ButtonModel",
      "state": {
       "description": "⇽ Remove",
       "layout": "IPY_MODEL_07fde5b281f541b2bf1a11c6db6da099",
       "style": "IPY_MODEL_6ff59044dd6a43c5a6f522092564eea6"
      }
     },
     "320571570db34f4ebe6b470fac6b20eb": {
      "model_module": "@jupyter-widgets/base",
      "model_module_version": "1.2.0",
      "model_name": "LayoutModel",
      "state": {
       "width": "80%"
      }
     },
     "321a0a8b10534d94b6830620ad75507d": {
      "model_module": "@jupyter-widgets/base",
      "model_module_version": "1.2.0",
      "model_name": "LayoutModel",
      "state": {}
     },
     "3295ce5ff20d4816b04ac2237653fb9f": {
      "model_module": "@jupyter-widgets/base",
      "model_module_version": "1.2.0",
      "model_name": "LayoutModel",
      "state": {}
     },
     "32ace5294c7240df80c324c14382d2c9": {
      "model_module": "@jupyter-widgets/controls",
      "model_module_version": "1.5.0",
      "model_name": "ButtonModel",
      "state": {
       "description": "⇽ Remove All",
       "layout": "IPY_MODEL_e6e863ec97a948f4b5aa090469ce9f28",
       "style": "IPY_MODEL_8776269904bd4ba98677ef477e37b8a2"
      }
     },
     "32b9f5fb07584d9d9c43e81eecd54aa5": {
      "model_module": "@jupyter-widgets/base",
      "model_module_version": "1.2.0",
      "model_name": "LayoutModel",
      "state": {}
     },
     "32edd9e694374b6f8af34496a772e0ea": {
      "model_module": "@jupyter-widgets/controls",
      "model_module_version": "1.5.0",
      "model_name": "DescriptionStyleModel",
      "state": {
       "description_width": ""
      }
     },
     "337ba77abd2843c5a8353ebff9908b4b": {
      "model_module": "@jupyter-widgets/controls",
      "model_module_version": "1.5.0",
      "model_name": "SliderStyleModel",
      "state": {
       "description_width": "initial"
      }
     },
     "33956f7215ba452c8a49dc7dc8d615d1": {
      "model_module": "@jupyter-widgets/controls",
      "model_module_version": "1.5.0",
      "model_name": "TextModel",
      "state": {
       "description": "Query end time (UTC) :  ",
       "layout": "IPY_MODEL_dc4f176ee5454e23a7ebed8392bc7158",
       "style": "IPY_MODEL_9aef7d9626f847649f400e9e82f5546d",
       "value": "2019-08-18 23:06:32.175073"
      }
     },
     "33d63720474241b082d22fa8d82fe8fe": {
      "model_module": "@jupyter-widgets/controls",
      "model_module_version": "1.5.0",
      "model_name": "ButtonModel",
      "state": {
       "description": "Set",
       "layout": "IPY_MODEL_9eb83b3123504e0196b8c535685622ed",
       "style": "IPY_MODEL_b3b2ef4f209243cab830404cc789ba4f"
      }
     },
     "345a160549204c96994a436d8701ca6e": {
      "model_module": "@jupyter-widgets/controls",
      "model_module_version": "1.5.0",
      "model_name": "SelectModel",
      "state": {
       "_options_labels": [
        "Detected potentially suspicious use of Telegram tool",
        "Detected suspicious Set-ExecutionPolicy and WinRM changes",
        "Detected suspicious commandline arguments",
        "Detected suspicious commandline used to start all executables in a directory",
        "Detected suspicious credentials in commandline",
        "Detected suspicious document credentials",
        "Detected suspicious execution of VBScript.Encode command",
        "Detected suspicious execution via rundll32.exe",
        "Detected suspicious file cleanup commands",
        "Detected suspicious file creation",
        "Detected suspicious named pipe communications",
        "Detected suspicious new firewall rule",
        "Detected suspicious use of Cacls to lower the security state of the system.",
        "Detected suspicious use of FTP -s Switch",
        "Detected suspicious use of Pcalua.exe to launch executable code",
        "Executable found running from a suspicious location"
       ],
       "description": "Selected: ",
       "index": 0,
       "layout": "IPY_MODEL_572c0bc2d50e4f90987bce394fd0293e",
       "style": "IPY_MODEL_312c9ad86c1f41349852576094a40bf9"
      }
     },
     "3550e28444594c5190118c5eb1a69385": {
      "model_module": "@jupyter-widgets/controls",
      "model_module_version": "1.5.0",
      "model_name": "DescriptionStyleModel",
      "state": {
       "description_width": "initial"
      }
     },
     "355b0b1086ce4d4a91591f0c3e81b3e1": {
      "model_module": "@jupyter-widgets/controls",
      "model_module_version": "1.5.0",
      "model_name": "HBoxModel",
      "state": {
       "children": [
        "IPY_MODEL_25812b22671045fcaddb9535ba756b34",
        "IPY_MODEL_2a421e618c64446397205ecc374f46af",
        "IPY_MODEL_0dc01ac45e3941939ef93e6778504e64"
       ],
       "layout": "IPY_MODEL_7757168650794fd69f804a1409a56832"
      }
     },
     "35b372737fde4c0bbb1a1d4799ad8905": {
      "model_module": "@jupyter-widgets/controls",
      "model_module_version": "1.5.0",
      "model_name": "VBoxModel",
      "state": {
       "children": [
        "IPY_MODEL_40bf1dc9c7bd458a8995649e7e194e90",
        "IPY_MODEL_b9575e3985da41d9a4a2b03f3cdc7472",
        "IPY_MODEL_85f7bf523f0841d49a897c3049c41458",
        "IPY_MODEL_9273428bf1a545b390def3397f10eed7"
       ],
       "layout": "IPY_MODEL_cb83b14ae3c4419a83f87b91b336c97b"
      }
     },
     "35d71dcd8f7b44a59e1afbb424496918": {
      "model_module": "@jupyter-widgets/base",
      "model_module_version": "1.2.0",
      "model_name": "LayoutModel",
      "state": {
       "height": "100px",
       "width": "50%"
      }
     },
     "36137501c71e498c960eed4ee8bd11e2": {
      "model_module": "@jupyter-widgets/controls",
      "model_module_version": "1.5.0",
      "model_name": "ButtonStyleModel",
      "state": {}
     },
     "36164509a0b3455faf173dfb0e3b5c3c": {
      "model_module": "@jupyter-widgets/controls",
      "model_module_version": "1.5.0",
      "model_name": "ButtonStyleModel",
      "state": {}
     },
     "3718e8d3c3da4510911b4595bf7e64fe": {
      "model_module": "@jupyter-widgets/base",
      "model_module_version": "1.2.0",
      "model_name": "LayoutModel",
      "state": {}
     },
     "374d0a27b6ed499f90fe0d36be47f531": {
      "model_module": "@jupyter-widgets/controls",
      "model_module_version": "1.5.0",
      "model_name": "DescriptionStyleModel",
      "state": {
       "description_width": ""
      }
     },
     "37720fd087b64b9d8b3b9be7e067dc68": {
      "model_module": "@jupyter-widgets/controls",
      "model_module_version": "1.5.0",
      "model_name": "ButtonStyleModel",
      "state": {}
     },
     "382685b242f94b31bab1323d923e33b3": {
      "model_module": "@jupyter-widgets/controls",
      "model_module_version": "1.5.0",
      "model_name": "DescriptionStyleModel",
      "state": {
       "description_width": ""
      }
     },
     "38bbfd5ab2f94c33ac7d940de04a9d3e": {
      "model_module": "@jupyter-widgets/controls",
      "model_module_version": "1.5.0",
      "model_name": "SliderStyleModel",
      "state": {
       "description_width": "initial"
      }
     },
     "393cdaaa64fb4f309632fa7c5b5407c2": {
      "model_module": "@jupyter-widgets/controls",
      "model_module_version": "1.5.0",
      "model_name": "SelectModel",
      "state": {
       "_options_labels": [
        "Detected potentially suspicious use of Telegram tool",
        "Detected suspicious Set-ExecutionPolicy and WinRM changes",
        "Detected suspicious commandline arguments",
        "Detected suspicious commandline used to start all executables in a directory",
        "Detected suspicious credentials in commandline",
        "Detected suspicious document credentials",
        "Detected suspicious execution of VBScript.Encode command",
        "Detected suspicious execution via rundll32.exe",
        "Detected suspicious file cleanup commands",
        "Detected suspicious file creation",
        "Detected suspicious named pipe communications",
        "Detected suspicious new firewall rule",
        "Detected suspicious use of Cacls to lower the security state of the system.",
        "Detected suspicious use of FTP -s Switch",
        "Detected suspicious use of Pcalua.exe to launch executable code",
        "Executable found running from a suspicious location"
       ],
       "description": "Selected: ",
       "index": 0,
       "layout": "IPY_MODEL_1f7fcd59887b47e494eca35b6e22002e",
       "style": "IPY_MODEL_eac08d26d3c344c881bafa22c95a0768"
      }
     },
     "394592e241a3442585ede81da9390e08": {
      "model_module": "@jupyter-widgets/controls",
      "model_module_version": "1.5.0",
      "model_name": "ButtonStyleModel",
      "state": {}
     },
     "397049d2e61948ac91706f23b7117bce": {
      "model_module": "@jupyter-widgets/output",
      "model_module_version": "1.0.0",
      "model_name": "OutputModel",
      "state": {
       "layout": "IPY_MODEL_7cab78fe43e84d20b5a3d9c1708d11e2"
      }
     },
     "39ebfb00d74e4f898003f9ff70e80adf": {
      "model_module": "@jupyter-widgets/controls",
      "model_module_version": "1.5.0",
      "model_name": "DescriptionStyleModel",
      "state": {
       "description_width": ""
      }
     },
     "3a2b3498277f4f2bad8ccab97ef43936": {
      "model_module": "@jupyter-widgets/controls",
      "model_module_version": "1.5.0",
      "model_name": "DescriptionStyleModel",
      "state": {
       "description_width": ""
      }
     },
     "3a2b6a2c0e1a4e3f936d92ca49f8f67d": {
      "model_module": "@jupyter-widgets/controls",
      "model_module_version": "1.5.0",
      "model_name": "HTMLModel",
      "state": {
       "layout": "IPY_MODEL_dfde045a79904971b5857f93823cddf4",
       "style": "IPY_MODEL_9e46f83a72cb4576b03cac9ca4575a43",
       "value": "<h4>Set query time boundaries</h4>"
      }
     },
     "3a62e9833e834f70adf0179e37fd65e9": {
      "model_module": "@jupyter-widgets/controls",
      "model_module_version": "1.5.0",
      "model_name": "DescriptionStyleModel",
      "state": {
       "description_width": ""
      }
     },
     "3aed3eac7a8e4aaf80e00bcb4a724420": {
      "model_module": "@jupyter-widgets/controls",
      "model_module_version": "1.5.0",
      "model_name": "IntSliderModel",
      "state": {
       "description": "Select time (hour) to look back",
       "layout": "IPY_MODEL_90ad42dd661643858964ade937a36092",
       "max": 48,
       "min": 1,
       "style": "IPY_MODEL_2113bbc3b0e4443786fc54b508060fd3",
       "value": 4
      }
     },
     "3b6273ced533463a89c8472cb0aa15a2": {
      "model_module": "@jupyter-widgets/controls",
      "model_module_version": "1.5.0",
      "model_name": "ButtonStyleModel",
      "state": {}
     },
     "3b84056a36bf4931805e074994121045": {
      "model_module": "@jupyter-widgets/controls",
      "model_module_version": "1.5.0",
      "model_name": "SelectModel",
      "state": {
       "_options_labels": [
        "An event log was cleared",
        "Anomalous account creation detected",
        "Azure Security Center test alert (not a threat)",
        "DC local group addition - Demo",
        "DC with MS AM engine failure - Demo",
        "Deep Security Agent detected a malware",
        "Detected Petya ransomware indicators",
        "Detected actions indicative of disabling and deleting IIS log files.",
        "Detected anomalous mix of upper and lower case characters in command-line",
        "Detected change to a registry key that can be abused to bypass UAC",
        "Detected decoding of an executable using built-in certutil.exe tool",
        "Detected encoded executable in command line data",
        "Detected obfuscated command line.",
        "Detected possible execution of keygen executable",
        "Detected possible execution of malware dropper",
        "Detected possible local reconnaissance activity",
        "Detected potentially suspicious use of Telegram tool",
        "Detected suspicious Set-ExecutionPolicy and WinRM changes",
        "Detected suspicious commandline arguments",
        "Detected suspicious commandline used to start all executables in a directory",
        "Detected suspicious credentials in commandline",
        "Detected suspicious document credentials",
        "Detected suspicious execution of VBScript.Encode command",
        "Detected suspicious execution via rundll32.exe",
        "Detected suspicious file cleanup commands",
        "Detected suspicious file creation",
        "Detected suspicious named pipe communications",
        "Detected suspicious new firewall rule",
        "Detected suspicious use of Cacls to lower the security state of the system.",
        "Detected suspicious use of FTP -s Switch",
        "Detected suspicious use of Pcalua.exe to launch executable code",
        "Detected the disabling of critical services",
        "Digital currency mining related behavior detected",
        "Executable found running from a suspicious location",
        "Failed RDP Brute Force Attack",
        "Global domain trust creation - Demo",
        "High risk software detected",
        "Maliciuos IP communication",
        "Modified system binary discovered in dump file 5bd767e4-2d08-4714-b744-aaed04b57107__391365252.hdmp",
        "Multiple Domain Accounts Queried",
        "Network communication with a malicious machine detected",
        "Palo Alto admin logged on via SSH - Demo",
        "Possible compromised machine detected",
        "Possible credential dumping detected",
        "Possible outgoing spam activity detected",
        "Potential SQL Injection",
        "Potential attempt to bypass AppLocker detected",
        "Random process name detected",
        "Ransomware indicators detected",
        "Rare SVCHOST service group executed",
        "SQL injection blocked",
        "Sticky keys attack detected",
        "Successful RDP brute force attack",
        "Suspected Kerberos Golden Ticket attack parameters observed",
        "Suspicious Account Added",
        "Suspicious Account Creation Detected",
        "Suspicious Powershell Activity Detected",
        "Suspicious SVCHOST process executed",
        "Suspicious Volume Shadow Copy Activity",
        "Suspicious WindowPosition registry value detected",
        "Suspicious double extension file executed",
        "Suspicious download using Certutil detected",
        "Suspicious powershell cmdlets executed",
        "Suspicious process executed",
        "Suspicious system process executed",
        "Suspiciously named process detected"
       ],
       "description": "Source: ",
       "index": 0,
       "layout": "IPY_MODEL_de7bfdda28734c9488121b3f21dd989b",
       "style": "IPY_MODEL_2d97c4485aa74ea59d6aade2a956a4cd"
      }
     },
     "3b86a057f08c4605acc76df0c5b21d5c": {
      "model_module": "@jupyter-widgets/base",
      "model_module_version": "1.2.0",
      "model_name": "LayoutModel",
      "state": {}
     },
     "3c0d3b71c6bd464d80eb80b7df86c430": {
      "model_module": "@jupyter-widgets/base",
      "model_module_version": "1.2.0",
      "model_name": "LayoutModel",
      "state": {
       "height": "300px",
       "width": "95%"
      }
     },
     "3c79636370314411b58e11cbc408b5e4": {
      "model_module": "@jupyter-widgets/base",
      "model_module_version": "1.2.0",
      "model_name": "LayoutModel",
      "state": {}
     },
     "3cdab8d5bafa4e68b3d61c8b5aac671e": {
      "model_module": "@jupyter-widgets/controls",
      "model_module_version": "1.5.0",
      "model_name": "HBoxModel",
      "state": {
       "children": [
        "IPY_MODEL_c02a046278484b9f94371210359aa402",
        "IPY_MODEL_9d3a5c221ae34d3a82298b77f1212ab5"
       ],
       "layout": "IPY_MODEL_7d04705f52f0423c9af3a68b61248998"
      }
     },
     "3e81d37755fa41b78fc3be9c850debb6": {
      "model_module": "@jupyter-widgets/controls",
      "model_module_version": "1.5.0",
      "model_name": "TextModel",
      "state": {
       "description": "Query end time (UTC) :  ",
       "layout": "IPY_MODEL_caf441b13f8e419a967efd8700ce4368",
       "style": "IPY_MODEL_b34a77e5c67a4b898287764081b6e9f9",
       "value": "2019-08-19 01:37:02.768494"
      }
     },
     "3f2b7a8c44d547808a52bb79acae11b0": {
      "model_module": "@jupyter-widgets/base",
      "model_module_version": "1.2.0",
      "model_name": "LayoutModel",
      "state": {}
     },
     "3f2c060fa248494098b0ecc07d8e0b54": {
      "model_module": "@jupyter-widgets/base",
      "model_module_version": "1.2.0",
      "model_name": "LayoutModel",
      "state": {}
     },
     "3f6b9e360fa94832950f0ac3757700cc": {
      "model_module": "@jupyter-widgets/controls",
      "model_module_version": "1.5.0",
      "model_name": "SliderStyleModel",
      "state": {
       "description_width": "initial"
      }
     },
     "3f7a0a1b18a1467b90d838d8ec8fb18d": {
      "model_module": "@jupyter-widgets/controls",
      "model_module_version": "1.5.0",
      "model_name": "SelectModel",
      "state": {
       "_options_labels": [
        "host",
        "file",
        "process",
        "account",
        "hostlogonsession"
       ],
       "description": "Select an item",
       "index": 0,
       "layout": "IPY_MODEL_35d71dcd8f7b44a59e1afbb424496918",
       "style": "IPY_MODEL_c0fda24dff4a49b0b5231393492f396f"
      }
     },
     "3fbf158aac294b5180ddbadfdda198d9": {
      "model_module": "@jupyter-widgets/controls",
      "model_module_version": "1.5.0",
      "model_name": "TextModel",
      "state": {
       "description": "Filter alerts by title:",
       "layout": "IPY_MODEL_28d61bc02a46464487c70a1739a7841b",
       "style": "IPY_MODEL_c45c6550e5ba498096f8633f358c17fd"
      }
     },
     "3ffcbed08daf4317b5f505a6cdf27e2d": {
      "model_module": "@jupyter-widgets/controls",
      "model_module_version": "1.5.0",
      "model_name": "DescriptionStyleModel",
      "state": {
       "description_width": ""
      }
     },
     "401a8e06989f44c68c5f9b1fdf1c0482": {
      "model_module": "@jupyter-widgets/controls",
      "model_module_version": "1.5.0",
      "model_name": "DescriptionStyleModel",
      "state": {
       "description_width": ""
      }
     },
     "4048307cdf4c4086a3b3b798e249ad3e": {
      "model_module": "@jupyter-widgets/controls",
      "model_module_version": "1.5.0",
      "model_name": "SelectModel",
      "state": {
       "_options_labels": [
        "Account added and removed from group within 24h",
        "Account added and removed from group within 24h",
        "Account added and removed from group within 24h",
        "Account added and removed from group within 24h",
        "Account added and removed from group within 24h",
        "Account added and removed from group within 24h",
        "Analysis of host data detected a new Firewall rule has been added via netsh.exe to allow traffic from an executable in a suspicious location.",
        "Analysis of host data detected a powershell script running on MSTICALERTSWIN1 that has features in common with known suspicious scripts. This script could either be legitimate activity, or an indication of a compromised host.",
        "Analysis of host data detected a powershell script running on MSTICALERTSWIN1 that has features in common with known suspicious scripts. This script could either be legitimate activity, or an indication of a compromised host.",
        "Analysis of host data detected a powershell script running on MSTICALERTSWIN1 that has features in common with known suspicious scripts. This script could either be legitimate activity, or an indication of a compromised host.",
        "Analysis of host data detected a powershell script running on MSTICALERTSWIN1 that has features in common with known suspicious scripts. This script could either be legitimate activity, or an indication of a compromised host.",
        "Analysis of host data detected a powershell script running on MSTICALERTSWIN1 that has features in common with known suspicious scripts. This script could either be legitimate activity, or an indication of a compromised host.",
        "Analysis of host data detected a powershell script running on MSTICALERTSWIN1 that has features in common with known suspicious scripts. This script could either be legitimate activity, or an indication of a compromised host.",
        "Analysis of host data detected a powershell script running on MSTICALERTSWIN1 that has features in common with known suspicious scripts. This script could either be legitimate activity, or an indication of a compromised host.",
        "Analysis of host data detected a powershell script running on MSTICALERTSWIN1 that has features in common with known suspicious scripts. This script could either be legitimate activity, or an indication of a compromised host.",
        "Analysis of host data detected a powershell script running on MSTICALERTSWIN1 that has features in common with known suspicious scripts. This script could either be legitimate activity, or an indication of a compromised host.",
        "Analysis of host data detected a powershell script running on MSTICALERTSWIN1 that has features in common with known suspicious scripts. This script could either be legitimate activity, or an indication of a compromised host.",
        "Analysis of host data detected a powershell script running on MSTICALERTSWIN1 that has features in common with known suspicious scripts. This script could either be legitimate activity, or an indication of a compromised host.",
        "Analysis of host data detected a powershell script running on MSTICALERTSWIN1 that has features in common with known suspicious scripts. This script could either be legitimate activity, or an indication of a compromised host.",
        "Analysis of host data detected a powershell script running on MSTICALERTSWIN1 that has features in common with known suspicious scripts. This script could either be legitimate activity, or an indication of a compromised host.",
        "Analysis of host data detected a powershell script running on MSTICALERTSWIN1 that has features in common with known suspicious scripts. This script could either be legitimate activity, or an indication of a compromised host.",
        "Analysis of host data detected a powershell script running on MSTICALERTSWIN1 that has features in common with known suspicious scripts. This script could either be legitimate activity, or an indication of a compromised host.",
        "Analysis of host data detected a powershell script running on MSTICALERTSWIN1 that has features in common with known suspicious scripts. This script could either be legitimate activity, or an indication of a compromised host.",
        "Analysis of host data detected actions that show IIS log files being disabled and/or deleted.",
        "Analysis of host data detected an executable file on MSTICALERTSWIN1 that is running from a location in common with known suspicious files. This executable could either be legitimate activity, or an indication of a compromised host.",
        "Analysis of host data detected an executable file on MSTICALERTSWIN1 that is running from a location in common with known suspicious files. This executable could either be legitimate activity, or an indication of a compromised host.",
        "Analysis of host data detected an executable file on MSTICALERTSWIN1 that is running from a location in common with known suspicious files. This executable could either be legitimate activity, or an indication of a compromised host.",
        "Analysis of host data detected an executable file on MSTICALERTSWIN1 that is running from a location in common with known suspicious files. This executable could either be legitimate activity, or an indication of a compromised host.",
        "Analysis of host data detected an executable file on MSTICALERTSWIN1 that is running from a location in common with known suspicious files. This executable could either be legitimate activity, or an indication of a compromised host.",
        "Analysis of host data detected an executable file on MSTICALERTSWIN1 that is running from a location in common with known suspicious files. This executable could either be legitimate activity, or an indication of a compromised host.",
        "Analysis of host data detected an executable file on MSTICALERTSWIN1 that is running from a location in common with known suspicious files. This executable could either be legitimate activity, or an indication of a compromised host.",
        "Analysis of host data detected an executable file on MSTICALERTSWIN1 that is running from a location in common with known suspicious files. This executable could either be legitimate activity, or an indication of a compromised host.",
        "Analysis of host data detected an executable file on MSTICALERTSWIN1 that is running from a location in common with known suspicious files. This executable could either be legitimate activity, or an indication of a compromised host.",
        "Analysis of host data detected changes being made through the Set-ExecutionPolicy cmdlet to enable RemoteSigned, as well as configuration changes to WinRM (Windows Remote Management). Changes of this nature are indicative of use of the ChinaChopper webshell on the affected host.",
        "Analysis of host data detected commandline parameters consistent with a Kerberos Golden Ticket attack.",
        "Analysis of host data from MSTICALERTSWIN1 detected the usage of software that has been associated with the installation of malware in the past. A common technique utilized in the distribution of malicious software is to package it within otherwise benign tools such as the one seen in this alert. Upon using these tools, the malware can be silently installed in the background.",
        "Analysis of host data has detected a shadow copy deletion activity on the resource.\r\r\nVolume Shadow Copy (VSC) is an important artifact that stores data snapshots.\r\r\nSome malware and specifically Ransomware, targets VSC to sabotage backup strategies.",
        "Analysis of host data has detected a shadow copy deletion activity on the resource.\r\r\nVolume Shadow Copy (VSC) is an important artifact that stores data snapshots.\r\r\nSome malware and specifically Ransomware, targets VSC to sabotage backup strategies.",
        "Analysis of host data has detected a shadow copy deletion activity on the resource.\r\r\nVolume Shadow Copy (VSC) is an important artifact that stores data snapshots.\r\r\nSome malware and specifically Ransomware, targets VSC to sabotage backup strategies.",
        "Analysis of host data has detected a shadow copy deletion activity on the resource.\r\r\nVolume Shadow Copy (VSC) is an important artifact that stores data snapshots.\r\r\nSome malware and specifically Ransomware, targets VSC to sabotage backup strategies.",
        "Analysis of host data has detected a shadow copy deletion activity on the resource.\r\r\nVolume Shadow Copy (VSC) is an important artifact that stores data snapshots.\r\r\nSome malware and specifically Ransomware, targets VSC to sabotage backup strategies.",
        "Analysis of host data has detected a suspicious process running on MSTICALERTSWIN1. The commandline indicates an attempt to start all executables (*.exe) that may reside in a directory. This could be an indication of a compromised host.",
        "Analysis of host data has detected use of native windows tool( e.g. sqldumper.exe) being used in a way that allows to extract credentials from memory. Often times attackers use these techniques to extract credentials that they then further use for lateral movement and privelege escalation.",
        "Analysis of host data has determined that an unusual number of distinct domain accounts are being queried within a short time period from vm1 in your subscription. This kind of activity could be legitimate, but can also be an indication of compromise.",
        "Analysis of host data indicates an execution of a process with a suspicious double extension.\r\r\nThis extension may trick users into thinking files are safe to be opened and might indicate the presence of malware on the system.",
        "Analysis of host data indicates an execution of a process with a suspicious double extension.\r\r\nThis extension may trick users into thinking files are safe to be opened and might indicate the presence of malware on the system.",
        "Analysis of host data indicates an execution of a process with a suspicious double extension.\r\r\nThis extension may trick users into thinking files are safe to be opened and might indicate the presence of malware on the system.",
        "Analysis of host data indicates an execution of a process with a suspicious double extension.\r\r\nThis extension may trick users into thinking files are safe to be opened and might indicate the presence of malware on the system.",
        "Analysis of host data indicates an execution of a process with a suspicious double extension.\r\r\nThis extension may trick users into thinking files are safe to be opened and might indicate the presence of malware on the system.",
        "Analysis of host data indicates execution of known malicious powershell PowerSploit cmdlets.",
        "Analysis of host data indicates suspicious account creation in your environment.\r\r\nThis activity could either be legitimate activity, or an indication of a compromised host and a backdoor account was installed on the host for persistency purposes.",
        "Analysis of host data indicates suspicious activity traditionally associated with lock-screen and encryption ransomware. Lock screen ransomware displays a full-screen message preventing interactive use of the host and access to its files. Encryption ransomware prevents access by encrypting data files. In both cases a ransom message is typically displayed, requesting payment in order to restore file access.",
        "Analysis of host data indicates suspicious activity traditionally associated with lock-screen and encryption ransomware. Lock screen ransomware displays a full-screen message preventing interactive use of the host and access to its files. Encryption ransomware prevents access by encrypting data files. In both cases a ransom message is typically displayed, requesting payment in order to restore file access.",
        "Analysis of host data indicates suspicious activity traditionally associated with lock-screen and encryption ransomware. Lock screen ransomware displays a full-screen message preventing interactive use of the hsot and access to its files. Encryption ransomware prevents access by encrypting data files. In both cases a ransom message is typically displayed, requesting payment in order to restore file access.",
        "Analysis of host data indicates suspicious activity traditionally associated with lock-screen and encryption ransomware. Lock screen ransomware displays a full-screen message preventing interactive use of the hsot and access to its files. Encryption ransomware prevents access by encrypting data files. In both cases a ransom message is typically displayed, requesting payment in order to restore file access.",
        "Analysis of host data indicates suspicious activity traditionally associated with lock-screen and encryption ransomware. Lock screen ransomware displays a full-screen message preventing interactive use of the hsot and access to its files. Encryption ransomware prevents access by encrypting data files. In both cases a ransom message is typically displayed, requesting payment in order to restore file access.",
        "Analysis of host data indicates that an attacker may be subverting an accessibility binary (for example sticky keys, onscreen keyboard, narrator) in order to provide backdoor access to the host MSTICALERTSWIN1. ",
        "Analysis of host data on MSTICALERTSWIN1 detected a base-64 encoded executable. This has previously been associated with attackers attempting to construct executables on-the-fly through a sequence of commands, and attempting to evade intrusion detection systems by ensuring that no individual command would trigger an alert. This could be legitimate activity, or an indication of a compromised host.",
        "Analysis of host data on MSTICALERTSWIN1 detected a combination of systeminfo commands that has previously been associated with one of activity group GOLD's methods of performing post-compromise self-cleanup activity.  While 'systeminfo.exe' is a legitimate Windows tool, executing it twice in succession, followed by a delete command in the way that has occurred here is rare.",
        "Analysis of host data on MSTICALERTSWIN1 detected a combination of systeminfo commands that has previously been associated with one of activity group GOLD's methods of performing reconnaissance activity.  While 'systeminfo.exe' is a legitimate Windows tool, executing it twice in succession in the way that has occurred here is rare.",
        "Analysis of host data on MSTICALERTSWIN1 detected a command-line with anomalous mix of upper and lower case characters. This kind of pattern, while possibly benign, is also typical of attackers trying to hide from case-sensitive or hash-based rule matching when performing administrative tasks on a compromised host.",
        "Analysis of host data on MSTICALERTSWIN1 detected a command-line with anomalous mix of upper and lower case characters. This kind of pattern, while possibly benign, is also typical of attackers trying to hide from case-sensitive or hash-based rule matching when performing administrative tasks on a compromised host.",
        "Analysis of host data on MSTICALERTSWIN1 detected a command-line with anomalous mix of upper and lower case characters. This kind of pattern, while possibly benign, is also typical of attackers trying to hide from case-sensitive or hash-based rule matching when performing administrative tasks on a compromised host.",
        "Analysis of host data on MSTICALERTSWIN1 detected a command-line with anomalous mix of upper and lower case characters. This kind of pattern, while possibly benign, is also typical of attackers trying to hide from case-sensitive or hash-based rule matching when performing administrative tasks on a compromised host.",
        "Analysis of host data on MSTICALERTSWIN1 detected a filename that has previously been associated with one of activity group GOLD's methods of installing malware on a victim host.",
        "Analysis of host data on MSTICALERTSWIN1 detected a potential attempt to bypass AppLocker restrictions. AppLocker can be configured to implement a policy that limits what executables are allowed to run on a Windows system. The command line pattern similar to that identified in this alert has been previously associated with attacker attempts to circumvent AppLocker policy by using trusted executables (allowed by AppLocker policy) to execute untrusted code. This could be legitimate activity, or an indication of a compromised host.",
        "Analysis of host data on MSTICALERTSWIN1 detected a potential attempt to bypass AppLocker restrictions. AppLocker can be configured to implement a policy that limits what executables are allowed to run on a Windows system. The command line pattern similar to that identified in this alert has been previously associated with attacker attempts to circumvent AppLocker policy by using trusted executables (allowed by AppLocker policy) to execute untrusted code. This could be legitimate activity, or an indication of a compromised host.",
        "Analysis of host data on MSTICALERTSWIN1 detected a potential attempt to bypass AppLocker restrictions. AppLocker can be configured to implement a policy that limits what executables are allowed to run on a Windows system. The command line pattern similar to that identified in this alert has been previously associated with attacker attempts to circumvent AppLocker policy by using trusted executables (allowed by AppLocker policy) to execute untrusted code. This could be legitimate activity, or an indication of a compromised host.",
        "Analysis of host data on MSTICALERTSWIN1 detected a potential attempt to bypass AppLocker restrictions. AppLocker can be configured to implement a policy that limits what executables are allowed to run on a Windows system. The command line pattern similar to that identified in this alert has been previously associated with attacker attempts to circumvent AppLocker policy by using trusted executables (allowed by AppLocker policy) to execute untrusted code. This could be legitimate activity, or an indication of a compromised host.",
        "Analysis of host data on MSTICALERTSWIN1 detected a process whose name is very similar to but different from a very commonly run process (svchost). While this process could be benign attackers are known to sometimes hide in plain sight by naming their malicious tools to resemble legitimate process names.",
        "Analysis of host data on MSTICALERTSWIN1 detected a process whose name is very similar to but different from a very commonly run process (svchost). While this process could be benign attackers are known to sometimes hide in plain sight by naming their malicious tools to resemble legitimate process names.",
        "Analysis of host data on MSTICALERTSWIN1 detected a process whose name is very similar to but different from a very commonly run process (svchost). While this process could be benign attackers are known to sometimes hide in plain sight by naming their malicious tools to resemble legitimate process names.",
        "Analysis of host data on MSTICALERTSWIN1 detected a process whose name is very similar to but different from a very commonly run process (svchost). While this process could be benign attackers are known to sometimes hide in plain sight by naming their malicious tools to resemble legitimate process names.",
        "Analysis of host data on MSTICALERTSWIN1 detected a process whose name is very similar to but different from a very commonly run process (svchost). While this process could be benign attackers are known to sometimes hide in plain sight by naming their malicious tools to resemble legitimate process names.",
        "Analysis of host data on MSTICALERTSWIN1 detected a supicious password being used to execute a file by activity group BORON. This activity group has been known to use this password to execute Pirpi malware on a victim host.",
        "Analysis of host data on MSTICALERTSWIN1 detected a supicious, common precomputed password hash used by malware being used to execute a file. Activity group HYDROGEN has been known to use this password to execute malware on a victim host.",
        "Analysis of host data on MSTICALERTSWIN1 detected an attempted WindowPosition registry configuration change that could be indicative of hiding application windows in non-visible sections of the desktop.  This could be legitimate activity, or an indication of a compromised machine: this type of activity has been previously associated with known adware (or unwanted software) such as Win32/OneSystemCare and Win32/SystemHealer and malware such as Win32/Creprote. When the WindowPosition value is set to 201329664,  (Hex: 0x0c00 0c00, corresponding to X-axis=0c00 and the Y-axis=0c00) this places the console app's window in a non-visible section of the user's screen in an area that is hidden from view below the visible start menu/taskbar. Known suspect Hex value includes, but not limited to c000c000",
        "Analysis of host data on MSTICALERTSWIN1 detected an attempted WindowPosition registry configuration change that could be indicative of hiding application windows in non-visible sections of the desktop.  This could be legitimate activity, or an indication of a compromised machine: this type of activity has been previously associated with known adware (or unwanted software) such as Win32/OneSystemCare and Win32/SystemHealer and malware such as Win32/Creprote. When the WindowPosition value is set to 201329664,  (Hex: 0x0c00 0c00, corresponding to X-axis=0c00 and the Y-axis=0c00) this places the console app's window in a non-visible section of the user's screen in an area that is hidden from view below the visible start menu/taskbar. Known suspect Hex value includes, but not limited to c000c000",
        "Analysis of host data on MSTICALERTSWIN1 detected an attempted WindowPosition registry configuration change that could be indicative of hiding application windows in non-visible sections of the desktop.  This could be legitimate activity, or an indication of a compromised machine: this type of activity has been previously associated with known adware (or unwanted software) such as Win32/OneSystemCare and Win32/SystemHealer and malware such as Win32/Creprote. When the WindowPosition value is set to 201329664,  (Hex: 0x0c00 0c00, corresponding to X-axis=0c00 and the Y-axis=0c00) this places the console app's window in a non-visible section of the user's screen in an area that is hidden from view below the visible start menu/taskbar. Known suspect Hex value includes, but not limited to c000c000",
        "Analysis of host data on MSTICALERTSWIN1 detected an attempted WindowPosition registry configuration change that could be indicative of hiding application windows in non-visible sections of the desktop.  This could be legitimate activity, or an indication of a compromised machine: this type of activity has been previously associated with known adware (or unwanted software) such as Win32/OneSystemCare and Win32/SystemHealer and malware such as Win32/Creprote. When the WindowPosition value is set to 201329664,  (Hex: 0x0c00 0c00, corresponding to X-axis=0c00 and the Y-axis=0c00) this places the console app's window in a non-visible section of the user's screen in an area that is hidden from view below the visible start menu/taskbar. Known suspect Hex value includes, but not limited to c000c000",
        "Analysis of host data on MSTICALERTSWIN1 detected an attempted WindowPosition registry configuration change that could be indicative of hiding application windows in non-visible sections of the desktop.  This could be legitimate activity, or an indication of a compromised machine: this type of activity has been previously associated with known adware (or unwanted software) such as Win32/OneSystemCare and Win32/SystemHealer and malware such as Win32/Creprote. When the WindowPosition value is set to 201329664,  (Hex: 0x0c00 0c00, corresponding to X-axis=0c00 and the Y-axis=0c00) this places the console app's window in a non-visible section of the user's screen in an area that is hidden from view below the visible start menu/taskbar. Known suspect Hex value includes, but not limited to c000c000",
        "Analysis of host data on MSTICALERTSWIN1 detected creation or execution of a process which has previously indicated post-compromise action taken on a victim host by activity group BARIUM. This activity group has been known to use this technique to download additional malware to a compromised host after an attachment in a phishing doc has been opened.",
        "Analysis of host data on MSTICALERTSWIN1 detected creation or use of a local account adm1nistrator : this account name closely resembles a standard Windows account or group name 'administrator'. This is potentially a rogue account created by an attacker, so named in order to avoid being noticed by a human administrator.",
        "Analysis of host data on MSTICALERTSWIN1 detected creation or use of a local account adm1nistrator : this account name closely resembles a standard Windows account or group name 'administrator'. This is potentially a rogue account created by an attacker, so named in order to avoid being noticed by a human administrator.",
        "Analysis of host data on MSTICALERTSWIN1 detected creation or use of a local account adm1nistrator : this account name closely resembles a standard Windows account or group name 'administrator'. This is potentially a rogue account created by an attacker, so named in order to avoid being noticed by a human administrator.",
        "Analysis of host data on MSTICALERTSWIN1 detected creation or use of a local account adm1nistrator : this account name closely resembles a standard Windows account or group name 'administrator'. This is potentially a rogue account created by an attacker, so named in order to avoid being noticed by a human administrator.",
        "Analysis of host data on MSTICALERTSWIN1 detected data being written to a local named pipe from a Windows console command. Named pipes are known to be a channel used by attackers to task and communicate with a malicious implant. This could be legitimate activity, or an indication of a compromised host.",
        "Analysis of host data on MSTICALERTSWIN1 detected execution of a process whose name is indicative of a keygen tool; such tools are typically used to defeat software licencing mechanisms but their download is often bundled with other malicious software. Activity group GOLD has been known to make use of such keygens to covertly gain back door access to hosts that they compromise.",
        "Analysis of host data on MSTICALERTSWIN1 detected indicators associated with Petya ransomware. See https://blogs.technet.microsoft.com/mmpc/2017/06/27/new-ransomware-old-techniques-petya-adds-worm-capabilities/ for more information. Review the commandline associated in this alert and escalate this alert to your security team.",
        "Analysis of host data on MSTICALERTSWIN1 detected indicators associated with Petya ransomware. See https://blogs.technet.microsoft.com/mmpc/2017/06/27/new-ransomware-old-techniques-petya-adds-worm-capabilities/ for more information. Review the commandline associated in this alert and escalate this alert to your security team.",
        "Analysis of host data on MSTICALERTSWIN1 detected indicators associated with Petya ransomware. See https://blogs.technet.microsoft.com/mmpc/2017/06/27/new-ransomware-old-techniques-petya-adds-worm-capabilities/ for more information. Review the commandline associated in this alert and escalate this alert to your security team.",
        "Analysis of host data on MSTICALERTSWIN1 detected indicators associated with Petya ransomware. See https://blogs.technet.microsoft.com/mmpc/2017/06/27/new-ransomware-old-techniques-petya-adds-worm-capabilities/ for more information. Review the commandline associated in this alert and escalate this alert to your security team.",
        "Analysis of host data on MSTICALERTSWIN1 detected indicators associated with Petya ransomware. See https://blogs.technet.microsoft.com/mmpc/2017/06/27/new-ransomware-old-techniques-petya-adds-worm-capabilities/ for more information. Review the commandline associated in this alert and escalate this alert to your security team.",
        "Analysis of host data on MSTICALERTSWIN1 detected rundll32.exe being used to execute a notepad.exe or reg.exe, consistent with the process injection technique previously seen used by activity group GOLD when installing their first stage implant on a compromised host.",
        "Analysis of host data on MSTICALERTSWIN1 detected rundll32.exe being used to execute a process with an uncommon name, consistent with the process naming scheme previously seen used by activity group GOLD when installing their first stage implant on a compromised host.",
        "Analysis of host data on MSTICALERTSWIN1 detected suspicious commandline arguments that have been used in conjunction with a reverse shell used by activity group HYDROGEN.",
        "Analysis of host data on MSTICALERTSWIN1 detected that a registry key that can be abused to bypass UAC (User Account Control) was changed. This kind of configuration, while possibly benign, is also typical of attacker activity when trying to move from unprivileged (standard user) to privileged (for example administrator) access on a compromised host.",
        "Analysis of host data on MSTICALERTSWIN1 detected that certutil.exe, a built-in administrator utility, was being used to decode an executable instead of its mainstream purpose that relates to manipulating certificates and certificate data. Attackers are known to abuse functionality of legitimate administrator tools to perform malicious actions, for example using a tool such as certutil.exe to decode a malicious executable that will then be subsequently executed.",
        "Analysis of host data on MSTICALERTSWIN1 detected the execution of VBScript.Encode command. This encodes the scripts into unreadable text, making it more difficult for users to examine the code. Microsoft threat research shows that attackers often use encoded VBscript files as part of their attack to evade detection systems. This could be legitimate activity, or an indication of a compromised host.",
        "Analysis of host data on MSTICALERTSWIN1 detected the execution of a process or command normally associated with digital currency mining.",
        "Analysis of host data on MSTICALERTSWIN1 detected the execution of a process or command normally associated with digital currency mining.",
        "Analysis of host data on MSTICALERTSWIN1 detected the execution of a process or command normally associated with digital currency mining.",
        "Analysis of host data on MSTICALERTSWIN1 detected the execution of a process or command normally associated with digital currency mining.",
        "Analysis of host data on MSTICALERTSWIN1 detected the use of certutil.exe, a built-in administrator utility, for the download of a binary instead of its mainstream purpose that relates to manipulating certificates and certificate data. Attackers are known to abuse functionality of legitimate administrator tools to perform malicious actions, for example using certutil.exe to download and decode a malicious executable that will then be subsequently executed.",
        "Analysis of host data on MSTICALERTSWIN1 detected the use of pcalua.exe to launch executable code. Pcalua.exe is component of the Microsoft Windows \"Program Compatibility Assistant\" which detects compatibility issues during the installation or execution of a program. Attackers are known to abuse functionality of legitimate Windows system tools to perform malicious actions, for example using pcalua.exe with the -a switch to launch malicious executables either locally or from remote shares.",
        "Analysis of host data shows installation of Telegram, a free cloud-based instant messaging service that exists both for mobile and desktop system. Attackers are known to abuse this service to transfer malicious binaries to any other computer, phone, or tablet.",
        "Analysis of process creation data from the MSTICALERTSWIN1 detected the use of FTP's \"-s:filename\" switch. This switch is used to specify an FTP script file for the client to run. Malware or malicious processes are known to use this FTP switch (-s:filename) to point to a script file which is configured to connect to a remote FTP server and download additional malicious binaries.",
        "Attackers use increasingly complex obfuscation techniques to evade detections that run against the underlying data. Analysis of host data on MSTICALERTSWIN1 detected suspicious indicators of obfuscation on the commandline.",
        "Attackers use increasingly complex obfuscation techniques to evade detections that run against the underlying data. Analysis of host data on MSTICALERTSWIN1 detected suspicious indicators of obfuscation on the commandline.",
        "Attackers use increasingly complex obfuscation techniques to evade detections that run against the underlying data. Analysis of host data on MSTICALERTSWIN1 detected suspicious indicators of obfuscation on the commandline.",
        "Attackers use increasingly complex obfuscation techniques to evade detections that run against the underlying data. Analysis of host data on MSTICALERTSWIN1 detected suspicious indicators of obfuscation on the commandline.",
        "Attackers use myriad ways like brute force, spear phishing etc. to achieve initial compromise and get a foothold on the network . Once initial compromise is achieved they often take steps to lower the security settings of a system. Cacls—short for change access control list is Microsoft Windows native command line utility often used for modifying the security permission on folders and files.  A lot of time the binary is used by the attackers to lower the security settings of a system.  This is done by giving Everyone full access to some of the system binaries like ftp.exe, net.exe, wscript.exe etc. Analysis of host data on MSTICALERTSWIN1 detected suspicious use of Cacls to lower the security of a system.",
        "Azure Security Center detected an image mismatch on a loaded module in memory during analysis of a crash dump.  If the presence of this module is unexpected, it may indicate a system compromise.",
        "Deep Security Agent detected a malware",
        "Domain controllers local group addition",
        "Domain controllers local group addition",
        "Domain controllers local group addition",
        "Domain controllers local group addition",
        "Domain controllers local group addition",
        "Domain controllers local group addition",
        "Domain controllers with Microsoft antimalware core engine failure",
        "Domain controllers with Microsoft antimalware core engine failure",
        "Domain controllers with Microsoft antimalware core engine failure",
        "Domain controllers with Microsoft antimalware core engine failure",
        "Domain controllers with Microsoft antimalware core engine failure",
        "Domain controllers with Microsoft antimalware core engine failure",
        "Global domain trus was created on Active Directory",
        "Global domain trus was created on Active Directory",
        "Global domain trus was created on Active Directory",
        "Global domain trus was created on Active Directory",
        "Global domain trus was created on Active Directory",
        "Global domain trus was created on Active Directory",
        "Machine logs indicate a suspicious event log clearing operation by user: 'internalUser' in Machine: 'vm3'. The Security log was cleared.",
        "Machine logs indicate an execution of a process with a suspicious double extension. This extension may trick users into thinking files are safe to be opened and might indicate the presence of malware on the system.",
        "Machine logs indicate that the suspicious Process: 'C:\\ProgramFiles\\mimikatz.exe' was running with the command line: 'C:\\ProgramFiles\\mimikatz.exe'",
        "Machine logs indicate that the suspicious process: 'c:\\diagnostics\\systmp\\dubrute.exe' was running on the machine; this process is associated with carrying out brute force attacks. An attacker may have compromised this host as a launchpad for carrying out further attacks.'",
        "Machine logs indicate that the suspicious process: 'c:\\diagnostics\\systmp\\mimikatz.exe' was running on the machine, often associated with attacker attempts to access credentials.'",
        "Machine logs indicate that the suspicious process: 'c:\\diagnostics\\usertmp\\dubrute.exe' was running on the machine; this process is associated with carrying out brute force attacks. An attacker may have compromised this host as a launchpad for carrying out further attacks.'",
        "Machine logs indicate that the suspicious process: 'c:\\diagnostics\\usertmp\\dubrute.exe' was running on the machine; this process is associated with carrying out brute force attacks. An attacker may have compromised this host as a launchpad for carrying out further attacks.'",
        "Machine logs indicate that the suspicious process: 'c:\\diagnostics\\usertmp\\dubrute.exe' was running on the machine; this process is associated with carrying out brute force attacks. An attacker may have compromised this host as a launchpad for carrying out further attacks.'",
        "Machine logs indicate that the suspicious process: 'c:\\diagnostics\\usertmp\\dubrute.exe' was running on the machine; this process is associated with carrying out brute force attacks. An attacker may have compromised this host as a launchpad for carrying out further attacks.'",
        "Machine logs indicate that the suspicious process: 'c:\\diagnostics\\usertmp\\mimikatz.exe' was running on the machine, often associated with attacker attempts to access credentials.'",
        "Machine logs indicate that the suspicious process: 'c:\\diagnostics\\usertmp\\mimikatz.exe' was running on the machine, often associated with attacker attempts to access credentials.'",
        "Machine logs indicate that the suspicious process: 'c:\\diagnostics\\usertmp\\mimikatz.exe' was running on the machine, often associated with attacker attempts to access credentials.'",
        "Machine logs indicate that the suspicious process: 'c:\\diagnostics\\usertmp\\mimikatz.exe' was running on the machine, often associated with attacker attempts to access credentials.'",
        "Maliciuos IP communication was identified based on TI",
        "Maliciuos IP communication was identified based on TI",
        "Maliciuos IP communication was identified based on TI",
        "Maliciuos IP communication was identified based on TI",
        "Maliciuos IP communication was identified based on TI",
        "Maliciuos IP communication was identified based on TI",
        "Network traffic analysis detected suspicious outgoing traffic from vm1lin. This traffic may be a result of a spam activity.\r\r\nIf this behavior is intentional, please note that sending spam is against Azure Terms of service. If this behavior is unintentional, it may mean your machine has been compromised.",
        "Network traffic analysis indicates that your machine (IP 1.2.3.4) has communicated with what is possibly a Command and Control center for a malware of type Dridex at IP 183.95.154.13. Dridex is a banking trojan family that steals credentials of online banking websites. Dridex is typically distributed via phishing emails with Microsoft Word and Excel document attachments. These Office documents contain malicious macro code that downloads and installs Dridex on the affected system.",
        "Network traffic analysis indicates that your machine (IP 1.2.3.5) has communicated with what is possibly a Command and Control center for a malware of type AldiBot at IP 183.95.154.13. AldiBot is an HTTP-controlled denial-of-service bot - it offers HTTP and TCP DDoS capabilities along with Firefox, Pidgin and jDownloader credential theft, the creation of a SOCKS5 proxy on infected machine, and the ability to download and execute malicious code of the attacker’s choice.",
        "Plao Alto admin logged on via SSH - Demo",
        "Plao Alto admin logged on via SSH - Demo",
        "Plao Alto admin logged on via SSH - Demo",
        "Plao Alto admin logged on via SSH - Demo",
        "Plao Alto admin logged on via SSH - Demo",
        "Plao Alto admin logged on via SSH - Demo",
        "Potential Sql Injection was detected on your database lianadb on server sqlserver2ascdemo.database.windows.net",
        "SQL-Injection",
        "Several Remote Desktop login attempts were detected from FreeRDP (96.81.218.10), none of them succeeded.\r\r\nEvent logs analysis shows that in the last 48 minutes there were 93 failed attempts.\r\r\n32 of the failed login attempts aimed at non-existent users.\r\r\n1 of the failed login attempts aimed at existing users.",
        "Several Remote Desktop login attempts were detected from FreeRDP (96.81.218.10), some of which were able to successfully login to the machine.\r\r\nEvent logs analysis shows that in the last 30 minutes there were 60 failed attempts.\r\r\n20 of the failed login attempts aimed at non-existent users.\r\r\n1 of the failed login attempts aimed at existing users.",
        "Suspiciously constructed process name detected: c:\\diagnostics\\systmp\\sdopfjiowtbkjfnbeioruj.exe",
        "Suspiciously constructed process name detected: c:\\diagnostics\\usertmp\\sdopfjiowtbkjfnbeioruj.exe",
        "The analysis of host data on MSTICALERTSWIN1 detected execution of \"net.exe stop\" command being used to stop critical services like SharedAccess or Windows Security Center. The stopping of either of these service can be indication of a malicious behavior.",
        "The system process SVCHOST was observed running a rare service group. Malware often use SVCHOST to masquerade its malicious activity.",
        "The system process SVCHOST was observed running a rare service group. Malware often use SVCHOST to masquerade its malicious activity.",
        "The system process SVCHOST was observed running a rare service group. Malware often use SVCHOST to masquerade its malicious activity.",
        "The system process SVCHOST was observed running a rare service group. Malware often use SVCHOST to masquerade its malicious activity.",
        "The system process SVCHOST was observed running a rare service group. Malware often use SVCHOST to masquerade its malicious activity.",
        "The system process SVCHOST was observed running in an abnormal context. Malware often use SVCHOST to masquerade its malicious activity.",
        "The system process SVCHOST was observed running in an abnormal context. Malware often use SVCHOST to masquerade its malicious activity.",
        "The system process SVCHOST was observed running in an abnormal context. Malware often use SVCHOST to masquerade its malicious activity.",
        "The system process SVCHOST was observed running in an abnormal context. Malware often use SVCHOST to masquerade its malicious activity.",
        "The system process SVCHOST was observed running in an abnormal context. Malware often use SVCHOST to masquerade its malicious activity.",
        "The system process SVCHOST was observed running in an abnormal context. Malware often use SVCHOST to masquerade its malicious activity.",
        "The system process c:\\windows\\fonts\\csrss.exe was observed running in an abnormal context. Malware often use this process name to masquerade its malicious activity.",
        "The system process c:\\windows\\fonts\\csrss.exe was observed running in an abnormal context. Malware often use this process name to masquerade its malicious activity.",
        "The system process c:\\windows\\fonts\\csrss.exe was observed running in an abnormal context. Malware often use this process name to masquerade its malicious activity.",
        "The system process c:\\windows\\fonts\\csrss.exe was observed running in an abnormal context. Malware often use this process name to masquerade its malicious activity.",
        "The system process c:\\windows\\fonts\\csrss.exe was observed running in an abnormal context. Malware often use this process name to masquerade its malicious activity.",
        "This is a test alert generated by Azure Security Center. No further action is needed.",
        "This is a test alert generated by Azure Security Center. No further action is needed.",
        "This is a test alert generated by Azure Security Center. No further action is needed.",
        "This is a test alert generated by Azure Security Center. No further action is needed.",
        "This is a test alert generated by Azure Security Center. No further action is needed.",
        "Threat intelligence indicates that your machine (at IP 1.2.3.5) may have been compromised by a malware of type AldiBot. AldiBot is an HTTP-controlled denial-of-service bot - it offers HTTP and TCP DDoS capabilities along with Firefox, Pidgin and jDownloader credential theft, the creation of a SOCKS5 proxy on infected machine, and the ability to download and execute malicious code of the attacker’s choice."
       ],
       "description": "Source: ",
       "index": 7,
       "layout": "IPY_MODEL_2af4f57a79ff44c09749abb619cee9b3",
       "style": "IPY_MODEL_d7c0e50489fc4328b2cfb968ffbec779"
      }
     },
     "40bf1dc9c7bd458a8995649e7e194e90": {
      "model_module": "@jupyter-widgets/controls",
      "model_module_version": "1.5.0",
      "model_name": "ButtonModel",
      "state": {
       "description": "Add All ⇾",
       "layout": "IPY_MODEL_418a83e5d40e4f33b3ff25810f011df0",
       "style": "IPY_MODEL_813b5944db554ba1aea27a11ac9baebb"
      }
     },
     "41256e73e163469d8c79fcea3c794e01": {
      "model_module": "@jupyter-widgets/controls",
      "model_module_version": "1.5.0",
      "model_name": "HBoxModel",
      "state": {
       "children": [
        "IPY_MODEL_0f3c8978404e40e990f488e9e0d25786",
        "IPY_MODEL_e3b0cf51bc714316992d7df3e21476d7",
        "IPY_MODEL_393cdaaa64fb4f309632fa7c5b5407c2"
       ],
       "layout": "IPY_MODEL_6df869dced0049f5aa2b393fa40b33e0"
      }
     },
     "418a83e5d40e4f33b3ff25810f011df0": {
      "model_module": "@jupyter-widgets/base",
      "model_module_version": "1.2.0",
      "model_name": "LayoutModel",
      "state": {}
     },
     "41af552694ee4298b800926366a4caf4": {
      "model_module": "@jupyter-widgets/controls",
      "model_module_version": "1.5.0",
      "model_name": "DescriptionStyleModel",
      "state": {
       "description_width": "initial"
      }
     },
     "42c54bb07e73468493073ba6b1175a76": {
      "model_module": "@jupyter-widgets/controls",
      "model_module_version": "1.5.0",
      "model_name": "ButtonModel",
      "state": {
       "description": "Add All ⇾",
       "layout": "IPY_MODEL_321a0a8b10534d94b6830620ad75507d",
       "style": "IPY_MODEL_abe7733550aa424686584a93e6310e33"
      }
     },
     "43133ee297f4409ebe410b9381c0e262": {
      "model_module": "@jupyter-widgets/base",
      "model_module_version": "1.2.0",
      "model_name": "LayoutModel",
      "state": {}
     },
     "434501ef4c2542709bda148e04889283": {
      "model_module": "@jupyter-widgets/controls",
      "model_module_version": "1.5.0",
      "model_name": "VBoxModel",
      "state": {
       "children": [
        "IPY_MODEL_bf1c9172b41a40e482338972c53e242d",
        "IPY_MODEL_c89a584192bc425a98e90ad34ef4b0ac",
        "IPY_MODEL_967903e5f95b4fdfa43f2053596c3677",
        "IPY_MODEL_633d8355cd9b4628900236d4ae31a2e5"
       ],
       "layout": "IPY_MODEL_7a043a34cbbc431a8cc6b2c266e6ff95"
      }
     },
     "43460937823040cbb8c3bee98c6dcf9f": {
      "model_module": "@jupyter-widgets/controls",
      "model_module_version": "1.5.0",
      "model_name": "ButtonStyleModel",
      "state": {}
     },
     "441d3db76a6147068da94d23bfeef269": {
      "model_module": "@jupyter-widgets/controls",
      "model_module_version": "1.5.0",
      "model_name": "SliderStyleModel",
      "state": {
       "description_width": "initial"
      }
     },
     "44e786e89a594006b0bd80b413160de8": {
      "model_module": "@jupyter-widgets/controls",
      "model_module_version": "1.5.0",
      "model_name": "DescriptionStyleModel",
      "state": {
       "description_width": ""
      }
     },
     "460d336b20c04082b66c3f06325b0160": {
      "model_module": "@jupyter-widgets/base",
      "model_module_version": "1.2.0",
      "model_name": "LayoutModel",
      "state": {}
     },
     "467e8872f6414b498d1819fad872f755": {
      "model_module": "@jupyter-widgets/controls",
      "model_module_version": "1.5.0",
      "model_name": "TextModel",
      "state": {
       "description": "Query end time (UTC) :  ",
       "layout": "IPY_MODEL_c7c6a0cfda9a44658bf0b793dbe18e42",
       "style": "IPY_MODEL_41af552694ee4298b800926366a4caf4",
       "value": "2019-09-03 22:05:58.605368"
      }
     },
     "4697f993ec8443d2891f25b01c702042": {
      "model_module": "@jupyter-widgets/controls",
      "model_module_version": "1.5.0",
      "model_name": "DescriptionStyleModel",
      "state": {
       "description_width": ""
      }
     },
     "46ae8e8cff144aa99fb5ea201fa58dad": {
      "model_module": "@jupyter-widgets/controls",
      "model_module_version": "1.5.0",
      "model_name": "SliderStyleModel",
      "state": {
       "description_width": "initial"
      }
     },
     "46b4ad4bce9747289399cf11c3d0705e": {
      "model_module": "@jupyter-widgets/controls",
      "model_module_version": "1.5.0",
      "model_name": "VBoxModel",
      "state": {
       "children": [
        "IPY_MODEL_57f73d0b7e6845adb238e44501bb9c80",
        "IPY_MODEL_66d33af05f3c4ca8a95ee39a574f6277",
        "IPY_MODEL_759fb4d1549c4b30836f053fe619067b",
        "IPY_MODEL_65aa17ed73ee41d7a6312082623f5011"
       ],
       "layout": "IPY_MODEL_5a053094b47a4265982beec2188f3e86"
      }
     },
     "4874fb82af594516b2c240a6e387ac97": {
      "model_module": "@jupyter-widgets/controls",
      "model_module_version": "1.5.0",
      "model_name": "DescriptionStyleModel",
      "state": {
       "description_width": ""
      }
     },
     "48ca401114d64300bf3e766fb40e2ab2": {
      "model_module": "@jupyter-widgets/controls",
      "model_module_version": "1.5.0",
      "model_name": "ButtonStyleModel",
      "state": {}
     },
     "493e9894485047b8b96892a33a04dcdd": {
      "model_module": "@jupyter-widgets/base",
      "model_module_version": "1.2.0",
      "model_name": "LayoutModel",
      "state": {}
     },
     "4965d570288242a98bf81e5b45e3f782": {
      "model_module": "@jupyter-widgets/controls",
      "model_module_version": "1.5.0",
      "model_name": "VBoxModel",
      "state": {
       "children": [
        "IPY_MODEL_2697aa1d4b774708a08ac673ade1990b",
        "IPY_MODEL_16c2c6e5646c4910afa7632b405fa431",
        "IPY_MODEL_31eaef366a854bb0863cb8498e361fe8",
        "IPY_MODEL_6f7f4c07d0fd464c83652edc353f8b7e"
       ],
       "layout": "IPY_MODEL_b9a0892e3e7e46a0b2719b828c19d237"
      }
     },
     "49a576dc4b584ea8a0e8fb00e5ba33b2": {
      "model_module": "@jupyter-widgets/controls",
      "model_module_version": "1.5.0",
      "model_name": "DescriptionStyleModel",
      "state": {
       "description_width": "initial"
      }
     },
     "4a94b4d0488c4381a3db025e772da2ef": {
      "model_module": "@jupyter-widgets/controls",
      "model_module_version": "1.5.0",
      "model_name": "ButtonStyleModel",
      "state": {}
     },
     "4a9edb509fbb44f58343d3dbc7837f90": {
      "model_module": "@jupyter-widgets/base",
      "model_module_version": "1.2.0",
      "model_name": "LayoutModel",
      "state": {
       "width": "80%"
      }
     },
     "4ac553bd4ff04bc49f390e686d171ee9": {
      "model_module": "@jupyter-widgets/controls",
      "model_module_version": "1.5.0",
      "model_name": "ButtonModel",
      "state": {
       "description": "Add ⇾",
       "layout": "IPY_MODEL_c8e34246317b40a8b7cb5aa54fcb4053",
       "style": "IPY_MODEL_fe957b86f208434c9d5cddee8d282188"
      }
     },
     "4d4f86730db94d6eae63862f404804b0": {
      "model_module": "@jupyter-widgets/controls",
      "model_module_version": "1.5.0",
      "model_name": "DescriptionStyleModel",
      "state": {
       "description_width": ""
      }
     },
     "4d9de50cdfa74f7b8a6b1424481302ef": {
      "model_module": "@jupyter-widgets/controls",
      "model_module_version": "1.5.0",
      "model_name": "DescriptionStyleModel",
      "state": {
       "description_width": "initial"
      }
     },
     "4da812029e2c4b299d8b8170f91231b0": {
      "model_module": "@jupyter-widgets/base",
      "model_module_version": "1.2.0",
      "model_name": "LayoutModel",
      "state": {}
     },
     "4ec97a51e39a4d589e03f8f1ccc4d445": {
      "model_module": "@jupyter-widgets/controls",
      "model_module_version": "1.5.0",
      "model_name": "VBoxModel",
      "state": {
       "children": [
        "IPY_MODEL_7847da8a5ebb4d87ab94baaa625197d2",
        "IPY_MODEL_f6389d09ca6d4f0c8846b92368756453",
        "IPY_MODEL_25bace08474945b8b17e089c15d117b8"
       ],
       "layout": "IPY_MODEL_02882c7ab3e443c3863f11a9e52b8c08"
      }
     },
     "4ef789cc20994b238f12db9d884c87ac": {
      "model_module": "@jupyter-widgets/base",
      "model_module_version": "1.2.0",
      "model_name": "LayoutModel",
      "state": {}
     },
     "4f6725ff30214e1bb07889d1117daab9": {
      "model_module": "@jupyter-widgets/base",
      "model_module_version": "1.2.0",
      "model_name": "LayoutModel",
      "state": {}
     },
     "4f7edb7a500447ec86a53bb4759f9a34": {
      "model_module": "@jupyter-widgets/base",
      "model_module_version": "1.2.0",
      "model_name": "LayoutModel",
      "state": {}
     },
     "4fe35cc67bc9406a845920b108f8d94c": {
      "model_module": "@jupyter-widgets/base",
      "model_module_version": "1.2.0",
      "model_name": "LayoutModel",
      "state": {}
     },
     "51289eb5563f43f08a07d105066cd09e": {
      "model_module": "@jupyter-widgets/base",
      "model_module_version": "1.2.0",
      "model_name": "LayoutModel",
      "state": {}
     },
     "51410ebb4e63472ba0117dbff2fb9ea7": {
      "model_module": "@jupyter-widgets/controls",
      "model_module_version": "1.5.0",
      "model_name": "DescriptionStyleModel",
      "state": {
       "description_width": "initial"
      }
     },
     "515c62ce7d4a4b759207c102b4c79d81": {
      "model_module": "@jupyter-widgets/controls",
      "model_module_version": "1.5.0",
      "model_name": "TextModel",
      "state": {
       "description": "Time (24hr)",
       "layout": "IPY_MODEL_956ab27e453c4f98ad4c98595f80197c",
       "style": "IPY_MODEL_3a2b3498277f4f2bad8ccab97ef43936",
       "value": "23:37:03.860216"
      }
     },
     "51c67766c7194f79b08ed89117046153": {
      "model_module": "@jupyter-widgets/base",
      "model_module_version": "1.2.0",
      "model_name": "LayoutModel",
      "state": {
       "width": "50%"
      }
     },
     "5218d5aa3462476786e282ff6b1b1e28": {
      "model_module": "@jupyter-widgets/base",
      "model_module_version": "1.2.0",
      "model_name": "LayoutModel",
      "state": {}
     },
     "52ee2679ade14e0786eda93607b668ed": {
      "model_module": "@jupyter-widgets/base",
      "model_module_version": "1.2.0",
      "model_name": "LayoutModel",
      "state": {}
     },
     "52fac839490d45da8a71718a549e0406": {
      "model_module": "@jupyter-widgets/controls",
      "model_module_version": "1.5.0",
      "model_name": "DescriptionStyleModel",
      "state": {
       "description_width": ""
      }
     },
     "534f34e9ee854ad4942faab08c136ed2": {
      "model_module": "@jupyter-widgets/controls",
      "model_module_version": "1.5.0",
      "model_name": "VBoxModel",
      "state": {
       "children": [
        "IPY_MODEL_3fbf158aac294b5180ddbadfdda198d9",
        "IPY_MODEL_ced7cdbdab684250a57d99ca8b8b0e1f",
        "IPY_MODEL_16c4539db666437c9b80b483de6865cd"
       ],
       "layout": "IPY_MODEL_5676b0cb973e4019bb269ac1c1f4cf94"
      }
     },
     "54809e558baf464ab23efbe518d7a23f": {
      "model_module": "@jupyter-widgets/base",
      "model_module_version": "1.2.0",
      "model_name": "LayoutModel",
      "state": {}
     },
     "54d9d0e2b9be40a2801ef9ec51fe41a8": {
      "model_module": "@jupyter-widgets/controls",
      "model_module_version": "1.5.0",
      "model_name": "HBoxModel",
      "state": {
       "children": [
        "IPY_MODEL_4048307cdf4c4086a3b3b798e249ad3e",
        "IPY_MODEL_a8d94649069a40b6b2da6797fef0829f",
        "IPY_MODEL_004e026ef17b4b069553667a1c9f9f4d"
       ],
       "layout": "IPY_MODEL_78d771a1b0004e1ea033a8bc316032fd"
      }
     },
     "5527ace508774b42a5fc8f9e48a80e50": {
      "model_module": "@jupyter-widgets/controls",
      "model_module_version": "1.5.0",
      "model_name": "ButtonStyleModel",
      "state": {}
     },
     "554bb0af4ebd49109ef6e9d98e61ec9c": {
      "model_module": "@jupyter-widgets/controls",
      "model_module_version": "1.5.0",
      "model_name": "DescriptionStyleModel",
      "state": {
       "description_width": ""
      }
     },
     "558d70c5469c43a1b7a6fd16f831b713": {
      "model_module": "@jupyter-widgets/controls",
      "model_module_version": "1.5.0",
      "model_name": "ButtonStyleModel",
      "state": {}
     },
     "5676b0cb973e4019bb269ac1c1f4cf94": {
      "model_module": "@jupyter-widgets/base",
      "model_module_version": "1.2.0",
      "model_name": "LayoutModel",
      "state": {}
     },
     "56bcfe2e411941e4adf42c878aa319f9": {
      "model_module": "@jupyter-widgets/controls",
      "model_module_version": "1.5.0",
      "model_name": "SelectModel",
      "state": {
       "_options_labels": [
        "An event log was cleared",
        "Anomalous account creation detected",
        "Azure Security Center test alert (not a threat)",
        "DC local group addition - Demo",
        "DC with MS AM engine failure - Demo",
        "Deep Security Agent detected a malware",
        "Detected Petya ransomware indicators",
        "Detected actions indicative of disabling and deleting IIS log files.",
        "Detected anomalous mix of upper and lower case characters in command-line",
        "Detected change to a registry key that can be abused to bypass UAC",
        "Detected decoding of an executable using built-in certutil.exe tool",
        "Detected encoded executable in command line data",
        "Detected obfuscated command line.",
        "Detected possible execution of keygen executable",
        "Detected possible execution of malware dropper",
        "Detected possible local reconnaissance activity",
        "Detected potentially suspicious use of Telegram tool",
        "Detected suspicious Set-ExecutionPolicy and WinRM changes",
        "Detected suspicious commandline arguments",
        "Detected suspicious commandline used to start all executables in a directory",
        "Detected suspicious credentials in commandline",
        "Detected suspicious document credentials",
        "Detected suspicious execution of VBScript.Encode command",
        "Detected suspicious execution via rundll32.exe",
        "Detected suspicious file cleanup commands",
        "Detected suspicious file creation",
        "Detected suspicious named pipe communications",
        "Detected suspicious new firewall rule",
        "Detected suspicious use of Cacls to lower the security state of the system.",
        "Detected suspicious use of FTP -s Switch",
        "Detected suspicious use of Pcalua.exe to launch executable code",
        "Detected the disabling of critical services",
        "Digital currency mining related behavior detected",
        "Executable found running from a suspicious location",
        "Failed RDP Brute Force Attack",
        "Global domain trust creation - Demo",
        "High risk software detected",
        "Maliciuos IP communication",
        "Modified system binary discovered in dump file 5bd767e4-2d08-4714-b744-aaed04b57107__391365252.hdmp",
        "Multiple Domain Accounts Queried",
        "Network communication with a malicious machine detected",
        "Palo Alto admin logged on via SSH - Demo",
        "Possible compromised machine detected",
        "Possible credential dumping detected",
        "Possible outgoing spam activity detected",
        "Potential SQL Injection",
        "Potential attempt to bypass AppLocker detected",
        "Random process name detected",
        "Ransomware indicators detected",
        "Rare SVCHOST service group executed",
        "SQL injection blocked",
        "Sticky keys attack detected",
        "Successful RDP brute force attack",
        "Suspected Kerberos Golden Ticket attack parameters observed",
        "Suspicious Account Added",
        "Suspicious Account Creation Detected",
        "Suspicious Powershell Activity Detected",
        "Suspicious SVCHOST process executed",
        "Suspicious Volume Shadow Copy Activity",
        "Suspicious WindowPosition registry value detected",
        "Suspicious double extension file executed",
        "Suspicious download using Certutil detected",
        "Suspicious powershell cmdlets executed",
        "Suspicious process executed",
        "Suspicious system process executed",
        "Suspiciously named process detected"
       ],
       "description": "Source: ",
       "index": 0,
       "layout": "IPY_MODEL_c9b8437056494e628fa40796577a20fb",
       "style": "IPY_MODEL_6e34b648646f41238a9ed52fde4cfd52"
      }
     },
     "572c0bc2d50e4f90987bce394fd0293e": {
      "model_module": "@jupyter-widgets/base",
      "model_module_version": "1.2.0",
      "model_name": "LayoutModel",
      "state": {
       "height": "200px",
       "width": "40%"
      }
     },
     "5752dd8b5a184343905e01632d2e61d8": {
      "model_module": "@jupyter-widgets/controls",
      "model_module_version": "1.5.0",
      "model_name": "DescriptionStyleModel",
      "state": {
       "description_width": ""
      }
     },
     "57b04480b1064d838bb9f5bb1f5bbb61": {
      "model_module": "@jupyter-widgets/controls",
      "model_module_version": "1.5.0",
      "model_name": "ButtonStyleModel",
      "state": {}
     },
     "57b34c02a50248268b51513665eab0cc": {
      "model_module": "@jupyter-widgets/controls",
      "model_module_version": "1.5.0",
      "model_name": "DatePickerModel",
      "state": {
       "description": "Origin Date",
       "disabled": false,
       "layout": "IPY_MODEL_718fd217399347df8a7f87fbcfd0c973",
       "style": "IPY_MODEL_401a8e06989f44c68c5f9b1fdf1c0482",
       "value": {
        "date": 2,
        "month": 8,
        "year": 2019
       }
      }
     },
     "57f73d0b7e6845adb238e44501bb9c80": {
      "model_module": "@jupyter-widgets/controls",
      "model_module_version": "1.5.0",
      "model_name": "ButtonModel",
      "state": {
       "description": "Add All ⇾",
       "layout": "IPY_MODEL_24b638d90a1c401b893f8583a319e0bb",
       "style": "IPY_MODEL_394592e241a3442585ede81da9390e08"
      }
     },
     "5821eb8b9211480e86e9f22329e4e451": {
      "model_module": "@jupyter-widgets/controls",
      "model_module_version": "1.5.0",
      "model_name": "ButtonStyleModel",
      "state": {}
     },
     "584bad102e72415b843004d3cd19f9c8": {
      "model_module": "@jupyter-widgets/controls",
      "model_module_version": "1.5.0",
      "model_name": "DescriptionStyleModel",
      "state": {
       "description_width": ""
      }
     },
     "58728492253b4c048d40e656e4ee1316": {
      "model_module": "@jupyter-widgets/base",
      "model_module_version": "1.2.0",
      "model_name": "LayoutModel",
      "state": {}
     },
     "589ee341967e4559bcca48b9c461dd97": {
      "model_module": "@jupyter-widgets/controls",
      "model_module_version": "1.5.0",
      "model_name": "ButtonStyleModel",
      "state": {}
     },
     "58b5791afab34426ac58e80e0226b808": {
      "model_module": "@jupyter-widgets/controls",
      "model_module_version": "1.5.0",
      "model_name": "DescriptionStyleModel",
      "state": {
       "description_width": ""
      }
     },
     "5959fdc70dd947d2b2807831cecbd89a": {
      "model_module": "@jupyter-widgets/controls",
      "model_module_version": "1.5.0",
      "model_name": "ButtonModel",
      "state": {
       "description": "Add All ⇾",
       "layout": "IPY_MODEL_d96db36c922442e48fc1e2d342938023",
       "style": "IPY_MODEL_37720fd087b64b9d8b3b9be7e067dc68"
      }
     },
     "59af55e7c6e24b608cba841171c5e7a5": {
      "model_module": "@jupyter-widgets/base",
      "model_module_version": "1.2.0",
      "model_name": "LayoutModel",
      "state": {}
     },
     "5a053094b47a4265982beec2188f3e86": {
      "model_module": "@jupyter-widgets/base",
      "model_module_version": "1.2.0",
      "model_name": "LayoutModel",
      "state": {}
     },
     "5a0634ac45714ce1ad9321ba70d8b2f9": {
      "model_module": "@jupyter-widgets/controls",
      "model_module_version": "1.5.0",
      "model_name": "ButtonStyleModel",
      "state": {}
     },
     "5a737839222e4265a0ecc715aa904ae6": {
      "model_module": "@jupyter-widgets/base",
      "model_module_version": "1.2.0",
      "model_name": "LayoutModel",
      "state": {}
     },
     "5b08654955bf4f1497125ba2094f0611": {
      "model_module": "@jupyter-widgets/controls",
      "model_module_version": "1.5.0",
      "model_name": "ButtonStyleModel",
      "state": {}
     },
     "5b6fdb5e8fb74b8c81bfe10f1ef96fbd": {
      "model_module": "@jupyter-widgets/controls",
      "model_module_version": "1.5.0",
      "model_name": "ButtonModel",
      "state": {
       "description": "⇽ Remove",
       "layout": "IPY_MODEL_cf998896a5d04fccab85d3280705b429",
       "style": "IPY_MODEL_250b3da4e4a24bc4be8a317a6cfdb763"
      }
     },
     "5b875374792f4523b0660a3b972d272e": {
      "model_module": "@jupyter-widgets/base",
      "model_module_version": "1.2.0",
      "model_name": "LayoutModel",
      "state": {}
     },
     "5bf905b050ec41c986d10ef5bb50a66a": {
      "model_module": "@jupyter-widgets/controls",
      "model_module_version": "1.5.0",
      "model_name": "DescriptionStyleModel",
      "state": {
       "description_width": "initial"
      }
     },
     "5c0c1ab423b344dab98e81b9457185e8": {
      "model_module": "@jupyter-widgets/base",
      "model_module_version": "1.2.0",
      "model_name": "LayoutModel",
      "state": {}
     },
     "5c412dbf81804362bc078e56ef1cd7f5": {
      "model_module": "@jupyter-widgets/base",
      "model_module_version": "1.2.0",
      "model_name": "LayoutModel",
      "state": {}
     },
     "5d7b3b28f4ce44c1bd46e80df035c0bb": {
      "model_module": "@jupyter-widgets/base",
      "model_module_version": "1.2.0",
      "model_name": "LayoutModel",
      "state": {}
     },
     "5d9f97685f294e67be874bea79f008e4": {
      "model_module": "@jupyter-widgets/controls",
      "model_module_version": "1.5.0",
      "model_name": "VBoxModel",
      "state": {
       "children": [
        "IPY_MODEL_7a59ba4e8fc547a0bc53655eb0f32dc0",
        "IPY_MODEL_037e55706f7e4abaab103c67ce40b38c",
        "IPY_MODEL_2a260455cb4e499481c11be42b1e7eeb"
       ],
       "layout": "IPY_MODEL_6578fae7b3e0432eadf4a229297a0618"
      }
     },
     "5eac35d8ff5941bc89c70f47d23c105f": {
      "model_module": "@jupyter-widgets/controls",
      "model_module_version": "1.5.0",
      "model_name": "IntRangeSliderModel",
      "state": {
       "_model_name": "IntRangeSliderModel",
       "_view_name": "IntRangeSliderView",
       "description": "Time Range (hour):",
       "layout": "IPY_MODEL_d81f02c6d09647eebaf98498e858d7b8",
       "max": 1,
       "min": -20,
       "style": "IPY_MODEL_441d3db76a6147068da94d23bfeef269",
       "value": [
        -1,
        1
       ]
      }
     },
     "5f38c00830694dc6b5665ea0f0e467cc": {
      "model_module": "@jupyter-widgets/controls",
      "model_module_version": "1.5.0",
      "model_name": "HTMLModel",
      "state": {
       "layout": "IPY_MODEL_d05b58eac581461a84944a74cd1177e5",
       "style": "IPY_MODEL_4874fb82af594516b2c240a6e387ac97",
       "value": "<h4>Set query time boundaries</h4>"
      }
     },
     "5f8efee2676e480fb95ae2fb62e96e11": {
      "model_module": "@jupyter-widgets/base",
      "model_module_version": "1.2.0",
      "model_name": "LayoutModel",
      "state": {
       "height": "200px",
       "width": "40%"
      }
     },
     "5f915ace8609471aad26e0b00b6311bd": {
      "model_module": "@jupyter-widgets/controls",
      "model_module_version": "1.5.0",
      "model_name": "DescriptionStyleModel",
      "state": {
       "description_width": "initial"
      }
     },
     "6019670db1ef47a3adce8bf04e35d849": {
      "model_module": "@jupyter-widgets/base",
      "model_module_version": "1.2.0",
      "model_name": "LayoutModel",
      "state": {
       "width": "50%"
      }
     },
     "604dae1837d4487d992aafafa7254a41": {
      "model_module": "@jupyter-widgets/base",
      "model_module_version": "1.2.0",
      "model_name": "LayoutModel",
      "state": {}
     },
     "619633a2a3a34c948b64d13d1c3c0176": {
      "model_module": "@jupyter-widgets/controls",
      "model_module_version": "1.5.0",
      "model_name": "DescriptionStyleModel",
      "state": {
       "description_width": ""
      }
     },
     "61a234c983dd4f1a9b3b1f6d59f36964": {
      "model_module": "@jupyter-widgets/controls",
      "model_module_version": "1.5.0",
      "model_name": "TextModel",
      "state": {
       "description": "Filter alerts by title:",
       "layout": "IPY_MODEL_179bf3d81526443db591b0e22d6d9089",
       "style": "IPY_MODEL_5f915ace8609471aad26e0b00b6311bd"
      }
     },
     "6265009d4dd948a9bbfe2b63243fd9ad": {
      "model_module": "@jupyter-widgets/base",
      "model_module_version": "1.2.0",
      "model_name": "LayoutModel",
      "state": {
       "width": "80%"
      }
     },
     "6291f1f4dcab4032a8cb67c48f5cbd17": {
      "model_module": "@jupyter-widgets/base",
      "model_module_version": "1.2.0",
      "model_name": "LayoutModel",
      "state": {
       "width": "80%"
      }
     },
     "633d8355cd9b4628900236d4ae31a2e5": {
      "model_module": "@jupyter-widgets/controls",
      "model_module_version": "1.5.0",
      "model_name": "ButtonModel",
      "state": {
       "description": "⇽ Remove All",
       "layout": "IPY_MODEL_9576a6d184de45e2830bc06b8a9c310a",
       "style": "IPY_MODEL_c1450b6169ff4f73bfd28c6f34382fcb"
      }
     },
     "635deb7526a7473fb4942ca7e9fd6fa4": {
      "model_module": "@jupyter-widgets/base",
      "model_module_version": "1.2.0",
      "model_name": "LayoutModel",
      "state": {
       "height": "200px",
       "width": "40%"
      }
     },
     "63ad55a67dd6450f92a1d47a72cf1c27": {
      "model_module": "@jupyter-widgets/base",
      "model_module_version": "1.2.0",
      "model_name": "LayoutModel",
      "state": {}
     },
     "643781bb8b9a49cebf74dc5e1fdb6421": {
      "model_module": "@jupyter-widgets/base",
      "model_module_version": "1.2.0",
      "model_name": "LayoutModel",
      "state": {
       "width": "50%"
      }
     },
     "64f1d9823aa444a69fd1d3db99f88dcb": {
      "model_module": "@jupyter-widgets/controls",
      "model_module_version": "1.5.0",
      "model_name": "IntSliderModel",
      "state": {
       "description": "Select time (hour) to look back",
       "layout": "IPY_MODEL_d1d88043c3ae47f1807cd0e3738dc288",
       "max": 48,
       "min": 1,
       "style": "IPY_MODEL_1c69131470a445428020f91cc8a418d6",
       "value": 4
      }
     },
     "65017f5f34d741e18e8d0e73496821fe": {
      "model_module": "@jupyter-widgets/controls",
      "model_module_version": "1.5.0",
      "model_name": "DescriptionStyleModel",
      "state": {
       "description_width": ""
      }
     },
     "6578fae7b3e0432eadf4a229297a0618": {
      "model_module": "@jupyter-widgets/base",
      "model_module_version": "1.2.0",
      "model_name": "LayoutModel",
      "state": {}
     },
     "65aa17ed73ee41d7a6312082623f5011": {
      "model_module": "@jupyter-widgets/controls",
      "model_module_version": "1.5.0",
      "model_name": "ButtonModel",
      "state": {
       "description": "⇽ Remove All",
       "layout": "IPY_MODEL_15c06dfe8a854852a8abbd271b58caf6",
       "style": "IPY_MODEL_ace52485bb774a36ab13a0302394a8c6"
      }
     },
     "66631fce91364b038c8a55cb2fc85078": {
      "model_module": "@jupyter-widgets/controls",
      "model_module_version": "1.5.0",
      "model_name": "HBoxModel",
      "state": {
       "children": [
        "IPY_MODEL_57b34c02a50248268b51513665eab0cc",
        "IPY_MODEL_b3089569a9794159a24fe9a8333e3bc3"
       ],
       "layout": "IPY_MODEL_e2d09196e2bc43e8a93ab2be841cbc4b"
      }
     },
     "66c9c3abddb3409eac3c54ceb5efe4f9": {
      "model_module": "@jupyter-widgets/base",
      "model_module_version": "1.2.0",
      "model_name": "LayoutModel",
      "state": {}
     },
     "66d33af05f3c4ca8a95ee39a574f6277": {
      "model_module": "@jupyter-widgets/controls",
      "model_module_version": "1.5.0",
      "model_name": "ButtonModel",
      "state": {
       "description": "Add ⇾",
       "layout": "IPY_MODEL_ab686b01407245749430d18fae6a28a1",
       "style": "IPY_MODEL_265bd07b6e2b4b06ae165ad5063758f2"
      }
     },
     "67477b709ad74ebb8194f4fca0a022d9": {
      "model_module": "@jupyter-widgets/controls",
      "model_module_version": "1.5.0",
      "model_name": "IntRangeSliderModel",
      "state": {
       "_model_name": "IntRangeSliderModel",
       "_view_name": "IntRangeSliderView",
       "description": "Time Range (hour):",
       "layout": "IPY_MODEL_6265009d4dd948a9bbfe2b63243fd9ad",
       "max": 2,
       "min": -20,
       "style": "IPY_MODEL_46ae8e8cff144aa99fb5ea201fa58dad",
       "value": [
        -4,
        2
       ]
      }
     },
     "67ea7e6faa094adb82314d3e4642af0e": {
      "model_module": "@jupyter-widgets/controls",
      "model_module_version": "1.5.0",
      "model_name": "DescriptionStyleModel",
      "state": {
       "description_width": "initial"
      }
     },
     "680edfb1d98a46798d29f596a4762f30": {
      "model_module": "@jupyter-widgets/base",
      "model_module_version": "1.2.0",
      "model_name": "LayoutModel",
      "state": {}
     },
     "687eeb795ebf49f18a83fbea657592da": {
      "model_module": "@jupyter-widgets/controls",
      "model_module_version": "1.5.0",
      "model_name": "VBoxModel",
      "state": {
       "children": [
        "IPY_MODEL_5959fdc70dd947d2b2807831cecbd89a",
        "IPY_MODEL_86c2db52abb347f2926f46623d138f83",
        "IPY_MODEL_0c2d1e3e8edf4944b80b10482cce42d2",
        "IPY_MODEL_32ace5294c7240df80c324c14382d2c9"
       ],
       "layout": "IPY_MODEL_5a737839222e4265a0ecc715aa904ae6"
      }
     },
     "698f9443eb81486eab86eca0109b4787": {
      "model_module": "@jupyter-widgets/controls",
      "model_module_version": "1.5.0",
      "model_name": "ButtonModel",
      "state": {
       "description": "Add ⇾",
       "layout": "IPY_MODEL_efd67046ebb6496cba3dff21da6dc16a",
       "style": "IPY_MODEL_a45bfd255c254302ac292e8968716844"
      }
     },
     "6a2caffbd08c4bba967db8ec9108415d": {
      "model_module": "@jupyter-widgets/controls",
      "model_module_version": "1.5.0",
      "model_name": "HTMLModel",
      "state": {
       "layout": "IPY_MODEL_9235b81a76314fb68be010a1d718305b",
       "style": "IPY_MODEL_374d0a27b6ed499f90fe0d36be47f531",
       "value": "<h4>Set query time boundaries</h4>"
      }
     },
     "6b34abdf79b3448980ad915704557d0e": {
      "model_module": "@jupyter-widgets/controls",
      "model_module_version": "1.5.0",
      "model_name": "SelectModel",
      "state": {
       "_options_labels": [
        "0073e6d8-6c2e-42e4-8966-d1f5a3dd3517",
        "00d33245-c643-4155-8c05-6abc4ee3b3cd",
        "029c9c95-c1fe-4419-bc3b-a6d832c87e65",
        "03e7bf17-8f77-42ca-8ac1-af8258f4d1ca",
        "03ec4bb4-878f-4999-8ff7-af9a66e11c78",
        "0402d10c-7489-482f-9e8a-bfa36d167d18",
        "0c3ae402-a9ea-4d5c-9c09-4274b7847c2c",
        "0e8db234-9727-41f3-a6e0-0773519603d2",
        "117b7a02-d1d0-4cf2-bc04-0b19a796b4d3",
        "12ae1e22-347e-454c-ae0d-ebb48cdf189b",
        "171b74b2-a431-4b55-8d69-128e5fb95329",
        "184c075e-64ee-4901-bc37-6eb999e81a11",
        "1b074412-133c-4ac9-8e3f-24103159b03e",
        "1b71748c-de74-4d90-a41a-d474de2b1d17",
        "1ba5718e-529b-441b-8036-ad06ee862e76",
        "1c680842-2a1d-40c0-a6e4-32e5dd144647",
        "1d736be8-babe-40d5-811d-f443b124e45a",
        "217a7303-a603-461d-b0eb-6586b8227a26",
        "226cc394-fccf-483d-888a-beafad2ed4a4",
        "24a6d6f3-acf1-41bd-a11f-01a1369bac02",
        "265472ff-3820-4dad-8da7-00e39e1a99fd",
        "26ccc2ad-8ce0-4f60-8215-18f99377b547",
        "28f9a2e6-1925-455e-ad97-7af7f92f521d",
        "290559aa-a3d0-425b-8ed2-e98ccc9f0aa0",
        "2a106d12-acd8-4dd7-9e1c-3c20b4eaa320",
        "2b2ff728-1a2a-46e8-a49a-6991e074a740",
        "2b59c1d5-a815-4562-a8d4-36d9777e6546",
        "2df8ae94-03fe-4b9f-a3a9-f3c6dab95c05",
        "30d988ff-b8d9-45df-8217-e56b0d4d591c",
        "3197aa65-2708-4a36-82dd-55fc3ed3f01d",
        "31ae6eeb-bd1d-4018-8df9-eeedd60bf1ab",
        "31b76dcb-4ddd-4886-a682-589b76b032d9",
        "3252483f-2fdb-411a-93f5-e268d5e56abf",
        "33edaa83-fe35-47de-9486-fc9792c5b65b",
        "34cc156e-9179-44c4-bd60-89dd1812e9e7",
        "35c8d588-ddf7-46b5-a0bf-f47023f9343c",
        "38d53571-e98a-4bb6-a17f-0361a561019e",
        "39dff905-8e4d-48bc-b028-60a12a02ae62",
        "3a20bebd-556f-44e6-8a19-569d939458c9",
        "3c380601-b5ad-4fff-9cdb-24528a3a19fd",
        "3ca6ca5a-8bf2-417f-b8c9-3cea37c84f4b",
        "3db7e1e7-2edc-4dd9-8c1d-d908f5b8a904",
        "3eb0eb4b-0536-430c-8ab6-cd48524c14b1",
        "43f7d8f3-fea5-4fca-a884-713c2d65203c",
        "48327b74-c904-402d-a1d8-2b3a882924e7",
        "492fbb97-a1fc-4880-95d2-e55ab2f142b6",
        "49828d69-d59e-4c47-80c2-8d62203bbd87",
        "4a524cc8-7613-4c42-93a9-8c1e466a4476",
        "4bb2ecc3-f4aa-40cd-a3d7-802fc9086e89",
        "4ca5c629-673c-4372-9bd3-ab7bf6d6e6f0",
        "4ea6c432-6d20-4986-9679-ecf58ac4854d",
        "4fa0022e-f431-4ba1-ae5f-ee23247e0853",
        "4fa26308-1daf-49ee-8880-b194f950d8b0",
        "5196b3f5-103c-40c2-9783-c7a1f8ce8f34",
        "51b74398-40e2-4b1b-9d92-89c0004738c9",
        "526e34b6-6578-4fc0-9db6-e126b4d673f0",
        "54bb943e-7fe9-4146-a43e-4064c8e0049f",
        "55cd3e12-3a91-4b06-9be6-833df3365142",
        "55e93ac7-ee7d-4fd7-ae7b-d64ef41df393",
        "58694b54-2bee-4160-9595-30903b466f6e",
        "58851b10-8f5c-48f1-aade-b1529f4e2c7f",
        "59f71190-b478-403a-81b1-5e163dd538e3",
        "5b42a152-64c2-4f16-8cc3-887b8b0161fc",
        "5c56421d-d894-4437-9b9a-a3b5c6b7e1df",
        "5c82cd9c-60f8-4056-bd39-8ccb2cdb7678",
        "5cb7ab95-6017-4031-afb2-e11518b0f5cc",
        "5eb2c501-77cc-4026-8a51-1f5b4ea99d63",
        "5f98d315-1e47-47b4-98c5-365a9d0028f2",
        "636ab38f-2528-4356-8602-d0910f8ac600",
        "63ca5203-9bc4-425e-9f25-e9dcfaedb443",
        "668ed54c-9e73-4d4f-a9c2-b88fd1b13db0",
        "68cd3c80-5b36-49e1-82a9-395b5e793626",
        "6a4e389d-9678-41ee-93a3-ca8ae818c8b0",
        "6a52c089-ed6b-4a05-859c-d731ad9f2b32",
        "6a71b543-4832-4658-8467-825aeafbe031",
        "6bbe2849-3194-4276-afbb-89dcefa9038a",
        "6c6836bb-23cd-4b31-b78e-08360c5a4f83",
        "72351be4-ae78-4cc6-9f6a-1ff87c31baeb",
        "75495c57-4fd6-4e27-b94c-c6f81f78bcb5",
        "76336679-bddf-460f-90fb-35a1386de7a6",
        "76bf04a5-71fa-487a-9742-d54941a7a194",
        "77211491-86de-4295-82bc-38e332fe1112",
        "7aa7c6b9-e08b-4229-90fa-d89a23cfa9df",
        "7b30c978-28d5-4a28-a4c2-0985f08ab1c6",
        "7b758942-59cd-4b84-93f1-50517a6a9316",
        "7e169933-4275-4b94-b37f-490417bcfc98",
        "7e663699-5412-496f-ac91-e21a7b6f0be5",
        "7f042810-8657-44e2-93ba-318ba108e3d6",
        "7f983018-fd59-4e9e-ba70-295f6beb0e9c",
        "806b0946-13f8-4882-96fc-5b81ef4af691",
        "8095ce01-1a2f-4973-95bb-bb46ee6c8016",
        "82730ffa-b9ce-43f4-bf3c-a97113107cc5",
        "836318d1-0fa0-4cfe-a3d0-2b1fdbaf2216",
        "83eeb504-3c2c-4c64-b309-f48653863bdd",
        "846ec406-bb3e-451b-bf6f-9e1e17a69bd6",
        "84ea8dcd-9436-4b4d-82b2-36114028bd61",
        "88eb8a87-a876-46aa-b8ed-be7298929ea8",
        "88f9ae7a-e6b5-4b54-b967-08f3fc503d91",
        "89d1850f-dccd-4d45-b194-650819d358d9",
        "8a3d199d-ff45-4620-aad9-95c2a354fcd1",
        "8c6c4eb9-dbd8-4484-b317-54d7d766f87b",
        "8df27789-fb10-4035-ac48-cd0883b2e6b0",
        "8e73946b-ebea-4625-aa60-d97b82dcfb07",
        "8f71e695-ba9b-4c97-9770-63cdeb34b7b4",
        "90beedae-1285-43d6-8f33-16bc542af39b",
        "91a4f9a7-70ad-433b-a568-34314e3f467f",
        "92a2f884-5827-4fb6-acf8-b0087b76aa73",
        "92f52d58-c6c4-426a-ae31-45693e585c9e",
        "953def48-a24b-42a9-bd02-7221be90f84a",
        "9868ed7d-397e-4aa4-8dbd-5a1c5f736c1e",
        "9895a5cc-6f49-45f5-a0eb-f05c1f11f264",
        "9984a237-2dd7-4932-bb8d-23ca535a6254",
        "9a34d332-2fb6-4f3f-beb0-d9817dc9b7cd",
        "9b4e4942-d564-4755-862c-7171d52921e3",
        "9bfd0e4b-ec93-46bb-8eea-f72e8f1262f1",
        "9d5e263f-55d2-441f-acf4-bf569b4cd976",
        "9d6d471a-c94f-4706-b0ff-b2f0301495aa",
        "9d815c5c-e4f2-4430-8be3-fee253574411",
        "9da8e3df-9c3b-4e20-8bd0-ace00aff9def",
        "9e449abd-e67b-4ec8-a191-e688d7d63e26",
        "a4aa878d-93b5-4cd1-931f-30f85b9e6db2",
        "a513ab17-2b6a-4b1a-a925-a0b3c21ec38c",
        "a5df127a-f7e8-44ff-b404-6d5b37d06488",
        "a6c60b76-dcdf-45c5-be56-9d98f5649e50",
        "a7cb1196-efe7-4110-9a69-8e3c8609bd9b",
        "a7e8e8c1-4561-48ea-bf75-a22c7bfc2257",
        "ad1fd62a-9565-41e4-b94a-6264942033f6",
        "ad5981a5-fdcc-406a-8742-e50bd7f84917",
        "adfabbe0-fce0-44f3-be4b-17283bd03bed",
        "b080127b-d5c1-425e-a7ca-e4bbd873009d",
        "b29906e3-91b3-427f-8d93-efe648ade3ac",
        "b2d9be9f-58e2-4174-8658-419670393253",
        "b3737297-038c-4514-a957-d591384b4256",
        "b530adbb-40b3-4c69-8590-0e8ac8f4bc69",
        "b56b9e61-fefb-47a3-a34f-7c1b44f8268a",
        "b66e93d7-b38b-4785-baa5-093edc18e649",
        "b6e594ea-16d3-480e-81a7-2f8fe3af64ba",
        "b9d79b27-d725-4a87-b7ec-6fc9ec591e8c",
        "bbf11a79-0ab2-4ee7-b2ec-1ad95890c9bc",
        "bd1a0865-a507-4e2b-b8df-613238a950df",
        "bddac8c5-cba5-4da2-a6dd-c0a39fc2b256",
        "bf226efc-3d3c-4b93-8af3-943a70984792",
        "bf604b0c-073d-4f94-a73e-fd99ac8364ea",
        "c0558adc-b4a9-4289-b9ad-7e7260f1cde0",
        "c0822e2b-785b-41a8-8136-21b7430a0078",
        "c1a9004f-7f64-4144-8ce0-8f76f9041703",
        "c45bcb62-9d89-44e8-bea9-7a9e35205576",
        "c6f3dea2-fe36-4e65-b161-1b1cd1104eb3",
        "c7318da8-368f-47f8-bff5-e15600a3fb80",
        "c762b0f7-a0f5-4dda-ab48-54b5ae6eade4",
        "c76cdb6c-cea0-4b2b-9ab6-1442a5857ed8",
        "ca8fd86e-af6f-4420-8aee-8470c5c2d2ff",
        "caa12d6c-4928-4787-90d4-cb27ff94373c",
        "ce7c7361-8ac9-47be-b8fb-7a87c87ee178",
        "d0b18c55-6af1-482b-a050-7e7ca1ae923d",
        "d12ed618-567b-4b8f-8241-82ad4c1cb28e",
        "d46877bd-e04d-401a-99bd-eec2a6b25663",
        "d5e026fa-6687-495e-878d-c4c93477cc78",
        "d65aa787-e867-43b1-9182-025a1a38173a",
        "d71c0a28-669f-4fc5-afb8-053e34e34728",
        "d89d1ab7-e5b7-426c-a98f-eab95deea3ad",
        "d950c52d-fcaf-43f4-b68b-2d3fea13b417",
        "daf0ba4a-d1f9-4ac9-ac59-fa2077c8134d",
        "df1b9eb2-05c4-4f7c-8540-cbb18ec5c608",
        "df47a8d3-472e-4323-9c2a-de8a0aec77e0",
        "e0c9484b-ad5f-4161-b73b-388676c05818",
        "e2a60bd1-d7c8-466d-a176-4333d4e0d1d5",
        "e586082e-35d2-4a01-9fd3-e9cd91259c99",
        "e5e1e112-43df-4a5d-abcf-713e56ca29b6",
        "e647375c-9979-47b5-9f78-f414a1aad26d",
        "e6c85135-2b91-4537-b9a0-dae7eabb8e9d",
        "e776fca2-4c01-43eb-ab97-b9845af3529c",
        "e9ff6947-fd12-42d2-bb63-2d814f04482a",
        "ec1678a1-0fe8-44c5-91b5-621c40d2bb8c",
        "ed5bcf39-ffd3-468a-82e3-28e108d4f06f",
        "ed9d92ac-0ab8-4a2e-a1dd-f70ee30a9af1",
        "ef9c04cb-333b-4465-9c62-55adc621d051",
        "f0d023fb-376f-46ab-9976-a5825d826bea",
        "f115c35a-88b0-4d16-9aa3-977a45278297",
        "f3490cf7-a303-4001-b7d6-8acf7e83f191",
        "f4324711-aeae-4912-a634-331b7e7456b6",
        "f6291e49-c290-4cd6-8188-abef044198d6",
        "f83c0705-d2ff-4355-a25d-ae858ee39b2d",
        "f9ddd8b3-5fa8-4f2f-b811-bdca90091195",
        "fa350f8b-2c81-478c-a383-debe0ab0c892",
        "fa4939d4-a20c-440a-839c-89c0c43e1ccc",
        "fa83104f-178f-4141-9f1c-4f8757c0ca55",
        "fcbb6bb7-4c7c-488e-903c-f625e98db7c4",
        "fd948195-6e81-4f50-91d1-7d7d4fb170f7"
       ],
       "description": "Source: ",
       "index": 0,
       "layout": "IPY_MODEL_5f8efee2676e480fb95ae2fb62e96e11",
       "style": "IPY_MODEL_5752dd8b5a184343905e01632d2e61d8"
      }
     },
     "6b4ce08c0752445f91890e900fc728c0": {
      "model_module": "@jupyter-widgets/base",
      "model_module_version": "1.2.0",
      "model_name": "LayoutModel",
      "state": {}
     },
     "6b8a43bca9764596ba6d75762c5265b8": {
      "model_module": "@jupyter-widgets/controls",
      "model_module_version": "1.5.0",
      "model_name": "VBoxModel",
      "state": {
       "children": [
        "IPY_MODEL_183e05a344314f5595b6943d224d946d",
        "IPY_MODEL_26de0090275748ba90ee1780b10f4a9f",
        "IPY_MODEL_e04a503660524b3198a926d326bf7415",
        "IPY_MODEL_e9030d81c37b4288ab27f417e63ea2d8"
       ],
       "layout": "IPY_MODEL_0ad40cd061ae4c1bbdf727ee051dc5de"
      }
     },
     "6c2e5afca801426e973997969e113797": {
      "model_module": "@jupyter-widgets/controls",
      "model_module_version": "1.5.0",
      "model_name": "DescriptionStyleModel",
      "state": {
       "description_width": ""
      }
     },
     "6c4c8535d6c04b9888040620c6b21791": {
      "model_module": "@jupyter-widgets/controls",
      "model_module_version": "1.5.0",
      "model_name": "VBoxModel",
      "state": {
       "children": [
        "IPY_MODEL_7476348a2ce649d1b85957cd9024285a",
        "IPY_MODEL_c6cdfbffe65c4073af49b096f663c289",
        "IPY_MODEL_135195cf583b41d3b48447f7fdd0e59b"
       ],
       "layout": "IPY_MODEL_0cce750b5f714388b0e4b359504f49b0"
      }
     },
     "6c7db85e44854f8885ffcf6f37cc04a4": {
      "model_module": "@jupyter-widgets/base",
      "model_module_version": "1.2.0",
      "model_name": "LayoutModel",
      "state": {}
     },
     "6d18645b9c1c4400bbba107753cd1b4c": {
      "model_module": "@jupyter-widgets/controls",
      "model_module_version": "1.5.0",
      "model_name": "SelectModel",
      "state": {
       "_options_labels": [
        "2018-12-30 00:02:00  Network communication with a malicious machine detected (nan) [id:a511e1bb-69e1-41a2-8054-c6fcb6aa2362]",
        "2019-01-01 00:02:00  Possible compromised machine detected (nan) [id:62ded865-938b-4bb3-afef-605d692607f1]",
        "2019-01-01 00:02:00  An event log was cleared (nan) [id:48facfa1-fe35-45ff-8c91-7a710cd462b9]",
        "2019-01-03 00:02:00  Suspicious process executed (nan) [id:a32adc3f-43f7-4e5d-b833-98baa71c2f51]",
        "2019-01-03 00:02:00  Suspicious double extension file executed (nan) [id:112dc225-bc2d-4328-97fd-a99e0b000b1f]",
        "2019-01-05 01:02:00  SQL injection blocked (nan) [id:0c68e539-f060-401f-b967-6b64b8f49198]",
        "2019-01-05 02:02:00  Failed RDP Brute Force Attack (nan) [id:8832e816-d634-4214-bb48-7a6678fdf0b7]",
        "2019-01-06 02:02:00  Successful RDP brute force attack (nan) [id:3b2b5ecc-ec29-4703-9450-29b29b937fd8]",
        "2019-01-06 03:02:00  Suspicious SVCHOST process executed (nan) [id:614ae18e-cd79-4d4c-97dc-24431be12b5b]",
        "2019-01-06 04:02:00  Multiple Domain Accounts Queried (vm1) [id:7b27ffab-7204-4856-a013-908de6c1804e]",
        "2019-01-06 05:02:00  Network communication with a malicious machine detected (nan) [id:98a6dea6-1b64-41d0-938e-0dec24b234ec]",
        "2019-01-07 05:02:00  Modified system binary discovered in dump file 5bd767e4-2d08-4714-b744-aaed04b57107__391365252.hdmp (nan) [id:775505ce-0ef9-4945-b697-303f7666d1b6]",
        "2019-01-08 05:02:00  Possible outgoing spam activity detected (vm1lin) [id:28f9b83a-33e6-44da-a002-0f48bff46a67]",
        "2019-01-09 05:02:00  Deep Security Agent detected a malware (nan) [id:5fc4f6a0-0687-4b93-998e-a230af39c10b]",
        "2019-01-09 05:38:06  Global domain trust creation - Demo (nan) [id:9740fe80-b642-4a38-8e86-05fa4d35508b]",
        "2019-01-09 06:25:57  Maliciuos IP communication (nan) [id:04e14d6f-6d4f-46d4-a5f6-2a26bcd34ce8]",
        "2019-01-09 06:31:40  DC local group addition - Demo (nan) [id:ace7fb98-ef96-46df-ba7b-9a15a141d368]",
        "2019-01-09 06:31:42  Palo Alto admin logged on via SSH - Demo (nan) [id:40a5916b-9697-423a-a5e4-95cca7c735e7]",
        "2019-01-09 06:33:55  DC with MS AM engine failure - Demo (nan) [id:78cc7e02-6116-459d-9cdc-a6dcc40ba937]",
        "2019-01-10 05:02:00  Potential SQL Injection (nan) [id:5365ee7a-f730-42d2-bcdf-b2e898ab98d7]",
        "2019-01-10 05:38:06  Global domain trust creation - Demo (nan) [id:401f2680-cc05-4e6f-a1f6-69cff2055cd9]",
        "2019-01-10 06:25:57  Maliciuos IP communication (nan) [id:b5786d68-7f5e-4be1-92e6-e255010d1d8c]",
        "2019-01-10 06:31:40  DC local group addition - Demo (nan) [id:01659bf1-1228-4e46-b73b-e7d173d365eb]",
        "2019-01-10 06:31:42  Palo Alto admin logged on via SSH - Demo (nan) [id:0ce6ad61-302a-4142-8eaa-4da9dfad9ca9]",
        "2019-01-10 06:33:55  DC with MS AM engine failure - Demo (nan) [id:df9f92cb-6fd2-469b-9b72-28f128df1adf]",
        "2019-01-10 19:18:10  Suspicious Account Added (nan) [id:b3f02c05-e844-4161-81d6-d736548d91ae]",
        "2019-01-11 05:38:06  Global domain trust creation - Demo (nan) [id:6b56aa8c-da76-4caf-b09d-8706292a8b89]",
        "2019-01-11 06:25:57  Maliciuos IP communication (nan) [id:4586bd9e-5c1e-4229-9a01-ecd84ad51448]",
        "2019-01-11 06:31:40  DC local group addition - Demo (nan) [id:047f47d6-79b7-4502-824b-97abc4905a73]",
        "2019-01-11 06:31:42  Palo Alto admin logged on via SSH - Demo (nan) [id:2d06cb42-bdff-426d-8091-ccc151bcbc94]",
        "2019-01-11 06:33:55  DC with MS AM engine failure - Demo (nan) [id:412ca580-63c8-4fd2-87e4-87b1ba4260b3]",
        "2019-01-11 19:18:10  Suspicious Account Added (nan) [id:42a8b425-1c41-4355-8343-18ad563c43b6]",
        "2019-01-12 05:38:06  Global domain trust creation - Demo (nan) [id:bc44b302-78c7-4be8-bf70-d39d6935fd74]",
        "2019-01-12 06:25:57  Maliciuos IP communication (nan) [id:c76f17e2-e739-4e7e-bf17-4dd163fc831f]",
        "2019-01-12 06:31:40  DC local group addition - Demo (nan) [id:07be11df-3dbf-49a5-8b5a-dcea75d89993]",
        "2019-01-12 06:31:42  Palo Alto admin logged on via SSH - Demo (nan) [id:09ec519f-96b0-4332-be30-b0379c8cbd04]",
        "2019-01-12 06:33:55  DC with MS AM engine failure - Demo (nan) [id:6a7aaa2e-a575-4e8b-87ed-0d964bf1005e]",
        "2019-01-12 19:18:10  Suspicious Account Added (nan) [id:d4638075-fed2-4031-8e52-d37c220b0fe4]",
        "2019-01-13 05:38:06  Global domain trust creation - Demo (nan) [id:5d733fc8-ff32-436d-a595-beaf8943bd63]",
        "2019-01-13 06:25:57  Maliciuos IP communication (nan) [id:54a8f6d8-f69b-4872-96f8-ef274d5fc8d4]",
        "2019-01-13 06:31:40  DC local group addition - Demo (nan) [id:47445dca-b87d-45f5-9073-b713e3c69a56]",
        "2019-01-13 06:31:42  Palo Alto admin logged on via SSH - Demo (nan) [id:45176796-d3f9-40ce-a8f2-aba9bb3c8063]",
        "2019-01-13 06:33:55  DC with MS AM engine failure - Demo (nan) [id:985be534-6f40-4b0c-a951-8f3915eacd61]",
        "2019-01-13 19:18:10  Suspicious Account Added (nan) [id:790217fc-9597-4159-b469-bb383c747435]",
        "2019-01-14 05:38:06  Global domain trust creation - Demo (nan) [id:fbaf48de-152a-4aa6-8a69-902b219bf972]",
        "2019-01-14 06:25:57  Maliciuos IP communication (nan) [id:1828afac-b4c2-41d9-acbd-7d23b7219557]",
        "2019-01-14 06:31:40  DC local group addition - Demo (nan) [id:b34d24c9-2223-4887-af93-7598abf28763]",
        "2019-01-14 06:31:42  Palo Alto admin logged on via SSH - Demo (nan) [id:9442245d-eaf6-47c5-b715-1c16b2c54fc4]",
        "2019-01-14 06:33:55  DC with MS AM engine failure - Demo (nan) [id:edc4065d-886f-4aff-b17d-f1397ce4baec]",
        "2019-01-14 21:18:10  Suspicious Account Added (nan) [id:1cca38a9-e0c5-4165-a78d-491ca2641c1c]",
        "2019-01-15 05:15:03  Suspicious Account Creation Detected (MSTICALERTSWIN1) [id:2518547714966107270_3c380601-b5ad-4fff-9cdb-24528a3a19fd]",
        "2019-01-15 05:15:03  Anomalous account creation detected (nan) [id:2518547714966107270_90beedae-1285-43d6-8f33-16bc542af39b]",
        "2019-01-15 05:15:10  Potential attempt to bypass AppLocker detected (MSTICALERTSWIN1) [id:2518547714892475358_9e449abd-e67b-4ec8-a191-e688d7d63e26]",
        "2019-01-15 05:15:11  Detected decoding of an executable using built-in certutil.exe tool (MSTICALERTSWIN1) [id:2518547714882331861_5c56421d-d894-4437-9b9a-a3b5c6b7e1df]",
        "2019-01-15 05:15:11  Detected suspicious credentials in commandline (MSTICALERTSWIN1) [id:2518547714880519889_9d6d471a-c94f-4706-b0ff-b2f0301495aa]",
        "2019-01-15 05:15:11  Digital currency mining related behavior detected (MSTICALERTSWIN1) [id:2518547714887413669_4fa0022e-f431-4ba1-ae5f-ee23247e0853]",
        "2019-01-15 05:15:11  Suspiciously named process detected (MSTICALERTSWIN1) [id:2518547714887413669_1c680842-2a1d-40c0-a6e4-32e5dd144647]",
        "2019-01-15 05:15:11  Detected encoded executable in command line data (MSTICALERTSWIN1) [id:2518547714885867955_290559aa-a3d0-425b-8ed2-e98ccc9f0aa0]",
        "2019-01-15 05:15:12  Detected suspicious commandline arguments (MSTICALERTSWIN1) [id:2518547714879317674_226cc394-fccf-483d-888a-beafad2ed4a4]",
        "2019-01-15 05:15:12  Detected suspicious document credentials (MSTICALERTSWIN1) [id:2518547714879970078_b080127b-d5c1-425e-a7ca-e4bbd873009d]",
        "2019-01-15 05:15:12  Detected obfuscated command line. (MSTICALERTSWIN1) [id:2518547714871530079_77211491-86de-4295-82bc-38e332fe1112]",
        "2019-01-15 05:15:12  Suspicious powershell cmdlets executed (MSTICALERTSWIN1) [id:2518547714874872692_3eb0eb4b-0536-430c-8ab6-cd48524c14b1]",
        "2019-01-15 05:15:12  Suspicious Powershell Activity Detected (MSTICALERTSWIN1) [id:2518547714874872692_30d988ff-b8d9-45df-8217-e56b0d4d591c]",
        "2019-01-15 05:15:12  Suspicious Powershell Activity Detected (MSTICALERTSWIN1) [id:2518547714873290756_df1b9eb2-05c4-4f7c-8540-cbb18ec5c608]",
        "2019-01-15 05:15:12  Suspicious Powershell Activity Detected (MSTICALERTSWIN1) [id:2518547714876077067_953def48-a24b-42a9-bd02-7221be90f84a]",
        "2019-01-15 05:15:13  Suspicious Powershell Activity Detected (MSTICALERTSWIN1) [id:2518547714867787710_76336679-bddf-460f-90fb-35a1386de7a6]",
        "2019-01-15 05:15:14  Executable found running from a suspicious location (MSTICALERTSWIN1) [id:2518547714857061520_f4324711-aeae-4912-a634-331b7e7456b6]",
        "2019-01-15 05:15:14  Suspicious system process executed (nan) [id:2518547714857061520_28f9a2e6-1925-455e-ad97-7af7f92f521d]",
        "2019-01-15 05:15:14  Suspicious WindowPosition registry value detected (MSTICALERTSWIN1) [id:2518547714858429362_9bfd0e4b-ec93-46bb-8eea-f72e8f1262f1]",
        "2019-01-15 05:15:14  Suspicious process executed (MSTICALERTSWIN1) [id:2518547714854375707_e2a60bd1-d7c8-466d-a176-4333d4e0d1d5]",
        "2019-01-15 05:15:14  Detected suspicious named pipe communications (MSTICALERTSWIN1) [id:2518547714859677078_9b4e4942-d564-4755-862c-7171d52921e3]",
        "2019-01-15 05:15:14  Executable found running from a suspicious location (MSTICALERTSWIN1) [id:2518547714853062206_f9ddd8b3-5fa8-4f2f-b811-bdca90091195]",
        "2019-01-15 05:15:15  Detected change to a registry key that can be abused to bypass UAC (MSTICALERTSWIN1) [id:2518547714844291280_8f71e695-ba9b-4c97-9770-63cdeb34b7b4]",
        "2019-01-15 05:15:15  Detected anomalous mix of upper and lower case characters in command-line (MSTICALERTSWIN1) [id:2518547714844457503_55cd3e12-3a91-4b06-9be6-833df3365142]",
        "2019-01-15 05:15:15  Detected suspicious use of FTP -s Switch (MSTICALERTSWIN1) [id:2518547714843218505_265472ff-3820-4dad-8da7-00e39e1a99fd]",
        "2019-01-15 05:15:15  Sticky keys attack detected (MSTICALERTSWIN1) [id:2518547714843796759_b3737297-038c-4514-a957-d591384b4256]",
        "2019-01-15 05:15:15  Suspicious process executed (MSTICALERTSWIN1) [id:2518547714842732992_ad5981a5-fdcc-406a-8742-e50bd7f84917]",
        "2019-01-15 05:15:16  Detected suspicious new firewall rule (MSTICALERTSWIN1) [id:2518547714839319574_33edaa83-fe35-47de-9486-fc9792c5b65b]",
        "2019-01-15 05:15:16  Detected suspicious execution via rundll32.exe (MSTICALERTSWIN1) [id:2518547714834806864_4bb2ecc3-f4aa-40cd-a3d7-802fc9086e89]",
        "2019-01-15 05:15:16  Detected suspicious execution via rundll32.exe (MSTICALERTSWIN1) [id:2518547714835690929_8e73946b-ebea-4625-aa60-d97b82dcfb07]",
        "2019-01-15 05:15:16  Detected possible local reconnaissance activity (MSTICALERTSWIN1) [id:2518547714837217151_f0d023fb-376f-46ab-9976-a5825d826bea]",
        "2019-01-15 05:15:16  Detected suspicious Set-ExecutionPolicy and WinRM changes (MSTICALERTSWIN1) [id:2518547714832788202_b56b9e61-fefb-47a3-a34f-7c1b44f8268a]",
        "2019-01-15 05:15:16  Detected suspicious commandline used to start all executables in a directory (MSTICALERTSWIN1) [id:2518547714833232927_0e8db234-9727-41f3-a6e0-0773519603d2]",
        "2019-01-15 05:15:16  Detected potentially suspicious use of Telegram tool (MSTICALERTSWIN1) [id:2518547714833859291_4fa26308-1daf-49ee-8880-b194f950d8b0]",
        "2019-01-15 05:15:16  Suspected Kerberos Golden Ticket attack parameters observed (MSTICALERTSWIN1) [id:2518547714838326136_e776fca2-4c01-43eb-ab97-b9845af3529c]",
        "2019-01-15 05:15:16  Detected actions indicative of disabling and deleting IIS log files. (MSTICALERTSWIN1) [id:2518547714831067013_8df27789-fb10-4035-ac48-cd0883b2e6b0]",
        "2019-01-15 05:15:17  Azure Security Center test alert (not a threat) (MSTICALERTSWIN1) [id:2518547714824290520_b2d9be9f-58e2-4174-8658-419670393253]",
        "2019-01-15 05:15:17  Suspicious SVCHOST process executed (nan) [id:2518547714825902697_fcbb6bb7-4c7c-488e-903c-f625e98db7c4]",
        "2019-01-15 05:15:17  Random process name detected (MSTICALERTSWIN1) [id:2518547714829244584_9984a237-2dd7-4932-bb8d-23ca535a6254]",
        "2019-01-15 05:15:17  Rare SVCHOST service group executed (nan) [id:2518547714825070946_58694b54-2bee-4160-9595-30903b466f6e]",
        "2019-01-15 05:15:17  Suspicious double extension file executed (nan) [id:2518547714828736209_2b2ff728-1a2a-46e8-a49a-6991e074a740]",
        "2019-01-15 05:15:17  Suspicious Volume Shadow Copy Activity (nan) [id:2518547714828638992_6c6836bb-23cd-4b31-b78e-08360c5a4f83]",
        "2019-01-15 05:15:18  Detected suspicious execution of VBScript.Encode command (MSTICALERTSWIN1) [id:2518547714811804858_5b42a152-64c2-4f16-8cc3-887b8b0161fc]",
        "2019-01-15 05:15:18  Detected suspicious file cleanup commands (MSTICALERTSWIN1) [id:2518547714814450855_c0822e2b-785b-41a8-8136-21b7430a0078]",
        "2019-01-15 05:15:18  Detected Petya ransomware indicators (MSTICALERTSWIN1) [id:2518547714812938298_fa4939d4-a20c-440a-839c-89c0c43e1ccc]",
        "2019-01-15 05:15:18  Detected suspicious file creation (MSTICALERTSWIN1) [id:2518547714816637303_3252483f-2fdb-411a-93f5-e268d5e56abf]",
        "2019-01-15 05:15:18  Detected suspicious use of Pcalua.exe to launch executable code (MSTICALERTSWIN1) [id:2518547714811337754_ad1fd62a-9565-41e4-b94a-6264942033f6]",
        "2019-01-15 05:15:18  Detected possible execution of keygen executable (MSTICALERTSWIN1) [id:2518547714814533914_38d53571-e98a-4bb6-a17f-0361a561019e]",
        "2019-01-15 05:15:18  Detected suspicious use of Cacls to lower the security state of the system. (MSTICALERTSWIN1) [id:2518547714815952205_1ba5718e-529b-441b-8036-ad06ee862e76]",
        "2019-01-15 05:15:18  Detected the disabling of critical services (MSTICALERTSWIN1) [id:2518547714813299511_a5df127a-f7e8-44ff-b404-6d5b37d06488]",
        "2019-01-15 05:15:18  Ransomware indicators detected (MSTICALERTSWIN1) [id:2518547714812286467_d5e026fa-6687-495e-878d-c4c93477cc78]",
        "2019-01-15 05:15:18  Detected possible execution of malware dropper (MSTICALERTSWIN1) [id:2518547714815009424_9a34d332-2fb6-4f3f-beb0-d9817dc9b7cd]",
        "2019-01-15 05:15:18  High risk software detected (MSTICALERTSWIN1) [id:2518547714813699414_d12ed618-567b-4b8f-8241-82ad4c1cb28e]",
        "2019-01-15 05:15:19  Possible credential dumping detected (MSTICALERTSWIN1) [id:2518547714809416002_76bf04a5-71fa-487a-9742-d54941a7a194]",
        "2019-01-15 05:15:19  Suspicious download using Certutil detected (MSTICALERTSWIN1) [id:2518547714805546049_03e7bf17-8f77-42ca-8ac1-af8258f4d1ca]",
        "2019-01-15 09:15:03  Suspicious Account Creation Detected (MSTICALERTSWIN1) [id:2518547570966661760_526e34b6-6578-4fc0-9db6-e126b4d673f0]",
        "2019-01-15 09:15:07  Potential attempt to bypass AppLocker detected (MSTICALERTSWIN1) [id:2518547570924760670_9868ed7d-397e-4aa4-8dbd-5a1c5f736c1e]",
        "2019-01-15 09:15:10  Suspiciously named process detected (MSTICALERTSWIN1) [id:2518547570895430544_4ea6c432-6d20-4986-9679-ecf58ac4854d]",
        "2019-01-15 09:15:10  Digital currency mining related behavior detected (MSTICALERTSWIN1) [id:2518547570895430544_72351be4-ae78-4cc6-9f6a-1ff87c31baeb]",
        "2019-01-15 09:15:11  Detected obfuscated command line. (MSTICALERTSWIN1) [id:2518547570880067443_c1a9004f-7f64-4144-8ce0-8f76f9041703]",
        "2019-01-15 09:15:11  Suspicious Powershell Activity Detected (MSTICALERTSWIN1) [id:2518547570883109415_c762b0f7-a0f5-4dda-ab48-54b5ae6eade4]",
        "2019-01-15 09:15:11  Suspicious Powershell Activity Detected (MSTICALERTSWIN1) [id:2518547570884378777_92a2f884-5827-4fb6-acf8-b0087b76aa73]",
        "2019-01-15 09:15:11  Suspicious Powershell Activity Detected (MSTICALERTSWIN1) [id:2518547570881721037_4ca5c629-673c-4372-9bd3-ab7bf6d6e6f0]",
        "2019-01-15 09:15:12  Suspicious Powershell Activity Detected (MSTICALERTSWIN1) [id:2518547570876432155_ce7c7361-8ac9-47be-b8fb-7a87c87ee178]",
        "2019-01-15 09:15:13  Suspicious system process executed (nan) [id:2518547570865502616_9d5e263f-55d2-441f-acf4-bf569b4cd976]",
        "2019-01-15 09:15:13  Executable found running from a suspicious location (MSTICALERTSWIN1) [id:2518547570865502616_c6f3dea2-fe36-4e65-b161-1b1cd1104eb3]",
        "2019-01-15 09:15:13  Suspicious WindowPosition registry value detected (MSTICALERTSWIN1) [id:2518547570866947129_1b074412-133c-4ac9-8e3f-24103159b03e]",
        "2019-01-15 09:15:13  Executable found running from a suspicious location (MSTICALERTSWIN1) [id:2518547570860979996_bddac8c5-cba5-4da2-a6dd-c0a39fc2b256]",
        "2019-01-15 09:15:13  Suspicious process executed (MSTICALERTSWIN1) [id:2518547570862568702_029c9c95-c1fe-4419-bc3b-a6d832c87e65]",
        "2019-01-15 09:15:14  Suspicious process executed (MSTICALERTSWIN1) [id:2518547570851316041_43f7d8f3-fea5-4fca-a884-713c2d65203c]",
        "2019-01-15 09:15:14  Detected anomalous mix of upper and lower case characters in command-line (MSTICALERTSWIN1) [id:2518547570852901341_3ca6ca5a-8bf2-417f-b8c9-3cea37c84f4b]",
        "2019-01-15 09:15:16  Suspicious double extension file executed (nan) [id:2518547570836535349_c45bcb62-9d89-44e8-bea9-7a9e35205576]",
        "2019-01-15 09:15:16  Rare SVCHOST service group executed (nan) [id:2518547570834399134_26ccc2ad-8ce0-4f60-8215-18f99377b547]",
        "2019-01-15 09:15:16  Suspicious Volume Shadow Copy Activity (nan) [id:2518547570836431794_b9d79b27-d725-4a87-b7ec-6fc9ec591e8c]",
        "2019-01-15 09:15:16  Azure Security Center test alert (not a threat) (MSTICALERTSWIN1) [id:2518547570833725387_2df8ae94-03fe-4b9f-a3a9-f3c6dab95c05]",
        "2019-01-15 09:15:16  Suspicious SVCHOST process executed (nan) [id:2518547570835168086_117b7a02-d1d0-4cf2-bc04-0b19a796b4d3]",
        "2019-01-15 09:15:17  Ransomware indicators detected (MSTICALERTSWIN1) [id:2518547570821365949_48327b74-c904-402d-a1d8-2b3a882924e7]",
        "2019-01-15 09:15:17  Detected Petya ransomware indicators (MSTICALERTSWIN1) [id:2518547570821871899_e647375c-9979-47b5-9f78-f414a1aad26d]",
        "2019-01-15 11:45:00  Suspicious Account Creation Detected (MSTICALERTSWIN1) [id:2518547480991748435_836318d1-0fa0-4cfe-a3d0-2b1fdbaf2216]",
        "2019-01-15 11:45:01  Suspiciously named process detected (MSTICALERTSWIN1) [id:2518547480988516756_54bb943e-7fe9-4146-a43e-4064c8e0049f]",
        "2019-01-15 11:45:01  Digital currency mining related behavior detected (MSTICALERTSWIN1) [id:2518547480988516756_668ed54c-9e73-4d4f-a9c2-b88fd1b13db0]",
        "2019-01-15 11:45:01  Potential attempt to bypass AppLocker detected (MSTICALERTSWIN1) [id:2518547480989617678_f3490cf7-a303-4001-b7d6-8acf7e83f191]",
        "2019-01-15 11:45:01  Suspicious Powershell Activity Detected (MSTICALERTSWIN1) [id:2518547480982973701_24a6d6f3-acf1-41bd-a11f-01a1369bac02]",
        "2019-01-15 11:45:01  Suspicious Powershell Activity Detected (MSTICALERTSWIN1) [id:2518547480984263491_d46877bd-e04d-401a-99bd-eec2a6b25663]",
        "2019-01-15 11:45:01  Detected obfuscated command line. (MSTICALERTSWIN1) [id:2518547480982511513_adfabbe0-fce0-44f3-be4b-17283bd03bed]",
        "2019-01-15 11:45:01  Suspicious Powershell Activity Detected (MSTICALERTSWIN1) [id:2518547480980813134_5cb7ab95-6017-4031-afb2-e11518b0f5cc]",
        "2019-01-15 11:45:01  Suspicious Powershell Activity Detected (MSTICALERTSWIN1) [id:2518547480983467170_9da8e3df-9c3b-4e20-8bd0-ace00aff9def]",
        "2019-01-15 11:45:02  Executable found running from a suspicious location (MSTICALERTSWIN1) [id:2518547480975043692_7e663699-5412-496f-ac91-e21a7b6f0be5]",
        "2019-01-15 11:45:02  Executable found running from a suspicious location (MSTICALERTSWIN1) [id:2518547480977057409_ed9d92ac-0ab8-4a2e-a1dd-f70ee30a9af1]",
        "2019-01-15 11:45:02  Suspicious WindowPosition registry value detected (MSTICALERTSWIN1) [id:2518547480977469312_e9ff6947-fd12-42d2-bb63-2d814f04482a]",
        "2019-01-15 11:45:02  Suspicious process executed (MSTICALERTSWIN1) [id:2518547480976076338_2a106d12-acd8-4dd7-9e1c-3c20b4eaa320]",
        "2019-01-15 11:45:02  Suspicious system process executed (nan) [id:2518547480977057409_492fbb97-a1fc-4880-95d2-e55ab2f142b6]",
        "2019-01-15 11:45:02  Detected anomalous mix of upper and lower case characters in command-line (MSTICALERTSWIN1) [id:2518547480970182118_c0558adc-b4a9-4289-b9ad-7e7260f1cde0]",
        "2019-01-15 11:45:03  Suspicious process executed (MSTICALERTSWIN1) [id:2518547480968677354_88eb8a87-a876-46aa-b8ed-be7298929ea8]",
        "2019-01-15 11:45:04  Random process name detected (MSTICALERTSWIN1) [id:2518547480956885358_b66e93d7-b38b-4785-baa5-093edc18e649]",
        "2019-01-15 11:45:04  Suspicious Volume Shadow Copy Activity (nan) [id:2518547480955968326_fa350f8b-2c81-478c-a383-debe0ab0c892]",
        "2019-01-15 11:45:04  Suspicious double extension file executed (nan) [id:2518547480956378190_2b59c1d5-a815-4562-a8d4-36d9777e6546]",
        "2019-01-15 11:45:05  Rare SVCHOST service group executed (nan) [id:2518547480946682289_f83c0705-d2ff-4355-a25d-ae858ee39b2d]",
        "2019-01-15 11:45:05  Suspicious SVCHOST process executed (nan) [id:2518547480947565906_5c82cd9c-60f8-4056-bd39-8ccb2cdb7678]",
        "2019-01-15 11:45:05  Azure Security Center test alert (not a threat) (MSTICALERTSWIN1) [id:2518547480945920380_00d33245-c643-4155-8c05-6abc4ee3b3cd]",
        "2019-01-15 11:45:06  Ransomware indicators detected (MSTICALERTSWIN1) [id:2518547480937987105_ec1678a1-0fe8-44c5-91b5-621c40d2bb8c]",
        "2019-01-15 11:45:06  Detected Petya ransomware indicators (MSTICALERTSWIN1) [id:2518547480938543829_91a4f9a7-70ad-433b-a568-34314e3f467f]",
        "2019-01-15 13:15:10  Suspiciously named process detected (MSTICALERTSWIN1) [id:2518547426892072407_171b74b2-a431-4b55-8d69-128e5fb95329]",
        "2019-01-15 13:15:13  Suspicious WindowPosition registry value detected (MSTICALERTSWIN1) [id:2518547426863814510_75495c57-4fd6-4e27-b94c-c6f81f78bcb5]",
        "2019-01-15 13:15:13  Suspicious system process executed (nan) [id:2518547426862437699_184c075e-64ee-4901-bc37-6eb999e81a11]",
        "2019-01-15 13:15:14  Suspicious process executed (MSTICALERTSWIN1) [id:2518547426859453218_89d1850f-dccd-4d45-b194-650819d358d9]",
        "2019-01-15 13:15:14  Executable found running from a suspicious location (MSTICALERTSWIN1) [id:2518547426858055460_51b74398-40e2-4b1b-9d92-89c0004738c9]",
        "2019-01-15 13:15:15  Suspicious process executed (MSTICALERTSWIN1) [id:2518547426847947731_caa12d6c-4928-4787-90d4-cb27ff94373c]",
        "2019-01-15 13:15:16  Suspicious SVCHOST process executed (nan) [id:2518547426831794607_a513ab17-2b6a-4b1a-a925-a0b3c21ec38c]",
        "2019-01-15 13:15:16  Rare SVCHOST service group executed (nan) [id:2518547426830640211_88f9ae7a-e6b5-4b54-b967-08f3fc503d91]",
        "2019-01-15 13:15:16  Suspicious Volume Shadow Copy Activity (nan) [id:2518547426833434810_b6e594ea-16d3-480e-81a7-2f8fe3af64ba]",
        "2019-01-15 13:15:16  Suspicious double extension file executed (nan) [id:2518547426833838523_7b30c978-28d5-4a28-a4c2-0985f08ab1c6]",
        "2019-01-15 13:15:17  Azure Security Center test alert (not a threat) (MSTICALERTSWIN1) [id:2518547426829675756_846ec406-bb3e-451b-bf6f-9e1e17a69bd6]",
        "2019-01-15 13:15:18  Ransomware indicators detected (MSTICALERTSWIN1) [id:2518547426817428483_636ab38f-2528-4356-8602-d0910f8ac600]",
        "2019-01-15 13:15:18  Detected Petya ransomware indicators (MSTICALERTSWIN1) [id:2518547426817928329_a4aa878d-93b5-4cd1-931f-30f85b9e6db2]",
        "2019-01-15 17:15:03  Suspicious Account Creation Detected (MSTICALERTSWIN1) [id:2518547282966696689_3db7e1e7-2edc-4dd9-8c1d-d908f5b8a904]",
        "2019-01-15 17:15:10  Potential attempt to bypass AppLocker detected (MSTICALERTSWIN1) [id:2518547282896095305_82730ffa-b9ce-43f4-bf3c-a97113107cc5]",
        "2019-01-15 17:15:10  Suspiciously named process detected (MSTICALERTSWIN1) [id:2518547282892925953_0073e6d8-6c2e-42e4-8966-d1f5a3dd3517]",
        "2019-01-15 17:15:10  Digital currency mining related behavior detected (MSTICALERTSWIN1) [id:2518547282892925953_35c8d588-ddf7-46b5-a0bf-f47023f9343c]",
        "2019-01-15 17:15:11  Suspicious Powershell Activity Detected (MSTICALERTSWIN1) [id:2518547282880013417_d65aa787-e867-43b1-9182-025a1a38173a]",
        "2019-01-15 17:15:11  Suspicious Powershell Activity Detected (MSTICALERTSWIN1) [id:2518547282881581273_ed5bcf39-ffd3-468a-82e3-28e108d4f06f]",
        "2019-01-15 17:15:11  Suspicious Powershell Activity Detected (MSTICALERTSWIN1) [id:2518547282883193041_31ae6eeb-bd1d-4018-8df9-eeedd60bf1ab]",
        "2019-01-15 17:15:12  Suspicious Powershell Activity Detected (MSTICALERTSWIN1) [id:2518547282874783943_bd1a0865-a507-4e2b-b8df-613238a950df]",
        "2019-01-15 17:15:12  Detected obfuscated command line. (MSTICALERTSWIN1) [id:2518547282878855119_d89d1ab7-e5b7-426c-a98f-eab95deea3ad]",
        "2019-01-15 17:15:13  Suspicious system process executed (nan) [id:2518547282863799328_7e169933-4275-4b94-b37f-490417bcfc98]",
        "2019-01-15 17:15:13  Suspicious WindowPosition registry value detected (MSTICALERTSWIN1) [id:2518547282865194453_9895a5cc-6f49-45f5-a0eb-f05c1f11f264]",
        "2019-01-15 17:15:13  Executable found running from a suspicious location (MSTICALERTSWIN1) [id:2518547282863799328_84ea8dcd-9436-4b4d-82b2-36114028bd61]",
        "2019-01-15 17:15:14  Suspicious process executed (MSTICALERTSWIN1) [id:2518547282859754476_0c3ae402-a9ea-4d5c-9c09-4274b7847c2c]",
        "2019-01-15 17:15:14  Detected anomalous mix of upper and lower case characters in command-line (MSTICALERTSWIN1) [id:2518547282850984831_7f983018-fd59-4e9e-ba70-295f6beb0e9c]",
        "2019-01-15 17:15:14  Executable found running from a suspicious location (MSTICALERTSWIN1) [id:2518547282858353938_58851b10-8f5c-48f1-aade-b1529f4e2c7f]",
        "2019-01-15 17:15:15  Suspicious process executed (MSTICALERTSWIN1) [id:2518547282845656644_c7318da8-368f-47f8-bff5-e15600a3fb80]",
        "2019-01-15 17:15:17  Suspicious double extension file executed (nan) [id:2518547282825853773_e6c85135-2b91-4537-b9a0-dae7eabb8e9d]",
        "2019-01-15 17:15:17  Suspicious Volume Shadow Copy Activity (nan) [id:2518547282825448815_6a71b543-4832-4658-8467-825aeafbe031]",
        "2019-01-15 17:15:18  Rare SVCHOST service group executed (nan) [id:2518547282813841329_a7e8e8c1-4561-48ea-bf75-a22c7bfc2257]",
        "2019-01-15 17:15:18  Azure Security Center test alert (not a threat) (MSTICALERTSWIN1) [id:2518547282812706885_12ae1e22-347e-454c-ae0d-ebb48cdf189b]",
        "2019-01-15 17:15:18  Suspicious SVCHOST process executed (nan) [id:2518547282814913644_34cc156e-9179-44c4-bd60-89dd1812e9e7]",
        "2019-01-15 17:15:19  Detected Petya ransomware indicators (MSTICALERTSWIN1) [id:2518547282803821916_c76cdb6c-cea0-4b2b-9ab6-1442a5857ed8]",
        "2019-01-15 17:15:19  Ransomware indicators detected (MSTICALERTSWIN1) [id:2518547282802847718_4a524cc8-7613-4c42-93a9-8c1e466a4476]",
        "2019-01-15 21:18:10  Suspicious Account Added (nan) [id:cbdce694-666c-4844-a29c-e7f4b66e27d1]"
       ],
       "description": "Select alert :",
       "index": 0,
       "layout": "IPY_MODEL_ef9ed0fa6f3e45e7a93151e2c59ba3d6",
       "style": "IPY_MODEL_c113561078134dd99463480b59762d36"
      }
     },
     "6d94fc452671411a80bd2814d415f931": {
      "model_module": "@jupyter-widgets/base",
      "model_module_version": "1.2.0",
      "model_name": "LayoutModel",
      "state": {}
     },
     "6df869dced0049f5aa2b393fa40b33e0": {
      "model_module": "@jupyter-widgets/base",
      "model_module_version": "1.2.0",
      "model_name": "LayoutModel",
      "state": {}
     },
     "6e34b648646f41238a9ed52fde4cfd52": {
      "model_module": "@jupyter-widgets/controls",
      "model_module_version": "1.5.0",
      "model_name": "DescriptionStyleModel",
      "state": {
       "description_width": ""
      }
     },
     "6ed1c56bed584651a0b8d1d83e8c48f8": {
      "model_module": "@jupyter-widgets/controls",
      "model_module_version": "1.5.0",
      "model_name": "IntRangeSliderModel",
      "state": {
       "_model_name": "IntRangeSliderModel",
       "_view_name": "IntRangeSliderView",
       "description": "Time Range (hour):",
       "layout": "IPY_MODEL_9012d9b454ed4a96a612d519118d01f0",
       "max": 2,
       "min": -20,
       "style": "IPY_MODEL_f62bbdf6f1554749ad076c11e42463e7",
       "value": [
        -4,
        2
       ]
      }
     },
     "6f2a46749916482aa2359d84dff19ae2": {
      "model_module": "@jupyter-widgets/controls",
      "model_module_version": "1.5.0",
      "model_name": "HTMLModel",
      "state": {
       "layout": "IPY_MODEL_744b997189c64b7c9e213208acb55112",
       "style": "IPY_MODEL_65017f5f34d741e18e8d0e73496821fe",
       "value": "<h4>Set query time boundaries</h4>"
      }
     },
     "6f7f4c07d0fd464c83652edc353f8b7e": {
      "model_module": "@jupyter-widgets/controls",
      "model_module_version": "1.5.0",
      "model_name": "ButtonModel",
      "state": {
       "description": "⇽ Remove All",
       "layout": "IPY_MODEL_937569eea0cb426a9a1e01a6eb947f13",
       "style": "IPY_MODEL_5b08654955bf4f1497125ba2094f0611"
      }
     },
     "6f97cb63472c4b1ba5f881283801e576": {
      "model_module": "@jupyter-widgets/controls",
      "model_module_version": "1.5.0",
      "model_name": "DescriptionStyleModel",
      "state": {
       "description_width": ""
      }
     },
     "6ff59044dd6a43c5a6f522092564eea6": {
      "model_module": "@jupyter-widgets/controls",
      "model_module_version": "1.5.0",
      "model_name": "ButtonStyleModel",
      "state": {}
     },
     "7002b50b9e06455fbfe5b327de95a72e": {
      "model_module": "@jupyter-widgets/controls",
      "model_module_version": "1.5.0",
      "model_name": "ButtonModel",
      "state": {
       "description": "⇽ Remove All",
       "layout": "IPY_MODEL_ee88dffd9fc8451b8bff51a00e2b1330",
       "style": "IPY_MODEL_777e4af75f6f4fff81cd5acfdb7bcb2f"
      }
     },
     "704c27dc78d44056bb67a6d5a5b1d9c7": {
      "model_module": "@jupyter-widgets/base",
      "model_module_version": "1.2.0",
      "model_name": "LayoutModel",
      "state": {}
     },
     "710f4a8fe7cc4d2d8fb26fe6f3d2ef7d": {
      "model_module": "@jupyter-widgets/base",
      "model_module_version": "1.2.0",
      "model_name": "LayoutModel",
      "state": {
       "height": "200px",
       "width": "40%"
      }
     },
     "712366ee00764197864501a5182e00b1": {
      "model_module": "@jupyter-widgets/controls",
      "model_module_version": "1.5.0",
      "model_name": "DatePickerModel",
      "state": {
       "description": "Origin Date",
       "disabled": false,
       "layout": "IPY_MODEL_c6fdaa9c5069493ca67c72697d38d53c",
       "style": "IPY_MODEL_154a1bcdcce74b2f80225f76ffc0f437",
       "value": {
        "date": 18,
        "month": 7,
        "year": 2019
       }
      }
     },
     "7133c5456a5a4f2f9089d3d7f5dc96c0": {
      "model_module": "@jupyter-widgets/controls",
      "model_module_version": "1.5.0",
      "model_name": "DatePickerModel",
      "state": {
       "description": "Origin Date",
       "disabled": false,
       "layout": "IPY_MODEL_05e200dfd22346c9bb025e7800515ef1",
       "style": "IPY_MODEL_07bde6b6c73d4c9e805acc6a1f401d2a",
       "value": {
        "date": 2,
        "month": 8,
        "year": 2019
       }
      }
     },
     "718fd217399347df8a7f87fbcfd0c973": {
      "model_module": "@jupyter-widgets/base",
      "model_module_version": "1.2.0",
      "model_name": "LayoutModel",
      "state": {}
     },
     "719cb34ed4b6429da3d8f45b95ceccf5": {
      "model_module": "@jupyter-widgets/controls",
      "model_module_version": "1.5.0",
      "model_name": "TextModel",
      "state": {
       "description": "Time (24hr)",
       "layout": "IPY_MODEL_83c7f56f8cbb471e95703aa7130a54a2",
       "style": "IPY_MODEL_b90335762350453788f721ae6811e524",
       "value": "23:37:02.768494"
      }
     },
     "71aaa96633544fc8ab7fb462ae0cf291": {
      "model_module": "@jupyter-widgets/controls",
      "model_module_version": "1.5.0",
      "model_name": "ButtonStyleModel",
      "state": {}
     },
     "71c6a63d1dd9415d9b3cc47326f69ea5": {
      "model_module": "@jupyter-widgets/controls",
      "model_module_version": "1.5.0",
      "model_name": "ButtonStyleModel",
      "state": {}
     },
     "71c77b5981334d4a839b2cc3481d2674": {
      "model_module": "@jupyter-widgets/base",
      "model_module_version": "1.2.0",
      "model_name": "LayoutModel",
      "state": {}
     },
     "71cb2abb8f974164921bf5f747ff925c": {
      "model_module": "@jupyter-widgets/base",
      "model_module_version": "1.2.0",
      "model_name": "LayoutModel",
      "state": {}
     },
     "728cd92ca7eb433ca0acc0f6a66180ee": {
      "model_module": "@jupyter-widgets/controls",
      "model_module_version": "1.5.0",
      "model_name": "ButtonModel",
      "state": {
       "description": "Add All ⇾",
       "layout": "IPY_MODEL_8238255bb5e941a881d24ab2599e898e",
       "style": "IPY_MODEL_f48c3f835c234798b9fd14c920c8ca46"
      }
     },
     "7325f898a39541c2b062298c86487352": {
      "model_module": "@jupyter-widgets/base",
      "model_module_version": "1.2.0",
      "model_name": "LayoutModel",
      "state": {
       "width": "50%"
      }
     },
     "73f847f284cf4b609e03cc526fa52d36": {
      "model_module": "@jupyter-widgets/base",
      "model_module_version": "1.2.0",
      "model_name": "LayoutModel",
      "state": {}
     },
     "744b997189c64b7c9e213208acb55112": {
      "model_module": "@jupyter-widgets/base",
      "model_module_version": "1.2.0",
      "model_name": "LayoutModel",
      "state": {}
     },
     "745fe0567cfe4bd5b297a27e943b8ccc": {
      "model_module": "@jupyter-widgets/base",
      "model_module_version": "1.2.0",
      "model_name": "LayoutModel",
      "state": {}
     },
     "7476348a2ce649d1b85957cd9024285a": {
      "model_module": "@jupyter-widgets/controls",
      "model_module_version": "1.5.0",
      "model_name": "IntRangeSliderModel",
      "state": {
       "_model_name": "IntRangeSliderModel",
       "_view_name": "IntRangeSliderView",
       "description": "Time Range (hour):",
       "layout": "IPY_MODEL_c32ce1a5c65a4e6784f45f045f60881b",
       "max": 2,
       "min": -20,
       "style": "IPY_MODEL_1f6fd482e3ed4f008efbb3e214ba1470",
       "value": [
        -4,
        2
       ]
      }
     },
     "74915b0689114d5d8076e5487d0728aa": {
      "model_module": "@jupyter-widgets/controls",
      "model_module_version": "1.5.0",
      "model_name": "DescriptionStyleModel",
      "state": {
       "description_width": ""
      }
     },
     "74e03177fffa45219a32700595d0e4a4": {
      "model_module": "@jupyter-widgets/base",
      "model_module_version": "1.2.0",
      "model_name": "LayoutModel",
      "state": {}
     },
     "759fb4d1549c4b30836f053fe619067b": {
      "model_module": "@jupyter-widgets/controls",
      "model_module_version": "1.5.0",
      "model_name": "ButtonModel",
      "state": {
       "description": "⇽ Remove",
       "layout": "IPY_MODEL_4da812029e2c4b299d8b8170f91231b0",
       "style": "IPY_MODEL_71c6a63d1dd9415d9b3cc47326f69ea5"
      }
     },
     "76410ce08c194f9d9c5b3ff4367845c0": {
      "model_module": "@jupyter-widgets/controls",
      "model_module_version": "1.5.0",
      "model_name": "ButtonStyleModel",
      "state": {}
     },
     "7650715070a544acba9b75b51bf27c9e": {
      "model_module": "@jupyter-widgets/controls",
      "model_module_version": "1.5.0",
      "model_name": "ButtonModel",
      "state": {
       "description": "⇽ Remove",
       "layout": "IPY_MODEL_d1705ba7f61e474a808c1850ed269b4c",
       "style": "IPY_MODEL_589ee341967e4559bcca48b9c461dd97"
      }
     },
     "7757168650794fd69f804a1409a56832": {
      "model_module": "@jupyter-widgets/base",
      "model_module_version": "1.2.0",
      "model_name": "LayoutModel",
      "state": {}
     },
     "775771873c4e4b6bb6ccab19ad0d6129": {
      "model_module": "@jupyter-widgets/controls",
      "model_module_version": "1.5.0",
      "model_name": "HBoxModel",
      "state": {
       "children": [
        "IPY_MODEL_11cd440bb1f046e2bce8b5d3346fba57",
        "IPY_MODEL_687eeb795ebf49f18a83fbea657592da",
        "IPY_MODEL_a3204e56d566499aa2c7fc7eca3bc8fd"
       ],
       "layout": "IPY_MODEL_1ed0fcf5265f417d9f4aaf7e41d00a1a"
      }
     },
     "777e4af75f6f4fff81cd5acfdb7bcb2f": {
      "model_module": "@jupyter-widgets/controls",
      "model_module_version": "1.5.0",
      "model_name": "ButtonStyleModel",
      "state": {}
     },
     "77f68ed4c8e64d50bd4bc4b7a9e4c519": {
      "model_module": "@jupyter-widgets/controls",
      "model_module_version": "1.5.0",
      "model_name": "DescriptionStyleModel",
      "state": {
       "description_width": "initial"
      }
     },
     "7847da8a5ebb4d87ab94baaa625197d2": {
      "model_module": "@jupyter-widgets/controls",
      "model_module_version": "1.5.0",
      "model_name": "IntRangeSliderModel",
      "state": {
       "_model_name": "IntRangeSliderModel",
       "_view_name": "IntRangeSliderView",
       "description": "Time Range (hour):",
       "layout": "IPY_MODEL_6291f1f4dcab4032a8cb67c48f5cbd17",
       "max": 1,
       "min": -20,
       "style": "IPY_MODEL_2ec666b93af64ee287e8edfc4a4730e8",
       "value": [
        -1,
        1
       ]
      }
     },
     "78684231938445e78b1b3eeb82d48e8e": {
      "model_module": "@jupyter-widgets/controls",
      "model_module_version": "1.5.0",
      "model_name": "ButtonStyleModel",
      "state": {}
     },
     "78b6f1d3a30b4fdf85be888cd8d65bcb": {
      "model_module": "@jupyter-widgets/controls",
      "model_module_version": "1.5.0",
      "model_name": "ButtonModel",
      "state": {
       "description": "Add All ⇾",
       "layout": "IPY_MODEL_3718e8d3c3da4510911b4595bf7e64fe",
       "style": "IPY_MODEL_c4a932e95f1240c6bfff67730f852592"
      }
     },
     "78d771a1b0004e1ea033a8bc316032fd": {
      "model_module": "@jupyter-widgets/base",
      "model_module_version": "1.2.0",
      "model_name": "LayoutModel",
      "state": {}
     },
     "79860b85357549a98c6edc6de67ac770": {
      "model_module": "@jupyter-widgets/controls",
      "model_module_version": "1.5.0",
      "model_name": "VBoxModel",
      "state": {
       "children": [
        "IPY_MODEL_20245298d4af4a00a2d2936c5962567a",
        "IPY_MODEL_2cfcf037da44425bab2fa75ce5f0b76f",
        "IPY_MODEL_c02f080835db4f348ae8a6a0aa04cc9d",
        "IPY_MODEL_e31244c020744f6eb44b09b93421f0fd"
       ],
       "layout": "IPY_MODEL_9236e950c4694a9b842d309212d83347"
      }
     },
     "79c56375c079415cabc5d6f9b26c58de": {
      "model_module": "@jupyter-widgets/controls",
      "model_module_version": "1.5.0",
      "model_name": "DescriptionStyleModel",
      "state": {
       "description_width": ""
      }
     },
     "79eb769c67f04fb190f444c51a10056f": {
      "model_module": "@jupyter-widgets/controls",
      "model_module_version": "1.5.0",
      "model_name": "DescriptionStyleModel",
      "state": {
       "description_width": ""
      }
     },
     "7a043a34cbbc431a8cc6b2c266e6ff95": {
      "model_module": "@jupyter-widgets/base",
      "model_module_version": "1.2.0",
      "model_name": "LayoutModel",
      "state": {}
     },
     "7a59ba4e8fc547a0bc53655eb0f32dc0": {
      "model_module": "@jupyter-widgets/controls",
      "model_module_version": "1.5.0",
      "model_name": "TextModel",
      "state": {
       "description": "Filter alerts by title:",
       "layout": "IPY_MODEL_0f2efc9330a047b1be11261107950070",
       "style": "IPY_MODEL_2994fc60c22c421fa5bec6424238c646"
      }
     },
     "7ae923d993e644b6b2a07fbbc90e26af": {
      "model_module": "@jupyter-widgets/controls",
      "model_module_version": "1.5.0",
      "model_name": "DatePickerModel",
      "state": {
       "description": "Origin Date",
       "disabled": false,
       "layout": "IPY_MODEL_a9d656708a954a9cbae1c1befee89e25",
       "style": "IPY_MODEL_e80c3185b6014d1fb6497ac2a004ce71",
       "value": {
        "date": 2,
        "month": 8,
        "year": 2019
       }
      }
     },
     "7afb0a0b27eb4fc49566fe8a157a7e7a": {
      "model_module": "@jupyter-widgets/controls",
      "model_module_version": "1.5.0",
      "model_name": "ButtonStyleModel",
      "state": {}
     },
     "7b7afb6504764badbf5e62d7b8410dda": {
      "model_module": "@jupyter-widgets/controls",
      "model_module_version": "1.5.0",
      "model_name": "TextModel",
      "state": {
       "description": "Query end time (UTC) :  ",
       "layout": "IPY_MODEL_7325f898a39541c2b062298c86487352",
       "style": "IPY_MODEL_c2f85000136942338e6a357a357f8664",
       "value": "2019-09-02 23:06:44.157048"
      }
     },
     "7bef72cf0eb845538470e40b56f05e56": {
      "model_module": "@jupyter-widgets/base",
      "model_module_version": "1.2.0",
      "model_name": "LayoutModel",
      "state": {}
     },
     "7cab78fe43e84d20b5a3d9c1708d11e2": {
      "model_module": "@jupyter-widgets/base",
      "model_module_version": "1.2.0",
      "model_name": "LayoutModel",
      "state": {
       "border": "1px solid black"
      }
     },
     "7ce7fb73d5014a10b7eee0b9887caca2": {
      "model_module": "@jupyter-widgets/base",
      "model_module_version": "1.2.0",
      "model_name": "LayoutModel",
      "state": {}
     },
     "7d04705f52f0423c9af3a68b61248998": {
      "model_module": "@jupyter-widgets/base",
      "model_module_version": "1.2.0",
      "model_name": "LayoutModel",
      "state": {}
     },
     "7d3a2833885b4e7d906375389a191a40": {
      "model_module": "@jupyter-widgets/controls",
      "model_module_version": "1.5.0",
      "model_name": "CheckboxModel",
      "state": {
       "description": "Save as environment var",
       "disabled": false,
       "layout": "IPY_MODEL_86f662ffcee942709d74f832666fe486",
       "style": "IPY_MODEL_dd473985af674b9d8b1ff2ca00936c3d",
       "value": true
      }
     },
     "7d50e8af6c5e4db6bb39229fdf121340": {
      "model_module": "@jupyter-widgets/controls",
      "model_module_version": "1.5.0",
      "model_name": "SelectModel",
      "state": {
       "description": "Selected: ",
       "index": null,
       "layout": "IPY_MODEL_93c003aca594490bae08a4d558d98d78",
       "style": "IPY_MODEL_fe7bd762dce245d28b83154e587bc96d"
      }
     },
     "7dfd7cb7cf5042dabe86d2f326da1dac": {
      "model_module": "@jupyter-widgets/controls",
      "model_module_version": "1.5.0",
      "model_name": "SelectModel",
      "state": {
       "_options_labels": [
        "An event log was cleared",
        "Anomalous account creation detected",
        "Azure Security Center test alert (not a threat)",
        "DC local group addition - Demo",
        "DC with MS AM engine failure - Demo",
        "Deep Security Agent detected a malware",
        "Detected Petya ransomware indicators",
        "Detected actions indicative of disabling and deleting IIS log files.",
        "Detected anomalous mix of upper and lower case characters in command-line",
        "Detected change to a registry key that can be abused to bypass UAC",
        "Detected decoding of an executable using built-in certutil.exe tool",
        "Detected encoded executable in command line data",
        "Detected obfuscated command line.",
        "Detected possible execution of keygen executable",
        "Detected possible execution of malware dropper",
        "Detected possible local reconnaissance activity",
        "Detected potentially suspicious use of Telegram tool",
        "Detected suspicious Set-ExecutionPolicy and WinRM changes",
        "Detected suspicious commandline arguments",
        "Detected suspicious commandline used to start all executables in a directory",
        "Detected suspicious credentials in commandline",
        "Detected suspicious document credentials",
        "Detected suspicious execution of VBScript.Encode command",
        "Detected suspicious execution via rundll32.exe",
        "Detected suspicious file cleanup commands",
        "Detected suspicious file creation",
        "Detected suspicious named pipe communications",
        "Detected suspicious new firewall rule",
        "Detected suspicious use of Cacls to lower the security state of the system.",
        "Detected suspicious use of FTP -s Switch",
        "Detected suspicious use of Pcalua.exe to launch executable code",
        "Detected the disabling of critical services",
        "Digital currency mining related behavior detected",
        "Executable found running from a suspicious location",
        "Failed RDP Brute Force Attack",
        "Global domain trust creation - Demo",
        "High risk software detected",
        "Maliciuos IP communication",
        "Modified system binary discovered in dump file 5bd767e4-2d08-4714-b744-aaed04b57107__391365252.hdmp",
        "Multiple Domain Accounts Queried",
        "Network communication with a malicious machine detected",
        "Palo Alto admin logged on via SSH - Demo",
        "Possible compromised machine detected",
        "Possible credential dumping detected",
        "Possible outgoing spam activity detected",
        "Potential SQL Injection",
        "Potential attempt to bypass AppLocker detected",
        "Random process name detected",
        "Ransomware indicators detected",
        "Rare SVCHOST service group executed",
        "SQL injection blocked",
        "Sticky keys attack detected",
        "Successful RDP brute force attack",
        "Suspected Kerberos Golden Ticket attack parameters observed",
        "Suspicious Account Added",
        "Suspicious Account Creation Detected",
        "Suspicious Powershell Activity Detected",
        "Suspicious SVCHOST process executed",
        "Suspicious Volume Shadow Copy Activity",
        "Suspicious WindowPosition registry value detected",
        "Suspicious double extension file executed",
        "Suspicious download using Certutil detected",
        "Suspicious powershell cmdlets executed",
        "Suspicious process executed",
        "Suspicious system process executed",
        "Suspiciously named process detected"
       ],
       "description": "Source: ",
       "index": 0,
       "layout": "IPY_MODEL_710f4a8fe7cc4d2d8fb26fe6f3d2ef7d",
       "style": "IPY_MODEL_c9dd06b7b88d49ad92668526fb58212b"
      }
     },
     "7e762f88c01c47aeb64c6dbf487261f8": {
      "model_module": "@jupyter-widgets/base",
      "model_module_version": "1.2.0",
      "model_name": "LayoutModel",
      "state": {
       "width": "50%"
      }
     },
     "7ec0836902d5483e9ce7529442a5a70d": {
      "model_module": "@jupyter-widgets/controls",
      "model_module_version": "1.5.0",
      "model_name": "ButtonStyleModel",
      "state": {}
     },
     "8075274527114f8ab14e46e962e5251a": {
      "model_module": "@jupyter-widgets/controls",
      "model_module_version": "1.5.0",
      "model_name": "ButtonModel",
      "state": {
       "description": "⇽ Remove All",
       "layout": "IPY_MODEL_71c77b5981334d4a839b2cc3481d2674",
       "style": "IPY_MODEL_d53eedd065dd42ec840d97d8eb702bb3"
      }
     },
     "80791103013e43f7ac18f31188d21547": {
      "model_module": "@jupyter-widgets/base",
      "model_module_version": "1.2.0",
      "model_name": "LayoutModel",
      "state": {
       "width": "50%"
      }
     },
     "80cba6efce244d17bc816e3ab68eee4a": {
      "model_module": "@jupyter-widgets/controls",
      "model_module_version": "1.5.0",
      "model_name": "ButtonModel",
      "state": {
       "description": "⇽ Remove",
       "layout": "IPY_MODEL_745fe0567cfe4bd5b297a27e943b8ccc",
       "style": "IPY_MODEL_af44fc73b5cd46cf8cb9b477628405a6"
      }
     },
     "81266c6d7a294becbc39f2007d0652c0": {
      "model_module": "@jupyter-widgets/controls",
      "model_module_version": "1.5.0",
      "model_name": "CheckboxModel",
      "state": {
       "description": "Save as environment var",
       "disabled": false,
       "layout": "IPY_MODEL_30cf422cfa39428395314c2d09aeda7a",
       "style": "IPY_MODEL_382685b242f94b31bab1323d923e33b3",
       "value": true
      }
     },
     "813b5944db554ba1aea27a11ac9baebb": {
      "model_module": "@jupyter-widgets/controls",
      "model_module_version": "1.5.0",
      "model_name": "ButtonStyleModel",
      "state": {}
     },
     "81f37852dceb46c8af954836e00a74b1": {
      "model_module": "@jupyter-widgets/base",
      "model_module_version": "1.2.0",
      "model_name": "LayoutModel",
      "state": {}
     },
     "823303497fef40b2a9398aae025a33d5": {
      "model_module": "@jupyter-widgets/base",
      "model_module_version": "1.2.0",
      "model_name": "LayoutModel",
      "state": {}
     },
     "8238255bb5e941a881d24ab2599e898e": {
      "model_module": "@jupyter-widgets/base",
      "model_module_version": "1.2.0",
      "model_name": "LayoutModel",
      "state": {}
     },
     "82a6a001ab894e63bf91c4480dcea887": {
      "model_module": "@jupyter-widgets/base",
      "model_module_version": "1.2.0",
      "model_name": "LayoutModel",
      "state": {}
     },
     "83c7f56f8cbb471e95703aa7130a54a2": {
      "model_module": "@jupyter-widgets/base",
      "model_module_version": "1.2.0",
      "model_name": "LayoutModel",
      "state": {}
     },
     "8446adbf4bf14316bb90d8e2fd76ae3f": {
      "model_module": "@jupyter-widgets/base",
      "model_module_version": "1.2.0",
      "model_name": "LayoutModel",
      "state": {
       "width": "50%"
      }
     },
     "844aa498911d406ebd56ef23a87b61a7": {
      "model_module": "@jupyter-widgets/controls",
      "model_module_version": "1.5.0",
      "model_name": "ButtonStyleModel",
      "state": {}
     },
     "8511bee87c0a49ce9ad57703569fde31": {
      "model_module": "@jupyter-widgets/controls",
      "model_module_version": "1.5.0",
      "model_name": "DescriptionStyleModel",
      "state": {
       "description_width": ""
      }
     },
     "855b7fa6c89c45a480aa871912a8bca7": {
      "model_module": "@jupyter-widgets/controls",
      "model_module_version": "1.5.0",
      "model_name": "DescriptionStyleModel",
      "state": {
       "description_width": ""
      }
     },
     "8586f3c96bf6413f84b0595fab253764": {
      "model_module": "@jupyter-widgets/controls",
      "model_module_version": "1.5.0",
      "model_name": "TextModel",
      "state": {
       "description": "Filter alerts by title:",
       "layout": "IPY_MODEL_e487eff798a54955a8ebfc714f7e6e53",
       "style": "IPY_MODEL_85db794981f844d9991705f0fb7e4ef0"
      }
     },
     "85db794981f844d9991705f0fb7e4ef0": {
      "model_module": "@jupyter-widgets/controls",
      "model_module_version": "1.5.0",
      "model_name": "DescriptionStyleModel",
      "state": {
       "description_width": "initial"
      }
     },
     "85f7bf523f0841d49a897c3049c41458": {
      "model_module": "@jupyter-widgets/controls",
      "model_module_version": "1.5.0",
      "model_name": "ButtonModel",
      "state": {
       "description": "⇽ Remove",
       "layout": "IPY_MODEL_59af55e7c6e24b608cba841171c5e7a5",
       "style": "IPY_MODEL_4a94b4d0488c4381a3db025e772da2ef"
      }
     },
     "86ad1742c0844d4a87b5f50173e12235": {
      "model_module": "@jupyter-widgets/controls",
      "model_module_version": "1.5.0",
      "model_name": "DatePickerModel",
      "state": {
       "description": "Origin Date",
       "disabled": false,
       "layout": "IPY_MODEL_21bfcf4455834867824f589bf1dfc6c3",
       "style": "IPY_MODEL_0903fc623fbd41389b9624aa96d2120d",
       "value": {
        "date": 18,
        "month": 7,
        "year": 2019
       }
      }
     },
     "86c2db52abb347f2926f46623d138f83": {
      "model_module": "@jupyter-widgets/controls",
      "model_module_version": "1.5.0",
      "model_name": "ButtonModel",
      "state": {
       "description": "Add ⇾",
       "layout": "IPY_MODEL_0113096b8be64fd78619d97a5df8a3a9",
       "style": "IPY_MODEL_844aa498911d406ebd56ef23a87b61a7"
      }
     },
     "86ced493dbb7449199d1f176598591d9": {
      "model_module": "@jupyter-widgets/base",
      "model_module_version": "1.2.0",
      "model_name": "LayoutModel",
      "state": {}
     },
     "86f662ffcee942709d74f832666fe486": {
      "model_module": "@jupyter-widgets/base",
      "model_module_version": "1.2.0",
      "model_name": "LayoutModel",
      "state": {}
     },
     "8776269904bd4ba98677ef477e37b8a2": {
      "model_module": "@jupyter-widgets/controls",
      "model_module_version": "1.5.0",
      "model_name": "ButtonStyleModel",
      "state": {}
     },
     "87e87849ab8349da9a153b65db23c711": {
      "model_module": "@jupyter-widgets/controls",
      "model_module_version": "1.5.0",
      "model_name": "VBoxModel",
      "state": {
       "children": [
        "IPY_MODEL_61a234c983dd4f1a9b3b1f6d59f36964",
        "IPY_MODEL_25ed172a7a4e4f4e983ec8bf44faae01",
        "IPY_MODEL_397049d2e61948ac91706f23b7117bce"
       ],
       "layout": "IPY_MODEL_8cb2e1e8bd8a406099ee0d01ea2b8242"
      }
     },
     "8866d0db1e234bd1ae80850ebfe05421": {
      "model_module": "@jupyter-widgets/base",
      "model_module_version": "1.2.0",
      "model_name": "LayoutModel",
      "state": {}
     },
     "896c1b577f3440f8912b2775faf63ff4": {
      "model_module": "@jupyter-widgets/base",
      "model_module_version": "1.2.0",
      "model_name": "LayoutModel",
      "state": {}
     },
     "8b48db5ba48943daaa0d3adb298e9067": {
      "model_module": "@jupyter-widgets/controls",
      "model_module_version": "1.5.0",
      "model_name": "ButtonStyleModel",
      "state": {}
     },
     "8c00485cb96a4f17bc0a94481edf07c0": {
      "model_module": "@jupyter-widgets/controls",
      "model_module_version": "1.5.0",
      "model_name": "ButtonModel",
      "state": {
       "description": "⇽ Remove All",
       "layout": "IPY_MODEL_e725d657087147abb7558976eed0b443",
       "style": "IPY_MODEL_57b04480b1064d838bb9f5bb1f5bbb61"
      }
     },
     "8c64cb2822784a58a8edd20e6ba34723": {
      "model_module": "@jupyter-widgets/controls",
      "model_module_version": "1.5.0",
      "model_name": "VBoxModel",
      "state": {
       "children": [
        "IPY_MODEL_cac903382102437ebe93f612f351a505",
        "IPY_MODEL_d57ced1d88254dd7a9a9c5c88ece531d",
        "IPY_MODEL_979450e3b1254cf8929546eec468f9ab",
        "IPY_MODEL_8c00485cb96a4f17bc0a94481edf07c0"
       ],
       "layout": "IPY_MODEL_cf997a4d7cce4bfaa2ac8c4d47108464"
      }
     },
     "8c7d82812cb44191b9c924c9ef6c6f96": {
      "model_module": "@jupyter-widgets/controls",
      "model_module_version": "1.5.0",
      "model_name": "VBoxModel",
      "state": {
       "children": [
        "IPY_MODEL_8586f3c96bf6413f84b0595fab253764",
        "IPY_MODEL_9366469acc6d42579d4af203331c67ab",
        "IPY_MODEL_31403f31d5ca4fad878ae4de5a3e1755"
       ],
       "layout": "IPY_MODEL_8db78d877c204bc78917ced95de13465"
      }
     },
     "8cb2e1e8bd8a406099ee0d01ea2b8242": {
      "model_module": "@jupyter-widgets/base",
      "model_module_version": "1.2.0",
      "model_name": "LayoutModel",
      "state": {}
     },
     "8db78d877c204bc78917ced95de13465": {
      "model_module": "@jupyter-widgets/base",
      "model_module_version": "1.2.0",
      "model_name": "LayoutModel",
      "state": {}
     },
     "8e548987aabe49eb9266cf682be21e84": {
      "model_module": "@jupyter-widgets/controls",
      "model_module_version": "1.5.0",
      "model_name": "SelectModel",
      "state": {
       "_options_labels": [
        "Detected suspicious commandline arguments",
        "Detected suspicious commandline used to start all executables in a directory",
        "Detected suspicious credentials in commandline"
       ],
       "description": "Selected: ",
       "index": 0,
       "layout": "IPY_MODEL_124196b3f80a402baa01e5f16642b631",
       "style": "IPY_MODEL_0952c1ad89064a05860887078606f72a"
      }
     },
     "8fdfccadd0d747fca0f8497857174b39": {
      "model_module": "@jupyter-widgets/controls",
      "model_module_version": "1.5.0",
      "model_name": "DescriptionStyleModel",
      "state": {
       "description_width": "initial"
      }
     },
     "9012d9b454ed4a96a612d519118d01f0": {
      "model_module": "@jupyter-widgets/base",
      "model_module_version": "1.2.0",
      "model_name": "LayoutModel",
      "state": {
       "width": "80%"
      }
     },
     "901f431cf4704543a6c45b56c667562a": {
      "model_module": "@jupyter-widgets/controls",
      "model_module_version": "1.5.0",
      "model_name": "HBoxModel",
      "state": {
       "children": [
        "IPY_MODEL_cbb2729e02e44a5f85bf4f25e3f7c1ac",
        "IPY_MODEL_79860b85357549a98c6edc6de67ac770",
        "IPY_MODEL_8e548987aabe49eb9266cf682be21e84"
       ],
       "layout": "IPY_MODEL_eaf520b5a7c64b288c4176c3d14bb577"
      }
     },
     "90a64b1cd0074216888d56f995da1b0d": {
      "model_module": "@jupyter-widgets/controls",
      "model_module_version": "1.5.0",
      "model_name": "ButtonModel",
      "state": {
       "description": "⇽ Remove All",
       "layout": "IPY_MODEL_b7028128b4e142ea8b2da253d384aabe",
       "style": "IPY_MODEL_48ca401114d64300bf3e766fb40e2ab2"
      }
     },
     "90ad42dd661643858964ade937a36092": {
      "model_module": "@jupyter-widgets/base",
      "model_module_version": "1.2.0",
      "model_name": "LayoutModel",
      "state": {
       "height": "50px",
       "width": "60%"
      }
     },
     "9181306d45ee4e838c18c259909d41e4": {
      "model_module": "@jupyter-widgets/controls",
      "model_module_version": "1.5.0",
      "model_name": "ButtonStyleModel",
      "state": {}
     },
     "918c32af1ae5452798327e23bc70c2c5": {
      "model_module": "@jupyter-widgets/base",
      "model_module_version": "1.2.0",
      "model_name": "LayoutModel",
      "state": {}
     },
     "91e214f1dc424d6683cf05a99c995ef4": {
      "model_module": "@jupyter-widgets/controls",
      "model_module_version": "1.5.0",
      "model_name": "ButtonStyleModel",
      "state": {}
     },
     "9235b81a76314fb68be010a1d718305b": {
      "model_module": "@jupyter-widgets/base",
      "model_module_version": "1.2.0",
      "model_name": "LayoutModel",
      "state": {}
     },
     "9236e950c4694a9b842d309212d83347": {
      "model_module": "@jupyter-widgets/base",
      "model_module_version": "1.2.0",
      "model_name": "LayoutModel",
      "state": {}
     },
     "92441659a24e477cab26da2c7916f531": {
      "model_module": "@jupyter-widgets/controls",
      "model_module_version": "1.5.0",
      "model_name": "ButtonModel",
      "state": {
       "description": "⇽ Remove All",
       "layout": "IPY_MODEL_22364f23ea944674934c8b747b86e074",
       "style": "IPY_MODEL_8b48db5ba48943daaa0d3adb298e9067"
      }
     },
     "9273428bf1a545b390def3397f10eed7": {
      "model_module": "@jupyter-widgets/controls",
      "model_module_version": "1.5.0",
      "model_name": "ButtonModel",
      "state": {
       "description": "⇽ Remove All",
       "layout": "IPY_MODEL_63ad55a67dd6450f92a1d47a72cf1c27",
       "style": "IPY_MODEL_d838c4cd08334f7eadd2ec4e3dda4d56"
      }
     },
     "92a013f878d34f90bb876b1301ec9e1d": {
      "model_module": "@jupyter-widgets/controls",
      "model_module_version": "1.5.0",
      "model_name": "TextModel",
      "state": {
       "description": "Enter the value: ",
       "layout": "IPY_MODEL_a8a5aea15ff34761bbddcdb8fc2b39b0",
       "style": "IPY_MODEL_ce864dc804154b6d95b0a4a46268937c",
       "value": "C:\\Users\\Ian"
      }
     },
     "92d54d68f11048ddaaf1456e0c89d2aa": {
      "model_module": "@jupyter-widgets/controls",
      "model_module_version": "1.5.0",
      "model_name": "DescriptionStyleModel",
      "state": {
       "description_width": "initial"
      }
     },
     "9366469acc6d42579d4af203331c67ab": {
      "model_module": "@jupyter-widgets/controls",
      "model_module_version": "1.5.0",
      "model_name": "SelectModel",
      "state": {
       "_options_labels": [
        "2019-01-15 05:15:03  Suspicious Account Creation Detected (MSTICALERTSWIN1) [id:2518547714966107270_3c380601-b5ad-4fff-9cdb-24528a3a19fd]",
        "2019-01-15 05:15:10  Potential attempt to bypass AppLocker detected (MSTICALERTSWIN1) [id:2518547714892475358_9e449abd-e67b-4ec8-a191-e688d7d63e26]",
        "2019-01-15 05:15:11  Detected suspicious credentials in commandline (MSTICALERTSWIN1) [id:2518547714880519889_9d6d471a-c94f-4706-b0ff-b2f0301495aa]",
        "2019-01-15 05:15:11  Detected encoded executable in command line data (MSTICALERTSWIN1) [id:2518547714885867955_290559aa-a3d0-425b-8ed2-e98ccc9f0aa0]",
        "2019-01-15 05:15:11  Digital currency mining related behavior detected (MSTICALERTSWIN1) [id:2518547714887413669_4fa0022e-f431-4ba1-ae5f-ee23247e0853]",
        "2019-01-15 05:15:11  Suspiciously named process detected (MSTICALERTSWIN1) [id:2518547714887413669_1c680842-2a1d-40c0-a6e4-32e5dd144647]",
        "2019-01-15 05:15:11  Detected decoding of an executable using built-in certutil.exe tool (MSTICALERTSWIN1) [id:2518547714882331861_5c56421d-d894-4437-9b9a-a3b5c6b7e1df]",
        "2019-01-15 05:15:12  Detected suspicious commandline arguments (MSTICALERTSWIN1) [id:2518547714879317674_226cc394-fccf-483d-888a-beafad2ed4a4]",
        "2019-01-15 05:15:12  Detected suspicious document credentials (MSTICALERTSWIN1) [id:2518547714879970078_b080127b-d5c1-425e-a7ca-e4bbd873009d]",
        "2019-01-15 05:15:12  Suspicious Powershell Activity Detected (MSTICALERTSWIN1) [id:2518547714874872692_30d988ff-b8d9-45df-8217-e56b0d4d591c]",
        "2019-01-15 05:15:12  Suspicious powershell cmdlets executed (MSTICALERTSWIN1) [id:2518547714874872692_3eb0eb4b-0536-430c-8ab6-cd48524c14b1]",
        "2019-01-15 05:15:12  Suspicious Powershell Activity Detected (MSTICALERTSWIN1) [id:2518547714876077067_953def48-a24b-42a9-bd02-7221be90f84a]",
        "2019-01-15 05:15:12  Suspicious Powershell Activity Detected (MSTICALERTSWIN1) [id:2518547714873290756_df1b9eb2-05c4-4f7c-8540-cbb18ec5c608]",
        "2019-01-15 05:15:12  Detected obfuscated command line. (MSTICALERTSWIN1) [id:2518547714871530079_77211491-86de-4295-82bc-38e332fe1112]",
        "2019-01-15 05:15:13  Suspicious Powershell Activity Detected (MSTICALERTSWIN1) [id:2518547714867787710_76336679-bddf-460f-90fb-35a1386de7a6]",
        "2019-01-15 05:15:14  Executable found running from a suspicious location (MSTICALERTSWIN1) [id:2518547714853062206_f9ddd8b3-5fa8-4f2f-b811-bdca90091195]",
        "2019-01-15 05:15:14  Detected suspicious named pipe communications (MSTICALERTSWIN1) [id:2518547714859677078_9b4e4942-d564-4755-862c-7171d52921e3]",
        "2019-01-15 05:15:14  Suspicious process executed (MSTICALERTSWIN1) [id:2518547714854375707_e2a60bd1-d7c8-466d-a176-4333d4e0d1d5]",
        "2019-01-15 05:15:14  Suspicious WindowPosition registry value detected (MSTICALERTSWIN1) [id:2518547714858429362_9bfd0e4b-ec93-46bb-8eea-f72e8f1262f1]",
        "2019-01-15 05:15:14  Executable found running from a suspicious location (MSTICALERTSWIN1) [id:2518547714857061520_f4324711-aeae-4912-a634-331b7e7456b6]",
        "2019-01-15 05:15:15  Suspicious process executed (MSTICALERTSWIN1) [id:2518547714842732992_ad5981a5-fdcc-406a-8742-e50bd7f84917]",
        "2019-01-15 05:15:15  Detected anomalous mix of upper and lower case characters in command-line (MSTICALERTSWIN1) [id:2518547714844457503_55cd3e12-3a91-4b06-9be6-833df3365142]",
        "2019-01-15 05:15:15  Detected change to a registry key that can be abused to bypass UAC (MSTICALERTSWIN1) [id:2518547714844291280_8f71e695-ba9b-4c97-9770-63cdeb34b7b4]",
        "2019-01-15 05:15:15  Sticky keys attack detected (MSTICALERTSWIN1) [id:2518547714843796759_b3737297-038c-4514-a957-d591384b4256]",
        "2019-01-15 05:15:15  Detected suspicious use of FTP -s Switch (MSTICALERTSWIN1) [id:2518547714843218505_265472ff-3820-4dad-8da7-00e39e1a99fd]",
        "2019-01-15 05:15:16  Suspected Kerberos Golden Ticket attack parameters observed (MSTICALERTSWIN1) [id:2518547714838326136_e776fca2-4c01-43eb-ab97-b9845af3529c]",
        "2019-01-15 05:15:16  Detected suspicious new firewall rule (MSTICALERTSWIN1) [id:2518547714839319574_33edaa83-fe35-47de-9486-fc9792c5b65b]",
        "2019-01-15 05:15:16  Detected suspicious execution via rundll32.exe (MSTICALERTSWIN1) [id:2518547714834806864_4bb2ecc3-f4aa-40cd-a3d7-802fc9086e89]",
        "2019-01-15 05:15:16  Detected suspicious execution via rundll32.exe (MSTICALERTSWIN1) [id:2518547714835690929_8e73946b-ebea-4625-aa60-d97b82dcfb07]",
        "2019-01-15 05:15:16  Detected possible local reconnaissance activity (MSTICALERTSWIN1) [id:2518547714837217151_f0d023fb-376f-46ab-9976-a5825d826bea]",
        "2019-01-15 05:15:16  Detected suspicious Set-ExecutionPolicy and WinRM changes (MSTICALERTSWIN1) [id:2518547714832788202_b56b9e61-fefb-47a3-a34f-7c1b44f8268a]",
        "2019-01-15 05:15:16  Detected suspicious commandline used to start all executables in a directory (MSTICALERTSWIN1) [id:2518547714833232927_0e8db234-9727-41f3-a6e0-0773519603d2]",
        "2019-01-15 05:15:16  Detected potentially suspicious use of Telegram tool (MSTICALERTSWIN1) [id:2518547714833859291_4fa26308-1daf-49ee-8880-b194f950d8b0]",
        "2019-01-15 05:15:16  Detected actions indicative of disabling and deleting IIS log files. (MSTICALERTSWIN1) [id:2518547714831067013_8df27789-fb10-4035-ac48-cd0883b2e6b0]",
        "2019-01-15 05:15:17  Random process name detected (MSTICALERTSWIN1) [id:2518547714829244584_9984a237-2dd7-4932-bb8d-23ca535a6254]",
        "2019-01-15 05:15:17  Azure Security Center test alert (not a threat) (MSTICALERTSWIN1) [id:2518547714824290520_b2d9be9f-58e2-4174-8658-419670393253]",
        "2019-01-15 05:15:18  Detected suspicious file creation (MSTICALERTSWIN1) [id:2518547714816637303_3252483f-2fdb-411a-93f5-e268d5e56abf]",
        "2019-01-15 05:15:18  High risk software detected (MSTICALERTSWIN1) [id:2518547714813699414_d12ed618-567b-4b8f-8241-82ad4c1cb28e]",
        "2019-01-15 05:15:18  Detected possible execution of malware dropper (MSTICALERTSWIN1) [id:2518547714815009424_9a34d332-2fb6-4f3f-beb0-d9817dc9b7cd]",
        "2019-01-15 05:15:18  Ransomware indicators detected (MSTICALERTSWIN1) [id:2518547714812286467_d5e026fa-6687-495e-878d-c4c93477cc78]",
        "2019-01-15 05:15:18  Detected possible execution of keygen executable (MSTICALERTSWIN1) [id:2518547714814533914_38d53571-e98a-4bb6-a17f-0361a561019e]",
        "2019-01-15 05:15:18  Detected suspicious use of Pcalua.exe to launch executable code (MSTICALERTSWIN1) [id:2518547714811337754_ad1fd62a-9565-41e4-b94a-6264942033f6]",
        "2019-01-15 05:15:18  Detected the disabling of critical services (MSTICALERTSWIN1) [id:2518547714813299511_a5df127a-f7e8-44ff-b404-6d5b37d06488]",
        "2019-01-15 05:15:18  Detected suspicious file cleanup commands (MSTICALERTSWIN1) [id:2518547714814450855_c0822e2b-785b-41a8-8136-21b7430a0078]",
        "2019-01-15 05:15:18  Detected Petya ransomware indicators (MSTICALERTSWIN1) [id:2518547714812938298_fa4939d4-a20c-440a-839c-89c0c43e1ccc]",
        "2019-01-15 05:15:18  Detected suspicious execution of VBScript.Encode command (MSTICALERTSWIN1) [id:2518547714811804858_5b42a152-64c2-4f16-8cc3-887b8b0161fc]",
        "2019-01-15 05:15:18  Detected suspicious use of Cacls to lower the security state of the system. (MSTICALERTSWIN1) [id:2518547714815952205_1ba5718e-529b-441b-8036-ad06ee862e76]",
        "2019-01-15 05:15:19  Possible credential dumping detected (MSTICALERTSWIN1) [id:2518547714809416002_76bf04a5-71fa-487a-9742-d54941a7a194]",
        "2019-01-15 05:15:19  Suspicious download using Certutil detected (MSTICALERTSWIN1) [id:2518547714805546049_03e7bf17-8f77-42ca-8ac1-af8258f4d1ca]",
        "2019-01-15 09:15:03  Suspicious Account Creation Detected (MSTICALERTSWIN1) [id:2518547570966661760_526e34b6-6578-4fc0-9db6-e126b4d673f0]",
        "2019-01-15 09:15:07  Potential attempt to bypass AppLocker detected (MSTICALERTSWIN1) [id:2518547570924760670_9868ed7d-397e-4aa4-8dbd-5a1c5f736c1e]",
        "2019-01-15 09:15:10  Suspiciously named process detected (MSTICALERTSWIN1) [id:2518547570895430544_4ea6c432-6d20-4986-9679-ecf58ac4854d]",
        "2019-01-15 09:15:10  Digital currency mining related behavior detected (MSTICALERTSWIN1) [id:2518547570895430544_72351be4-ae78-4cc6-9f6a-1ff87c31baeb]",
        "2019-01-15 09:15:11  Suspicious Powershell Activity Detected (MSTICALERTSWIN1) [id:2518547570884378777_92a2f884-5827-4fb6-acf8-b0087b76aa73]",
        "2019-01-15 09:15:11  Suspicious Powershell Activity Detected (MSTICALERTSWIN1) [id:2518547570881721037_4ca5c629-673c-4372-9bd3-ab7bf6d6e6f0]",
        "2019-01-15 09:15:11  Suspicious Powershell Activity Detected (MSTICALERTSWIN1) [id:2518547570883109415_c762b0f7-a0f5-4dda-ab48-54b5ae6eade4]",
        "2019-01-15 09:15:11  Detected obfuscated command line. (MSTICALERTSWIN1) [id:2518547570880067443_c1a9004f-7f64-4144-8ce0-8f76f9041703]",
        "2019-01-15 09:15:12  Suspicious Powershell Activity Detected (MSTICALERTSWIN1) [id:2518547570876432155_ce7c7361-8ac9-47be-b8fb-7a87c87ee178]",
        "2019-01-15 09:15:13  Suspicious WindowPosition registry value detected (MSTICALERTSWIN1) [id:2518547570866947129_1b074412-133c-4ac9-8e3f-24103159b03e]",
        "2019-01-15 09:15:13  Executable found running from a suspicious location (MSTICALERTSWIN1) [id:2518547570865502616_c6f3dea2-fe36-4e65-b161-1b1cd1104eb3]",
        "2019-01-15 09:15:13  Executable found running from a suspicious location (MSTICALERTSWIN1) [id:2518547570860979996_bddac8c5-cba5-4da2-a6dd-c0a39fc2b256]",
        "2019-01-15 09:15:13  Suspicious process executed (MSTICALERTSWIN1) [id:2518547570862568702_029c9c95-c1fe-4419-bc3b-a6d832c87e65]",
        "2019-01-15 09:15:14  Detected anomalous mix of upper and lower case characters in command-line (MSTICALERTSWIN1) [id:2518547570852901341_3ca6ca5a-8bf2-417f-b8c9-3cea37c84f4b]",
        "2019-01-15 09:15:14  Suspicious process executed (MSTICALERTSWIN1) [id:2518547570851316041_43f7d8f3-fea5-4fca-a884-713c2d65203c]",
        "2019-01-15 09:15:16  Azure Security Center test alert (not a threat) (MSTICALERTSWIN1) [id:2518547570833725387_2df8ae94-03fe-4b9f-a3a9-f3c6dab95c05]",
        "2019-01-15 09:15:17  Ransomware indicators detected (MSTICALERTSWIN1) [id:2518547570821365949_48327b74-c904-402d-a1d8-2b3a882924e7]",
        "2019-01-15 09:15:17  Detected Petya ransomware indicators (MSTICALERTSWIN1) [id:2518547570821871899_e647375c-9979-47b5-9f78-f414a1aad26d]",
        "2019-01-15 11:45:00  Suspicious Account Creation Detected (MSTICALERTSWIN1) [id:2518547480991748435_836318d1-0fa0-4cfe-a3d0-2b1fdbaf2216]",
        "2019-01-15 11:45:01  Detected obfuscated command line. (MSTICALERTSWIN1) [id:2518547480982511513_adfabbe0-fce0-44f3-be4b-17283bd03bed]",
        "2019-01-15 11:45:01  Suspiciously named process detected (MSTICALERTSWIN1) [id:2518547480988516756_54bb943e-7fe9-4146-a43e-4064c8e0049f]",
        "2019-01-15 11:45:01  Digital currency mining related behavior detected (MSTICALERTSWIN1) [id:2518547480988516756_668ed54c-9e73-4d4f-a9c2-b88fd1b13db0]",
        "2019-01-15 11:45:01  Potential attempt to bypass AppLocker detected (MSTICALERTSWIN1) [id:2518547480989617678_f3490cf7-a303-4001-b7d6-8acf7e83f191]",
        "2019-01-15 11:45:01  Suspicious Powershell Activity Detected (MSTICALERTSWIN1) [id:2518547480982973701_24a6d6f3-acf1-41bd-a11f-01a1369bac02]",
        "2019-01-15 11:45:01  Suspicious Powershell Activity Detected (MSTICALERTSWIN1) [id:2518547480984263491_d46877bd-e04d-401a-99bd-eec2a6b25663]",
        "2019-01-15 11:45:01  Suspicious Powershell Activity Detected (MSTICALERTSWIN1) [id:2518547480983467170_9da8e3df-9c3b-4e20-8bd0-ace00aff9def]",
        "2019-01-15 11:45:01  Suspicious Powershell Activity Detected (MSTICALERTSWIN1) [id:2518547480980813134_5cb7ab95-6017-4031-afb2-e11518b0f5cc]",
        "2019-01-15 11:45:02  Executable found running from a suspicious location (MSTICALERTSWIN1) [id:2518547480975043692_7e663699-5412-496f-ac91-e21a7b6f0be5]",
        "2019-01-15 11:45:02  Suspicious WindowPosition registry value detected (MSTICALERTSWIN1) [id:2518547480977469312_e9ff6947-fd12-42d2-bb63-2d814f04482a]",
        "2019-01-15 11:45:02  Executable found running from a suspicious location (MSTICALERTSWIN1) [id:2518547480977057409_ed9d92ac-0ab8-4a2e-a1dd-f70ee30a9af1]",
        "2019-01-15 11:45:02  Detected anomalous mix of upper and lower case characters in command-line (MSTICALERTSWIN1) [id:2518547480970182118_c0558adc-b4a9-4289-b9ad-7e7260f1cde0]",
        "2019-01-15 11:45:02  Suspicious process executed (MSTICALERTSWIN1) [id:2518547480976076338_2a106d12-acd8-4dd7-9e1c-3c20b4eaa320]",
        "2019-01-15 11:45:03  Suspicious process executed (MSTICALERTSWIN1) [id:2518547480968677354_88eb8a87-a876-46aa-b8ed-be7298929ea8]",
        "2019-01-15 11:45:04  Random process name detected (MSTICALERTSWIN1) [id:2518547480956885358_b66e93d7-b38b-4785-baa5-093edc18e649]",
        "2019-01-15 11:45:05  Azure Security Center test alert (not a threat) (MSTICALERTSWIN1) [id:2518547480945920380_00d33245-c643-4155-8c05-6abc4ee3b3cd]",
        "2019-01-15 11:45:06  Ransomware indicators detected (MSTICALERTSWIN1) [id:2518547480937987105_ec1678a1-0fe8-44c5-91b5-621c40d2bb8c]",
        "2019-01-15 11:45:06  Detected Petya ransomware indicators (MSTICALERTSWIN1) [id:2518547480938543829_91a4f9a7-70ad-433b-a568-34314e3f467f]",
        "2019-01-15 13:15:10  Suspiciously named process detected (MSTICALERTSWIN1) [id:2518547426892072407_171b74b2-a431-4b55-8d69-128e5fb95329]",
        "2019-01-15 13:15:13  Suspicious WindowPosition registry value detected (MSTICALERTSWIN1) [id:2518547426863814510_75495c57-4fd6-4e27-b94c-c6f81f78bcb5]",
        "2019-01-15 13:15:14  Suspicious process executed (MSTICALERTSWIN1) [id:2518547426859453218_89d1850f-dccd-4d45-b194-650819d358d9]",
        "2019-01-15 13:15:14  Executable found running from a suspicious location (MSTICALERTSWIN1) [id:2518547426858055460_51b74398-40e2-4b1b-9d92-89c0004738c9]",
        "2019-01-15 13:15:15  Suspicious process executed (MSTICALERTSWIN1) [id:2518547426847947731_caa12d6c-4928-4787-90d4-cb27ff94373c]",
        "2019-01-15 13:15:17  Azure Security Center test alert (not a threat) (MSTICALERTSWIN1) [id:2518547426829675756_846ec406-bb3e-451b-bf6f-9e1e17a69bd6]",
        "2019-01-15 13:15:18  Ransomware indicators detected (MSTICALERTSWIN1) [id:2518547426817428483_636ab38f-2528-4356-8602-d0910f8ac600]",
        "2019-01-15 13:15:18  Detected Petya ransomware indicators (MSTICALERTSWIN1) [id:2518547426817928329_a4aa878d-93b5-4cd1-931f-30f85b9e6db2]",
        "2019-01-15 17:15:03  Suspicious Account Creation Detected (MSTICALERTSWIN1) [id:2518547282966696689_3db7e1e7-2edc-4dd9-8c1d-d908f5b8a904]",
        "2019-01-15 17:15:10  Suspiciously named process detected (MSTICALERTSWIN1) [id:2518547282892925953_0073e6d8-6c2e-42e4-8966-d1f5a3dd3517]",
        "2019-01-15 17:15:10  Digital currency mining related behavior detected (MSTICALERTSWIN1) [id:2518547282892925953_35c8d588-ddf7-46b5-a0bf-f47023f9343c]",
        "2019-01-15 17:15:10  Potential attempt to bypass AppLocker detected (MSTICALERTSWIN1) [id:2518547282896095305_82730ffa-b9ce-43f4-bf3c-a97113107cc5]",
        "2019-01-15 17:15:11  Suspicious Powershell Activity Detected (MSTICALERTSWIN1) [id:2518547282883193041_31ae6eeb-bd1d-4018-8df9-eeedd60bf1ab]",
        "2019-01-15 17:15:11  Suspicious Powershell Activity Detected (MSTICALERTSWIN1) [id:2518547282880013417_d65aa787-e867-43b1-9182-025a1a38173a]",
        "2019-01-15 17:15:11  Suspicious Powershell Activity Detected (MSTICALERTSWIN1) [id:2518547282881581273_ed5bcf39-ffd3-468a-82e3-28e108d4f06f]",
        "2019-01-15 17:15:12  Suspicious Powershell Activity Detected (MSTICALERTSWIN1) [id:2518547282874783943_bd1a0865-a507-4e2b-b8df-613238a950df]",
        "2019-01-15 17:15:12  Detected obfuscated command line. (MSTICALERTSWIN1) [id:2518547282878855119_d89d1ab7-e5b7-426c-a98f-eab95deea3ad]",
        "2019-01-15 17:15:13  Suspicious WindowPosition registry value detected (MSTICALERTSWIN1) [id:2518547282865194453_9895a5cc-6f49-45f5-a0eb-f05c1f11f264]",
        "2019-01-15 17:15:13  Executable found running from a suspicious location (MSTICALERTSWIN1) [id:2518547282863799328_84ea8dcd-9436-4b4d-82b2-36114028bd61]",
        "2019-01-15 17:15:14  Suspicious process executed (MSTICALERTSWIN1) [id:2518547282859754476_0c3ae402-a9ea-4d5c-9c09-4274b7847c2c]",
        "2019-01-15 17:15:14  Executable found running from a suspicious location (MSTICALERTSWIN1) [id:2518547282858353938_58851b10-8f5c-48f1-aade-b1529f4e2c7f]",
        "2019-01-15 17:15:14  Detected anomalous mix of upper and lower case characters in command-line (MSTICALERTSWIN1) [id:2518547282850984831_7f983018-fd59-4e9e-ba70-295f6beb0e9c]",
        "2019-01-15 17:15:15  Suspicious process executed (MSTICALERTSWIN1) [id:2518547282845656644_c7318da8-368f-47f8-bff5-e15600a3fb80]",
        "2019-01-15 17:15:18  Azure Security Center test alert (not a threat) (MSTICALERTSWIN1) [id:2518547282812706885_12ae1e22-347e-454c-ae0d-ebb48cdf189b]",
        "2019-01-15 17:15:19  Detected Petya ransomware indicators (MSTICALERTSWIN1) [id:2518547282803821916_c76cdb6c-cea0-4b2b-9ab6-1442a5857ed8]",
        "2019-01-15 17:15:19  Ransomware indicators detected (MSTICALERTSWIN1) [id:2518547282802847718_4a524cc8-7613-4c42-93a9-8c1e466a4476]"
       ],
       "description": "Select alert :",
       "index": 0,
       "layout": "IPY_MODEL_219404a5111e4af3b0128a9869797527",
       "style": "IPY_MODEL_8fdfccadd0d747fca0f8497857174b39"
      }
     },
     "937569eea0cb426a9a1e01a6eb947f13": {
      "model_module": "@jupyter-widgets/base",
      "model_module_version": "1.2.0",
      "model_name": "LayoutModel",
      "state": {}
     },
     "93c003aca594490bae08a4d558d98d78": {
      "model_module": "@jupyter-widgets/base",
      "model_module_version": "1.2.0",
      "model_name": "LayoutModel",
      "state": {
       "height": "200px",
       "width": "40%"
      }
     },
     "946a6513d8834ae8afaed1a075bd5b4f": {
      "model_module": "@jupyter-widgets/controls",
      "model_module_version": "1.5.0",
      "model_name": "HBoxModel",
      "state": {
       "children": [
        "IPY_MODEL_7ae923d993e644b6b2a07fbbc90e26af",
        "IPY_MODEL_f999099fa7a643dcbf0ed481dcecc8cb"
       ],
       "layout": "IPY_MODEL_bd3f69ab9ecc4315b72d5bae74cd63a1"
      }
     },
     "94a89f10dca6472b9bb8707a68e279da": {
      "model_module": "@jupyter-widgets/controls",
      "model_module_version": "1.5.0",
      "model_name": "TextModel",
      "state": {
       "description": "Query end time (UTC) :  ",
       "layout": "IPY_MODEL_efcc9e7f2f4b4198b8fd00ede8be805d",
       "style": "IPY_MODEL_0515ec94dc604e3e9f70a03fc7a1322c",
       "value": "2019-08-19 00:37:02.768494"
      }
     },
     "95519aa367354e2fb27220306c975410": {
      "model_module": "@jupyter-widgets/controls",
      "model_module_version": "1.5.0",
      "model_name": "DescriptionStyleModel",
      "state": {
       "description_width": ""
      }
     },
     "956ab27e453c4f98ad4c98595f80197c": {
      "model_module": "@jupyter-widgets/base",
      "model_module_version": "1.2.0",
      "model_name": "LayoutModel",
      "state": {}
     },
     "9576a6d184de45e2830bc06b8a9c310a": {
      "model_module": "@jupyter-widgets/base",
      "model_module_version": "1.2.0",
      "model_name": "LayoutModel",
      "state": {}
     },
     "95c3b80fa512462aa00420febfd4162b": {
      "model_module": "@jupyter-widgets/controls",
      "model_module_version": "1.5.0",
      "model_name": "DescriptionStyleModel",
      "state": {
       "description_width": ""
      }
     },
     "95db9b31b6c04327a7c4cbcdf4083b4e": {
      "model_module": "@jupyter-widgets/base",
      "model_module_version": "1.2.0",
      "model_name": "LayoutModel",
      "state": {
       "width": "50%"
      }
     },
     "962f87d36bfe430ea97919f4ca616fd5": {
      "model_module": "@jupyter-widgets/controls",
      "model_module_version": "1.5.0",
      "model_name": "DatePickerModel",
      "state": {
       "description": "Origin Date",
       "disabled": false,
       "layout": "IPY_MODEL_9723c77f48b941a3ba53aa288f1b5136",
       "style": "IPY_MODEL_08da76098ffe4a7ca7e3406cf1d7f958",
       "value": {
        "date": 18,
        "month": 7,
        "year": 2019
       }
      }
     },
     "967002d04cdf4bd1a56df3aee0e9b2b9": {
      "model_module": "@jupyter-widgets/base",
      "model_module_version": "1.2.0",
      "model_name": "LayoutModel",
      "state": {}
     },
     "967903e5f95b4fdfa43f2053596c3677": {
      "model_module": "@jupyter-widgets/controls",
      "model_module_version": "1.5.0",
      "model_name": "ButtonModel",
      "state": {
       "description": "⇽ Remove",
       "layout": "IPY_MODEL_e43330ad23414d02ad1c3c7ec9416923",
       "style": "IPY_MODEL_43460937823040cbb8c3bee98c6dcf9f"
      }
     },
     "9723c77f48b941a3ba53aa288f1b5136": {
      "model_module": "@jupyter-widgets/base",
      "model_module_version": "1.2.0",
      "model_name": "LayoutModel",
      "state": {}
     },
     "979450e3b1254cf8929546eec468f9ab": {
      "model_module": "@jupyter-widgets/controls",
      "model_module_version": "1.5.0",
      "model_name": "ButtonModel",
      "state": {
       "description": "⇽ Remove",
       "layout": "IPY_MODEL_21050f48b43a48b6a5cc71577d0330fa",
       "style": "IPY_MODEL_3b6273ced533463a89c8472cb0aa15a2"
      }
     },
     "97e148ff649b41aab0666dde458d06fc": {
      "model_module": "@jupyter-widgets/controls",
      "model_module_version": "1.5.0",
      "model_name": "SelectModel",
      "state": {
       "_options_labels": [
        "An event log was cleared",
        "Anomalous account creation detected",
        "Azure Security Center test alert (not a threat)",
        "DC local group addition - Demo",
        "DC with MS AM engine failure - Demo",
        "Deep Security Agent detected a malware",
        "Detected Petya ransomware indicators",
        "Detected actions indicative of disabling and deleting IIS log files.",
        "Detected anomalous mix of upper and lower case characters in command-line",
        "Detected change to a registry key that can be abused to bypass UAC",
        "Detected decoding of an executable using built-in certutil.exe tool",
        "Detected encoded executable in command line data",
        "Detected obfuscated command line.",
        "Detected possible execution of keygen executable",
        "Detected possible execution of malware dropper",
        "Detected possible local reconnaissance activity",
        "Detected potentially suspicious use of Telegram tool",
        "Detected suspicious Set-ExecutionPolicy and WinRM changes",
        "Detected suspicious commandline arguments",
        "Detected suspicious commandline used to start all executables in a directory",
        "Detected suspicious credentials in commandline",
        "Detected suspicious document credentials",
        "Detected suspicious execution of VBScript.Encode command",
        "Detected suspicious execution via rundll32.exe",
        "Detected suspicious file cleanup commands",
        "Detected suspicious file creation",
        "Detected suspicious named pipe communications",
        "Detected suspicious new firewall rule",
        "Detected suspicious use of Cacls to lower the security state of the system.",
        "Detected suspicious use of FTP -s Switch",
        "Detected suspicious use of Pcalua.exe to launch executable code",
        "Detected the disabling of critical services",
        "Digital currency mining related behavior detected",
        "Executable found running from a suspicious location",
        "Failed RDP Brute Force Attack",
        "Global domain trust creation - Demo",
        "High risk software detected",
        "Maliciuos IP communication",
        "Modified system binary discovered in dump file 5bd767e4-2d08-4714-b744-aaed04b57107__391365252.hdmp",
        "Multiple Domain Accounts Queried",
        "Network communication with a malicious machine detected",
        "Palo Alto admin logged on via SSH - Demo",
        "Possible compromised machine detected",
        "Possible credential dumping detected",
        "Possible outgoing spam activity detected",
        "Potential SQL Injection",
        "Potential attempt to bypass AppLocker detected",
        "Random process name detected",
        "Ransomware indicators detected",
        "Rare SVCHOST service group executed",
        "SQL injection blocked",
        "Sticky keys attack detected",
        "Successful RDP brute force attack",
        "Suspected Kerberos Golden Ticket attack parameters observed",
        "Suspicious Account Added",
        "Suspicious Account Creation Detected",
        "Suspicious Powershell Activity Detected",
        "Suspicious SVCHOST process executed",
        "Suspicious Volume Shadow Copy Activity",
        "Suspicious WindowPosition registry value detected",
        "Suspicious double extension file executed",
        "Suspicious download using Certutil detected",
        "Suspicious powershell cmdlets executed",
        "Suspicious process executed",
        "Suspicious system process executed",
        "Suspiciously named process detected"
       ],
       "description": "Source: ",
       "index": 0,
       "layout": "IPY_MODEL_c0c1607f9ba4451e9c9564400f09a2f5",
       "style": "IPY_MODEL_855b7fa6c89c45a480aa871912a8bca7"
      }
     },
     "98323309a93c4638a0881679f111445a": {
      "model_module": "@jupyter-widgets/base",
      "model_module_version": "1.2.0",
      "model_name": "LayoutModel",
      "state": {}
     },
     "990dd5abc4f545edafe1df55d94e013d": {
      "model_module": "@jupyter-widgets/controls",
      "model_module_version": "1.5.0",
      "model_name": "ButtonStyleModel",
      "state": {}
     },
     "99f6e60288c54d55b8623b4bd9314c73": {
      "model_module": "@jupyter-widgets/controls",
      "model_module_version": "1.5.0",
      "model_name": "DescriptionStyleModel",
      "state": {
       "description_width": ""
      }
     },
     "9a1af84f672945719b1a4328307f7bae": {
      "model_module": "@jupyter-widgets/controls",
      "model_module_version": "1.5.0",
      "model_name": "TextModel",
      "state": {
       "description": "Query start time (UTC):",
       "layout": "IPY_MODEL_17272ddb13bc450c9216301088d90555",
       "style": "IPY_MODEL_49a576dc4b584ea8a0e8fb00e5ba33b2",
       "value": "2019-08-28 23:36:59.410918"
      }
     },
     "9a61f52fc4b44ffea5c76941e99ef6c1": {
      "model_module": "@jupyter-widgets/base",
      "model_module_version": "1.2.0",
      "model_name": "LayoutModel",
      "state": {}
     },
     "9aef7d9626f847649f400e9e82f5546d": {
      "model_module": "@jupyter-widgets/controls",
      "model_module_version": "1.5.0",
      "model_name": "DescriptionStyleModel",
      "state": {
       "description_width": "initial"
      }
     },
     "9b0da4c9085e40e29ef4273f6313c146": {
      "model_module": "@jupyter-widgets/controls",
      "model_module_version": "1.5.0",
      "model_name": "TextModel",
      "state": {
       "description": "Time (24hr)",
       "layout": "IPY_MODEL_b71e9f82fffc4cceae80188e5e7f7dcf",
       "style": "IPY_MODEL_fa72be7130944fb98041115382883a15",
       "value": "23:37:02.768494"
      }
     },
     "9b860574f8a844f8964e94b279425f11": {
      "model_module": "@jupyter-widgets/controls",
      "model_module_version": "1.5.0",
      "model_name": "ButtonStyleModel",
      "state": {}
     },
     "9c1bffbfe65f4252a3b27fd685254688": {
      "model_module": "@jupyter-widgets/controls",
      "model_module_version": "1.5.0",
      "model_name": "DescriptionStyleModel",
      "state": {
       "description_width": ""
      }
     },
     "9c785f6bc9704d2ea3c128d887c210cf": {
      "model_module": "@jupyter-widgets/controls",
      "model_module_version": "1.5.0",
      "model_name": "DatePickerModel",
      "state": {
       "description": "Origin Date",
       "disabled": false,
       "layout": "IPY_MODEL_f718c4ba44e84001b21cab43c5d5eba3",
       "style": "IPY_MODEL_4d4f86730db94d6eae63862f404804b0",
       "value": {
        "date": 2,
        "month": 8,
        "year": 2019
       }
      }
     },
     "9d1936aede9b43d98374583fe54398cc": {
      "model_module": "@jupyter-widgets/base",
      "model_module_version": "1.2.0",
      "model_name": "LayoutModel",
      "state": {
       "width": "50%"
      }
     },
     "9d3a5c221ae34d3a82298b77f1212ab5": {
      "model_module": "@jupyter-widgets/controls",
      "model_module_version": "1.5.0",
      "model_name": "TextModel",
      "state": {
       "description": "Time (24hr)",
       "layout": "IPY_MODEL_aee4b97efb904fe88be5d6984f45f740",
       "style": "IPY_MODEL_554bb0af4ebd49109ef6e9d98e61ec9c",
       "value": "22:06:44.157048"
      }
     },
     "9dc0ae7f6701475aafd799beaf488c8e": {
      "model_module": "@jupyter-widgets/controls",
      "model_module_version": "1.5.0",
      "model_name": "VBoxModel",
      "state": {
       "children": [
        "IPY_MODEL_b420972e1ce44ec39bb983368b6697ab",
        "IPY_MODEL_dd1f17ef34754957a05f1cbf0cb00c25",
        "IPY_MODEL_2b92996f20914f7a8a9e6fcd8cb4a7da"
       ],
       "layout": "IPY_MODEL_5d7b3b28f4ce44c1bd46e80df035c0bb"
      }
     },
     "9de2bb62df764baf8123ee968b4d68c6": {
      "model_module": "@jupyter-widgets/controls",
      "model_module_version": "1.5.0",
      "model_name": "DatePickerModel",
      "state": {
       "description": "Origin Date",
       "disabled": false,
       "layout": "IPY_MODEL_3b86a057f08c4605acc76df0c5b21d5c",
       "style": "IPY_MODEL_9c1bffbfe65f4252a3b27fd685254688",
       "value": {
        "date": 2,
        "month": 8,
        "year": 2019
       }
      }
     },
     "9e14fe2a094840318a7c5029d781dd1f": {
      "model_module": "@jupyter-widgets/controls",
      "model_module_version": "1.5.0",
      "model_name": "HBoxModel",
      "state": {
       "children": [
        "IPY_MODEL_c089bd44eee447deac2f4ca43212704e",
        "IPY_MODEL_6b8a43bca9764596ba6d75762c5265b8",
        "IPY_MODEL_d08ecbd09e2c4e29ba233f680c833ed9"
       ],
       "layout": "IPY_MODEL_ccb2c990537a4a85a0870345ef587c5d"
      }
     },
     "9e367b96012e4fd9a2ee1b0d7b38e068": {
      "model_module": "@jupyter-widgets/controls",
      "model_module_version": "1.5.0",
      "model_name": "SelectModel",
      "state": {
       "description": "Selected: ",
       "index": null,
       "layout": "IPY_MODEL_5f8efee2676e480fb95ae2fb62e96e11",
       "style": "IPY_MODEL_6c2e5afca801426e973997969e113797"
      }
     },
     "9e46f83a72cb4576b03cac9ca4575a43": {
      "model_module": "@jupyter-widgets/controls",
      "model_module_version": "1.5.0",
      "model_name": "DescriptionStyleModel",
      "state": {
       "description_width": ""
      }
     },
     "9eb83b3123504e0196b8c535685622ed": {
      "model_module": "@jupyter-widgets/base",
      "model_module_version": "1.2.0",
      "model_name": "LayoutModel",
      "state": {
       "width": "10%"
      }
     },
     "9ef58de47953431bb57d5feaa4e1a4f3": {
      "model_module": "@jupyter-widgets/controls",
      "model_module_version": "1.5.0",
      "model_name": "SelectModel",
      "state": {
       "_options_labels": [
        "2019-01-15 05:15:03  Suspicious Account Creation Detected (MSTICALERTSWIN1) [id:2518547714966107270_3c380601-b5ad-4fff-9cdb-24528a3a19fd]",
        "2019-01-15 05:15:10  Potential attempt to bypass AppLocker detected (MSTICALERTSWIN1) [id:2518547714892475358_9e449abd-e67b-4ec8-a191-e688d7d63e26]",
        "2019-01-15 05:15:11  Detected suspicious credentials in commandline (MSTICALERTSWIN1) [id:2518547714880519889_9d6d471a-c94f-4706-b0ff-b2f0301495aa]",
        "2019-01-15 05:15:11  Detected encoded executable in command line data (MSTICALERTSWIN1) [id:2518547714885867955_290559aa-a3d0-425b-8ed2-e98ccc9f0aa0]",
        "2019-01-15 05:15:11  Digital currency mining related behavior detected (MSTICALERTSWIN1) [id:2518547714887413669_4fa0022e-f431-4ba1-ae5f-ee23247e0853]",
        "2019-01-15 05:15:11  Suspiciously named process detected (MSTICALERTSWIN1) [id:2518547714887413669_1c680842-2a1d-40c0-a6e4-32e5dd144647]",
        "2019-01-15 05:15:11  Detected decoding of an executable using built-in certutil.exe tool (MSTICALERTSWIN1) [id:2518547714882331861_5c56421d-d894-4437-9b9a-a3b5c6b7e1df]",
        "2019-01-15 05:15:12  Detected suspicious commandline arguments (MSTICALERTSWIN1) [id:2518547714879317674_226cc394-fccf-483d-888a-beafad2ed4a4]",
        "2019-01-15 05:15:12  Detected suspicious document credentials (MSTICALERTSWIN1) [id:2518547714879970078_b080127b-d5c1-425e-a7ca-e4bbd873009d]",
        "2019-01-15 05:15:12  Suspicious Powershell Activity Detected (MSTICALERTSWIN1) [id:2518547714874872692_30d988ff-b8d9-45df-8217-e56b0d4d591c]",
        "2019-01-15 05:15:12  Suspicious powershell cmdlets executed (MSTICALERTSWIN1) [id:2518547714874872692_3eb0eb4b-0536-430c-8ab6-cd48524c14b1]",
        "2019-01-15 05:15:12  Suspicious Powershell Activity Detected (MSTICALERTSWIN1) [id:2518547714876077067_953def48-a24b-42a9-bd02-7221be90f84a]",
        "2019-01-15 05:15:12  Suspicious Powershell Activity Detected (MSTICALERTSWIN1) [id:2518547714873290756_df1b9eb2-05c4-4f7c-8540-cbb18ec5c608]",
        "2019-01-15 05:15:12  Detected obfuscated command line. (MSTICALERTSWIN1) [id:2518547714871530079_77211491-86de-4295-82bc-38e332fe1112]",
        "2019-01-15 05:15:13  Suspicious Powershell Activity Detected (MSTICALERTSWIN1) [id:2518547714867787710_76336679-bddf-460f-90fb-35a1386de7a6]",
        "2019-01-15 05:15:14  Executable found running from a suspicious location (MSTICALERTSWIN1) [id:2518547714853062206_f9ddd8b3-5fa8-4f2f-b811-bdca90091195]",
        "2019-01-15 05:15:14  Detected suspicious named pipe communications (MSTICALERTSWIN1) [id:2518547714859677078_9b4e4942-d564-4755-862c-7171d52921e3]",
        "2019-01-15 05:15:14  Suspicious process executed (MSTICALERTSWIN1) [id:2518547714854375707_e2a60bd1-d7c8-466d-a176-4333d4e0d1d5]",
        "2019-01-15 05:15:14  Suspicious WindowPosition registry value detected (MSTICALERTSWIN1) [id:2518547714858429362_9bfd0e4b-ec93-46bb-8eea-f72e8f1262f1]",
        "2019-01-15 05:15:14  Executable found running from a suspicious location (MSTICALERTSWIN1) [id:2518547714857061520_f4324711-aeae-4912-a634-331b7e7456b6]",
        "2019-01-15 05:15:15  Suspicious process executed (MSTICALERTSWIN1) [id:2518547714842732992_ad5981a5-fdcc-406a-8742-e50bd7f84917]",
        "2019-01-15 05:15:15  Detected anomalous mix of upper and lower case characters in command-line (MSTICALERTSWIN1) [id:2518547714844457503_55cd3e12-3a91-4b06-9be6-833df3365142]",
        "2019-01-15 05:15:15  Detected change to a registry key that can be abused to bypass UAC (MSTICALERTSWIN1) [id:2518547714844291280_8f71e695-ba9b-4c97-9770-63cdeb34b7b4]",
        "2019-01-15 05:15:15  Sticky keys attack detected (MSTICALERTSWIN1) [id:2518547714843796759_b3737297-038c-4514-a957-d591384b4256]",
        "2019-01-15 05:15:15  Detected suspicious use of FTP -s Switch (MSTICALERTSWIN1) [id:2518547714843218505_265472ff-3820-4dad-8da7-00e39e1a99fd]",
        "2019-01-15 05:15:16  Suspected Kerberos Golden Ticket attack parameters observed (MSTICALERTSWIN1) [id:2518547714838326136_e776fca2-4c01-43eb-ab97-b9845af3529c]",
        "2019-01-15 05:15:16  Detected suspicious new firewall rule (MSTICALERTSWIN1) [id:2518547714839319574_33edaa83-fe35-47de-9486-fc9792c5b65b]",
        "2019-01-15 05:15:16  Detected suspicious execution via rundll32.exe (MSTICALERTSWIN1) [id:2518547714834806864_4bb2ecc3-f4aa-40cd-a3d7-802fc9086e89]",
        "2019-01-15 05:15:16  Detected suspicious execution via rundll32.exe (MSTICALERTSWIN1) [id:2518547714835690929_8e73946b-ebea-4625-aa60-d97b82dcfb07]",
        "2019-01-15 05:15:16  Detected possible local reconnaissance activity (MSTICALERTSWIN1) [id:2518547714837217151_f0d023fb-376f-46ab-9976-a5825d826bea]",
        "2019-01-15 05:15:16  Detected suspicious Set-ExecutionPolicy and WinRM changes (MSTICALERTSWIN1) [id:2518547714832788202_b56b9e61-fefb-47a3-a34f-7c1b44f8268a]",
        "2019-01-15 05:15:16  Detected suspicious commandline used to start all executables in a directory (MSTICALERTSWIN1) [id:2518547714833232927_0e8db234-9727-41f3-a6e0-0773519603d2]",
        "2019-01-15 05:15:16  Detected potentially suspicious use of Telegram tool (MSTICALERTSWIN1) [id:2518547714833859291_4fa26308-1daf-49ee-8880-b194f950d8b0]",
        "2019-01-15 05:15:16  Detected actions indicative of disabling and deleting IIS log files. (MSTICALERTSWIN1) [id:2518547714831067013_8df27789-fb10-4035-ac48-cd0883b2e6b0]",
        "2019-01-15 05:15:17  Random process name detected (MSTICALERTSWIN1) [id:2518547714829244584_9984a237-2dd7-4932-bb8d-23ca535a6254]",
        "2019-01-15 05:15:17  Azure Security Center test alert (not a threat) (MSTICALERTSWIN1) [id:2518547714824290520_b2d9be9f-58e2-4174-8658-419670393253]",
        "2019-01-15 05:15:18  Detected suspicious file creation (MSTICALERTSWIN1) [id:2518547714816637303_3252483f-2fdb-411a-93f5-e268d5e56abf]",
        "2019-01-15 05:15:18  High risk software detected (MSTICALERTSWIN1) [id:2518547714813699414_d12ed618-567b-4b8f-8241-82ad4c1cb28e]",
        "2019-01-15 05:15:18  Detected possible execution of malware dropper (MSTICALERTSWIN1) [id:2518547714815009424_9a34d332-2fb6-4f3f-beb0-d9817dc9b7cd]",
        "2019-01-15 05:15:18  Ransomware indicators detected (MSTICALERTSWIN1) [id:2518547714812286467_d5e026fa-6687-495e-878d-c4c93477cc78]",
        "2019-01-15 05:15:18  Detected possible execution of keygen executable (MSTICALERTSWIN1) [id:2518547714814533914_38d53571-e98a-4bb6-a17f-0361a561019e]",
        "2019-01-15 05:15:18  Detected suspicious use of Pcalua.exe to launch executable code (MSTICALERTSWIN1) [id:2518547714811337754_ad1fd62a-9565-41e4-b94a-6264942033f6]",
        "2019-01-15 05:15:18  Detected the disabling of critical services (MSTICALERTSWIN1) [id:2518547714813299511_a5df127a-f7e8-44ff-b404-6d5b37d06488]",
        "2019-01-15 05:15:18  Detected suspicious file cleanup commands (MSTICALERTSWIN1) [id:2518547714814450855_c0822e2b-785b-41a8-8136-21b7430a0078]",
        "2019-01-15 05:15:18  Detected Petya ransomware indicators (MSTICALERTSWIN1) [id:2518547714812938298_fa4939d4-a20c-440a-839c-89c0c43e1ccc]",
        "2019-01-15 05:15:18  Detected suspicious execution of VBScript.Encode command (MSTICALERTSWIN1) [id:2518547714811804858_5b42a152-64c2-4f16-8cc3-887b8b0161fc]",
        "2019-01-15 05:15:18  Detected suspicious use of Cacls to lower the security state of the system. (MSTICALERTSWIN1) [id:2518547714815952205_1ba5718e-529b-441b-8036-ad06ee862e76]",
        "2019-01-15 05:15:19  Possible credential dumping detected (MSTICALERTSWIN1) [id:2518547714809416002_76bf04a5-71fa-487a-9742-d54941a7a194]",
        "2019-01-15 05:15:19  Suspicious download using Certutil detected (MSTICALERTSWIN1) [id:2518547714805546049_03e7bf17-8f77-42ca-8ac1-af8258f4d1ca]",
        "2019-01-15 09:15:03  Suspicious Account Creation Detected (MSTICALERTSWIN1) [id:2518547570966661760_526e34b6-6578-4fc0-9db6-e126b4d673f0]",
        "2019-01-15 09:15:07  Potential attempt to bypass AppLocker detected (MSTICALERTSWIN1) [id:2518547570924760670_9868ed7d-397e-4aa4-8dbd-5a1c5f736c1e]",
        "2019-01-15 09:15:10  Suspiciously named process detected (MSTICALERTSWIN1) [id:2518547570895430544_4ea6c432-6d20-4986-9679-ecf58ac4854d]",
        "2019-01-15 09:15:10  Digital currency mining related behavior detected (MSTICALERTSWIN1) [id:2518547570895430544_72351be4-ae78-4cc6-9f6a-1ff87c31baeb]",
        "2019-01-15 09:15:11  Suspicious Powershell Activity Detected (MSTICALERTSWIN1) [id:2518547570884378777_92a2f884-5827-4fb6-acf8-b0087b76aa73]",
        "2019-01-15 09:15:11  Suspicious Powershell Activity Detected (MSTICALERTSWIN1) [id:2518547570881721037_4ca5c629-673c-4372-9bd3-ab7bf6d6e6f0]",
        "2019-01-15 09:15:11  Suspicious Powershell Activity Detected (MSTICALERTSWIN1) [id:2518547570883109415_c762b0f7-a0f5-4dda-ab48-54b5ae6eade4]",
        "2019-01-15 09:15:11  Detected obfuscated command line. (MSTICALERTSWIN1) [id:2518547570880067443_c1a9004f-7f64-4144-8ce0-8f76f9041703]",
        "2019-01-15 09:15:12  Suspicious Powershell Activity Detected (MSTICALERTSWIN1) [id:2518547570876432155_ce7c7361-8ac9-47be-b8fb-7a87c87ee178]",
        "2019-01-15 09:15:13  Suspicious WindowPosition registry value detected (MSTICALERTSWIN1) [id:2518547570866947129_1b074412-133c-4ac9-8e3f-24103159b03e]",
        "2019-01-15 09:15:13  Executable found running from a suspicious location (MSTICALERTSWIN1) [id:2518547570865502616_c6f3dea2-fe36-4e65-b161-1b1cd1104eb3]",
        "2019-01-15 09:15:13  Executable found running from a suspicious location (MSTICALERTSWIN1) [id:2518547570860979996_bddac8c5-cba5-4da2-a6dd-c0a39fc2b256]",
        "2019-01-15 09:15:13  Suspicious process executed (MSTICALERTSWIN1) [id:2518547570862568702_029c9c95-c1fe-4419-bc3b-a6d832c87e65]",
        "2019-01-15 09:15:14  Detected anomalous mix of upper and lower case characters in command-line (MSTICALERTSWIN1) [id:2518547570852901341_3ca6ca5a-8bf2-417f-b8c9-3cea37c84f4b]",
        "2019-01-15 09:15:14  Suspicious process executed (MSTICALERTSWIN1) [id:2518547570851316041_43f7d8f3-fea5-4fca-a884-713c2d65203c]",
        "2019-01-15 09:15:16  Azure Security Center test alert (not a threat) (MSTICALERTSWIN1) [id:2518547570833725387_2df8ae94-03fe-4b9f-a3a9-f3c6dab95c05]",
        "2019-01-15 09:15:17  Ransomware indicators detected (MSTICALERTSWIN1) [id:2518547570821365949_48327b74-c904-402d-a1d8-2b3a882924e7]",
        "2019-01-15 09:15:17  Detected Petya ransomware indicators (MSTICALERTSWIN1) [id:2518547570821871899_e647375c-9979-47b5-9f78-f414a1aad26d]",
        "2019-01-15 11:45:00  Suspicious Account Creation Detected (MSTICALERTSWIN1) [id:2518547480991748435_836318d1-0fa0-4cfe-a3d0-2b1fdbaf2216]",
        "2019-01-15 11:45:01  Detected obfuscated command line. (MSTICALERTSWIN1) [id:2518547480982511513_adfabbe0-fce0-44f3-be4b-17283bd03bed]",
        "2019-01-15 11:45:01  Suspiciously named process detected (MSTICALERTSWIN1) [id:2518547480988516756_54bb943e-7fe9-4146-a43e-4064c8e0049f]",
        "2019-01-15 11:45:01  Digital currency mining related behavior detected (MSTICALERTSWIN1) [id:2518547480988516756_668ed54c-9e73-4d4f-a9c2-b88fd1b13db0]",
        "2019-01-15 11:45:01  Potential attempt to bypass AppLocker detected (MSTICALERTSWIN1) [id:2518547480989617678_f3490cf7-a303-4001-b7d6-8acf7e83f191]",
        "2019-01-15 11:45:01  Suspicious Powershell Activity Detected (MSTICALERTSWIN1) [id:2518547480982973701_24a6d6f3-acf1-41bd-a11f-01a1369bac02]",
        "2019-01-15 11:45:01  Suspicious Powershell Activity Detected (MSTICALERTSWIN1) [id:2518547480984263491_d46877bd-e04d-401a-99bd-eec2a6b25663]",
        "2019-01-15 11:45:01  Suspicious Powershell Activity Detected (MSTICALERTSWIN1) [id:2518547480983467170_9da8e3df-9c3b-4e20-8bd0-ace00aff9def]",
        "2019-01-15 11:45:01  Suspicious Powershell Activity Detected (MSTICALERTSWIN1) [id:2518547480980813134_5cb7ab95-6017-4031-afb2-e11518b0f5cc]",
        "2019-01-15 11:45:02  Executable found running from a suspicious location (MSTICALERTSWIN1) [id:2518547480975043692_7e663699-5412-496f-ac91-e21a7b6f0be5]",
        "2019-01-15 11:45:02  Suspicious WindowPosition registry value detected (MSTICALERTSWIN1) [id:2518547480977469312_e9ff6947-fd12-42d2-bb63-2d814f04482a]",
        "2019-01-15 11:45:02  Executable found running from a suspicious location (MSTICALERTSWIN1) [id:2518547480977057409_ed9d92ac-0ab8-4a2e-a1dd-f70ee30a9af1]",
        "2019-01-15 11:45:02  Detected anomalous mix of upper and lower case characters in command-line (MSTICALERTSWIN1) [id:2518547480970182118_c0558adc-b4a9-4289-b9ad-7e7260f1cde0]",
        "2019-01-15 11:45:02  Suspicious process executed (MSTICALERTSWIN1) [id:2518547480976076338_2a106d12-acd8-4dd7-9e1c-3c20b4eaa320]",
        "2019-01-15 11:45:03  Suspicious process executed (MSTICALERTSWIN1) [id:2518547480968677354_88eb8a87-a876-46aa-b8ed-be7298929ea8]",
        "2019-01-15 11:45:04  Random process name detected (MSTICALERTSWIN1) [id:2518547480956885358_b66e93d7-b38b-4785-baa5-093edc18e649]",
        "2019-01-15 11:45:05  Azure Security Center test alert (not a threat) (MSTICALERTSWIN1) [id:2518547480945920380_00d33245-c643-4155-8c05-6abc4ee3b3cd]",
        "2019-01-15 11:45:06  Ransomware indicators detected (MSTICALERTSWIN1) [id:2518547480937987105_ec1678a1-0fe8-44c5-91b5-621c40d2bb8c]",
        "2019-01-15 11:45:06  Detected Petya ransomware indicators (MSTICALERTSWIN1) [id:2518547480938543829_91a4f9a7-70ad-433b-a568-34314e3f467f]",
        "2019-01-15 13:15:10  Suspiciously named process detected (MSTICALERTSWIN1) [id:2518547426892072407_171b74b2-a431-4b55-8d69-128e5fb95329]",
        "2019-01-15 13:15:13  Suspicious WindowPosition registry value detected (MSTICALERTSWIN1) [id:2518547426863814510_75495c57-4fd6-4e27-b94c-c6f81f78bcb5]",
        "2019-01-15 13:15:14  Suspicious process executed (MSTICALERTSWIN1) [id:2518547426859453218_89d1850f-dccd-4d45-b194-650819d358d9]",
        "2019-01-15 13:15:14  Executable found running from a suspicious location (MSTICALERTSWIN1) [id:2518547426858055460_51b74398-40e2-4b1b-9d92-89c0004738c9]",
        "2019-01-15 13:15:15  Suspicious process executed (MSTICALERTSWIN1) [id:2518547426847947731_caa12d6c-4928-4787-90d4-cb27ff94373c]",
        "2019-01-15 13:15:17  Azure Security Center test alert (not a threat) (MSTICALERTSWIN1) [id:2518547426829675756_846ec406-bb3e-451b-bf6f-9e1e17a69bd6]",
        "2019-01-15 13:15:18  Ransomware indicators detected (MSTICALERTSWIN1) [id:2518547426817428483_636ab38f-2528-4356-8602-d0910f8ac600]",
        "2019-01-15 13:15:18  Detected Petya ransomware indicators (MSTICALERTSWIN1) [id:2518547426817928329_a4aa878d-93b5-4cd1-931f-30f85b9e6db2]",
        "2019-01-15 17:15:03  Suspicious Account Creation Detected (MSTICALERTSWIN1) [id:2518547282966696689_3db7e1e7-2edc-4dd9-8c1d-d908f5b8a904]",
        "2019-01-15 17:15:10  Suspiciously named process detected (MSTICALERTSWIN1) [id:2518547282892925953_0073e6d8-6c2e-42e4-8966-d1f5a3dd3517]",
        "2019-01-15 17:15:10  Digital currency mining related behavior detected (MSTICALERTSWIN1) [id:2518547282892925953_35c8d588-ddf7-46b5-a0bf-f47023f9343c]",
        "2019-01-15 17:15:10  Potential attempt to bypass AppLocker detected (MSTICALERTSWIN1) [id:2518547282896095305_82730ffa-b9ce-43f4-bf3c-a97113107cc5]",
        "2019-01-15 17:15:11  Suspicious Powershell Activity Detected (MSTICALERTSWIN1) [id:2518547282883193041_31ae6eeb-bd1d-4018-8df9-eeedd60bf1ab]",
        "2019-01-15 17:15:11  Suspicious Powershell Activity Detected (MSTICALERTSWIN1) [id:2518547282880013417_d65aa787-e867-43b1-9182-025a1a38173a]",
        "2019-01-15 17:15:11  Suspicious Powershell Activity Detected (MSTICALERTSWIN1) [id:2518547282881581273_ed5bcf39-ffd3-468a-82e3-28e108d4f06f]",
        "2019-01-15 17:15:12  Suspicious Powershell Activity Detected (MSTICALERTSWIN1) [id:2518547282874783943_bd1a0865-a507-4e2b-b8df-613238a950df]",
        "2019-01-15 17:15:12  Detected obfuscated command line. (MSTICALERTSWIN1) [id:2518547282878855119_d89d1ab7-e5b7-426c-a98f-eab95deea3ad]",
        "2019-01-15 17:15:13  Suspicious WindowPosition registry value detected (MSTICALERTSWIN1) [id:2518547282865194453_9895a5cc-6f49-45f5-a0eb-f05c1f11f264]",
        "2019-01-15 17:15:13  Executable found running from a suspicious location (MSTICALERTSWIN1) [id:2518547282863799328_84ea8dcd-9436-4b4d-82b2-36114028bd61]",
        "2019-01-15 17:15:14  Suspicious process executed (MSTICALERTSWIN1) [id:2518547282859754476_0c3ae402-a9ea-4d5c-9c09-4274b7847c2c]",
        "2019-01-15 17:15:14  Executable found running from a suspicious location (MSTICALERTSWIN1) [id:2518547282858353938_58851b10-8f5c-48f1-aade-b1529f4e2c7f]",
        "2019-01-15 17:15:14  Detected anomalous mix of upper and lower case characters in command-line (MSTICALERTSWIN1) [id:2518547282850984831_7f983018-fd59-4e9e-ba70-295f6beb0e9c]",
        "2019-01-15 17:15:15  Suspicious process executed (MSTICALERTSWIN1) [id:2518547282845656644_c7318da8-368f-47f8-bff5-e15600a3fb80]",
        "2019-01-15 17:15:18  Azure Security Center test alert (not a threat) (MSTICALERTSWIN1) [id:2518547282812706885_12ae1e22-347e-454c-ae0d-ebb48cdf189b]",
        "2019-01-15 17:15:19  Detected Petya ransomware indicators (MSTICALERTSWIN1) [id:2518547282803821916_c76cdb6c-cea0-4b2b-9ab6-1442a5857ed8]",
        "2019-01-15 17:15:19  Ransomware indicators detected (MSTICALERTSWIN1) [id:2518547282802847718_4a524cc8-7613-4c42-93a9-8c1e466a4476]"
       ],
       "description": "Select alert :",
       "index": 6,
       "layout": "IPY_MODEL_b82bff942ba849e484977941f7d34918",
       "style": "IPY_MODEL_2268f0b6aa604ffda544959545215a77"
      }
     },
     "9f94e2076df84c89a618ffe35faeeec9": {
      "model_module": "@jupyter-widgets/controls",
      "model_module_version": "1.5.0",
      "model_name": "DescriptionStyleModel",
      "state": {
       "description_width": "initial"
      }
     },
     "a023307a2b994813ac7b1ea10968e1fb": {
      "model_module": "@jupyter-widgets/base",
      "model_module_version": "1.2.0",
      "model_name": "LayoutModel",
      "state": {}
     },
     "a09966233b6646bf892431b0beb80f29": {
      "model_module": "@jupyter-widgets/base",
      "model_module_version": "1.2.0",
      "model_name": "LayoutModel",
      "state": {}
     },
     "a0a6073dd534409abaf751afd45b0f50": {
      "model_module": "@jupyter-widgets/controls",
      "model_module_version": "1.5.0",
      "model_name": "SelectModel",
      "state": {
       "_options_labels": [
        "An event log was cleared",
        "Anomalous account creation detected",
        "Azure Security Center test alert (not a threat)",
        "DC local group addition - Demo",
        "DC with MS AM engine failure - Demo",
        "Deep Security Agent detected a malware",
        "Detected Petya ransomware indicators",
        "Detected actions indicative of disabling and deleting IIS log files.",
        "Detected anomalous mix of upper and lower case characters in command-line",
        "Detected change to a registry key that can be abused to bypass UAC",
        "Detected decoding of an executable using built-in certutil.exe tool",
        "Detected encoded executable in command line data",
        "Detected obfuscated command line.",
        "Detected possible execution of keygen executable",
        "Detected possible execution of malware dropper",
        "Detected possible local reconnaissance activity",
        "Detected potentially suspicious use of Telegram tool",
        "Detected suspicious Set-ExecutionPolicy and WinRM changes",
        "Detected suspicious commandline arguments",
        "Detected suspicious commandline used to start all executables in a directory",
        "Detected suspicious credentials in commandline",
        "Detected suspicious document credentials",
        "Detected suspicious execution of VBScript.Encode command",
        "Detected suspicious execution via rundll32.exe",
        "Detected suspicious file cleanup commands",
        "Detected suspicious file creation",
        "Detected suspicious named pipe communications",
        "Detected suspicious new firewall rule",
        "Detected suspicious use of Cacls to lower the security state of the system.",
        "Detected suspicious use of FTP -s Switch",
        "Detected suspicious use of Pcalua.exe to launch executable code",
        "Detected the disabling of critical services",
        "Digital currency mining related behavior detected",
        "Executable found running from a suspicious location",
        "Failed RDP Brute Force Attack",
        "Global domain trust creation - Demo",
        "High risk software detected",
        "Maliciuos IP communication",
        "Modified system binary discovered in dump file 5bd767e4-2d08-4714-b744-aaed04b57107__391365252.hdmp",
        "Multiple Domain Accounts Queried",
        "Network communication with a malicious machine detected",
        "Palo Alto admin logged on via SSH - Demo",
        "Possible compromised machine detected",
        "Possible credential dumping detected",
        "Possible outgoing spam activity detected",
        "Potential SQL Injection",
        "Potential attempt to bypass AppLocker detected",
        "Random process name detected",
        "Ransomware indicators detected",
        "Rare SVCHOST service group executed",
        "SQL injection blocked",
        "Sticky keys attack detected",
        "Successful RDP brute force attack",
        "Suspected Kerberos Golden Ticket attack parameters observed",
        "Suspicious Account Added",
        "Suspicious Account Creation Detected",
        "Suspicious Powershell Activity Detected",
        "Suspicious SVCHOST process executed",
        "Suspicious Volume Shadow Copy Activity",
        "Suspicious WindowPosition registry value detected",
        "Suspicious double extension file executed",
        "Suspicious download using Certutil detected",
        "Suspicious powershell cmdlets executed",
        "Suspicious process executed",
        "Suspicious system process executed",
        "Suspiciously named process detected"
       ],
       "description": "Source: ",
       "index": 0,
       "layout": "IPY_MODEL_572c0bc2d50e4f90987bce394fd0293e",
       "style": "IPY_MODEL_ea03b40596cf4b0d8c7d22e8071123f3"
      }
     },
     "a18bce7db8c64e0e9a179dc2b93256c6": {
      "model_module": "@jupyter-widgets/controls",
      "model_module_version": "1.5.0",
      "model_name": "TextModel",
      "state": {
       "description": "Query start time (UTC):",
       "layout": "IPY_MODEL_b6d9f418538c464dab98bf07b155ce4d",
       "style": "IPY_MODEL_9f94e2076df84c89a618ffe35faeeec9",
       "value": "2019-08-18 19:37:02.768494"
      }
     },
     "a1b80e659b7346b29bf4ae2c754c512f": {
      "model_module": "@jupyter-widgets/controls",
      "model_module_version": "1.5.0",
      "model_name": "VBoxModel",
      "state": {
       "children": [
        "IPY_MODEL_1c187af170fd4884b37057a478df88ab",
        "IPY_MODEL_c8b515144c3945e9899abee5b6cd0875",
        "IPY_MODEL_7b7afb6504764badbf5e62d7b8410dda"
       ],
       "layout": "IPY_MODEL_b0c1855477f343f9863d165a4696cba3"
      }
     },
     "a2a4b07a3d094152840727c9f0e0d524": {
      "model_module": "@jupyter-widgets/base",
      "model_module_version": "1.2.0",
      "model_name": "LayoutModel",
      "state": {
       "border": "1px solid black"
      }
     },
     "a2e5e3450a354d9cb2ccbd2817c3cf49": {
      "model_module": "@jupyter-widgets/base",
      "model_module_version": "1.2.0",
      "model_name": "LayoutModel",
      "state": {
       "width": "50%"
      }
     },
     "a3204e56d566499aa2c7fc7eca3bc8fd": {
      "model_module": "@jupyter-widgets/controls",
      "model_module_version": "1.5.0",
      "model_name": "SelectModel",
      "state": {
       "_options_labels": [
        "Detected suspicious commandline arguments",
        "Detected suspicious commandline used to start all executables in a directory",
        "Detected suspicious credentials in commandline"
       ],
       "description": "Selected: ",
       "index": 0,
       "layout": "IPY_MODEL_635deb7526a7473fb4942ca7e9fd6fa4",
       "style": "IPY_MODEL_151f3dd0ace8420aa3217942cf5f0b3f"
      }
     },
     "a33a6db6c59f4aa3a2a4fc4427dccf42": {
      "model_module": "@jupyter-widgets/controls",
      "model_module_version": "1.5.0",
      "model_name": "ButtonStyleModel",
      "state": {}
     },
     "a42ccd67cfc2465683dace594669390d": {
      "model_module": "@jupyter-widgets/base",
      "model_module_version": "1.2.0",
      "model_name": "LayoutModel",
      "state": {}
     },
     "a45bfd255c254302ac292e8968716844": {
      "model_module": "@jupyter-widgets/controls",
      "model_module_version": "1.5.0",
      "model_name": "ButtonStyleModel",
      "state": {}
     },
     "a72934c7e4a04abbbfb353c2dd28dd4e": {
      "model_module": "@jupyter-widgets/output",
      "model_module_version": "1.0.0",
      "model_name": "OutputModel",
      "state": {
       "layout": "IPY_MODEL_f7b2363b13d347298cea11feaf77c558",
       "outputs": [
        {
         "ename": "AttributeError",
         "evalue": "module 'msticpy.nbtools.nbwidgets' has no attribute 'SecurityAlert'",
         "output_type": "error",
         "traceback": [
          "\u001b[1;31m---------------------------------------------------------------------------\u001b[0m",
          "\u001b[1;31mAttributeError\u001b[0m                            Traceback (most recent call last)",
          "\u001b[1;32me:\\src\\microsoft\\msticpy\\msticpy\\nbtools\\nbwidgets.py\u001b[0m in \u001b[0;36m_select_alert\u001b[1;34m(self, selection)\u001b[0m\n\u001b[0;32m    493\u001b[0m                     \u001b[0mself\u001b[0m\u001b[1;33m.\u001b[0m\u001b[0m_w_output\u001b[0m\u001b[1;33m.\u001b[0m\u001b[0mclear_output\u001b[0m\u001b[1;33m(\u001b[0m\u001b[1;33m)\u001b[0m\u001b[1;33m\u001b[0m\u001b[1;33m\u001b[0m\u001b[0m\n\u001b[0;32m    494\u001b[0m                     \u001b[1;32mwith\u001b[0m \u001b[0mself\u001b[0m\u001b[1;33m.\u001b[0m\u001b[0m_w_output\u001b[0m\u001b[1;33m:\u001b[0m\u001b[1;33m\u001b[0m\u001b[1;33m\u001b[0m\u001b[0m\n\u001b[1;32m--> 495\u001b[1;33m                         \u001b[0mself\u001b[0m\u001b[1;33m.\u001b[0m\u001b[0malert_action\u001b[0m\u001b[1;33m(\u001b[0m\u001b[0mself\u001b[0m\u001b[1;33m.\u001b[0m\u001b[0mselected_alert\u001b[0m\u001b[1;33m)\u001b[0m\u001b[1;33m\u001b[0m\u001b[1;33m\u001b[0m\u001b[0m\n\u001b[0m\u001b[0;32m    496\u001b[0m \u001b[1;33m\u001b[0m\u001b[0m\n\u001b[0;32m    497\u001b[0m     \u001b[1;32mdef\u001b[0m \u001b[0m_get_alert\u001b[0m\u001b[1;33m(\u001b[0m\u001b[0mself\u001b[0m\u001b[1;33m,\u001b[0m \u001b[0malert_id\u001b[0m\u001b[1;33m)\u001b[0m\u001b[1;33m:\u001b[0m\u001b[1;33m\u001b[0m\u001b[1;33m\u001b[0m\u001b[0m\n",
          "\u001b[1;32m<ipython-input-19-aafe2bfedeee>\u001b[0m in \u001b[0;36mshow_full_alert\u001b[1;34m(selected_alert)\u001b[0m\n\u001b[0;32m      1\u001b[0m \u001b[1;32mdef\u001b[0m \u001b[0mshow_full_alert\u001b[0m\u001b[1;33m(\u001b[0m\u001b[0mselected_alert\u001b[0m\u001b[1;33m)\u001b[0m\u001b[1;33m:\u001b[0m\u001b[1;33m\u001b[0m\u001b[1;33m\u001b[0m\u001b[0m\n\u001b[0;32m      2\u001b[0m     \u001b[1;32mglobal\u001b[0m \u001b[0msecurity_alert\u001b[0m\u001b[1;33m,\u001b[0m \u001b[0malert_ip_entities\u001b[0m\u001b[1;33m\u001b[0m\u001b[1;33m\u001b[0m\u001b[0m\n\u001b[1;32m----> 3\u001b[1;33m     \u001b[0msecurity_alert\u001b[0m \u001b[1;33m=\u001b[0m \u001b[0mnbwidgets\u001b[0m\u001b[1;33m.\u001b[0m\u001b[0mSecurityAlert\u001b[0m\u001b[1;33m(\u001b[0m\u001b[0malert_select\u001b[0m\u001b[1;33m.\u001b[0m\u001b[0mselected_alert\u001b[0m\u001b[1;33m)\u001b[0m\u001b[1;33m\u001b[0m\u001b[1;33m\u001b[0m\u001b[0m\n\u001b[0m\u001b[0;32m      4\u001b[0m     \u001b[0mnbdisplay\u001b[0m\u001b[1;33m.\u001b[0m\u001b[0mdisplay_alert\u001b[0m\u001b[1;33m(\u001b[0m\u001b[0msecurity_alert\u001b[0m\u001b[1;33m,\u001b[0m \u001b[0mshow_entities\u001b[0m\u001b[1;33m=\u001b[0m\u001b[1;32mTrue\u001b[0m\u001b[1;33m)\u001b[0m\u001b[1;33m\u001b[0m\u001b[1;33m\u001b[0m\u001b[0m\n\u001b[0;32m      5\u001b[0m \u001b[1;33m\u001b[0m\u001b[0m\n",
          "\u001b[1;31mAttributeError\u001b[0m: module 'msticpy.nbtools.nbwidgets' has no attribute 'SecurityAlert'"
         ]
        }
       ]
      }
     },
     "a73b17f3d25948bab53b677accedd18f": {
      "model_module": "@jupyter-widgets/base",
      "model_module_version": "1.2.0",
      "model_name": "LayoutModel",
      "state": {
       "height": "200px",
       "width": "40%"
      }
     },
     "a77e5195e97e4d2393be13c2bb8ecd30": {
      "model_module": "@jupyter-widgets/base",
      "model_module_version": "1.2.0",
      "model_name": "LayoutModel",
      "state": {
       "width": "50%"
      }
     },
     "a7ebece36c6a4acaab4fdb809fef57c3": {
      "model_module": "@jupyter-widgets/controls",
      "model_module_version": "1.5.0",
      "model_name": "VBoxModel",
      "state": {
       "children": [
        "IPY_MODEL_bde5b3fe33b243f9abd8ffbdb158e970",
        "IPY_MODEL_9ef58de47953431bb57d5feaa4e1a4f3",
        "IPY_MODEL_237aa409f0ba46308bec77daaba19cd8"
       ],
       "layout": "IPY_MODEL_103528083c214aa3aa4d3d1e772a9528"
      }
     },
     "a8360de291ad45f0af1c6c04952fc605": {
      "model_module": "@jupyter-widgets/controls",
      "model_module_version": "1.5.0",
      "model_name": "DescriptionStyleModel",
      "state": {
       "description_width": ""
      }
     },
     "a8437442192d4760bcbb7fe62dddd901": {
      "model_module": "@jupyter-widgets/controls",
      "model_module_version": "1.5.0",
      "model_name": "VBoxModel",
      "state": {
       "children": [
        "IPY_MODEL_6ed1c56bed584651a0b8d1d83e8c48f8",
        "IPY_MODEL_a18bce7db8c64e0e9a179dc2b93256c6",
        "IPY_MODEL_3e81d37755fa41b78fc3be9c850debb6"
       ],
       "layout": "IPY_MODEL_7bef72cf0eb845538470e40b56f05e56"
      }
     },
     "a85124df2ff642a98a16f19d0b15c90d": {
      "model_module": "@jupyter-widgets/controls",
      "model_module_version": "1.5.0",
      "model_name": "ButtonModel",
      "state": {
       "description": "⇽ Remove",
       "layout": "IPY_MODEL_f243e72d604e46faabacc20fe35d7a6e",
       "style": "IPY_MODEL_cfbee68737304117a6cea10f1d873258"
      }
     },
     "a879746f71e74a6a82c06705a9230687": {
      "model_module": "@jupyter-widgets/base",
      "model_module_version": "1.2.0",
      "model_name": "LayoutModel",
      "state": {}
     },
     "a8a5aea15ff34761bbddcdb8fc2b39b0": {
      "model_module": "@jupyter-widgets/base",
      "model_module_version": "1.2.0",
      "model_name": "LayoutModel",
      "state": {
       "width": "50%"
      }
     },
     "a8b0ab35a1304d678ff5c25834d978fc": {
      "model_module": "@jupyter-widgets/base",
      "model_module_version": "1.2.0",
      "model_name": "LayoutModel",
      "state": {
       "border": "1px solid black"
      }
     },
     "a8d94649069a40b6b2da6797fef0829f": {
      "model_module": "@jupyter-widgets/controls",
      "model_module_version": "1.5.0",
      "model_name": "VBoxModel",
      "state": {
       "children": [
        "IPY_MODEL_78b6f1d3a30b4fdf85be888cd8d65bcb",
        "IPY_MODEL_b40e7f348929496fb3296955187351e6",
        "IPY_MODEL_fad33e06c21446588920058ba20b3717",
        "IPY_MODEL_92441659a24e477cab26da2c7916f531"
       ],
       "layout": "IPY_MODEL_1a103da3dd9147e9a6b74faf493fa0e7"
      }
     },
     "a98636b7170e4cfe8b263cf804697efe": {
      "model_module": "@jupyter-widgets/controls",
      "model_module_version": "1.5.0",
      "model_name": "DescriptionStyleModel",
      "state": {
       "description_width": ""
      }
     },
     "a9d278f762aa4599b3fbe89b0d058cdb": {
      "model_module": "@jupyter-widgets/base",
      "model_module_version": "1.2.0",
      "model_name": "LayoutModel",
      "state": {}
     },
     "a9d656708a954a9cbae1c1befee89e25": {
      "model_module": "@jupyter-widgets/base",
      "model_module_version": "1.2.0",
      "model_name": "LayoutModel",
      "state": {}
     },
     "aa04229881b74024b8f2035b20f17db7": {
      "model_module": "@jupyter-widgets/controls",
      "model_module_version": "1.5.0",
      "model_name": "VBoxModel",
      "state": {
       "children": [
        "IPY_MODEL_12c9c8517b2041bd9d520b1fb8e36476",
        "IPY_MODEL_2c713fecc8f5464a85108d05d40bdc24",
        "IPY_MODEL_a85124df2ff642a98a16f19d0b15c90d",
        "IPY_MODEL_90a64b1cd0074216888d56f995da1b0d"
       ],
       "layout": "IPY_MODEL_86ced493dbb7449199d1f176598591d9"
      }
     },
     "aabac5306adf428890963356ae99b75f": {
      "model_module": "@jupyter-widgets/controls",
      "model_module_version": "1.5.0",
      "model_name": "DescriptionStyleModel",
      "state": {
       "description_width": "initial"
      }
     },
     "aaf330c5244749daa7e107180da4b502": {
      "model_module": "@jupyter-widgets/controls",
      "model_module_version": "1.5.0",
      "model_name": "TextModel",
      "state": {
       "description": "Time (24hr)",
       "layout": "IPY_MODEL_493e9894485047b8b96892a33a04dcdd",
       "style": "IPY_MODEL_3ffcbed08daf4317b5f505a6cdf27e2d",
       "value": "22:06:32.175073"
      }
     },
     "ab09913e84a44b4bab78b794ceed71eb": {
      "model_module": "@jupyter-widgets/base",
      "model_module_version": "1.2.0",
      "model_name": "LayoutModel",
      "state": {}
     },
     "ab686b01407245749430d18fae6a28a1": {
      "model_module": "@jupyter-widgets/base",
      "model_module_version": "1.2.0",
      "model_name": "LayoutModel",
      "state": {}
     },
     "abe7733550aa424686584a93e6310e33": {
      "model_module": "@jupyter-widgets/controls",
      "model_module_version": "1.5.0",
      "model_name": "ButtonStyleModel",
      "state": {}
     },
     "ac74027fa5b64a3988ca1999a9763b96": {
      "model_module": "@jupyter-widgets/controls",
      "model_module_version": "1.5.0",
      "model_name": "DatePickerModel",
      "state": {
       "description": "Origin Date",
       "disabled": false,
       "layout": "IPY_MODEL_ca1c28b1ad0d4159846612e846f85853",
       "style": "IPY_MODEL_c8415f54cfe343eaaa68c3d9f5955aab",
       "value": {
        "date": 18,
        "month": 7,
        "year": 2019
       }
      }
     },
     "ace52485bb774a36ab13a0302394a8c6": {
      "model_module": "@jupyter-widgets/controls",
      "model_module_version": "1.5.0",
      "model_name": "ButtonStyleModel",
      "state": {}
     },
     "ad2900fd24ea46b287d33de77f6ac0a5": {
      "model_module": "@jupyter-widgets/base",
      "model_module_version": "1.2.0",
      "model_name": "LayoutModel",
      "state": {}
     },
     "ad741f5827704f19a40c26a11e79550b": {
      "model_module": "@jupyter-widgets/controls",
      "model_module_version": "1.5.0",
      "model_name": "DescriptionStyleModel",
      "state": {
       "description_width": "initial"
      }
     },
     "ad7f6359f86f47cea3fbbc67b1a2b0a0": {
      "model_module": "@jupyter-widgets/controls",
      "model_module_version": "1.5.0",
      "model_name": "ButtonStyleModel",
      "state": {}
     },
     "adcc80ab30c641fba5357a04f5b8c0e6": {
      "model_module": "@jupyter-widgets/base",
      "model_module_version": "1.2.0",
      "model_name": "LayoutModel",
      "state": {}
     },
     "ae304d3550ec4a769f37a4d6af6d2328": {
      "model_module": "@jupyter-widgets/controls",
      "model_module_version": "1.5.0",
      "model_name": "DescriptionStyleModel",
      "state": {
       "description_width": "initial"
      }
     },
     "aee4b97efb904fe88be5d6984f45f740": {
      "model_module": "@jupyter-widgets/base",
      "model_module_version": "1.2.0",
      "model_name": "LayoutModel",
      "state": {}
     },
     "af44fc73b5cd46cf8cb9b477628405a6": {
      "model_module": "@jupyter-widgets/controls",
      "model_module_version": "1.5.0",
      "model_name": "ButtonStyleModel",
      "state": {}
     },
     "af69c8e411b04b4bae252d8286fe2314": {
      "model_module": "@jupyter-widgets/controls",
      "model_module_version": "1.5.0",
      "model_name": "DescriptionStyleModel",
      "state": {
       "description_width": ""
      }
     },
     "b02a21ca68ef4ccdb2f3c610227d622b": {
      "model_module": "@jupyter-widgets/controls",
      "model_module_version": "1.5.0",
      "model_name": "ButtonStyleModel",
      "state": {}
     },
     "b0577f6c22cf47e2aac1ad8e62630c24": {
      "model_module": "@jupyter-widgets/controls",
      "model_module_version": "1.5.0",
      "model_name": "SelectModel",
      "state": {
       "_options_labels": [
        "An event log was cleared",
        "Anomalous account creation detected",
        "Azure Security Center test alert (not a threat)",
        "DC local group addition - Demo",
        "DC with MS AM engine failure - Demo",
        "Deep Security Agent detected a malware",
        "Detected Petya ransomware indicators",
        "Detected actions indicative of disabling and deleting IIS log files.",
        "Detected anomalous mix of upper and lower case characters in command-line",
        "Detected change to a registry key that can be abused to bypass UAC",
        "Detected decoding of an executable using built-in certutil.exe tool",
        "Detected encoded executable in command line data",
        "Detected obfuscated command line.",
        "Detected possible execution of keygen executable",
        "Detected possible execution of malware dropper",
        "Detected possible local reconnaissance activity",
        "Detected potentially suspicious use of Telegram tool",
        "Detected suspicious Set-ExecutionPolicy and WinRM changes",
        "Detected suspicious commandline arguments",
        "Detected suspicious commandline used to start all executables in a directory",
        "Detected suspicious credentials in commandline",
        "Detected suspicious document credentials",
        "Detected suspicious execution of VBScript.Encode command",
        "Detected suspicious execution via rundll32.exe",
        "Detected suspicious file cleanup commands",
        "Detected suspicious file creation",
        "Detected suspicious named pipe communications",
        "Detected suspicious new firewall rule",
        "Detected suspicious use of Cacls to lower the security state of the system.",
        "Detected suspicious use of FTP -s Switch",
        "Detected suspicious use of Pcalua.exe to launch executable code",
        "Detected the disabling of critical services",
        "Digital currency mining related behavior detected",
        "Executable found running from a suspicious location",
        "Failed RDP Brute Force Attack",
        "Global domain trust creation - Demo",
        "High risk software detected",
        "Maliciuos IP communication",
        "Modified system binary discovered in dump file 5bd767e4-2d08-4714-b744-aaed04b57107__391365252.hdmp",
        "Multiple Domain Accounts Queried",
        "Network communication with a malicious machine detected",
        "Palo Alto admin logged on via SSH - Demo",
        "Possible compromised machine detected",
        "Possible credential dumping detected",
        "Possible outgoing spam activity detected",
        "Potential SQL Injection",
        "Potential attempt to bypass AppLocker detected",
        "Random process name detected",
        "Ransomware indicators detected",
        "Rare SVCHOST service group executed",
        "SQL injection blocked",
        "Sticky keys attack detected",
        "Successful RDP brute force attack",
        "Suspected Kerberos Golden Ticket attack parameters observed",
        "Suspicious Account Added",
        "Suspicious Account Creation Detected",
        "Suspicious Powershell Activity Detected",
        "Suspicious SVCHOST process executed",
        "Suspicious Volume Shadow Copy Activity",
        "Suspicious WindowPosition registry value detected",
        "Suspicious double extension file executed",
        "Suspicious download using Certutil detected",
        "Suspicious powershell cmdlets executed",
        "Suspicious process executed",
        "Suspicious system process executed",
        "Suspiciously named process detected"
       ],
       "description": "Source: ",
       "index": 0,
       "layout": "IPY_MODEL_93c003aca594490bae08a4d558d98d78",
       "style": "IPY_MODEL_99f6e60288c54d55b8623b4bd9314c73"
      }
     },
     "b062c1b989e84e8c887b45bfc9acc3d8": {
      "model_module": "@jupyter-widgets/output",
      "model_module_version": "1.0.0",
      "model_name": "OutputModel",
      "state": {
       "layout": "IPY_MODEL_e0d388291ec844938b2e1158d60860b4"
      }
     },
     "b0c1855477f343f9863d165a4696cba3": {
      "model_module": "@jupyter-widgets/base",
      "model_module_version": "1.2.0",
      "model_name": "LayoutModel",
      "state": {}
     },
     "b12f74a3b0d34bdc8a54312ade7fa49b": {
      "model_module": "@jupyter-widgets/controls",
      "model_module_version": "1.5.0",
      "model_name": "VBoxModel",
      "state": {
       "children": [
        "IPY_MODEL_0880fba51003408a94e813f49b17e947",
        "IPY_MODEL_4ac553bd4ff04bc49f390e686d171ee9",
        "IPY_MODEL_80cba6efce244d17bc816e3ab68eee4a",
        "IPY_MODEL_08416df967484c16b126903b23b70a2c"
       ],
       "layout": "IPY_MODEL_fd6aa2bfdba741f7b0f53f9607a03dc9"
      }
     },
     "b137651b8fc6481cbcebe240cf1b7221": {
      "model_module": "@jupyter-widgets/controls",
      "model_module_version": "1.5.0",
      "model_name": "HBoxModel",
      "state": {
       "children": [
        "IPY_MODEL_962f87d36bfe430ea97919f4ca616fd5",
        "IPY_MODEL_9b0da4c9085e40e29ef4273f6313c146"
       ],
       "layout": "IPY_MODEL_ba3e80b1e1fc46b58c5273a18a97200f"
      }
     },
     "b1430c160afa48a7ba1e75522ffcef87": {
      "model_module": "@jupyter-widgets/controls",
      "model_module_version": "1.5.0",
      "model_name": "HTMLModel",
      "state": {
       "layout": "IPY_MODEL_b25304b86e0041079445a748b71944c1",
       "style": "IPY_MODEL_d249294e287f4ea7a49d9160a852d53f",
       "value": "<h4>Set query time boundaries</h4>"
      }
     },
     "b228b59989604ff8996cc057030e0b07": {
      "model_module": "@jupyter-widgets/controls",
      "model_module_version": "1.5.0",
      "model_name": "DescriptionStyleModel",
      "state": {
       "description_width": ""
      }
     },
     "b25304b86e0041079445a748b71944c1": {
      "model_module": "@jupyter-widgets/base",
      "model_module_version": "1.2.0",
      "model_name": "LayoutModel",
      "state": {}
     },
     "b2617d0ae65d456c9ff296704cc275c6": {
      "model_module": "@jupyter-widgets/controls",
      "model_module_version": "1.5.0",
      "model_name": "DescriptionStyleModel",
      "state": {
       "description_width": ""
      }
     },
     "b29a77bc93644ff2a55d5670cc87f1a6": {
      "model_module": "@jupyter-widgets/controls",
      "model_module_version": "1.5.0",
      "model_name": "TextModel",
      "state": {
       "description": "Query end time (UTC) :  ",
       "layout": "IPY_MODEL_51c67766c7194f79b08ed89117046153",
       "style": "IPY_MODEL_caf8f4dffa244b1a805a83002346b216",
       "value": "2019-09-03 00:06:44.157048"
      }
     },
     "b303aec904f2421fab478f7ff50384be": {
      "model_module": "@jupyter-widgets/controls",
      "model_module_version": "1.5.0",
      "model_name": "SelectModel",
      "state": {
       "_options_labels": [
        "Detected potentially suspicious use of Telegram tool",
        "Detected suspicious Set-ExecutionPolicy and WinRM changes",
        "Detected suspicious commandline arguments",
        "Detected suspicious commandline used to start all executables in a directory",
        "Detected suspicious credentials in commandline",
        "Detected suspicious document credentials",
        "Detected suspicious execution of VBScript.Encode command",
        "Detected suspicious execution via rundll32.exe",
        "Detected suspicious file cleanup commands",
        "Detected suspicious file creation",
        "Detected suspicious named pipe communications",
        "Detected suspicious new firewall rule",
        "Detected suspicious use of Cacls to lower the security state of the system.",
        "Detected suspicious use of FTP -s Switch",
        "Detected suspicious use of Pcalua.exe to launch executable code",
        "Executable found running from a suspicious location"
       ],
       "description": "Selected: ",
       "index": 0,
       "layout": "IPY_MODEL_c3c51011ae4b4ae386fadc6d20e6cc1f",
       "style": "IPY_MODEL_0916e9eff435431c855b2e33ce5641b0"
      }
     },
     "b3089569a9794159a24fe9a8333e3bc3": {
      "model_module": "@jupyter-widgets/controls",
      "model_module_version": "1.5.0",
      "model_name": "TextModel",
      "state": {
       "description": "Time (24hr)",
       "layout": "IPY_MODEL_a023307a2b994813ac7b1ea10968e1fb",
       "style": "IPY_MODEL_e4aeb75511dc46e9b934b6304cc90009",
       "value": "22:05:58.605368"
      }
     },
     "b30b045af85f42619c3e21aab7ed7bd3": {
      "model_module": "@jupyter-widgets/controls",
      "model_module_version": "1.5.0",
      "model_name": "SliderStyleModel",
      "state": {
       "description_width": "initial"
      }
     },
     "b34a77e5c67a4b898287764081b6e9f9": {
      "model_module": "@jupyter-widgets/controls",
      "model_module_version": "1.5.0",
      "model_name": "DescriptionStyleModel",
      "state": {
       "description_width": "initial"
      }
     },
     "b3822c20db4244cc85f8fc232a74904b": {
      "model_module": "@jupyter-widgets/base",
      "model_module_version": "1.2.0",
      "model_name": "LayoutModel",
      "state": {
       "height": "300px",
       "width": "95%"
      }
     },
     "b3b2ef4f209243cab830404cc789ba4f": {
      "model_module": "@jupyter-widgets/controls",
      "model_module_version": "1.5.0",
      "model_name": "ButtonStyleModel",
      "state": {}
     },
     "b40e7f348929496fb3296955187351e6": {
      "model_module": "@jupyter-widgets/controls",
      "model_module_version": "1.5.0",
      "model_name": "ButtonModel",
      "state": {
       "description": "Add ⇾",
       "layout": "IPY_MODEL_299b05da888d4c2b9168ea46bfa0c0f7",
       "style": "IPY_MODEL_e5006449bdfe4ce1a103dec754b6b01d"
      }
     },
     "b420972e1ce44ec39bb983368b6697ab": {
      "model_module": "@jupyter-widgets/controls",
      "model_module_version": "1.5.0",
      "model_name": "TextModel",
      "state": {
       "description": "Filter alerts by title:",
       "layout": "IPY_MODEL_5218d5aa3462476786e282ff6b1b1e28",
       "style": "IPY_MODEL_1a76a625244a4a5fbfc7bce8e69ad9ae"
      }
     },
     "b443c13c999646ad9999854f97eb29ff": {
      "model_module": "@jupyter-widgets/controls",
      "model_module_version": "1.5.0",
      "model_name": "HBoxModel",
      "state": {
       "children": [
        "IPY_MODEL_2dadae50c0dc4279b7c4d62f87e1ae72",
        "IPY_MODEL_8c64cb2822784a58a8edd20e6ba34723",
        "IPY_MODEL_b303aec904f2421fab478f7ff50384be"
       ],
       "layout": "IPY_MODEL_0e5a711acebd4d13aa0a25b9cc154354"
      }
     },
     "b456a9b2f08942c896efffd01f1d4e35": {
      "model_module": "@jupyter-widgets/controls",
      "model_module_version": "1.5.0",
      "model_name": "SelectModel",
      "state": {
       "_options_labels": [
        "Detected potentially suspicious use of Telegram tool",
        "Detected suspicious Set-ExecutionPolicy and WinRM changes",
        "Detected suspicious commandline arguments",
        "Detected suspicious commandline used to start all executables in a directory",
        "Detected suspicious credentials in commandline",
        "Detected suspicious document credentials",
        "Detected suspicious execution of VBScript.Encode command",
        "Detected suspicious execution via rundll32.exe",
        "Detected suspicious file cleanup commands",
        "Detected suspicious file creation",
        "Detected suspicious named pipe communications",
        "Detected suspicious new firewall rule",
        "Detected suspicious use of Cacls to lower the security state of the system.",
        "Detected suspicious use of FTP -s Switch",
        "Detected suspicious use of Pcalua.exe to launch executable code",
        "Executable found running from a suspicious location"
       ],
       "description": "Selected: ",
       "index": 0,
       "layout": "IPY_MODEL_c9b8437056494e628fa40796577a20fb",
       "style": "IPY_MODEL_3a62e9833e834f70adf0179e37fd65e9"
      }
     },
     "b477bc6d3cd4445c822fb5b471ea1afc": {
      "model_module": "@jupyter-widgets/base",
      "model_module_version": "1.2.0",
      "model_name": "LayoutModel",
      "state": {}
     },
     "b5870c59c3194ab5b3364362f91e4905": {
      "model_module": "@jupyter-widgets/base",
      "model_module_version": "1.2.0",
      "model_name": "LayoutModel",
      "state": {}
     },
     "b6710b5e2a89402081973b3300b9cffa": {
      "model_module": "@jupyter-widgets/controls",
      "model_module_version": "1.5.0",
      "model_name": "HBoxModel",
      "state": {
       "children": [
        "IPY_MODEL_7dfd7cb7cf5042dabe86d2f326da1dac",
        "IPY_MODEL_276c4361548047e1ae146cd0e300b804",
        "IPY_MODEL_0a9a9ead30694934906d12c22c693c68"
       ],
       "layout": "IPY_MODEL_d1295438880d40ac9145ff23fa015b80"
      }
     },
     "b6a3be9b1a5946eca3e8991c48e28eee": {
      "model_module": "@jupyter-widgets/controls",
      "model_module_version": "1.5.0",
      "model_name": "HBoxModel",
      "state": {
       "children": [
        "IPY_MODEL_9de2bb62df764baf8123ee968b4d68c6",
        "IPY_MODEL_515c62ce7d4a4b759207c102b4c79d81"
       ],
       "layout": "IPY_MODEL_704c27dc78d44056bb67a6d5a5b1d9c7"
      }
     },
     "b6bee45cd595422293f8bc8bfdfaf6f3": {
      "model_module": "@jupyter-widgets/controls",
      "model_module_version": "1.5.0",
      "model_name": "DescriptionStyleModel",
      "state": {
       "description_width": "initial"
      }
     },
     "b6d9f418538c464dab98bf07b155ce4d": {
      "model_module": "@jupyter-widgets/base",
      "model_module_version": "1.2.0",
      "model_name": "LayoutModel",
      "state": {
       "width": "50%"
      }
     },
     "b7028128b4e142ea8b2da253d384aabe": {
      "model_module": "@jupyter-widgets/base",
      "model_module_version": "1.2.0",
      "model_name": "LayoutModel",
      "state": {}
     },
     "b71e9f82fffc4cceae80188e5e7f7dcf": {
      "model_module": "@jupyter-widgets/base",
      "model_module_version": "1.2.0",
      "model_name": "LayoutModel",
      "state": {}
     },
     "b7cb747f2f31432099627efde38591a6": {
      "model_module": "@jupyter-widgets/controls",
      "model_module_version": "1.5.0",
      "model_name": "ButtonStyleModel",
      "state": {}
     },
     "b82bff942ba849e484977941f7d34918": {
      "model_module": "@jupyter-widgets/base",
      "model_module_version": "1.2.0",
      "model_name": "LayoutModel",
      "state": {
       "height": "300px",
       "width": "95%"
      }
     },
     "b8a7c0c588e24ddd8c330d8ee27512dd": {
      "model_module": "@jupyter-widgets/controls",
      "model_module_version": "1.5.0",
      "model_name": "DescriptionStyleModel",
      "state": {
       "description_width": ""
      }
     },
     "b8c4bbb7c4344b86ab9464ed5ad30205": {
      "model_module": "@jupyter-widgets/base",
      "model_module_version": "1.2.0",
      "model_name": "LayoutModel",
      "state": {
       "border": "1px solid black"
      }
     },
     "b8c785ac52e2405587aedcbad2a5589f": {
      "model_module": "@jupyter-widgets/base",
      "model_module_version": "1.2.0",
      "model_name": "LayoutModel",
      "state": {}
     },
     "b90335762350453788f721ae6811e524": {
      "model_module": "@jupyter-widgets/controls",
      "model_module_version": "1.5.0",
      "model_name": "DescriptionStyleModel",
      "state": {
       "description_width": ""
      }
     },
     "b9575e3985da41d9a4a2b03f3cdc7472": {
      "model_module": "@jupyter-widgets/controls",
      "model_module_version": "1.5.0",
      "model_name": "ButtonModel",
      "state": {
       "description": "Add ⇾",
       "layout": "IPY_MODEL_2dab77e9a5d34e52abd337cb9d4a8933",
       "style": "IPY_MODEL_36164509a0b3455faf173dfb0e3b5c3c"
      }
     },
     "b99967643a6a4e89bcd5c473303d100b": {
      "model_module": "@jupyter-widgets/controls",
      "model_module_version": "1.5.0",
      "model_name": "VBoxModel",
      "state": {
       "children": [
        "IPY_MODEL_d546dfb42f7a455c83c5a1c379ed7af1",
        "IPY_MODEL_2cd52c9b9c8d44618208c254e26e92a0",
        "IPY_MODEL_33956f7215ba452c8a49dc7dc8d615d1"
       ],
       "layout": "IPY_MODEL_5c412dbf81804362bc078e56ef1cd7f5"
      }
     },
     "b9a0892e3e7e46a0b2719b828c19d237": {
      "model_module": "@jupyter-widgets/base",
      "model_module_version": "1.2.0",
      "model_name": "LayoutModel",
      "state": {}
     },
     "b9dd495fba524ac4be97f901ad32770a": {
      "model_module": "@jupyter-widgets/controls",
      "model_module_version": "1.5.0",
      "model_name": "HBoxModel",
      "state": {
       "children": [
        "IPY_MODEL_9c785f6bc9704d2ea3c128d887c210cf",
        "IPY_MODEL_ea3868f061f8448ab3882cb71b54001a"
       ],
       "layout": "IPY_MODEL_a9d278f762aa4599b3fbe89b0d058cdb"
      }
     },
     "ba3e80b1e1fc46b58c5273a18a97200f": {
      "model_module": "@jupyter-widgets/base",
      "model_module_version": "1.2.0",
      "model_name": "LayoutModel",
      "state": {}
     },
     "bb1284662e9a46049f8c9d7675b55fa9": {
      "model_module": "@jupyter-widgets/controls",
      "model_module_version": "1.5.0",
      "model_name": "DescriptionStyleModel",
      "state": {
       "description_width": ""
      }
     },
     "bc5ea31aa20f48f9a5a33fd36e4dead8": {
      "model_module": "@jupyter-widgets/base",
      "model_module_version": "1.2.0",
      "model_name": "LayoutModel",
      "state": {}
     },
     "bd0023fd4a0d464d856dd17bf398569e": {
      "model_module": "@jupyter-widgets/controls",
      "model_module_version": "1.5.0",
      "model_name": "HBoxModel",
      "state": {
       "children": [
        "IPY_MODEL_92a013f878d34f90bb876b1301ec9e1d",
        "IPY_MODEL_c0074aa506444d0c85ab7bc18d5ae2e8",
        "IPY_MODEL_7d3a2833885b4e7d906375389a191a40"
       ],
       "layout": "IPY_MODEL_6d94fc452671411a80bd2814d415f931"
      }
     },
     "bd3f69ab9ecc4315b72d5bae74cd63a1": {
      "model_module": "@jupyter-widgets/base",
      "model_module_version": "1.2.0",
      "model_name": "LayoutModel",
      "state": {}
     },
     "bd91baf3bc6147dbba5421d2a8b1b24e": {
      "model_module": "@jupyter-widgets/base",
      "model_module_version": "1.2.0",
      "model_name": "LayoutModel",
      "state": {}
     },
     "bde5b3fe33b243f9abd8ffbdb158e970": {
      "model_module": "@jupyter-widgets/controls",
      "model_module_version": "1.5.0",
      "model_name": "TextModel",
      "state": {
       "description": "Filter alerts by title:",
       "layout": "IPY_MODEL_66c9c3abddb3409eac3c54ceb5efe4f9",
       "style": "IPY_MODEL_51410ebb4e63472ba0117dbff2fb9ea7"
      }
     },
     "bdf87465434e460abbfca313f90ba6f7": {
      "model_module": "@jupyter-widgets/base",
      "model_module_version": "1.2.0",
      "model_name": "LayoutModel",
      "state": {}
     },
     "be023f69a10f4169acf27d6d127207ae": {
      "model_module": "@jupyter-widgets/base",
      "model_module_version": "1.2.0",
      "model_name": "LayoutModel",
      "state": {}
     },
     "bf1c9172b41a40e482338972c53e242d": {
      "model_module": "@jupyter-widgets/controls",
      "model_module_version": "1.5.0",
      "model_name": "ButtonModel",
      "state": {
       "description": "Add All ⇾",
       "layout": "IPY_MODEL_bd91baf3bc6147dbba5421d2a8b1b24e",
       "style": "IPY_MODEL_bfe573c3423d46ac855fa28c4c0a3053"
      }
     },
     "bf8914641ef34b958f73effb89d4f4d6": {
      "model_module": "@jupyter-widgets/controls",
      "model_module_version": "1.5.0",
      "model_name": "HBoxModel",
      "state": {
       "children": [
        "IPY_MODEL_30d994a0f6284863a028978d1a6f0909",
        "IPY_MODEL_35b372737fde4c0bbb1a1d4799ad8905",
        "IPY_MODEL_f7dac4c21ed348118815d7271eaf38b4"
       ],
       "layout": "IPY_MODEL_51289eb5563f43f08a07d105066cd09e"
      }
     },
     "bfbb284fb1dc41b89a32b41f7ec58f31": {
      "model_module": "@jupyter-widgets/base",
      "model_module_version": "1.2.0",
      "model_name": "LayoutModel",
      "state": {
       "border": "1px solid black"
      }
     },
     "bfe573c3423d46ac855fa28c4c0a3053": {
      "model_module": "@jupyter-widgets/controls",
      "model_module_version": "1.5.0",
      "model_name": "ButtonStyleModel",
      "state": {}
     },
     "bffaa76217c24fe38c963c781196e1f3": {
      "model_module": "@jupyter-widgets/controls",
      "model_module_version": "1.5.0",
      "model_name": "ButtonStyleModel",
      "state": {}
     },
     "c0074aa506444d0c85ab7bc18d5ae2e8": {
      "model_module": "@jupyter-widgets/controls",
      "model_module_version": "1.5.0",
      "model_name": "ButtonModel",
      "state": {
       "description": "Set",
       "layout": "IPY_MODEL_20a5e853ac494f73bdee464edde8e374",
       "style": "IPY_MODEL_c587480c155e4e82a3f1996be471443e"
      }
     },
     "c02a046278484b9f94371210359aa402": {
      "model_module": "@jupyter-widgets/controls",
      "model_module_version": "1.5.0",
      "model_name": "DatePickerModel",
      "state": {
       "description": "Origin Date",
       "disabled": false,
       "layout": "IPY_MODEL_a42ccd67cfc2465683dace594669390d",
       "style": "IPY_MODEL_95c3b80fa512462aa00420febfd4162b",
       "value": {
        "date": 2,
        "month": 8,
        "year": 2019
       }
      }
     },
     "c02f080835db4f348ae8a6a0aa04cc9d": {
      "model_module": "@jupyter-widgets/controls",
      "model_module_version": "1.5.0",
      "model_name": "ButtonModel",
      "state": {
       "description": "⇽ Remove",
       "layout": "IPY_MODEL_4fe35cc67bc9406a845920b108f8d94c",
       "style": "IPY_MODEL_91e214f1dc424d6683cf05a99c995ef4"
      }
     },
     "c089bd44eee447deac2f4ca43212704e": {
      "model_module": "@jupyter-widgets/controls",
      "model_module_version": "1.5.0",
      "model_name": "SelectModel",
      "state": {
       "_options_labels": [
        "An event log was cleared",
        "Anomalous account creation detected",
        "Azure Security Center test alert (not a threat)",
        "DC local group addition - Demo",
        "DC with MS AM engine failure - Demo",
        "Deep Security Agent detected a malware",
        "Detected Petya ransomware indicators",
        "Detected actions indicative of disabling and deleting IIS log files.",
        "Detected anomalous mix of upper and lower case characters in command-line",
        "Detected change to a registry key that can be abused to bypass UAC",
        "Detected decoding of an executable using built-in certutil.exe tool",
        "Detected encoded executable in command line data",
        "Detected obfuscated command line.",
        "Detected possible execution of keygen executable",
        "Detected possible execution of malware dropper",
        "Detected possible local reconnaissance activity",
        "Detected potentially suspicious use of Telegram tool",
        "Detected suspicious Set-ExecutionPolicy and WinRM changes",
        "Detected suspicious commandline arguments",
        "Detected suspicious commandline used to start all executables in a directory",
        "Detected suspicious credentials in commandline",
        "Detected suspicious document credentials",
        "Detected suspicious execution of VBScript.Encode command",
        "Detected suspicious execution via rundll32.exe",
        "Detected suspicious file cleanup commands",
        "Detected suspicious file creation",
        "Detected suspicious named pipe communications",
        "Detected suspicious new firewall rule",
        "Detected suspicious use of Cacls to lower the security state of the system.",
        "Detected suspicious use of FTP -s Switch",
        "Detected suspicious use of Pcalua.exe to launch executable code",
        "Detected the disabling of critical services",
        "Digital currency mining related behavior detected",
        "Executable found running from a suspicious location",
        "Failed RDP Brute Force Attack",
        "Global domain trust creation - Demo",
        "High risk software detected",
        "Maliciuos IP communication",
        "Modified system binary discovered in dump file 5bd767e4-2d08-4714-b744-aaed04b57107__391365252.hdmp",
        "Multiple Domain Accounts Queried",
        "Network communication with a malicious machine detected",
        "Palo Alto admin logged on via SSH - Demo",
        "Possible compromised machine detected",
        "Possible credential dumping detected",
        "Possible outgoing spam activity detected",
        "Potential SQL Injection",
        "Potential attempt to bypass AppLocker detected",
        "Random process name detected",
        "Ransomware indicators detected",
        "Rare SVCHOST service group executed",
        "SQL injection blocked",
        "Sticky keys attack detected",
        "Successful RDP brute force attack",
        "Suspected Kerberos Golden Ticket attack parameters observed",
        "Suspicious Account Added",
        "Suspicious Account Creation Detected",
        "Suspicious Powershell Activity Detected",
        "Suspicious SVCHOST process executed",
        "Suspicious Volume Shadow Copy Activity",
        "Suspicious WindowPosition registry value detected",
        "Suspicious double extension file executed",
        "Suspicious download using Certutil detected",
        "Suspicious powershell cmdlets executed",
        "Suspicious process executed",
        "Suspicious system process executed",
        "Suspiciously named process detected"
       ],
       "description": "Source: ",
       "index": 0,
       "layout": "IPY_MODEL_1a9b451c9833428b8baec8a185b72b06",
       "style": "IPY_MODEL_b2617d0ae65d456c9ff296704cc275c6"
      }
     },
     "c092e524f950460baf696239a8cd4ef6": {
      "model_module": "@jupyter-widgets/controls",
      "model_module_version": "1.5.0",
      "model_name": "TextModel",
      "state": {
       "description": "Query start time (UTC):",
       "layout": "IPY_MODEL_a2e5e3450a354d9cb2ccbd2817c3cf49",
       "style": "IPY_MODEL_b6bee45cd595422293f8bc8bfdfaf6f3",
       "value": "2019-09-02 18:06:44.157048"
      }
     },
     "c0c1607f9ba4451e9c9564400f09a2f5": {
      "model_module": "@jupyter-widgets/base",
      "model_module_version": "1.2.0",
      "model_name": "LayoutModel",
      "state": {
       "height": "200px",
       "width": "40%"
      }
     },
     "c0fda24dff4a49b0b5231393492f396f": {
      "model_module": "@jupyter-widgets/controls",
      "model_module_version": "1.5.0",
      "model_name": "DescriptionStyleModel",
      "state": {
       "description_width": "initial"
      }
     },
     "c113561078134dd99463480b59762d36": {
      "model_module": "@jupyter-widgets/controls",
      "model_module_version": "1.5.0",
      "model_name": "DescriptionStyleModel",
      "state": {
       "description_width": "initial"
      }
     },
     "c1450b6169ff4f73bfd28c6f34382fcb": {
      "model_module": "@jupyter-widgets/controls",
      "model_module_version": "1.5.0",
      "model_name": "ButtonStyleModel",
      "state": {}
     },
     "c256117ab2e34d268dbfea36a06c6c6f": {
      "model_module": "@jupyter-widgets/controls",
      "model_module_version": "1.5.0",
      "model_name": "TextModel",
      "state": {
       "description": "Time (24hr)",
       "layout": "IPY_MODEL_82a6a001ab894e63bf91c4480dcea887",
       "style": "IPY_MODEL_58b5791afab34426ac58e80e0226b808",
       "value": "22:06:32.175073"
      }
     },
     "c2b12169adba4e3383799e03980ec06b": {
      "model_module": "@jupyter-widgets/controls",
      "model_module_version": "1.5.0",
      "model_name": "VBoxModel",
      "state": {
       "children": [
        "IPY_MODEL_040f58b9fb31435fb099e6c166e7a6ee",
        "IPY_MODEL_9a1af84f672945719b1a4328307f7bae",
        "IPY_MODEL_232bd767e8234dfd9000b96231c0945d"
       ],
       "layout": "IPY_MODEL_81f37852dceb46c8af954836e00a74b1"
      }
     },
     "c2f85000136942338e6a357a357f8664": {
      "model_module": "@jupyter-widgets/controls",
      "model_module_version": "1.5.0",
      "model_name": "DescriptionStyleModel",
      "state": {
       "description_width": "initial"
      }
     },
     "c3190aadfc1e44e08c499b6a2bfb7d36": {
      "model_module": "@jupyter-widgets/controls",
      "model_module_version": "1.5.0",
      "model_name": "ButtonModel",
      "state": {
       "description": "⇽ Remove",
       "layout": "IPY_MODEL_cad68dcdb1c941e9a54984358074de1d",
       "style": "IPY_MODEL_71aaa96633544fc8ab7fb462ae0cf291"
      }
     },
     "c32ce1a5c65a4e6784f45f045f60881b": {
      "model_module": "@jupyter-widgets/base",
      "model_module_version": "1.2.0",
      "model_name": "LayoutModel",
      "state": {
       "width": "80%"
      }
     },
     "c3c51011ae4b4ae386fadc6d20e6cc1f": {
      "model_module": "@jupyter-widgets/base",
      "model_module_version": "1.2.0",
      "model_name": "LayoutModel",
      "state": {
       "height": "200px",
       "width": "40%"
      }
     },
     "c45c6550e5ba498096f8633f358c17fd": {
      "model_module": "@jupyter-widgets/controls",
      "model_module_version": "1.5.0",
      "model_name": "DescriptionStyleModel",
      "state": {
       "description_width": "initial"
      }
     },
     "c4a932e95f1240c6bfff67730f852592": {
      "model_module": "@jupyter-widgets/controls",
      "model_module_version": "1.5.0",
      "model_name": "ButtonStyleModel",
      "state": {}
     },
     "c4b47717bd7d4e6590153614361b95ea": {
      "model_module": "@jupyter-widgets/base",
      "model_module_version": "1.2.0",
      "model_name": "LayoutModel",
      "state": {
       "height": "200px",
       "width": "40%"
      }
     },
     "c587480c155e4e82a3f1996be471443e": {
      "model_module": "@jupyter-widgets/controls",
      "model_module_version": "1.5.0",
      "model_name": "ButtonStyleModel",
      "state": {}
     },
     "c5f86ebce92f4dd1835e4056e871404b": {
      "model_module": "@jupyter-widgets/controls",
      "model_module_version": "1.5.0",
      "model_name": "VBoxModel",
      "state": {
       "children": [
        "IPY_MODEL_d0f0da0a3e894b7daab42bcc03329498",
        "IPY_MODEL_e3cfbc0583f14b769ea0700c84979b08",
        "IPY_MODEL_c87768db639147d08203f16b78eba007"
       ],
       "layout": "IPY_MODEL_b8c785ac52e2405587aedcbad2a5589f"
      }
     },
     "c6580a281e6e4b3bb9ec04d94e7da429": {
      "model_module": "@jupyter-widgets/controls",
      "model_module_version": "1.5.0",
      "model_name": "HTMLModel",
      "state": {
       "layout": "IPY_MODEL_ab09913e84a44b4bab78b794ceed71eb",
       "style": "IPY_MODEL_52fac839490d45da8a71718a549e0406",
       "value": "<h4>Set query time boundaries</h4>"
      }
     },
     "c6cdfbffe65c4073af49b096f663c289": {
      "model_module": "@jupyter-widgets/controls",
      "model_module_version": "1.5.0",
      "model_name": "TextModel",
      "state": {
       "description": "Query start time (UTC):",
       "layout": "IPY_MODEL_7e762f88c01c47aeb64c6dbf487261f8",
       "style": "IPY_MODEL_77f68ed4c8e64d50bd4bc4b7a9e4c519",
       "value": "2019-08-18 18:06:32.175073"
      }
     },
     "c6fdaa9c5069493ca67c72697d38d53c": {
      "model_module": "@jupyter-widgets/base",
      "model_module_version": "1.2.0",
      "model_name": "LayoutModel",
      "state": {}
     },
     "c70dbb22f89b443297e52149f9f0bf60": {
      "model_module": "@jupyter-widgets/controls",
      "model_module_version": "1.5.0",
      "model_name": "ButtonStyleModel",
      "state": {}
     },
     "c7c6a0cfda9a44658bf0b793dbe18e42": {
      "model_module": "@jupyter-widgets/base",
      "model_module_version": "1.2.0",
      "model_name": "LayoutModel",
      "state": {
       "width": "50%"
      }
     },
     "c825845a078a4d07b7b8b7615a2ffbb5": {
      "model_module": "@jupyter-widgets/controls",
      "model_module_version": "1.5.0",
      "model_name": "ButtonModel",
      "state": {
       "description": "Add All ⇾",
       "layout": "IPY_MODEL_bc5ea31aa20f48f9a5a33fd36e4dead8",
       "style": "IPY_MODEL_de973a09b8f1490790bce4db2e505612"
      }
     },
     "c8415f54cfe343eaaa68c3d9f5955aab": {
      "model_module": "@jupyter-widgets/controls",
      "model_module_version": "1.5.0",
      "model_name": "DescriptionStyleModel",
      "state": {
       "description_width": ""
      }
     },
     "c87768db639147d08203f16b78eba007": {
      "model_module": "@jupyter-widgets/controls",
      "model_module_version": "1.5.0",
      "model_name": "TextModel",
      "state": {
       "description": "Query end time (UTC) :  ",
       "layout": "IPY_MODEL_80791103013e43f7ac18f31188d21547",
       "style": "IPY_MODEL_00ba6049d77945ec8095324590d82999",
       "value": "2019-09-03 01:37:03.860216"
      }
     },
     "c89a584192bc425a98e90ad34ef4b0ac": {
      "model_module": "@jupyter-widgets/controls",
      "model_module_version": "1.5.0",
      "model_name": "ButtonModel",
      "state": {
       "description": "Add ⇾",
       "layout": "IPY_MODEL_edc89d74e8274c9894ec25f177b782a1",
       "style": "IPY_MODEL_20c248946c7c486e918715e29c4bda73"
      }
     },
     "c8b515144c3945e9899abee5b6cd0875": {
      "model_module": "@jupyter-widgets/controls",
      "model_module_version": "1.5.0",
      "model_name": "TextModel",
      "state": {
       "description": "Query start time (UTC):",
       "layout": "IPY_MODEL_8446adbf4bf14316bb90d8e2fd76ae3f",
       "style": "IPY_MODEL_23630d33c21043b6a4f40db20a6d200e",
       "value": "2019-09-02 21:06:44.157048"
      }
     },
     "c8e34246317b40a8b7cb5aa54fcb4053": {
      "model_module": "@jupyter-widgets/base",
      "model_module_version": "1.2.0",
      "model_name": "LayoutModel",
      "state": {}
     },
     "c9b8437056494e628fa40796577a20fb": {
      "model_module": "@jupyter-widgets/base",
      "model_module_version": "1.2.0",
      "model_name": "LayoutModel",
      "state": {
       "height": "200px",
       "width": "40%"
      }
     },
     "c9dd06b7b88d49ad92668526fb58212b": {
      "model_module": "@jupyter-widgets/controls",
      "model_module_version": "1.5.0",
      "model_name": "DescriptionStyleModel",
      "state": {
       "description_width": ""
      }
     },
     "c9eb7d6b9fb14526bbee3c033535ac94": {
      "model_module": "@jupyter-widgets/controls",
      "model_module_version": "1.5.0",
      "model_name": "ButtonModel",
      "state": {
       "description": "Add All ⇾",
       "layout": "IPY_MODEL_f0a0766a8a624b27a37061f8db600a57",
       "style": "IPY_MODEL_f8e86d8d9b9247cfb7e98f407ee6a030"
      }
     },
     "ca056aa57a754b2fbf8d9b47dbca951a": {
      "model_module": "@jupyter-widgets/base",
      "model_module_version": "1.2.0",
      "model_name": "LayoutModel",
      "state": {}
     },
     "ca1c28b1ad0d4159846612e846f85853": {
      "model_module": "@jupyter-widgets/base",
      "model_module_version": "1.2.0",
      "model_name": "LayoutModel",
      "state": {}
     },
     "ca43dcf9ce1f4d5e88af870096380b2e": {
      "model_module": "@jupyter-widgets/controls",
      "model_module_version": "1.5.0",
      "model_name": "ButtonStyleModel",
      "state": {}
     },
     "cab4d4a8fc7e4e3c808cff2685c15853": {
      "model_module": "@jupyter-widgets/controls",
      "model_module_version": "1.5.0",
      "model_name": "ButtonStyleModel",
      "state": {}
     },
     "cabe40794b8a40cfae56df855cf189d3": {
      "model_module": "@jupyter-widgets/controls",
      "model_module_version": "1.5.0",
      "model_name": "HBoxModel",
      "state": {
       "children": [
        "IPY_MODEL_7133c5456a5a4f2f9089d3d7f5dc96c0",
        "IPY_MODEL_0fede05dde48465fa88030df500ec66e"
       ],
       "layout": "IPY_MODEL_ad2900fd24ea46b287d33de77f6ac0a5"
      }
     },
     "cac903382102437ebe93f612f351a505": {
      "model_module": "@jupyter-widgets/controls",
      "model_module_version": "1.5.0",
      "model_name": "ButtonModel",
      "state": {
       "description": "Add All ⇾",
       "layout": "IPY_MODEL_bdf87465434e460abbfca313f90ba6f7",
       "style": "IPY_MODEL_d5e1fbedfa4c47afb834d0ffc4c1de3f"
      }
     },
     "cad68dcdb1c941e9a54984358074de1d": {
      "model_module": "@jupyter-widgets/base",
      "model_module_version": "1.2.0",
      "model_name": "LayoutModel",
      "state": {}
     },
     "caf441b13f8e419a967efd8700ce4368": {
      "model_module": "@jupyter-widgets/base",
      "model_module_version": "1.2.0",
      "model_name": "LayoutModel",
      "state": {
       "width": "50%"
      }
     },
     "caf8f4dffa244b1a805a83002346b216": {
      "model_module": "@jupyter-widgets/controls",
      "model_module_version": "1.5.0",
      "model_name": "DescriptionStyleModel",
      "state": {
       "description_width": "initial"
      }
     },
     "cb2c31f1952c4f7f9ac974a56f3a827b": {
      "model_module": "@jupyter-widgets/controls",
      "model_module_version": "1.5.0",
      "model_name": "ButtonModel",
      "state": {
       "description": "Add ⇾",
       "layout": "IPY_MODEL_f89244cac8ee4f609216705ca3661cdd",
       "style": "IPY_MODEL_cab4d4a8fc7e4e3c808cff2685c15853"
      }
     },
     "cb83b14ae3c4419a83f87b91b336c97b": {
      "model_module": "@jupyter-widgets/base",
      "model_module_version": "1.2.0",
      "model_name": "LayoutModel",
      "state": {}
     },
     "cbb2729e02e44a5f85bf4f25e3f7c1ac": {
      "model_module": "@jupyter-widgets/controls",
      "model_module_version": "1.5.0",
      "model_name": "SelectModel",
      "state": {
       "_options_labels": [
        "An event log was cleared",
        "Anomalous account creation detected",
        "Azure Security Center test alert (not a threat)",
        "DC local group addition - Demo",
        "DC with MS AM engine failure - Demo",
        "Deep Security Agent detected a malware",
        "Detected Petya ransomware indicators",
        "Detected actions indicative of disabling and deleting IIS log files.",
        "Detected anomalous mix of upper and lower case characters in command-line",
        "Detected change to a registry key that can be abused to bypass UAC",
        "Detected decoding of an executable using built-in certutil.exe tool",
        "Detected encoded executable in command line data",
        "Detected obfuscated command line.",
        "Detected possible execution of keygen executable",
        "Detected possible execution of malware dropper",
        "Detected possible local reconnaissance activity",
        "Detected potentially suspicious use of Telegram tool",
        "Detected suspicious Set-ExecutionPolicy and WinRM changes",
        "Detected suspicious commandline arguments",
        "Detected suspicious commandline used to start all executables in a directory",
        "Detected suspicious credentials in commandline",
        "Detected suspicious document credentials",
        "Detected suspicious execution of VBScript.Encode command",
        "Detected suspicious execution via rundll32.exe",
        "Detected suspicious file cleanup commands",
        "Detected suspicious file creation",
        "Detected suspicious named pipe communications",
        "Detected suspicious new firewall rule",
        "Detected suspicious use of Cacls to lower the security state of the system.",
        "Detected suspicious use of FTP -s Switch",
        "Detected suspicious use of Pcalua.exe to launch executable code",
        "Detected the disabling of critical services",
        "Digital currency mining related behavior detected",
        "Executable found running from a suspicious location",
        "Failed RDP Brute Force Attack",
        "Global domain trust creation - Demo",
        "High risk software detected",
        "Maliciuos IP communication",
        "Modified system binary discovered in dump file 5bd767e4-2d08-4714-b744-aaed04b57107__391365252.hdmp",
        "Multiple Domain Accounts Queried",
        "Network communication with a malicious machine detected",
        "Palo Alto admin logged on via SSH - Demo",
        "Possible compromised machine detected",
        "Possible credential dumping detected",
        "Possible outgoing spam activity detected",
        "Potential SQL Injection",
        "Potential attempt to bypass AppLocker detected",
        "Random process name detected",
        "Ransomware indicators detected",
        "Rare SVCHOST service group executed",
        "SQL injection blocked",
        "Sticky keys attack detected",
        "Successful RDP brute force attack",
        "Suspected Kerberos Golden Ticket attack parameters observed",
        "Suspicious Account Added",
        "Suspicious Account Creation Detected",
        "Suspicious Powershell Activity Detected",
        "Suspicious SVCHOST process executed",
        "Suspicious Volume Shadow Copy Activity",
        "Suspicious WindowPosition registry value detected",
        "Suspicious double extension file executed",
        "Suspicious download using Certutil detected",
        "Suspicious powershell cmdlets executed",
        "Suspicious process executed",
        "Suspicious system process executed",
        "Suspiciously named process detected"
       ],
       "description": "Source: ",
       "index": 0,
       "layout": "IPY_MODEL_124196b3f80a402baa01e5f16642b631",
       "style": "IPY_MODEL_af69c8e411b04b4bae252d8286fe2314"
      }
     },
     "cbd3934578de45f4ab9eaafe3cbfdb07": {
      "model_module": "@jupyter-widgets/controls",
      "model_module_version": "1.5.0",
      "model_name": "DescriptionStyleModel",
      "state": {
       "description_width": "initial"
      }
     },
     "ccb2c990537a4a85a0870345ef587c5d": {
      "model_module": "@jupyter-widgets/base",
      "model_module_version": "1.2.0",
      "model_name": "LayoutModel",
      "state": {}
     },
     "cd51a97bacbc46b18242dd0eb809198b": {
      "model_module": "@jupyter-widgets/controls",
      "model_module_version": "1.5.0",
      "model_name": "VBoxModel",
      "state": {
       "children": [
        "IPY_MODEL_13dde555ef0b4193a35818d565e37c1f",
        "IPY_MODEL_d603efc7002c4aecb4409e3fd986deb4",
        "IPY_MODEL_467e8872f6414b498d1819fad872f755"
       ],
       "layout": "IPY_MODEL_680edfb1d98a46798d29f596a4762f30"
      }
     },
     "ce48b8ff2e9445309a2f0a1dd69d8163": {
      "model_module": "@jupyter-widgets/base",
      "model_module_version": "1.2.0",
      "model_name": "LayoutModel",
      "state": {}
     },
     "ce4ff098c10b433383498793812e2d2e": {
      "model_module": "@jupyter-widgets/base",
      "model_module_version": "1.2.0",
      "model_name": "LayoutModel",
      "state": {
       "height": "300px",
       "width": "95%"
      }
     },
     "ce864dc804154b6d95b0a4a46268937c": {
      "model_module": "@jupyter-widgets/controls",
      "model_module_version": "1.5.0",
      "model_name": "DescriptionStyleModel",
      "state": {
       "description_width": "initial"
      }
     },
     "ced7cdbdab684250a57d99ca8b8b0e1f": {
      "model_module": "@jupyter-widgets/controls",
      "model_module_version": "1.5.0",
      "model_name": "SelectModel",
      "state": {
       "_options_labels": [
        "2018-12-30 00:02:00  Network communication with a malicious machine detected (nan) [id:a511e1bb-69e1-41a2-8054-c6fcb6aa2362]",
        "2019-01-01 00:02:00  Possible compromised machine detected (nan) [id:62ded865-938b-4bb3-afef-605d692607f1]",
        "2019-01-01 00:02:00  An event log was cleared (nan) [id:48facfa1-fe35-45ff-8c91-7a710cd462b9]",
        "2019-01-03 00:02:00  Suspicious process executed (nan) [id:a32adc3f-43f7-4e5d-b833-98baa71c2f51]",
        "2019-01-03 00:02:00  Suspicious double extension file executed (nan) [id:112dc225-bc2d-4328-97fd-a99e0b000b1f]",
        "2019-01-05 01:02:00  SQL injection blocked (nan) [id:0c68e539-f060-401f-b967-6b64b8f49198]",
        "2019-01-05 02:02:00  Failed RDP Brute Force Attack (nan) [id:8832e816-d634-4214-bb48-7a6678fdf0b7]",
        "2019-01-06 02:02:00  Successful RDP brute force attack (nan) [id:3b2b5ecc-ec29-4703-9450-29b29b937fd8]",
        "2019-01-06 03:02:00  Suspicious SVCHOST process executed (nan) [id:614ae18e-cd79-4d4c-97dc-24431be12b5b]",
        "2019-01-06 04:02:00  Multiple Domain Accounts Queried (vm1) [id:7b27ffab-7204-4856-a013-908de6c1804e]",
        "2019-01-06 05:02:00  Network communication with a malicious machine detected (nan) [id:98a6dea6-1b64-41d0-938e-0dec24b234ec]",
        "2019-01-07 05:02:00  Modified system binary discovered in dump file 5bd767e4-2d08-4714-b744-aaed04b57107__391365252.hdmp (nan) [id:775505ce-0ef9-4945-b697-303f7666d1b6]",
        "2019-01-08 05:02:00  Possible outgoing spam activity detected (vm1lin) [id:28f9b83a-33e6-44da-a002-0f48bff46a67]",
        "2019-01-09 05:02:00  Deep Security Agent detected a malware (nan) [id:5fc4f6a0-0687-4b93-998e-a230af39c10b]",
        "2019-01-09 05:38:06  Global domain trust creation - Demo (nan) [id:9740fe80-b642-4a38-8e86-05fa4d35508b]",
        "2019-01-09 06:25:57  Maliciuos IP communication (nan) [id:04e14d6f-6d4f-46d4-a5f6-2a26bcd34ce8]",
        "2019-01-09 06:31:40  DC local group addition - Demo (nan) [id:ace7fb98-ef96-46df-ba7b-9a15a141d368]",
        "2019-01-09 06:31:42  Palo Alto admin logged on via SSH - Demo (nan) [id:40a5916b-9697-423a-a5e4-95cca7c735e7]",
        "2019-01-09 06:33:55  DC with MS AM engine failure - Demo (nan) [id:78cc7e02-6116-459d-9cdc-a6dcc40ba937]",
        "2019-01-10 05:02:00  Potential SQL Injection (nan) [id:5365ee7a-f730-42d2-bcdf-b2e898ab98d7]",
        "2019-01-10 05:38:06  Global domain trust creation - Demo (nan) [id:401f2680-cc05-4e6f-a1f6-69cff2055cd9]",
        "2019-01-10 06:25:57  Maliciuos IP communication (nan) [id:b5786d68-7f5e-4be1-92e6-e255010d1d8c]",
        "2019-01-10 06:31:40  DC local group addition - Demo (nan) [id:01659bf1-1228-4e46-b73b-e7d173d365eb]",
        "2019-01-10 06:31:42  Palo Alto admin logged on via SSH - Demo (nan) [id:0ce6ad61-302a-4142-8eaa-4da9dfad9ca9]",
        "2019-01-10 06:33:55  DC with MS AM engine failure - Demo (nan) [id:df9f92cb-6fd2-469b-9b72-28f128df1adf]",
        "2019-01-10 19:18:10  Suspicious Account Added (nan) [id:b3f02c05-e844-4161-81d6-d736548d91ae]",
        "2019-01-11 05:38:06  Global domain trust creation - Demo (nan) [id:6b56aa8c-da76-4caf-b09d-8706292a8b89]",
        "2019-01-11 06:25:57  Maliciuos IP communication (nan) [id:4586bd9e-5c1e-4229-9a01-ecd84ad51448]",
        "2019-01-11 06:31:40  DC local group addition - Demo (nan) [id:047f47d6-79b7-4502-824b-97abc4905a73]",
        "2019-01-11 06:31:42  Palo Alto admin logged on via SSH - Demo (nan) [id:2d06cb42-bdff-426d-8091-ccc151bcbc94]",
        "2019-01-11 06:33:55  DC with MS AM engine failure - Demo (nan) [id:412ca580-63c8-4fd2-87e4-87b1ba4260b3]",
        "2019-01-11 19:18:10  Suspicious Account Added (nan) [id:42a8b425-1c41-4355-8343-18ad563c43b6]",
        "2019-01-12 05:38:06  Global domain trust creation - Demo (nan) [id:bc44b302-78c7-4be8-bf70-d39d6935fd74]",
        "2019-01-12 06:25:57  Maliciuos IP communication (nan) [id:c76f17e2-e739-4e7e-bf17-4dd163fc831f]",
        "2019-01-12 06:31:40  DC local group addition - Demo (nan) [id:07be11df-3dbf-49a5-8b5a-dcea75d89993]",
        "2019-01-12 06:31:42  Palo Alto admin logged on via SSH - Demo (nan) [id:09ec519f-96b0-4332-be30-b0379c8cbd04]",
        "2019-01-12 06:33:55  DC with MS AM engine failure - Demo (nan) [id:6a7aaa2e-a575-4e8b-87ed-0d964bf1005e]",
        "2019-01-12 19:18:10  Suspicious Account Added (nan) [id:d4638075-fed2-4031-8e52-d37c220b0fe4]",
        "2019-01-13 05:38:06  Global domain trust creation - Demo (nan) [id:5d733fc8-ff32-436d-a595-beaf8943bd63]",
        "2019-01-13 06:25:57  Maliciuos IP communication (nan) [id:54a8f6d8-f69b-4872-96f8-ef274d5fc8d4]",
        "2019-01-13 06:31:40  DC local group addition - Demo (nan) [id:47445dca-b87d-45f5-9073-b713e3c69a56]",
        "2019-01-13 06:31:42  Palo Alto admin logged on via SSH - Demo (nan) [id:45176796-d3f9-40ce-a8f2-aba9bb3c8063]",
        "2019-01-13 06:33:55  DC with MS AM engine failure - Demo (nan) [id:985be534-6f40-4b0c-a951-8f3915eacd61]",
        "2019-01-13 19:18:10  Suspicious Account Added (nan) [id:790217fc-9597-4159-b469-bb383c747435]",
        "2019-01-14 05:38:06  Global domain trust creation - Demo (nan) [id:fbaf48de-152a-4aa6-8a69-902b219bf972]",
        "2019-01-14 06:25:57  Maliciuos IP communication (nan) [id:1828afac-b4c2-41d9-acbd-7d23b7219557]",
        "2019-01-14 06:31:40  DC local group addition - Demo (nan) [id:b34d24c9-2223-4887-af93-7598abf28763]",
        "2019-01-14 06:31:42  Palo Alto admin logged on via SSH - Demo (nan) [id:9442245d-eaf6-47c5-b715-1c16b2c54fc4]",
        "2019-01-14 06:33:55  DC with MS AM engine failure - Demo (nan) [id:edc4065d-886f-4aff-b17d-f1397ce4baec]",
        "2019-01-14 21:18:10  Suspicious Account Added (nan) [id:1cca38a9-e0c5-4165-a78d-491ca2641c1c]",
        "2019-01-15 05:15:03  Suspicious Account Creation Detected (MSTICALERTSWIN1) [id:2518547714966107270_3c380601-b5ad-4fff-9cdb-24528a3a19fd]",
        "2019-01-15 05:15:03  Anomalous account creation detected (nan) [id:2518547714966107270_90beedae-1285-43d6-8f33-16bc542af39b]",
        "2019-01-15 05:15:10  Potential attempt to bypass AppLocker detected (MSTICALERTSWIN1) [id:2518547714892475358_9e449abd-e67b-4ec8-a191-e688d7d63e26]",
        "2019-01-15 05:15:11  Detected decoding of an executable using built-in certutil.exe tool (MSTICALERTSWIN1) [id:2518547714882331861_5c56421d-d894-4437-9b9a-a3b5c6b7e1df]",
        "2019-01-15 05:15:11  Detected suspicious credentials in commandline (MSTICALERTSWIN1) [id:2518547714880519889_9d6d471a-c94f-4706-b0ff-b2f0301495aa]",
        "2019-01-15 05:15:11  Digital currency mining related behavior detected (MSTICALERTSWIN1) [id:2518547714887413669_4fa0022e-f431-4ba1-ae5f-ee23247e0853]",
        "2019-01-15 05:15:11  Suspiciously named process detected (MSTICALERTSWIN1) [id:2518547714887413669_1c680842-2a1d-40c0-a6e4-32e5dd144647]",
        "2019-01-15 05:15:11  Detected encoded executable in command line data (MSTICALERTSWIN1) [id:2518547714885867955_290559aa-a3d0-425b-8ed2-e98ccc9f0aa0]",
        "2019-01-15 05:15:12  Detected suspicious commandline arguments (MSTICALERTSWIN1) [id:2518547714879317674_226cc394-fccf-483d-888a-beafad2ed4a4]",
        "2019-01-15 05:15:12  Detected suspicious document credentials (MSTICALERTSWIN1) [id:2518547714879970078_b080127b-d5c1-425e-a7ca-e4bbd873009d]",
        "2019-01-15 05:15:12  Detected obfuscated command line. (MSTICALERTSWIN1) [id:2518547714871530079_77211491-86de-4295-82bc-38e332fe1112]",
        "2019-01-15 05:15:12  Suspicious powershell cmdlets executed (MSTICALERTSWIN1) [id:2518547714874872692_3eb0eb4b-0536-430c-8ab6-cd48524c14b1]",
        "2019-01-15 05:15:12  Suspicious Powershell Activity Detected (MSTICALERTSWIN1) [id:2518547714874872692_30d988ff-b8d9-45df-8217-e56b0d4d591c]",
        "2019-01-15 05:15:12  Suspicious Powershell Activity Detected (MSTICALERTSWIN1) [id:2518547714873290756_df1b9eb2-05c4-4f7c-8540-cbb18ec5c608]",
        "2019-01-15 05:15:12  Suspicious Powershell Activity Detected (MSTICALERTSWIN1) [id:2518547714876077067_953def48-a24b-42a9-bd02-7221be90f84a]",
        "2019-01-15 05:15:13  Suspicious Powershell Activity Detected (MSTICALERTSWIN1) [id:2518547714867787710_76336679-bddf-460f-90fb-35a1386de7a6]",
        "2019-01-15 05:15:14  Executable found running from a suspicious location (MSTICALERTSWIN1) [id:2518547714857061520_f4324711-aeae-4912-a634-331b7e7456b6]",
        "2019-01-15 05:15:14  Suspicious system process executed (nan) [id:2518547714857061520_28f9a2e6-1925-455e-ad97-7af7f92f521d]",
        "2019-01-15 05:15:14  Suspicious WindowPosition registry value detected (MSTICALERTSWIN1) [id:2518547714858429362_9bfd0e4b-ec93-46bb-8eea-f72e8f1262f1]",
        "2019-01-15 05:15:14  Suspicious process executed (MSTICALERTSWIN1) [id:2518547714854375707_e2a60bd1-d7c8-466d-a176-4333d4e0d1d5]",
        "2019-01-15 05:15:14  Detected suspicious named pipe communications (MSTICALERTSWIN1) [id:2518547714859677078_9b4e4942-d564-4755-862c-7171d52921e3]",
        "2019-01-15 05:15:14  Executable found running from a suspicious location (MSTICALERTSWIN1) [id:2518547714853062206_f9ddd8b3-5fa8-4f2f-b811-bdca90091195]",
        "2019-01-15 05:15:15  Detected change to a registry key that can be abused to bypass UAC (MSTICALERTSWIN1) [id:2518547714844291280_8f71e695-ba9b-4c97-9770-63cdeb34b7b4]",
        "2019-01-15 05:15:15  Detected anomalous mix of upper and lower case characters in command-line (MSTICALERTSWIN1) [id:2518547714844457503_55cd3e12-3a91-4b06-9be6-833df3365142]",
        "2019-01-15 05:15:15  Detected suspicious use of FTP -s Switch (MSTICALERTSWIN1) [id:2518547714843218505_265472ff-3820-4dad-8da7-00e39e1a99fd]",
        "2019-01-15 05:15:15  Sticky keys attack detected (MSTICALERTSWIN1) [id:2518547714843796759_b3737297-038c-4514-a957-d591384b4256]",
        "2019-01-15 05:15:15  Suspicious process executed (MSTICALERTSWIN1) [id:2518547714842732992_ad5981a5-fdcc-406a-8742-e50bd7f84917]",
        "2019-01-15 05:15:16  Detected suspicious new firewall rule (MSTICALERTSWIN1) [id:2518547714839319574_33edaa83-fe35-47de-9486-fc9792c5b65b]",
        "2019-01-15 05:15:16  Detected suspicious execution via rundll32.exe (MSTICALERTSWIN1) [id:2518547714834806864_4bb2ecc3-f4aa-40cd-a3d7-802fc9086e89]",
        "2019-01-15 05:15:16  Detected suspicious execution via rundll32.exe (MSTICALERTSWIN1) [id:2518547714835690929_8e73946b-ebea-4625-aa60-d97b82dcfb07]",
        "2019-01-15 05:15:16  Detected possible local reconnaissance activity (MSTICALERTSWIN1) [id:2518547714837217151_f0d023fb-376f-46ab-9976-a5825d826bea]",
        "2019-01-15 05:15:16  Detected suspicious Set-ExecutionPolicy and WinRM changes (MSTICALERTSWIN1) [id:2518547714832788202_b56b9e61-fefb-47a3-a34f-7c1b44f8268a]",
        "2019-01-15 05:15:16  Detected suspicious commandline used to start all executables in a directory (MSTICALERTSWIN1) [id:2518547714833232927_0e8db234-9727-41f3-a6e0-0773519603d2]",
        "2019-01-15 05:15:16  Detected potentially suspicious use of Telegram tool (MSTICALERTSWIN1) [id:2518547714833859291_4fa26308-1daf-49ee-8880-b194f950d8b0]",
        "2019-01-15 05:15:16  Suspected Kerberos Golden Ticket attack parameters observed (MSTICALERTSWIN1) [id:2518547714838326136_e776fca2-4c01-43eb-ab97-b9845af3529c]",
        "2019-01-15 05:15:16  Detected actions indicative of disabling and deleting IIS log files. (MSTICALERTSWIN1) [id:2518547714831067013_8df27789-fb10-4035-ac48-cd0883b2e6b0]",
        "2019-01-15 05:15:17  Azure Security Center test alert (not a threat) (MSTICALERTSWIN1) [id:2518547714824290520_b2d9be9f-58e2-4174-8658-419670393253]",
        "2019-01-15 05:15:17  Suspicious SVCHOST process executed (nan) [id:2518547714825902697_fcbb6bb7-4c7c-488e-903c-f625e98db7c4]",
        "2019-01-15 05:15:17  Random process name detected (MSTICALERTSWIN1) [id:2518547714829244584_9984a237-2dd7-4932-bb8d-23ca535a6254]",
        "2019-01-15 05:15:17  Rare SVCHOST service group executed (nan) [id:2518547714825070946_58694b54-2bee-4160-9595-30903b466f6e]",
        "2019-01-15 05:15:17  Suspicious double extension file executed (nan) [id:2518547714828736209_2b2ff728-1a2a-46e8-a49a-6991e074a740]",
        "2019-01-15 05:15:17  Suspicious Volume Shadow Copy Activity (nan) [id:2518547714828638992_6c6836bb-23cd-4b31-b78e-08360c5a4f83]",
        "2019-01-15 05:15:18  Detected suspicious execution of VBScript.Encode command (MSTICALERTSWIN1) [id:2518547714811804858_5b42a152-64c2-4f16-8cc3-887b8b0161fc]",
        "2019-01-15 05:15:18  Detected suspicious file cleanup commands (MSTICALERTSWIN1) [id:2518547714814450855_c0822e2b-785b-41a8-8136-21b7430a0078]",
        "2019-01-15 05:15:18  Detected Petya ransomware indicators (MSTICALERTSWIN1) [id:2518547714812938298_fa4939d4-a20c-440a-839c-89c0c43e1ccc]",
        "2019-01-15 05:15:18  Detected suspicious file creation (MSTICALERTSWIN1) [id:2518547714816637303_3252483f-2fdb-411a-93f5-e268d5e56abf]",
        "2019-01-15 05:15:18  Detected suspicious use of Pcalua.exe to launch executable code (MSTICALERTSWIN1) [id:2518547714811337754_ad1fd62a-9565-41e4-b94a-6264942033f6]",
        "2019-01-15 05:15:18  Detected possible execution of keygen executable (MSTICALERTSWIN1) [id:2518547714814533914_38d53571-e98a-4bb6-a17f-0361a561019e]",
        "2019-01-15 05:15:18  Detected suspicious use of Cacls to lower the security state of the system. (MSTICALERTSWIN1) [id:2518547714815952205_1ba5718e-529b-441b-8036-ad06ee862e76]",
        "2019-01-15 05:15:18  Detected the disabling of critical services (MSTICALERTSWIN1) [id:2518547714813299511_a5df127a-f7e8-44ff-b404-6d5b37d06488]",
        "2019-01-15 05:15:18  Ransomware indicators detected (MSTICALERTSWIN1) [id:2518547714812286467_d5e026fa-6687-495e-878d-c4c93477cc78]",
        "2019-01-15 05:15:18  Detected possible execution of malware dropper (MSTICALERTSWIN1) [id:2518547714815009424_9a34d332-2fb6-4f3f-beb0-d9817dc9b7cd]",
        "2019-01-15 05:15:18  High risk software detected (MSTICALERTSWIN1) [id:2518547714813699414_d12ed618-567b-4b8f-8241-82ad4c1cb28e]",
        "2019-01-15 05:15:19  Possible credential dumping detected (MSTICALERTSWIN1) [id:2518547714809416002_76bf04a5-71fa-487a-9742-d54941a7a194]",
        "2019-01-15 05:15:19  Suspicious download using Certutil detected (MSTICALERTSWIN1) [id:2518547714805546049_03e7bf17-8f77-42ca-8ac1-af8258f4d1ca]",
        "2019-01-15 09:15:03  Suspicious Account Creation Detected (MSTICALERTSWIN1) [id:2518547570966661760_526e34b6-6578-4fc0-9db6-e126b4d673f0]",
        "2019-01-15 09:15:07  Potential attempt to bypass AppLocker detected (MSTICALERTSWIN1) [id:2518547570924760670_9868ed7d-397e-4aa4-8dbd-5a1c5f736c1e]",
        "2019-01-15 09:15:10  Suspiciously named process detected (MSTICALERTSWIN1) [id:2518547570895430544_4ea6c432-6d20-4986-9679-ecf58ac4854d]",
        "2019-01-15 09:15:10  Digital currency mining related behavior detected (MSTICALERTSWIN1) [id:2518547570895430544_72351be4-ae78-4cc6-9f6a-1ff87c31baeb]",
        "2019-01-15 09:15:11  Detected obfuscated command line. (MSTICALERTSWIN1) [id:2518547570880067443_c1a9004f-7f64-4144-8ce0-8f76f9041703]",
        "2019-01-15 09:15:11  Suspicious Powershell Activity Detected (MSTICALERTSWIN1) [id:2518547570883109415_c762b0f7-a0f5-4dda-ab48-54b5ae6eade4]",
        "2019-01-15 09:15:11  Suspicious Powershell Activity Detected (MSTICALERTSWIN1) [id:2518547570884378777_92a2f884-5827-4fb6-acf8-b0087b76aa73]",
        "2019-01-15 09:15:11  Suspicious Powershell Activity Detected (MSTICALERTSWIN1) [id:2518547570881721037_4ca5c629-673c-4372-9bd3-ab7bf6d6e6f0]",
        "2019-01-15 09:15:12  Suspicious Powershell Activity Detected (MSTICALERTSWIN1) [id:2518547570876432155_ce7c7361-8ac9-47be-b8fb-7a87c87ee178]",
        "2019-01-15 09:15:13  Suspicious system process executed (nan) [id:2518547570865502616_9d5e263f-55d2-441f-acf4-bf569b4cd976]",
        "2019-01-15 09:15:13  Executable found running from a suspicious location (MSTICALERTSWIN1) [id:2518547570865502616_c6f3dea2-fe36-4e65-b161-1b1cd1104eb3]",
        "2019-01-15 09:15:13  Suspicious WindowPosition registry value detected (MSTICALERTSWIN1) [id:2518547570866947129_1b074412-133c-4ac9-8e3f-24103159b03e]",
        "2019-01-15 09:15:13  Executable found running from a suspicious location (MSTICALERTSWIN1) [id:2518547570860979996_bddac8c5-cba5-4da2-a6dd-c0a39fc2b256]",
        "2019-01-15 09:15:13  Suspicious process executed (MSTICALERTSWIN1) [id:2518547570862568702_029c9c95-c1fe-4419-bc3b-a6d832c87e65]",
        "2019-01-15 09:15:14  Suspicious process executed (MSTICALERTSWIN1) [id:2518547570851316041_43f7d8f3-fea5-4fca-a884-713c2d65203c]",
        "2019-01-15 09:15:14  Detected anomalous mix of upper and lower case characters in command-line (MSTICALERTSWIN1) [id:2518547570852901341_3ca6ca5a-8bf2-417f-b8c9-3cea37c84f4b]",
        "2019-01-15 09:15:16  Suspicious double extension file executed (nan) [id:2518547570836535349_c45bcb62-9d89-44e8-bea9-7a9e35205576]",
        "2019-01-15 09:15:16  Rare SVCHOST service group executed (nan) [id:2518547570834399134_26ccc2ad-8ce0-4f60-8215-18f99377b547]",
        "2019-01-15 09:15:16  Suspicious Volume Shadow Copy Activity (nan) [id:2518547570836431794_b9d79b27-d725-4a87-b7ec-6fc9ec591e8c]",
        "2019-01-15 09:15:16  Azure Security Center test alert (not a threat) (MSTICALERTSWIN1) [id:2518547570833725387_2df8ae94-03fe-4b9f-a3a9-f3c6dab95c05]",
        "2019-01-15 09:15:16  Suspicious SVCHOST process executed (nan) [id:2518547570835168086_117b7a02-d1d0-4cf2-bc04-0b19a796b4d3]",
        "2019-01-15 09:15:17  Ransomware indicators detected (MSTICALERTSWIN1) [id:2518547570821365949_48327b74-c904-402d-a1d8-2b3a882924e7]",
        "2019-01-15 09:15:17  Detected Petya ransomware indicators (MSTICALERTSWIN1) [id:2518547570821871899_e647375c-9979-47b5-9f78-f414a1aad26d]",
        "2019-01-15 11:45:00  Suspicious Account Creation Detected (MSTICALERTSWIN1) [id:2518547480991748435_836318d1-0fa0-4cfe-a3d0-2b1fdbaf2216]",
        "2019-01-15 11:45:01  Suspiciously named process detected (MSTICALERTSWIN1) [id:2518547480988516756_54bb943e-7fe9-4146-a43e-4064c8e0049f]",
        "2019-01-15 11:45:01  Digital currency mining related behavior detected (MSTICALERTSWIN1) [id:2518547480988516756_668ed54c-9e73-4d4f-a9c2-b88fd1b13db0]",
        "2019-01-15 11:45:01  Potential attempt to bypass AppLocker detected (MSTICALERTSWIN1) [id:2518547480989617678_f3490cf7-a303-4001-b7d6-8acf7e83f191]",
        "2019-01-15 11:45:01  Suspicious Powershell Activity Detected (MSTICALERTSWIN1) [id:2518547480982973701_24a6d6f3-acf1-41bd-a11f-01a1369bac02]",
        "2019-01-15 11:45:01  Suspicious Powershell Activity Detected (MSTICALERTSWIN1) [id:2518547480984263491_d46877bd-e04d-401a-99bd-eec2a6b25663]",
        "2019-01-15 11:45:01  Detected obfuscated command line. (MSTICALERTSWIN1) [id:2518547480982511513_adfabbe0-fce0-44f3-be4b-17283bd03bed]",
        "2019-01-15 11:45:01  Suspicious Powershell Activity Detected (MSTICALERTSWIN1) [id:2518547480980813134_5cb7ab95-6017-4031-afb2-e11518b0f5cc]",
        "2019-01-15 11:45:01  Suspicious Powershell Activity Detected (MSTICALERTSWIN1) [id:2518547480983467170_9da8e3df-9c3b-4e20-8bd0-ace00aff9def]",
        "2019-01-15 11:45:02  Executable found running from a suspicious location (MSTICALERTSWIN1) [id:2518547480975043692_7e663699-5412-496f-ac91-e21a7b6f0be5]",
        "2019-01-15 11:45:02  Executable found running from a suspicious location (MSTICALERTSWIN1) [id:2518547480977057409_ed9d92ac-0ab8-4a2e-a1dd-f70ee30a9af1]",
        "2019-01-15 11:45:02  Suspicious WindowPosition registry value detected (MSTICALERTSWIN1) [id:2518547480977469312_e9ff6947-fd12-42d2-bb63-2d814f04482a]",
        "2019-01-15 11:45:02  Suspicious process executed (MSTICALERTSWIN1) [id:2518547480976076338_2a106d12-acd8-4dd7-9e1c-3c20b4eaa320]",
        "2019-01-15 11:45:02  Suspicious system process executed (nan) [id:2518547480977057409_492fbb97-a1fc-4880-95d2-e55ab2f142b6]",
        "2019-01-15 11:45:02  Detected anomalous mix of upper and lower case characters in command-line (MSTICALERTSWIN1) [id:2518547480970182118_c0558adc-b4a9-4289-b9ad-7e7260f1cde0]",
        "2019-01-15 11:45:03  Suspicious process executed (MSTICALERTSWIN1) [id:2518547480968677354_88eb8a87-a876-46aa-b8ed-be7298929ea8]",
        "2019-01-15 11:45:04  Random process name detected (MSTICALERTSWIN1) [id:2518547480956885358_b66e93d7-b38b-4785-baa5-093edc18e649]",
        "2019-01-15 11:45:04  Suspicious Volume Shadow Copy Activity (nan) [id:2518547480955968326_fa350f8b-2c81-478c-a383-debe0ab0c892]",
        "2019-01-15 11:45:04  Suspicious double extension file executed (nan) [id:2518547480956378190_2b59c1d5-a815-4562-a8d4-36d9777e6546]",
        "2019-01-15 11:45:05  Rare SVCHOST service group executed (nan) [id:2518547480946682289_f83c0705-d2ff-4355-a25d-ae858ee39b2d]",
        "2019-01-15 11:45:05  Suspicious SVCHOST process executed (nan) [id:2518547480947565906_5c82cd9c-60f8-4056-bd39-8ccb2cdb7678]",
        "2019-01-15 11:45:05  Azure Security Center test alert (not a threat) (MSTICALERTSWIN1) [id:2518547480945920380_00d33245-c643-4155-8c05-6abc4ee3b3cd]",
        "2019-01-15 11:45:06  Ransomware indicators detected (MSTICALERTSWIN1) [id:2518547480937987105_ec1678a1-0fe8-44c5-91b5-621c40d2bb8c]",
        "2019-01-15 11:45:06  Detected Petya ransomware indicators (MSTICALERTSWIN1) [id:2518547480938543829_91a4f9a7-70ad-433b-a568-34314e3f467f]",
        "2019-01-15 13:15:10  Suspiciously named process detected (MSTICALERTSWIN1) [id:2518547426892072407_171b74b2-a431-4b55-8d69-128e5fb95329]",
        "2019-01-15 13:15:13  Suspicious WindowPosition registry value detected (MSTICALERTSWIN1) [id:2518547426863814510_75495c57-4fd6-4e27-b94c-c6f81f78bcb5]",
        "2019-01-15 13:15:13  Suspicious system process executed (nan) [id:2518547426862437699_184c075e-64ee-4901-bc37-6eb999e81a11]",
        "2019-01-15 13:15:14  Suspicious process executed (MSTICALERTSWIN1) [id:2518547426859453218_89d1850f-dccd-4d45-b194-650819d358d9]",
        "2019-01-15 13:15:14  Executable found running from a suspicious location (MSTICALERTSWIN1) [id:2518547426858055460_51b74398-40e2-4b1b-9d92-89c0004738c9]",
        "2019-01-15 13:15:15  Suspicious process executed (MSTICALERTSWIN1) [id:2518547426847947731_caa12d6c-4928-4787-90d4-cb27ff94373c]",
        "2019-01-15 13:15:16  Suspicious SVCHOST process executed (nan) [id:2518547426831794607_a513ab17-2b6a-4b1a-a925-a0b3c21ec38c]",
        "2019-01-15 13:15:16  Rare SVCHOST service group executed (nan) [id:2518547426830640211_88f9ae7a-e6b5-4b54-b967-08f3fc503d91]",
        "2019-01-15 13:15:16  Suspicious Volume Shadow Copy Activity (nan) [id:2518547426833434810_b6e594ea-16d3-480e-81a7-2f8fe3af64ba]",
        "2019-01-15 13:15:16  Suspicious double extension file executed (nan) [id:2518547426833838523_7b30c978-28d5-4a28-a4c2-0985f08ab1c6]",
        "2019-01-15 13:15:17  Azure Security Center test alert (not a threat) (MSTICALERTSWIN1) [id:2518547426829675756_846ec406-bb3e-451b-bf6f-9e1e17a69bd6]",
        "2019-01-15 13:15:18  Ransomware indicators detected (MSTICALERTSWIN1) [id:2518547426817428483_636ab38f-2528-4356-8602-d0910f8ac600]",
        "2019-01-15 13:15:18  Detected Petya ransomware indicators (MSTICALERTSWIN1) [id:2518547426817928329_a4aa878d-93b5-4cd1-931f-30f85b9e6db2]",
        "2019-01-15 17:15:03  Suspicious Account Creation Detected (MSTICALERTSWIN1) [id:2518547282966696689_3db7e1e7-2edc-4dd9-8c1d-d908f5b8a904]",
        "2019-01-15 17:15:10  Potential attempt to bypass AppLocker detected (MSTICALERTSWIN1) [id:2518547282896095305_82730ffa-b9ce-43f4-bf3c-a97113107cc5]",
        "2019-01-15 17:15:10  Suspiciously named process detected (MSTICALERTSWIN1) [id:2518547282892925953_0073e6d8-6c2e-42e4-8966-d1f5a3dd3517]",
        "2019-01-15 17:15:10  Digital currency mining related behavior detected (MSTICALERTSWIN1) [id:2518547282892925953_35c8d588-ddf7-46b5-a0bf-f47023f9343c]",
        "2019-01-15 17:15:11  Suspicious Powershell Activity Detected (MSTICALERTSWIN1) [id:2518547282880013417_d65aa787-e867-43b1-9182-025a1a38173a]",
        "2019-01-15 17:15:11  Suspicious Powershell Activity Detected (MSTICALERTSWIN1) [id:2518547282881581273_ed5bcf39-ffd3-468a-82e3-28e108d4f06f]",
        "2019-01-15 17:15:11  Suspicious Powershell Activity Detected (MSTICALERTSWIN1) [id:2518547282883193041_31ae6eeb-bd1d-4018-8df9-eeedd60bf1ab]",
        "2019-01-15 17:15:12  Suspicious Powershell Activity Detected (MSTICALERTSWIN1) [id:2518547282874783943_bd1a0865-a507-4e2b-b8df-613238a950df]",
        "2019-01-15 17:15:12  Detected obfuscated command line. (MSTICALERTSWIN1) [id:2518547282878855119_d89d1ab7-e5b7-426c-a98f-eab95deea3ad]",
        "2019-01-15 17:15:13  Suspicious system process executed (nan) [id:2518547282863799328_7e169933-4275-4b94-b37f-490417bcfc98]",
        "2019-01-15 17:15:13  Suspicious WindowPosition registry value detected (MSTICALERTSWIN1) [id:2518547282865194453_9895a5cc-6f49-45f5-a0eb-f05c1f11f264]",
        "2019-01-15 17:15:13  Executable found running from a suspicious location (MSTICALERTSWIN1) [id:2518547282863799328_84ea8dcd-9436-4b4d-82b2-36114028bd61]",
        "2019-01-15 17:15:14  Suspicious process executed (MSTICALERTSWIN1) [id:2518547282859754476_0c3ae402-a9ea-4d5c-9c09-4274b7847c2c]",
        "2019-01-15 17:15:14  Detected anomalous mix of upper and lower case characters in command-line (MSTICALERTSWIN1) [id:2518547282850984831_7f983018-fd59-4e9e-ba70-295f6beb0e9c]",
        "2019-01-15 17:15:14  Executable found running from a suspicious location (MSTICALERTSWIN1) [id:2518547282858353938_58851b10-8f5c-48f1-aade-b1529f4e2c7f]",
        "2019-01-15 17:15:15  Suspicious process executed (MSTICALERTSWIN1) [id:2518547282845656644_c7318da8-368f-47f8-bff5-e15600a3fb80]",
        "2019-01-15 17:15:17  Suspicious double extension file executed (nan) [id:2518547282825853773_e6c85135-2b91-4537-b9a0-dae7eabb8e9d]",
        "2019-01-15 17:15:17  Suspicious Volume Shadow Copy Activity (nan) [id:2518547282825448815_6a71b543-4832-4658-8467-825aeafbe031]",
        "2019-01-15 17:15:18  Rare SVCHOST service group executed (nan) [id:2518547282813841329_a7e8e8c1-4561-48ea-bf75-a22c7bfc2257]",
        "2019-01-15 17:15:18  Azure Security Center test alert (not a threat) (MSTICALERTSWIN1) [id:2518547282812706885_12ae1e22-347e-454c-ae0d-ebb48cdf189b]",
        "2019-01-15 17:15:18  Suspicious SVCHOST process executed (nan) [id:2518547282814913644_34cc156e-9179-44c4-bd60-89dd1812e9e7]",
        "2019-01-15 17:15:19  Detected Petya ransomware indicators (MSTICALERTSWIN1) [id:2518547282803821916_c76cdb6c-cea0-4b2b-9ab6-1442a5857ed8]",
        "2019-01-15 17:15:19  Ransomware indicators detected (MSTICALERTSWIN1) [id:2518547282802847718_4a524cc8-7613-4c42-93a9-8c1e466a4476]",
        "2019-01-15 21:18:10  Suspicious Account Added (nan) [id:cbdce694-666c-4844-a29c-e7f4b66e27d1]"
       ],
       "description": "Select alert :",
       "index": 0,
       "layout": "IPY_MODEL_0dca30e4459e457e81ef4ea2f53b6a9a",
       "style": "IPY_MODEL_2cf3318db305482f96cd878d683eb18e"
      }
     },
     "cf997a4d7cce4bfaa2ac8c4d47108464": {
      "model_module": "@jupyter-widgets/base",
      "model_module_version": "1.2.0",
      "model_name": "LayoutModel",
      "state": {}
     },
     "cf998896a5d04fccab85d3280705b429": {
      "model_module": "@jupyter-widgets/base",
      "model_module_version": "1.2.0",
      "model_name": "LayoutModel",
      "state": {}
     },
     "cfbd147190b74aa9a2fc756b6ff07a1a": {
      "model_module": "@jupyter-widgets/controls",
      "model_module_version": "1.5.0",
      "model_name": "VBoxModel",
      "state": {
       "children": [
        "IPY_MODEL_5eac35d8ff5941bc89c70f47d23c105f",
        "IPY_MODEL_fe73c495c0854f88ad3b5439ae27561f",
        "IPY_MODEL_94a89f10dca6472b9bb8707a68e279da"
       ],
       "layout": "IPY_MODEL_ef1712c0797a46cc9aa516ec4ba32e43"
      }
     },
     "cfbee68737304117a6cea10f1d873258": {
      "model_module": "@jupyter-widgets/controls",
      "model_module_version": "1.5.0",
      "model_name": "ButtonStyleModel",
      "state": {}
     },
     "d053ff76479f4f26a883e6903deff28f": {
      "model_module": "@jupyter-widgets/controls",
      "model_module_version": "1.5.0",
      "model_name": "VBoxModel",
      "state": {
       "children": [
        "IPY_MODEL_42c54bb07e73468493073ba6b1175a76",
        "IPY_MODEL_d6c3ac8820f2416cbe2c288e28ce4069",
        "IPY_MODEL_7650715070a544acba9b75b51bf27c9e",
        "IPY_MODEL_7002b50b9e06455fbfe5b327de95a72e"
       ],
       "layout": "IPY_MODEL_8866d0db1e234bd1ae80850ebfe05421"
      }
     },
     "d05b58eac581461a84944a74cd1177e5": {
      "model_module": "@jupyter-widgets/base",
      "model_module_version": "1.2.0",
      "model_name": "LayoutModel",
      "state": {}
     },
     "d08ecbd09e2c4e29ba233f680c833ed9": {
      "model_module": "@jupyter-widgets/controls",
      "model_module_version": "1.5.0",
      "model_name": "SelectModel",
      "state": {
       "_options_labels": [
        "Detected potentially suspicious use of Telegram tool",
        "Detected suspicious Set-ExecutionPolicy and WinRM changes",
        "Detected suspicious commandline arguments",
        "Detected suspicious commandline used to start all executables in a directory",
        "Detected suspicious credentials in commandline",
        "Detected suspicious document credentials",
        "Detected suspicious execution of VBScript.Encode command",
        "Detected suspicious execution via rundll32.exe",
        "Detected suspicious file cleanup commands",
        "Detected suspicious file creation",
        "Detected suspicious named pipe communications",
        "Detected suspicious new firewall rule",
        "Detected suspicious use of Cacls to lower the security state of the system.",
        "Detected suspicious use of FTP -s Switch",
        "Detected suspicious use of Pcalua.exe to launch executable code",
        "Executable found running from a suspicious location"
       ],
       "description": "Selected: ",
       "index": 0,
       "layout": "IPY_MODEL_1a9b451c9833428b8baec8a185b72b06",
       "style": "IPY_MODEL_79c56375c079415cabc5d6f9b26c58de"
      }
     },
     "d0f0da0a3e894b7daab42bcc03329498": {
      "model_module": "@jupyter-widgets/controls",
      "model_module_version": "1.5.0",
      "model_name": "IntRangeSliderModel",
      "state": {
       "_model_name": "IntRangeSliderModel",
       "_view_name": "IntRangeSliderView",
       "description": "Time Range (hour):",
       "layout": "IPY_MODEL_320571570db34f4ebe6b470fac6b20eb",
       "max": 2,
       "min": -20,
       "style": "IPY_MODEL_38bbfd5ab2f94c33ac7d940de04a9d3e",
       "value": [
        -4,
        2
       ]
      }
     },
     "d1295438880d40ac9145ff23fa015b80": {
      "model_module": "@jupyter-widgets/base",
      "model_module_version": "1.2.0",
      "model_name": "LayoutModel",
      "state": {}
     },
     "d1705ba7f61e474a808c1850ed269b4c": {
      "model_module": "@jupyter-widgets/base",
      "model_module_version": "1.2.0",
      "model_name": "LayoutModel",
      "state": {}
     },
     "d1d88043c3ae47f1807cd0e3738dc288": {
      "model_module": "@jupyter-widgets/base",
      "model_module_version": "1.2.0",
      "model_name": "LayoutModel",
      "state": {
       "height": "50px",
       "width": "60%"
      }
     },
     "d1e6f44a98de4645bbe050dfba3e53ea": {
      "model_module": "@jupyter-widgets/controls",
      "model_module_version": "1.5.0",
      "model_name": "DescriptionStyleModel",
      "state": {
       "description_width": ""
      }
     },
     "d249294e287f4ea7a49d9160a852d53f": {
      "model_module": "@jupyter-widgets/controls",
      "model_module_version": "1.5.0",
      "model_name": "DescriptionStyleModel",
      "state": {
       "description_width": ""
      }
     },
     "d4ddfbee67904f4cb434e9bd4baa9afb": {
      "model_module": "@jupyter-widgets/controls",
      "model_module_version": "1.5.0",
      "model_name": "TextModel",
      "state": {
       "description": "Enter the value: ",
       "layout": "IPY_MODEL_021c80516ea64279bf36a09361930abb",
       "style": "IPY_MODEL_e5038d36afc54888861242ac3b55d984",
       "value": "C:\\Users\\Ian"
      }
     },
     "d53eedd065dd42ec840d97d8eb702bb3": {
      "model_module": "@jupyter-widgets/controls",
      "model_module_version": "1.5.0",
      "model_name": "ButtonStyleModel",
      "state": {}
     },
     "d546dfb42f7a455c83c5a1c379ed7af1": {
      "model_module": "@jupyter-widgets/controls",
      "model_module_version": "1.5.0",
      "model_name": "IntRangeSliderModel",
      "state": {
       "_model_name": "IntRangeSliderModel",
       "_view_name": "IntRangeSliderView",
       "description": "Time Range (hour):",
       "layout": "IPY_MODEL_4a9edb509fbb44f58343d3dbc7837f90",
       "max": 1,
       "min": -20,
       "style": "IPY_MODEL_b30b045af85f42619c3e21aab7ed7bd3",
       "value": [
        -1,
        1
       ]
      }
     },
     "d57ced1d88254dd7a9a9c5c88ece531d": {
      "model_module": "@jupyter-widgets/controls",
      "model_module_version": "1.5.0",
      "model_name": "ButtonModel",
      "state": {
       "description": "Add ⇾",
       "layout": "IPY_MODEL_52ee2679ade14e0786eda93607b668ed",
       "style": "IPY_MODEL_ca43dcf9ce1f4d5e88af870096380b2e"
      }
     },
     "d5e1fbedfa4c47afb834d0ffc4c1de3f": {
      "model_module": "@jupyter-widgets/controls",
      "model_module_version": "1.5.0",
      "model_name": "ButtonStyleModel",
      "state": {}
     },
     "d603efc7002c4aecb4409e3fd986deb4": {
      "model_module": "@jupyter-widgets/controls",
      "model_module_version": "1.5.0",
      "model_name": "TextModel",
      "state": {
       "description": "Query start time (UTC):",
       "layout": "IPY_MODEL_e7f2e229362e43c4b15a93caf8871ba2",
       "style": "IPY_MODEL_3550e28444594c5190118c5eb1a69385",
       "value": "2019-08-28 22:05:58.605368"
      }
     },
     "d6c3ac8820f2416cbe2c288e28ce4069": {
      "model_module": "@jupyter-widgets/controls",
      "model_module_version": "1.5.0",
      "model_name": "ButtonModel",
      "state": {
       "description": "Add ⇾",
       "layout": "IPY_MODEL_a09966233b6646bf892431b0beb80f29",
       "style": "IPY_MODEL_b02a21ca68ef4ccdb2f3c610227d622b"
      }
     },
     "d73980c266ba47e6af4779b873aa9497": {
      "model_module": "@jupyter-widgets/base",
      "model_module_version": "1.2.0",
      "model_name": "LayoutModel",
      "state": {}
     },
     "d7c0e50489fc4328b2cfb968ffbec779": {
      "model_module": "@jupyter-widgets/controls",
      "model_module_version": "1.5.0",
      "model_name": "DescriptionStyleModel",
      "state": {
       "description_width": ""
      }
     },
     "d7ff408995274558aaf8f4573983edb6": {
      "model_module": "@jupyter-widgets/base",
      "model_module_version": "1.2.0",
      "model_name": "LayoutModel",
      "state": {}
     },
     "d81f02c6d09647eebaf98498e858d7b8": {
      "model_module": "@jupyter-widgets/base",
      "model_module_version": "1.2.0",
      "model_name": "LayoutModel",
      "state": {
       "width": "80%"
      }
     },
     "d838c4cd08334f7eadd2ec4e3dda4d56": {
      "model_module": "@jupyter-widgets/controls",
      "model_module_version": "1.5.0",
      "model_name": "ButtonStyleModel",
      "state": {}
     },
     "d844945a0dc74d229e091e665e93eef2": {
      "model_module": "@jupyter-widgets/controls",
      "model_module_version": "1.5.0",
      "model_name": "ButtonModel",
      "state": {
       "description": "⇽ Remove All",
       "layout": "IPY_MODEL_823303497fef40b2a9398aae025a33d5",
       "style": "IPY_MODEL_5527ace508774b42a5fc8f9e48a80e50"
      }
     },
     "d92a3e75ae2749ce95354aae0cde538d": {
      "model_module": "@jupyter-widgets/base",
      "model_module_version": "1.2.0",
      "model_name": "LayoutModel",
      "state": {}
     },
     "d96c68b18cdd438f815a7ad750af075d": {
      "model_module": "@jupyter-widgets/controls",
      "model_module_version": "1.5.0",
      "model_name": "SelectModel",
      "state": {
       "_options_labels": [
        "Detected potentially suspicious use of Telegram tool",
        "Detected suspicious Set-ExecutionPolicy and WinRM changes",
        "Detected suspicious commandline arguments",
        "Detected suspicious commandline used to start all executables in a directory",
        "Detected suspicious credentials in commandline",
        "Detected suspicious document credentials",
        "Detected suspicious execution of VBScript.Encode command",
        "Detected suspicious execution via rundll32.exe",
        "Detected suspicious file cleanup commands",
        "Detected suspicious file creation",
        "Detected suspicious named pipe communications",
        "Detected suspicious new firewall rule",
        "Detected suspicious use of Cacls to lower the security state of the system.",
        "Detected suspicious use of FTP -s Switch",
        "Detected suspicious use of Pcalua.exe to launch executable code",
        "Executable found running from a suspicious location"
       ],
       "description": "Selected: ",
       "index": 0,
       "layout": "IPY_MODEL_c0c1607f9ba4451e9c9564400f09a2f5",
       "style": "IPY_MODEL_b8a7c0c588e24ddd8c330d8ee27512dd"
      }
     },
     "d96db36c922442e48fc1e2d342938023": {
      "model_module": "@jupyter-widgets/base",
      "model_module_version": "1.2.0",
      "model_name": "LayoutModel",
      "state": {}
     },
     "da41246fee5d4f89b60e642ce3128f43": {
      "model_module": "@jupyter-widgets/controls",
      "model_module_version": "1.5.0",
      "model_name": "HBoxModel",
      "state": {
       "children": [
        "IPY_MODEL_56bcfe2e411941e4adf42c878aa319f9",
        "IPY_MODEL_4965d570288242a98bf81e5b45e3f782",
        "IPY_MODEL_b456a9b2f08942c896efffd01f1d4e35"
       ],
       "layout": "IPY_MODEL_d7ff408995274558aaf8f4573983edb6"
      }
     },
     "da589ecf1ac5406fa21e7c31a20ce11a": {
      "model_module": "@jupyter-widgets/base",
      "model_module_version": "1.2.0",
      "model_name": "LayoutModel",
      "state": {}
     },
     "dc4f176ee5454e23a7ebed8392bc7158": {
      "model_module": "@jupyter-widgets/base",
      "model_module_version": "1.2.0",
      "model_name": "LayoutModel",
      "state": {
       "width": "50%"
      }
     },
     "dd1f17ef34754957a05f1cbf0cb00c25": {
      "model_module": "@jupyter-widgets/controls",
      "model_module_version": "1.5.0",
      "model_name": "SelectModel",
      "state": {
       "_options_labels": [
        "2018-12-30 00:02:00  Network communication with a malicious machine detected (nan) [id:a511e1bb-69e1-41a2-8054-c6fcb6aa2362]",
        "2019-01-01 00:02:00  Possible compromised machine detected (nan) [id:62ded865-938b-4bb3-afef-605d692607f1]",
        "2019-01-01 00:02:00  An event log was cleared (nan) [id:48facfa1-fe35-45ff-8c91-7a710cd462b9]",
        "2019-01-03 00:02:00  Suspicious process executed (nan) [id:a32adc3f-43f7-4e5d-b833-98baa71c2f51]",
        "2019-01-03 00:02:00  Suspicious double extension file executed (nan) [id:112dc225-bc2d-4328-97fd-a99e0b000b1f]",
        "2019-01-05 01:02:00  SQL injection blocked (nan) [id:0c68e539-f060-401f-b967-6b64b8f49198]",
        "2019-01-05 02:02:00  Failed RDP Brute Force Attack (nan) [id:8832e816-d634-4214-bb48-7a6678fdf0b7]",
        "2019-01-06 02:02:00  Successful RDP brute force attack (nan) [id:3b2b5ecc-ec29-4703-9450-29b29b937fd8]",
        "2019-01-06 03:02:00  Suspicious SVCHOST process executed (nan) [id:614ae18e-cd79-4d4c-97dc-24431be12b5b]",
        "2019-01-06 04:02:00  Multiple Domain Accounts Queried (vm1) [id:7b27ffab-7204-4856-a013-908de6c1804e]",
        "2019-01-06 05:02:00  Network communication with a malicious machine detected (nan) [id:98a6dea6-1b64-41d0-938e-0dec24b234ec]",
        "2019-01-07 05:02:00  Modified system binary discovered in dump file 5bd767e4-2d08-4714-b744-aaed04b57107__391365252.hdmp (nan) [id:775505ce-0ef9-4945-b697-303f7666d1b6]",
        "2019-01-08 05:02:00  Possible outgoing spam activity detected (vm1lin) [id:28f9b83a-33e6-44da-a002-0f48bff46a67]",
        "2019-01-09 05:02:00  Deep Security Agent detected a malware (nan) [id:5fc4f6a0-0687-4b93-998e-a230af39c10b]",
        "2019-01-09 05:38:06  Global domain trust creation - Demo (nan) [id:9740fe80-b642-4a38-8e86-05fa4d35508b]",
        "2019-01-09 06:25:57  Maliciuos IP communication (nan) [id:04e14d6f-6d4f-46d4-a5f6-2a26bcd34ce8]",
        "2019-01-09 06:31:40  DC local group addition - Demo (nan) [id:ace7fb98-ef96-46df-ba7b-9a15a141d368]",
        "2019-01-09 06:31:42  Palo Alto admin logged on via SSH - Demo (nan) [id:40a5916b-9697-423a-a5e4-95cca7c735e7]",
        "2019-01-09 06:33:55  DC with MS AM engine failure - Demo (nan) [id:78cc7e02-6116-459d-9cdc-a6dcc40ba937]",
        "2019-01-10 05:02:00  Potential SQL Injection (nan) [id:5365ee7a-f730-42d2-bcdf-b2e898ab98d7]",
        "2019-01-10 05:38:06  Global domain trust creation - Demo (nan) [id:401f2680-cc05-4e6f-a1f6-69cff2055cd9]",
        "2019-01-10 06:25:57  Maliciuos IP communication (nan) [id:b5786d68-7f5e-4be1-92e6-e255010d1d8c]",
        "2019-01-10 06:31:40  DC local group addition - Demo (nan) [id:01659bf1-1228-4e46-b73b-e7d173d365eb]",
        "2019-01-10 06:31:42  Palo Alto admin logged on via SSH - Demo (nan) [id:0ce6ad61-302a-4142-8eaa-4da9dfad9ca9]",
        "2019-01-10 06:33:55  DC with MS AM engine failure - Demo (nan) [id:df9f92cb-6fd2-469b-9b72-28f128df1adf]",
        "2019-01-10 19:18:10  Suspicious Account Added (nan) [id:b3f02c05-e844-4161-81d6-d736548d91ae]",
        "2019-01-11 05:38:06  Global domain trust creation - Demo (nan) [id:6b56aa8c-da76-4caf-b09d-8706292a8b89]",
        "2019-01-11 06:25:57  Maliciuos IP communication (nan) [id:4586bd9e-5c1e-4229-9a01-ecd84ad51448]",
        "2019-01-11 06:31:40  DC local group addition - Demo (nan) [id:047f47d6-79b7-4502-824b-97abc4905a73]",
        "2019-01-11 06:31:42  Palo Alto admin logged on via SSH - Demo (nan) [id:2d06cb42-bdff-426d-8091-ccc151bcbc94]",
        "2019-01-11 06:33:55  DC with MS AM engine failure - Demo (nan) [id:412ca580-63c8-4fd2-87e4-87b1ba4260b3]",
        "2019-01-11 19:18:10  Suspicious Account Added (nan) [id:42a8b425-1c41-4355-8343-18ad563c43b6]",
        "2019-01-12 05:38:06  Global domain trust creation - Demo (nan) [id:bc44b302-78c7-4be8-bf70-d39d6935fd74]",
        "2019-01-12 06:25:57  Maliciuos IP communication (nan) [id:c76f17e2-e739-4e7e-bf17-4dd163fc831f]",
        "2019-01-12 06:31:40  DC local group addition - Demo (nan) [id:07be11df-3dbf-49a5-8b5a-dcea75d89993]",
        "2019-01-12 06:31:42  Palo Alto admin logged on via SSH - Demo (nan) [id:09ec519f-96b0-4332-be30-b0379c8cbd04]",
        "2019-01-12 06:33:55  DC with MS AM engine failure - Demo (nan) [id:6a7aaa2e-a575-4e8b-87ed-0d964bf1005e]",
        "2019-01-12 19:18:10  Suspicious Account Added (nan) [id:d4638075-fed2-4031-8e52-d37c220b0fe4]",
        "2019-01-13 05:38:06  Global domain trust creation - Demo (nan) [id:5d733fc8-ff32-436d-a595-beaf8943bd63]",
        "2019-01-13 06:25:57  Maliciuos IP communication (nan) [id:54a8f6d8-f69b-4872-96f8-ef274d5fc8d4]",
        "2019-01-13 06:31:40  DC local group addition - Demo (nan) [id:47445dca-b87d-45f5-9073-b713e3c69a56]",
        "2019-01-13 06:31:42  Palo Alto admin logged on via SSH - Demo (nan) [id:45176796-d3f9-40ce-a8f2-aba9bb3c8063]",
        "2019-01-13 06:33:55  DC with MS AM engine failure - Demo (nan) [id:985be534-6f40-4b0c-a951-8f3915eacd61]",
        "2019-01-13 19:18:10  Suspicious Account Added (nan) [id:790217fc-9597-4159-b469-bb383c747435]",
        "2019-01-14 05:38:06  Global domain trust creation - Demo (nan) [id:fbaf48de-152a-4aa6-8a69-902b219bf972]",
        "2019-01-14 06:25:57  Maliciuos IP communication (nan) [id:1828afac-b4c2-41d9-acbd-7d23b7219557]",
        "2019-01-14 06:31:40  DC local group addition - Demo (nan) [id:b34d24c9-2223-4887-af93-7598abf28763]",
        "2019-01-14 06:31:42  Palo Alto admin logged on via SSH - Demo (nan) [id:9442245d-eaf6-47c5-b715-1c16b2c54fc4]",
        "2019-01-14 06:33:55  DC with MS AM engine failure - Demo (nan) [id:edc4065d-886f-4aff-b17d-f1397ce4baec]",
        "2019-01-14 21:18:10  Suspicious Account Added (nan) [id:1cca38a9-e0c5-4165-a78d-491ca2641c1c]",
        "2019-01-15 05:15:03  Suspicious Account Creation Detected (MSTICALERTSWIN1) [id:2518547714966107270_3c380601-b5ad-4fff-9cdb-24528a3a19fd]",
        "2019-01-15 05:15:03  Anomalous account creation detected (nan) [id:2518547714966107270_90beedae-1285-43d6-8f33-16bc542af39b]",
        "2019-01-15 05:15:10  Potential attempt to bypass AppLocker detected (MSTICALERTSWIN1) [id:2518547714892475358_9e449abd-e67b-4ec8-a191-e688d7d63e26]",
        "2019-01-15 05:15:11  Detected decoding of an executable using built-in certutil.exe tool (MSTICALERTSWIN1) [id:2518547714882331861_5c56421d-d894-4437-9b9a-a3b5c6b7e1df]",
        "2019-01-15 05:15:11  Detected suspicious credentials in commandline (MSTICALERTSWIN1) [id:2518547714880519889_9d6d471a-c94f-4706-b0ff-b2f0301495aa]",
        "2019-01-15 05:15:11  Digital currency mining related behavior detected (MSTICALERTSWIN1) [id:2518547714887413669_4fa0022e-f431-4ba1-ae5f-ee23247e0853]",
        "2019-01-15 05:15:11  Suspiciously named process detected (MSTICALERTSWIN1) [id:2518547714887413669_1c680842-2a1d-40c0-a6e4-32e5dd144647]",
        "2019-01-15 05:15:11  Detected encoded executable in command line data (MSTICALERTSWIN1) [id:2518547714885867955_290559aa-a3d0-425b-8ed2-e98ccc9f0aa0]",
        "2019-01-15 05:15:12  Detected suspicious commandline arguments (MSTICALERTSWIN1) [id:2518547714879317674_226cc394-fccf-483d-888a-beafad2ed4a4]",
        "2019-01-15 05:15:12  Detected suspicious document credentials (MSTICALERTSWIN1) [id:2518547714879970078_b080127b-d5c1-425e-a7ca-e4bbd873009d]",
        "2019-01-15 05:15:12  Detected obfuscated command line. (MSTICALERTSWIN1) [id:2518547714871530079_77211491-86de-4295-82bc-38e332fe1112]",
        "2019-01-15 05:15:12  Suspicious powershell cmdlets executed (MSTICALERTSWIN1) [id:2518547714874872692_3eb0eb4b-0536-430c-8ab6-cd48524c14b1]",
        "2019-01-15 05:15:12  Suspicious Powershell Activity Detected (MSTICALERTSWIN1) [id:2518547714874872692_30d988ff-b8d9-45df-8217-e56b0d4d591c]",
        "2019-01-15 05:15:12  Suspicious Powershell Activity Detected (MSTICALERTSWIN1) [id:2518547714873290756_df1b9eb2-05c4-4f7c-8540-cbb18ec5c608]",
        "2019-01-15 05:15:12  Suspicious Powershell Activity Detected (MSTICALERTSWIN1) [id:2518547714876077067_953def48-a24b-42a9-bd02-7221be90f84a]",
        "2019-01-15 05:15:13  Suspicious Powershell Activity Detected (MSTICALERTSWIN1) [id:2518547714867787710_76336679-bddf-460f-90fb-35a1386de7a6]",
        "2019-01-15 05:15:14  Executable found running from a suspicious location (MSTICALERTSWIN1) [id:2518547714857061520_f4324711-aeae-4912-a634-331b7e7456b6]",
        "2019-01-15 05:15:14  Suspicious system process executed (nan) [id:2518547714857061520_28f9a2e6-1925-455e-ad97-7af7f92f521d]",
        "2019-01-15 05:15:14  Suspicious WindowPosition registry value detected (MSTICALERTSWIN1) [id:2518547714858429362_9bfd0e4b-ec93-46bb-8eea-f72e8f1262f1]",
        "2019-01-15 05:15:14  Suspicious process executed (MSTICALERTSWIN1) [id:2518547714854375707_e2a60bd1-d7c8-466d-a176-4333d4e0d1d5]",
        "2019-01-15 05:15:14  Detected suspicious named pipe communications (MSTICALERTSWIN1) [id:2518547714859677078_9b4e4942-d564-4755-862c-7171d52921e3]",
        "2019-01-15 05:15:14  Executable found running from a suspicious location (MSTICALERTSWIN1) [id:2518547714853062206_f9ddd8b3-5fa8-4f2f-b811-bdca90091195]",
        "2019-01-15 05:15:15  Detected change to a registry key that can be abused to bypass UAC (MSTICALERTSWIN1) [id:2518547714844291280_8f71e695-ba9b-4c97-9770-63cdeb34b7b4]",
        "2019-01-15 05:15:15  Detected anomalous mix of upper and lower case characters in command-line (MSTICALERTSWIN1) [id:2518547714844457503_55cd3e12-3a91-4b06-9be6-833df3365142]",
        "2019-01-15 05:15:15  Detected suspicious use of FTP -s Switch (MSTICALERTSWIN1) [id:2518547714843218505_265472ff-3820-4dad-8da7-00e39e1a99fd]",
        "2019-01-15 05:15:15  Sticky keys attack detected (MSTICALERTSWIN1) [id:2518547714843796759_b3737297-038c-4514-a957-d591384b4256]",
        "2019-01-15 05:15:15  Suspicious process executed (MSTICALERTSWIN1) [id:2518547714842732992_ad5981a5-fdcc-406a-8742-e50bd7f84917]",
        "2019-01-15 05:15:16  Detected suspicious new firewall rule (MSTICALERTSWIN1) [id:2518547714839319574_33edaa83-fe35-47de-9486-fc9792c5b65b]",
        "2019-01-15 05:15:16  Detected suspicious execution via rundll32.exe (MSTICALERTSWIN1) [id:2518547714834806864_4bb2ecc3-f4aa-40cd-a3d7-802fc9086e89]",
        "2019-01-15 05:15:16  Detected suspicious execution via rundll32.exe (MSTICALERTSWIN1) [id:2518547714835690929_8e73946b-ebea-4625-aa60-d97b82dcfb07]",
        "2019-01-15 05:15:16  Detected possible local reconnaissance activity (MSTICALERTSWIN1) [id:2518547714837217151_f0d023fb-376f-46ab-9976-a5825d826bea]",
        "2019-01-15 05:15:16  Detected suspicious Set-ExecutionPolicy and WinRM changes (MSTICALERTSWIN1) [id:2518547714832788202_b56b9e61-fefb-47a3-a34f-7c1b44f8268a]",
        "2019-01-15 05:15:16  Detected suspicious commandline used to start all executables in a directory (MSTICALERTSWIN1) [id:2518547714833232927_0e8db234-9727-41f3-a6e0-0773519603d2]",
        "2019-01-15 05:15:16  Detected potentially suspicious use of Telegram tool (MSTICALERTSWIN1) [id:2518547714833859291_4fa26308-1daf-49ee-8880-b194f950d8b0]",
        "2019-01-15 05:15:16  Suspected Kerberos Golden Ticket attack parameters observed (MSTICALERTSWIN1) [id:2518547714838326136_e776fca2-4c01-43eb-ab97-b9845af3529c]",
        "2019-01-15 05:15:16  Detected actions indicative of disabling and deleting IIS log files. (MSTICALERTSWIN1) [id:2518547714831067013_8df27789-fb10-4035-ac48-cd0883b2e6b0]",
        "2019-01-15 05:15:17  Azure Security Center test alert (not a threat) (MSTICALERTSWIN1) [id:2518547714824290520_b2d9be9f-58e2-4174-8658-419670393253]",
        "2019-01-15 05:15:17  Suspicious SVCHOST process executed (nan) [id:2518547714825902697_fcbb6bb7-4c7c-488e-903c-f625e98db7c4]",
        "2019-01-15 05:15:17  Random process name detected (MSTICALERTSWIN1) [id:2518547714829244584_9984a237-2dd7-4932-bb8d-23ca535a6254]",
        "2019-01-15 05:15:17  Rare SVCHOST service group executed (nan) [id:2518547714825070946_58694b54-2bee-4160-9595-30903b466f6e]",
        "2019-01-15 05:15:17  Suspicious double extension file executed (nan) [id:2518547714828736209_2b2ff728-1a2a-46e8-a49a-6991e074a740]",
        "2019-01-15 05:15:17  Suspicious Volume Shadow Copy Activity (nan) [id:2518547714828638992_6c6836bb-23cd-4b31-b78e-08360c5a4f83]",
        "2019-01-15 05:15:18  Detected suspicious execution of VBScript.Encode command (MSTICALERTSWIN1) [id:2518547714811804858_5b42a152-64c2-4f16-8cc3-887b8b0161fc]",
        "2019-01-15 05:15:18  Detected suspicious file cleanup commands (MSTICALERTSWIN1) [id:2518547714814450855_c0822e2b-785b-41a8-8136-21b7430a0078]",
        "2019-01-15 05:15:18  Detected Petya ransomware indicators (MSTICALERTSWIN1) [id:2518547714812938298_fa4939d4-a20c-440a-839c-89c0c43e1ccc]",
        "2019-01-15 05:15:18  Detected suspicious file creation (MSTICALERTSWIN1) [id:2518547714816637303_3252483f-2fdb-411a-93f5-e268d5e56abf]",
        "2019-01-15 05:15:18  Detected suspicious use of Pcalua.exe to launch executable code (MSTICALERTSWIN1) [id:2518547714811337754_ad1fd62a-9565-41e4-b94a-6264942033f6]",
        "2019-01-15 05:15:18  Detected possible execution of keygen executable (MSTICALERTSWIN1) [id:2518547714814533914_38d53571-e98a-4bb6-a17f-0361a561019e]",
        "2019-01-15 05:15:18  Detected suspicious use of Cacls to lower the security state of the system. (MSTICALERTSWIN1) [id:2518547714815952205_1ba5718e-529b-441b-8036-ad06ee862e76]",
        "2019-01-15 05:15:18  Detected the disabling of critical services (MSTICALERTSWIN1) [id:2518547714813299511_a5df127a-f7e8-44ff-b404-6d5b37d06488]",
        "2019-01-15 05:15:18  Ransomware indicators detected (MSTICALERTSWIN1) [id:2518547714812286467_d5e026fa-6687-495e-878d-c4c93477cc78]",
        "2019-01-15 05:15:18  Detected possible execution of malware dropper (MSTICALERTSWIN1) [id:2518547714815009424_9a34d332-2fb6-4f3f-beb0-d9817dc9b7cd]",
        "2019-01-15 05:15:18  High risk software detected (MSTICALERTSWIN1) [id:2518547714813699414_d12ed618-567b-4b8f-8241-82ad4c1cb28e]",
        "2019-01-15 05:15:19  Possible credential dumping detected (MSTICALERTSWIN1) [id:2518547714809416002_76bf04a5-71fa-487a-9742-d54941a7a194]",
        "2019-01-15 05:15:19  Suspicious download using Certutil detected (MSTICALERTSWIN1) [id:2518547714805546049_03e7bf17-8f77-42ca-8ac1-af8258f4d1ca]",
        "2019-01-15 09:15:03  Suspicious Account Creation Detected (MSTICALERTSWIN1) [id:2518547570966661760_526e34b6-6578-4fc0-9db6-e126b4d673f0]",
        "2019-01-15 09:15:07  Potential attempt to bypass AppLocker detected (MSTICALERTSWIN1) [id:2518547570924760670_9868ed7d-397e-4aa4-8dbd-5a1c5f736c1e]",
        "2019-01-15 09:15:10  Suspiciously named process detected (MSTICALERTSWIN1) [id:2518547570895430544_4ea6c432-6d20-4986-9679-ecf58ac4854d]",
        "2019-01-15 09:15:10  Digital currency mining related behavior detected (MSTICALERTSWIN1) [id:2518547570895430544_72351be4-ae78-4cc6-9f6a-1ff87c31baeb]",
        "2019-01-15 09:15:11  Detected obfuscated command line. (MSTICALERTSWIN1) [id:2518547570880067443_c1a9004f-7f64-4144-8ce0-8f76f9041703]",
        "2019-01-15 09:15:11  Suspicious Powershell Activity Detected (MSTICALERTSWIN1) [id:2518547570883109415_c762b0f7-a0f5-4dda-ab48-54b5ae6eade4]",
        "2019-01-15 09:15:11  Suspicious Powershell Activity Detected (MSTICALERTSWIN1) [id:2518547570884378777_92a2f884-5827-4fb6-acf8-b0087b76aa73]",
        "2019-01-15 09:15:11  Suspicious Powershell Activity Detected (MSTICALERTSWIN1) [id:2518547570881721037_4ca5c629-673c-4372-9bd3-ab7bf6d6e6f0]",
        "2019-01-15 09:15:12  Suspicious Powershell Activity Detected (MSTICALERTSWIN1) [id:2518547570876432155_ce7c7361-8ac9-47be-b8fb-7a87c87ee178]",
        "2019-01-15 09:15:13  Suspicious system process executed (nan) [id:2518547570865502616_9d5e263f-55d2-441f-acf4-bf569b4cd976]",
        "2019-01-15 09:15:13  Executable found running from a suspicious location (MSTICALERTSWIN1) [id:2518547570865502616_c6f3dea2-fe36-4e65-b161-1b1cd1104eb3]",
        "2019-01-15 09:15:13  Suspicious WindowPosition registry value detected (MSTICALERTSWIN1) [id:2518547570866947129_1b074412-133c-4ac9-8e3f-24103159b03e]",
        "2019-01-15 09:15:13  Executable found running from a suspicious location (MSTICALERTSWIN1) [id:2518547570860979996_bddac8c5-cba5-4da2-a6dd-c0a39fc2b256]",
        "2019-01-15 09:15:13  Suspicious process executed (MSTICALERTSWIN1) [id:2518547570862568702_029c9c95-c1fe-4419-bc3b-a6d832c87e65]",
        "2019-01-15 09:15:14  Suspicious process executed (MSTICALERTSWIN1) [id:2518547570851316041_43f7d8f3-fea5-4fca-a884-713c2d65203c]",
        "2019-01-15 09:15:14  Detected anomalous mix of upper and lower case characters in command-line (MSTICALERTSWIN1) [id:2518547570852901341_3ca6ca5a-8bf2-417f-b8c9-3cea37c84f4b]",
        "2019-01-15 09:15:16  Suspicious double extension file executed (nan) [id:2518547570836535349_c45bcb62-9d89-44e8-bea9-7a9e35205576]",
        "2019-01-15 09:15:16  Rare SVCHOST service group executed (nan) [id:2518547570834399134_26ccc2ad-8ce0-4f60-8215-18f99377b547]",
        "2019-01-15 09:15:16  Suspicious Volume Shadow Copy Activity (nan) [id:2518547570836431794_b9d79b27-d725-4a87-b7ec-6fc9ec591e8c]",
        "2019-01-15 09:15:16  Azure Security Center test alert (not a threat) (MSTICALERTSWIN1) [id:2518547570833725387_2df8ae94-03fe-4b9f-a3a9-f3c6dab95c05]",
        "2019-01-15 09:15:16  Suspicious SVCHOST process executed (nan) [id:2518547570835168086_117b7a02-d1d0-4cf2-bc04-0b19a796b4d3]",
        "2019-01-15 09:15:17  Ransomware indicators detected (MSTICALERTSWIN1) [id:2518547570821365949_48327b74-c904-402d-a1d8-2b3a882924e7]",
        "2019-01-15 09:15:17  Detected Petya ransomware indicators (MSTICALERTSWIN1) [id:2518547570821871899_e647375c-9979-47b5-9f78-f414a1aad26d]",
        "2019-01-15 11:45:00  Suspicious Account Creation Detected (MSTICALERTSWIN1) [id:2518547480991748435_836318d1-0fa0-4cfe-a3d0-2b1fdbaf2216]",
        "2019-01-15 11:45:01  Suspiciously named process detected (MSTICALERTSWIN1) [id:2518547480988516756_54bb943e-7fe9-4146-a43e-4064c8e0049f]",
        "2019-01-15 11:45:01  Digital currency mining related behavior detected (MSTICALERTSWIN1) [id:2518547480988516756_668ed54c-9e73-4d4f-a9c2-b88fd1b13db0]",
        "2019-01-15 11:45:01  Potential attempt to bypass AppLocker detected (MSTICALERTSWIN1) [id:2518547480989617678_f3490cf7-a303-4001-b7d6-8acf7e83f191]",
        "2019-01-15 11:45:01  Suspicious Powershell Activity Detected (MSTICALERTSWIN1) [id:2518547480982973701_24a6d6f3-acf1-41bd-a11f-01a1369bac02]",
        "2019-01-15 11:45:01  Suspicious Powershell Activity Detected (MSTICALERTSWIN1) [id:2518547480984263491_d46877bd-e04d-401a-99bd-eec2a6b25663]",
        "2019-01-15 11:45:01  Detected obfuscated command line. (MSTICALERTSWIN1) [id:2518547480982511513_adfabbe0-fce0-44f3-be4b-17283bd03bed]",
        "2019-01-15 11:45:01  Suspicious Powershell Activity Detected (MSTICALERTSWIN1) [id:2518547480980813134_5cb7ab95-6017-4031-afb2-e11518b0f5cc]",
        "2019-01-15 11:45:01  Suspicious Powershell Activity Detected (MSTICALERTSWIN1) [id:2518547480983467170_9da8e3df-9c3b-4e20-8bd0-ace00aff9def]",
        "2019-01-15 11:45:02  Executable found running from a suspicious location (MSTICALERTSWIN1) [id:2518547480975043692_7e663699-5412-496f-ac91-e21a7b6f0be5]",
        "2019-01-15 11:45:02  Executable found running from a suspicious location (MSTICALERTSWIN1) [id:2518547480977057409_ed9d92ac-0ab8-4a2e-a1dd-f70ee30a9af1]",
        "2019-01-15 11:45:02  Suspicious WindowPosition registry value detected (MSTICALERTSWIN1) [id:2518547480977469312_e9ff6947-fd12-42d2-bb63-2d814f04482a]",
        "2019-01-15 11:45:02  Suspicious process executed (MSTICALERTSWIN1) [id:2518547480976076338_2a106d12-acd8-4dd7-9e1c-3c20b4eaa320]",
        "2019-01-15 11:45:02  Suspicious system process executed (nan) [id:2518547480977057409_492fbb97-a1fc-4880-95d2-e55ab2f142b6]",
        "2019-01-15 11:45:02  Detected anomalous mix of upper and lower case characters in command-line (MSTICALERTSWIN1) [id:2518547480970182118_c0558adc-b4a9-4289-b9ad-7e7260f1cde0]",
        "2019-01-15 11:45:03  Suspicious process executed (MSTICALERTSWIN1) [id:2518547480968677354_88eb8a87-a876-46aa-b8ed-be7298929ea8]",
        "2019-01-15 11:45:04  Random process name detected (MSTICALERTSWIN1) [id:2518547480956885358_b66e93d7-b38b-4785-baa5-093edc18e649]",
        "2019-01-15 11:45:04  Suspicious Volume Shadow Copy Activity (nan) [id:2518547480955968326_fa350f8b-2c81-478c-a383-debe0ab0c892]",
        "2019-01-15 11:45:04  Suspicious double extension file executed (nan) [id:2518547480956378190_2b59c1d5-a815-4562-a8d4-36d9777e6546]",
        "2019-01-15 11:45:05  Rare SVCHOST service group executed (nan) [id:2518547480946682289_f83c0705-d2ff-4355-a25d-ae858ee39b2d]",
        "2019-01-15 11:45:05  Suspicious SVCHOST process executed (nan) [id:2518547480947565906_5c82cd9c-60f8-4056-bd39-8ccb2cdb7678]",
        "2019-01-15 11:45:05  Azure Security Center test alert (not a threat) (MSTICALERTSWIN1) [id:2518547480945920380_00d33245-c643-4155-8c05-6abc4ee3b3cd]",
        "2019-01-15 11:45:06  Ransomware indicators detected (MSTICALERTSWIN1) [id:2518547480937987105_ec1678a1-0fe8-44c5-91b5-621c40d2bb8c]",
        "2019-01-15 11:45:06  Detected Petya ransomware indicators (MSTICALERTSWIN1) [id:2518547480938543829_91a4f9a7-70ad-433b-a568-34314e3f467f]",
        "2019-01-15 13:15:10  Suspiciously named process detected (MSTICALERTSWIN1) [id:2518547426892072407_171b74b2-a431-4b55-8d69-128e5fb95329]",
        "2019-01-15 13:15:13  Suspicious WindowPosition registry value detected (MSTICALERTSWIN1) [id:2518547426863814510_75495c57-4fd6-4e27-b94c-c6f81f78bcb5]",
        "2019-01-15 13:15:13  Suspicious system process executed (nan) [id:2518547426862437699_184c075e-64ee-4901-bc37-6eb999e81a11]",
        "2019-01-15 13:15:14  Suspicious process executed (MSTICALERTSWIN1) [id:2518547426859453218_89d1850f-dccd-4d45-b194-650819d358d9]",
        "2019-01-15 13:15:14  Executable found running from a suspicious location (MSTICALERTSWIN1) [id:2518547426858055460_51b74398-40e2-4b1b-9d92-89c0004738c9]",
        "2019-01-15 13:15:15  Suspicious process executed (MSTICALERTSWIN1) [id:2518547426847947731_caa12d6c-4928-4787-90d4-cb27ff94373c]",
        "2019-01-15 13:15:16  Suspicious SVCHOST process executed (nan) [id:2518547426831794607_a513ab17-2b6a-4b1a-a925-a0b3c21ec38c]",
        "2019-01-15 13:15:16  Rare SVCHOST service group executed (nan) [id:2518547426830640211_88f9ae7a-e6b5-4b54-b967-08f3fc503d91]",
        "2019-01-15 13:15:16  Suspicious Volume Shadow Copy Activity (nan) [id:2518547426833434810_b6e594ea-16d3-480e-81a7-2f8fe3af64ba]",
        "2019-01-15 13:15:16  Suspicious double extension file executed (nan) [id:2518547426833838523_7b30c978-28d5-4a28-a4c2-0985f08ab1c6]",
        "2019-01-15 13:15:17  Azure Security Center test alert (not a threat) (MSTICALERTSWIN1) [id:2518547426829675756_846ec406-bb3e-451b-bf6f-9e1e17a69bd6]",
        "2019-01-15 13:15:18  Ransomware indicators detected (MSTICALERTSWIN1) [id:2518547426817428483_636ab38f-2528-4356-8602-d0910f8ac600]",
        "2019-01-15 13:15:18  Detected Petya ransomware indicators (MSTICALERTSWIN1) [id:2518547426817928329_a4aa878d-93b5-4cd1-931f-30f85b9e6db2]",
        "2019-01-15 17:15:03  Suspicious Account Creation Detected (MSTICALERTSWIN1) [id:2518547282966696689_3db7e1e7-2edc-4dd9-8c1d-d908f5b8a904]",
        "2019-01-15 17:15:10  Potential attempt to bypass AppLocker detected (MSTICALERTSWIN1) [id:2518547282896095305_82730ffa-b9ce-43f4-bf3c-a97113107cc5]",
        "2019-01-15 17:15:10  Suspiciously named process detected (MSTICALERTSWIN1) [id:2518547282892925953_0073e6d8-6c2e-42e4-8966-d1f5a3dd3517]",
        "2019-01-15 17:15:10  Digital currency mining related behavior detected (MSTICALERTSWIN1) [id:2518547282892925953_35c8d588-ddf7-46b5-a0bf-f47023f9343c]",
        "2019-01-15 17:15:11  Suspicious Powershell Activity Detected (MSTICALERTSWIN1) [id:2518547282880013417_d65aa787-e867-43b1-9182-025a1a38173a]",
        "2019-01-15 17:15:11  Suspicious Powershell Activity Detected (MSTICALERTSWIN1) [id:2518547282881581273_ed5bcf39-ffd3-468a-82e3-28e108d4f06f]",
        "2019-01-15 17:15:11  Suspicious Powershell Activity Detected (MSTICALERTSWIN1) [id:2518547282883193041_31ae6eeb-bd1d-4018-8df9-eeedd60bf1ab]",
        "2019-01-15 17:15:12  Suspicious Powershell Activity Detected (MSTICALERTSWIN1) [id:2518547282874783943_bd1a0865-a507-4e2b-b8df-613238a950df]",
        "2019-01-15 17:15:12  Detected obfuscated command line. (MSTICALERTSWIN1) [id:2518547282878855119_d89d1ab7-e5b7-426c-a98f-eab95deea3ad]",
        "2019-01-15 17:15:13  Suspicious system process executed (nan) [id:2518547282863799328_7e169933-4275-4b94-b37f-490417bcfc98]",
        "2019-01-15 17:15:13  Suspicious WindowPosition registry value detected (MSTICALERTSWIN1) [id:2518547282865194453_9895a5cc-6f49-45f5-a0eb-f05c1f11f264]",
        "2019-01-15 17:15:13  Executable found running from a suspicious location (MSTICALERTSWIN1) [id:2518547282863799328_84ea8dcd-9436-4b4d-82b2-36114028bd61]",
        "2019-01-15 17:15:14  Suspicious process executed (MSTICALERTSWIN1) [id:2518547282859754476_0c3ae402-a9ea-4d5c-9c09-4274b7847c2c]",
        "2019-01-15 17:15:14  Detected anomalous mix of upper and lower case characters in command-line (MSTICALERTSWIN1) [id:2518547282850984831_7f983018-fd59-4e9e-ba70-295f6beb0e9c]",
        "2019-01-15 17:15:14  Executable found running from a suspicious location (MSTICALERTSWIN1) [id:2518547282858353938_58851b10-8f5c-48f1-aade-b1529f4e2c7f]",
        "2019-01-15 17:15:15  Suspicious process executed (MSTICALERTSWIN1) [id:2518547282845656644_c7318da8-368f-47f8-bff5-e15600a3fb80]",
        "2019-01-15 17:15:17  Suspicious double extension file executed (nan) [id:2518547282825853773_e6c85135-2b91-4537-b9a0-dae7eabb8e9d]",
        "2019-01-15 17:15:17  Suspicious Volume Shadow Copy Activity (nan) [id:2518547282825448815_6a71b543-4832-4658-8467-825aeafbe031]",
        "2019-01-15 17:15:18  Rare SVCHOST service group executed (nan) [id:2518547282813841329_a7e8e8c1-4561-48ea-bf75-a22c7bfc2257]",
        "2019-01-15 17:15:18  Azure Security Center test alert (not a threat) (MSTICALERTSWIN1) [id:2518547282812706885_12ae1e22-347e-454c-ae0d-ebb48cdf189b]",
        "2019-01-15 17:15:18  Suspicious SVCHOST process executed (nan) [id:2518547282814913644_34cc156e-9179-44c4-bd60-89dd1812e9e7]",
        "2019-01-15 17:15:19  Detected Petya ransomware indicators (MSTICALERTSWIN1) [id:2518547282803821916_c76cdb6c-cea0-4b2b-9ab6-1442a5857ed8]",
        "2019-01-15 17:15:19  Ransomware indicators detected (MSTICALERTSWIN1) [id:2518547282802847718_4a524cc8-7613-4c42-93a9-8c1e466a4476]",
        "2019-01-15 21:18:10  Suspicious Account Added (nan) [id:cbdce694-666c-4844-a29c-e7f4b66e27d1]"
       ],
       "description": "Select alert :",
       "index": 0,
       "layout": "IPY_MODEL_ce4ff098c10b433383498793812e2d2e",
       "style": "IPY_MODEL_f7f73851aa004e0ea65467128a9c25b5"
      }
     },
     "dd473985af674b9d8b1ff2ca00936c3d": {
      "model_module": "@jupyter-widgets/controls",
      "model_module_version": "1.5.0",
      "model_name": "DescriptionStyleModel",
      "state": {
       "description_width": ""
      }
     },
     "dd83096798e14f1288ad4f2c575fe893": {
      "model_module": "@jupyter-widgets/controls",
      "model_module_version": "1.5.0",
      "model_name": "ButtonModel",
      "state": {
       "description": "⇽ Remove All",
       "layout": "IPY_MODEL_ca056aa57a754b2fbf8d9b47dbca951a",
       "style": "IPY_MODEL_b7cb747f2f31432099627efde38591a6"
      }
     },
     "ddb6b19d3a814322a1482f2e708c422a": {
      "model_module": "@jupyter-widgets/base",
      "model_module_version": "1.2.0",
      "model_name": "LayoutModel",
      "state": {
       "height": "100px",
       "width": "50%"
      }
     },
     "de7bfdda28734c9488121b3f21dd989b": {
      "model_module": "@jupyter-widgets/base",
      "model_module_version": "1.2.0",
      "model_name": "LayoutModel",
      "state": {
       "height": "200px",
       "width": "40%"
      }
     },
     "de84e77d41a24c178b99df5ae46f598a": {
      "model_module": "@jupyter-widgets/base",
      "model_module_version": "1.2.0",
      "model_name": "LayoutModel",
      "state": {}
     },
     "de973a09b8f1490790bce4db2e505612": {
      "model_module": "@jupyter-widgets/controls",
      "model_module_version": "1.5.0",
      "model_name": "ButtonStyleModel",
      "state": {}
     },
     "dfaf3fe2a9ac40f59e0327f1e07ede23": {
      "model_module": "@jupyter-widgets/controls",
      "model_module_version": "1.5.0",
      "model_name": "ButtonModel",
      "state": {
       "description": "⇽ Remove",
       "layout": "IPY_MODEL_5c0c1ab423b344dab98e81b9457185e8",
       "style": "IPY_MODEL_76410ce08c194f9d9c5b3ff4367845c0"
      }
     },
     "dfde045a79904971b5857f93823cddf4": {
      "model_module": "@jupyter-widgets/base",
      "model_module_version": "1.2.0",
      "model_name": "LayoutModel",
      "state": {}
     },
     "e04a503660524b3198a926d326bf7415": {
      "model_module": "@jupyter-widgets/controls",
      "model_module_version": "1.5.0",
      "model_name": "ButtonModel",
      "state": {
       "description": "⇽ Remove",
       "layout": "IPY_MODEL_fc934d866cdd42388058d40e4ce1b10a",
       "style": "IPY_MODEL_7afb0a0b27eb4fc49566fe8a157a7e7a"
      }
     },
     "e0d388291ec844938b2e1158d60860b4": {
      "model_module": "@jupyter-widgets/base",
      "model_module_version": "1.2.0",
      "model_name": "LayoutModel",
      "state": {
       "border": "1px solid black"
      }
     },
     "e2d09196e2bc43e8a93ab2be841cbc4b": {
      "model_module": "@jupyter-widgets/base",
      "model_module_version": "1.2.0",
      "model_name": "LayoutModel",
      "state": {}
     },
     "e31244c020744f6eb44b09b93421f0fd": {
      "model_module": "@jupyter-widgets/controls",
      "model_module_version": "1.5.0",
      "model_name": "ButtonModel",
      "state": {
       "description": "⇽ Remove All",
       "layout": "IPY_MODEL_604dae1837d4487d992aafafa7254a41",
       "style": "IPY_MODEL_990dd5abc4f545edafe1df55d94e013d"
      }
     },
     "e3b0cf51bc714316992d7df3e21476d7": {
      "model_module": "@jupyter-widgets/controls",
      "model_module_version": "1.5.0",
      "model_name": "VBoxModel",
      "state": {
       "children": [
        "IPY_MODEL_728cd92ca7eb433ca0acc0f6a66180ee",
        "IPY_MODEL_698f9443eb81486eab86eca0109b4787",
        "IPY_MODEL_5b6fdb5e8fb74b8c81bfe10f1ef96fbd",
        "IPY_MODEL_dd83096798e14f1288ad4f2c575fe893"
       ],
       "layout": "IPY_MODEL_6c7db85e44854f8885ffcf6f37cc04a4"
      }
     },
     "e3cfbc0583f14b769ea0700c84979b08": {
      "model_module": "@jupyter-widgets/controls",
      "model_module_version": "1.5.0",
      "model_name": "TextModel",
      "state": {
       "description": "Query start time (UTC):",
       "layout": "IPY_MODEL_0316993512784173b3d0b23028681d5e",
       "style": "IPY_MODEL_cbd3934578de45f4ab9eaafe3cbfdb07",
       "value": "2019-09-02 19:37:03.860216"
      }
     },
     "e43330ad23414d02ad1c3c7ec9416923": {
      "model_module": "@jupyter-widgets/base",
      "model_module_version": "1.2.0",
      "model_name": "LayoutModel",
      "state": {}
     },
     "e487eff798a54955a8ebfc714f7e6e53": {
      "model_module": "@jupyter-widgets/base",
      "model_module_version": "1.2.0",
      "model_name": "LayoutModel",
      "state": {}
     },
     "e4aeb75511dc46e9b934b6304cc90009": {
      "model_module": "@jupyter-widgets/controls",
      "model_module_version": "1.5.0",
      "model_name": "DescriptionStyleModel",
      "state": {
       "description_width": ""
      }
     },
     "e5006449bdfe4ce1a103dec754b6b01d": {
      "model_module": "@jupyter-widgets/controls",
      "model_module_version": "1.5.0",
      "model_name": "ButtonStyleModel",
      "state": {}
     },
     "e5038d36afc54888861242ac3b55d984": {
      "model_module": "@jupyter-widgets/controls",
      "model_module_version": "1.5.0",
      "model_name": "DescriptionStyleModel",
      "state": {
       "description_width": "initial"
      }
     },
     "e5e4a339ca7a4258bbbe3cf36a9c2861": {
      "model_module": "@jupyter-widgets/controls",
      "model_module_version": "1.5.0",
      "model_name": "HTMLModel",
      "state": {
       "layout": "IPY_MODEL_226c06a7d29d491791edd15a81050dbc",
       "style": "IPY_MODEL_44e786e89a594006b0bd80b413160de8",
       "value": "<h4>Set query time boundaries</h4>"
      }
     },
     "e6b3d316b5f34a74a5399bf939edd0df": {
      "model_module": "@jupyter-widgets/controls",
      "model_module_version": "1.5.0",
      "model_name": "VBoxModel",
      "state": {
       "children": [
        "IPY_MODEL_0f6d8d5b834d454cb1c5baa90e680cda",
        "IPY_MODEL_6d18645b9c1c4400bbba107753cd1b4c",
        "IPY_MODEL_b062c1b989e84e8c887b45bfc9acc3d8"
       ],
       "layout": "IPY_MODEL_174a61f3146744c48c27a8b066ac00b7"
      }
     },
     "e6b3f1d5bf534f81be90132660a96070": {
      "model_module": "@jupyter-widgets/controls",
      "model_module_version": "1.5.0",
      "model_name": "ButtonModel",
      "state": {
       "description": "⇽ Remove All",
       "layout": "IPY_MODEL_7ce7fb73d5014a10b7eee0b9887caca2",
       "style": "IPY_MODEL_bffaa76217c24fe38c963c781196e1f3"
      }
     },
     "e6e863ec97a948f4b5aa090469ce9f28": {
      "model_module": "@jupyter-widgets/base",
      "model_module_version": "1.2.0",
      "model_name": "LayoutModel",
      "state": {}
     },
     "e725d657087147abb7558976eed0b443": {
      "model_module": "@jupyter-widgets/base",
      "model_module_version": "1.2.0",
      "model_name": "LayoutModel",
      "state": {}
     },
     "e746a54987404531824ae56d4ebd3e86": {
      "model_module": "@jupyter-widgets/controls",
      "model_module_version": "1.5.0",
      "model_name": "ButtonStyleModel",
      "state": {}
     },
     "e76f9e80f3ca4ed3a0e3e14d1c053e81": {
      "model_module": "@jupyter-widgets/controls",
      "model_module_version": "1.5.0",
      "model_name": "HBoxModel",
      "state": {
       "children": [
        "IPY_MODEL_6b34abdf79b3448980ad915704557d0e",
        "IPY_MODEL_aa04229881b74024b8f2035b20f17db7",
        "IPY_MODEL_9e367b96012e4fd9a2ee1b0d7b38e068"
       ],
       "layout": "IPY_MODEL_73f847f284cf4b609e03cc526fa52d36"
      }
     },
     "e7f2e229362e43c4b15a93caf8871ba2": {
      "model_module": "@jupyter-widgets/base",
      "model_module_version": "1.2.0",
      "model_name": "LayoutModel",
      "state": {
       "width": "50%"
      }
     },
     "e7f7375c4423454b88f64ab93e6dd5e4": {
      "model_module": "@jupyter-widgets/controls",
      "model_module_version": "1.5.0",
      "model_name": "SelectModel",
      "state": {
       "_options_labels": [
        "An event log was cleared",
        "Anomalous account creation detected",
        "Azure Security Center test alert (not a threat)",
        "DC local group addition - Demo",
        "DC with MS AM engine failure - Demo",
        "Deep Security Agent detected a malware",
        "Detected Petya ransomware indicators",
        "Detected actions indicative of disabling and deleting IIS log files.",
        "Detected anomalous mix of upper and lower case characters in command-line",
        "Detected change to a registry key that can be abused to bypass UAC",
        "Detected decoding of an executable using built-in certutil.exe tool",
        "Detected encoded executable in command line data",
        "Detected obfuscated command line.",
        "Detected possible execution of keygen executable",
        "Detected possible execution of malware dropper",
        "Detected possible local reconnaissance activity",
        "Detected potentially suspicious use of Telegram tool",
        "Detected suspicious Set-ExecutionPolicy and WinRM changes",
        "Detected suspicious commandline arguments",
        "Detected suspicious commandline used to start all executables in a directory",
        "Detected suspicious credentials in commandline",
        "Detected suspicious document credentials",
        "Detected suspicious execution of VBScript.Encode command",
        "Detected suspicious execution via rundll32.exe",
        "Detected suspicious file cleanup commands",
        "Detected suspicious file creation",
        "Detected suspicious named pipe communications",
        "Detected suspicious new firewall rule",
        "Detected suspicious use of Cacls to lower the security state of the system.",
        "Detected suspicious use of FTP -s Switch",
        "Detected suspicious use of Pcalua.exe to launch executable code",
        "Detected the disabling of critical services",
        "Digital currency mining related behavior detected",
        "Executable found running from a suspicious location",
        "Failed RDP Brute Force Attack",
        "Global domain trust creation - Demo",
        "High risk software detected",
        "Maliciuos IP communication",
        "Modified system binary discovered in dump file 5bd767e4-2d08-4714-b744-aaed04b57107__391365252.hdmp",
        "Multiple Domain Accounts Queried",
        "Network communication with a malicious machine detected",
        "Palo Alto admin logged on via SSH - Demo",
        "Possible compromised machine detected",
        "Possible credential dumping detected",
        "Possible outgoing spam activity detected",
        "Potential SQL Injection",
        "Potential attempt to bypass AppLocker detected",
        "Random process name detected",
        "Ransomware indicators detected",
        "Rare SVCHOST service group executed",
        "SQL injection blocked",
        "Sticky keys attack detected",
        "Successful RDP brute force attack",
        "Suspected Kerberos Golden Ticket attack parameters observed",
        "Suspicious Account Added",
        "Suspicious Account Creation Detected",
        "Suspicious Powershell Activity Detected",
        "Suspicious SVCHOST process executed",
        "Suspicious Volume Shadow Copy Activity",
        "Suspicious WindowPosition registry value detected",
        "Suspicious double extension file executed",
        "Suspicious download using Certutil detected",
        "Suspicious powershell cmdlets executed",
        "Suspicious process executed",
        "Suspicious system process executed",
        "Suspiciously named process detected"
       ],
       "description": "Source: ",
       "index": 0,
       "layout": "IPY_MODEL_0088ac545e5b4706ac7ff3eb425b7263",
       "style": "IPY_MODEL_d1e6f44a98de4645bbe050dfba3e53ea"
      }
     },
     "e80c3185b6014d1fb6497ac2a004ce71": {
      "model_module": "@jupyter-widgets/controls",
      "model_module_version": "1.5.0",
      "model_name": "DescriptionStyleModel",
      "state": {
       "description_width": ""
      }
     },
     "e8527433faa345ed9eb9231553e2281a": {
      "model_module": "@jupyter-widgets/controls",
      "model_module_version": "1.5.0",
      "model_name": "ButtonModel",
      "state": {
       "description": "Add ⇾",
       "layout": "IPY_MODEL_e93d1188384b41afb33dc824a77ccf99",
       "style": "IPY_MODEL_9b860574f8a844f8964e94b279425f11"
      }
     },
     "e8bdce329281416cba3e52354c14ef78": {
      "model_module": "@jupyter-widgets/controls",
      "model_module_version": "1.5.0",
      "model_name": "ButtonStyleModel",
      "state": {}
     },
     "e9030d81c37b4288ab27f417e63ea2d8": {
      "model_module": "@jupyter-widgets/controls",
      "model_module_version": "1.5.0",
      "model_name": "ButtonModel",
      "state": {
       "description": "⇽ Remove All",
       "layout": "IPY_MODEL_1e9791e9b6f94ab98aefafb338295cb0",
       "style": "IPY_MODEL_c70dbb22f89b443297e52149f9f0bf60"
      }
     },
     "e93d1188384b41afb33dc824a77ccf99": {
      "model_module": "@jupyter-widgets/base",
      "model_module_version": "1.2.0",
      "model_name": "LayoutModel",
      "state": {}
     },
     "e99a66cc351a43f587874af292690fa7": {
      "model_module": "@jupyter-widgets/controls",
      "model_module_version": "1.5.0",
      "model_name": "ButtonModel",
      "state": {
       "description": "⇽ Remove",
       "layout": "IPY_MODEL_adcc80ab30c641fba5357a04f5b8c0e6",
       "style": "IPY_MODEL_36137501c71e498c960eed4ee8bd11e2"
      }
     },
     "ea03b40596cf4b0d8c7d22e8071123f3": {
      "model_module": "@jupyter-widgets/controls",
      "model_module_version": "1.5.0",
      "model_name": "DescriptionStyleModel",
      "state": {
       "description_width": ""
      }
     },
     "ea3868f061f8448ab3882cb71b54001a": {
      "model_module": "@jupyter-widgets/controls",
      "model_module_version": "1.5.0",
      "model_name": "TextModel",
      "state": {
       "description": "Time (24hr)",
       "layout": "IPY_MODEL_194f5ad4ef6c4063b547319c1e917634",
       "style": "IPY_MODEL_8511bee87c0a49ce9ad57703569fde31",
       "value": "23:37:03.860216"
      }
     },
     "eac08d26d3c344c881bafa22c95a0768": {
      "model_module": "@jupyter-widgets/controls",
      "model_module_version": "1.5.0",
      "model_name": "DescriptionStyleModel",
      "state": {
       "description_width": ""
      }
     },
     "eaf520b5a7c64b288c4176c3d14bb577": {
      "model_module": "@jupyter-widgets/base",
      "model_module_version": "1.2.0",
      "model_name": "LayoutModel",
      "state": {}
     },
     "eb7b3274fbe548148b48933048e78f45": {
      "model_module": "@jupyter-widgets/controls",
      "model_module_version": "1.5.0",
      "model_name": "ButtonModel",
      "state": {
       "description": "Add ⇾",
       "layout": "IPY_MODEL_71cb2abb8f974164921bf5f747ff925c",
       "style": "IPY_MODEL_9181306d45ee4e838c18c259909d41e4"
      }
     },
     "ecadac34ded645858f70a9be7b20ed09": {
      "model_module": "@jupyter-widgets/controls",
      "model_module_version": "1.5.0",
      "model_name": "HBoxModel",
      "state": {
       "children": [
        "IPY_MODEL_e7f7375c4423454b88f64ab93e6dd5e4",
        "IPY_MODEL_46b4ad4bce9747289399cf11c3d0705e",
        "IPY_MODEL_28ab947a6d194c4181b1220539bb8125"
       ],
       "layout": "IPY_MODEL_4f6725ff30214e1bb07889d1117daab9"
      }
     },
     "ed6e05dfc04d496288d9c4378d47c032": {
      "model_module": "@jupyter-widgets/controls",
      "model_module_version": "1.5.0",
      "model_name": "DescriptionStyleModel",
      "state": {
       "description_width": "initial"
      }
     },
     "edc89d74e8274c9894ec25f177b782a1": {
      "model_module": "@jupyter-widgets/base",
      "model_module_version": "1.2.0",
      "model_name": "LayoutModel",
      "state": {}
     },
     "ee88dffd9fc8451b8bff51a00e2b1330": {
      "model_module": "@jupyter-widgets/base",
      "model_module_version": "1.2.0",
      "model_name": "LayoutModel",
      "state": {}
     },
     "ef1712c0797a46cc9aa516ec4ba32e43": {
      "model_module": "@jupyter-widgets/base",
      "model_module_version": "1.2.0",
      "model_name": "LayoutModel",
      "state": {}
     },
     "ef9ed0fa6f3e45e7a93151e2c59ba3d6": {
      "model_module": "@jupyter-widgets/base",
      "model_module_version": "1.2.0",
      "model_name": "LayoutModel",
      "state": {
       "height": "300px",
       "width": "95%"
      }
     },
     "efcc9e7f2f4b4198b8fd00ede8be805d": {
      "model_module": "@jupyter-widgets/base",
      "model_module_version": "1.2.0",
      "model_name": "LayoutModel",
      "state": {
       "width": "50%"
      }
     },
     "efd67046ebb6496cba3dff21da6dc16a": {
      "model_module": "@jupyter-widgets/base",
      "model_module_version": "1.2.0",
      "model_name": "LayoutModel",
      "state": {}
     },
     "f0a0766a8a624b27a37061f8db600a57": {
      "model_module": "@jupyter-widgets/base",
      "model_module_version": "1.2.0",
      "model_name": "LayoutModel",
      "state": {}
     },
     "f167d41052ed4896a9e71ed76dbee21d": {
      "model_module": "@jupyter-widgets/controls",
      "model_module_version": "1.5.0",
      "model_name": "HBoxModel",
      "state": {
       "children": [
        "IPY_MODEL_a0a6073dd534409abaf751afd45b0f50",
        "IPY_MODEL_b12f74a3b0d34bdc8a54312ade7fa49b",
        "IPY_MODEL_345a160549204c96994a436d8701ca6e"
       ],
       "layout": "IPY_MODEL_f3ebae9f3c8940cca016ce9776cae6b4"
      }
     },
     "f243e72d604e46faabacc20fe35d7a6e": {
      "model_module": "@jupyter-widgets/base",
      "model_module_version": "1.2.0",
      "model_name": "LayoutModel",
      "state": {}
     },
     "f3ebae9f3c8940cca016ce9776cae6b4": {
      "model_module": "@jupyter-widgets/base",
      "model_module_version": "1.2.0",
      "model_name": "LayoutModel",
      "state": {}
     },
     "f47ab75b89eb4bf2ba19ed4de3cbf611": {
      "model_module": "@jupyter-widgets/controls",
      "model_module_version": "1.5.0",
      "model_name": "SelectModel",
      "state": {
       "_options_labels": [
        "ipaddress",
        "host",
        "account"
       ],
       "description": "Select an item",
       "index": 0,
       "layout": "IPY_MODEL_ddb6b19d3a814322a1482f2e708c422a",
       "style": "IPY_MODEL_4d9de50cdfa74f7b8a6b1424481302ef"
      }
     },
     "f48c3f835c234798b9fd14c920c8ca46": {
      "model_module": "@jupyter-widgets/controls",
      "model_module_version": "1.5.0",
      "model_name": "ButtonStyleModel",
      "state": {}
     },
     "f496bbf81c6a45d4936db3f66606c376": {
      "model_module": "@jupyter-widgets/controls",
      "model_module_version": "1.5.0",
      "model_name": "VBoxModel",
      "state": {
       "children": [
        "IPY_MODEL_1b26345924c947f0839425514e67ddb6",
        "IPY_MODEL_eb7b3274fbe548148b48933048e78f45",
        "IPY_MODEL_dfaf3fe2a9ac40f59e0327f1e07ede23",
        "IPY_MODEL_e6b3f1d5bf534f81be90132660a96070"
       ],
       "layout": "IPY_MODEL_5b875374792f4523b0660a3b972d272e"
      }
     },
     "f5d6a5e7e914465aa5b21a27c1269de1": {
      "model_module": "@jupyter-widgets/base",
      "model_module_version": "1.2.0",
      "model_name": "LayoutModel",
      "state": {
       "width": "80%"
      }
     },
     "f62bbdf6f1554749ad076c11e42463e7": {
      "model_module": "@jupyter-widgets/controls",
      "model_module_version": "1.5.0",
      "model_name": "SliderStyleModel",
      "state": {
       "description_width": "initial"
      }
     },
     "f6389d09ca6d4f0c8846b92368756453": {
      "model_module": "@jupyter-widgets/controls",
      "model_module_version": "1.5.0",
      "model_name": "TextModel",
      "state": {
       "description": "Query start time (UTC):",
       "layout": "IPY_MODEL_95db9b31b6c04327a7c4cbcdf4083b4e",
       "style": "IPY_MODEL_5bf905b050ec41c986d10ef5bb50a66a",
       "value": "2019-09-02 22:37:03.860216"
      }
     },
     "f6f6a138ee40469892ed509e61b0d111": {
      "model_module": "@jupyter-widgets/controls",
      "model_module_version": "1.5.0",
      "model_name": "DescriptionStyleModel",
      "state": {
       "description_width": ""
      }
     },
     "f718c4ba44e84001b21cab43c5d5eba3": {
      "model_module": "@jupyter-widgets/base",
      "model_module_version": "1.2.0",
      "model_name": "LayoutModel",
      "state": {}
     },
     "f7b2363b13d347298cea11feaf77c558": {
      "model_module": "@jupyter-widgets/base",
      "model_module_version": "1.2.0",
      "model_name": "LayoutModel",
      "state": {
       "border": "1px solid black"
      }
     },
     "f7dac4c21ed348118815d7271eaf38b4": {
      "model_module": "@jupyter-widgets/controls",
      "model_module_version": "1.5.0",
      "model_name": "SelectModel",
      "state": {
       "description": "Selected: ",
       "index": null,
       "layout": "IPY_MODEL_a73b17f3d25948bab53b677accedd18f",
       "style": "IPY_MODEL_74915b0689114d5d8076e5487d0728aa"
      }
     },
     "f7e466cdb3694ceba2457e22919e29d3": {
      "model_module": "@jupyter-widgets/controls",
      "model_module_version": "1.5.0",
      "model_name": "SelectModel",
      "state": {
       "_options_labels": [
        "2019-01-15 05:15:03  Suspicious Account Creation Detected (MSTICALERTSWIN1) [id:2518547714966107270_3c380601-b5ad-4fff-9cdb-24528a3a19fd]",
        "2019-01-15 05:15:10  Potential attempt to bypass AppLocker detected (MSTICALERTSWIN1) [id:2518547714892475358_9e449abd-e67b-4ec8-a191-e688d7d63e26]",
        "2019-01-15 05:15:11  Detected suspicious credentials in commandline (MSTICALERTSWIN1) [id:2518547714880519889_9d6d471a-c94f-4706-b0ff-b2f0301495aa]",
        "2019-01-15 05:15:11  Detected encoded executable in command line data (MSTICALERTSWIN1) [id:2518547714885867955_290559aa-a3d0-425b-8ed2-e98ccc9f0aa0]",
        "2019-01-15 05:15:11  Digital currency mining related behavior detected (MSTICALERTSWIN1) [id:2518547714887413669_4fa0022e-f431-4ba1-ae5f-ee23247e0853]",
        "2019-01-15 05:15:11  Suspiciously named process detected (MSTICALERTSWIN1) [id:2518547714887413669_1c680842-2a1d-40c0-a6e4-32e5dd144647]",
        "2019-01-15 05:15:11  Detected decoding of an executable using built-in certutil.exe tool (MSTICALERTSWIN1) [id:2518547714882331861_5c56421d-d894-4437-9b9a-a3b5c6b7e1df]",
        "2019-01-15 05:15:12  Detected suspicious commandline arguments (MSTICALERTSWIN1) [id:2518547714879317674_226cc394-fccf-483d-888a-beafad2ed4a4]",
        "2019-01-15 05:15:12  Detected suspicious document credentials (MSTICALERTSWIN1) [id:2518547714879970078_b080127b-d5c1-425e-a7ca-e4bbd873009d]",
        "2019-01-15 05:15:12  Suspicious Powershell Activity Detected (MSTICALERTSWIN1) [id:2518547714874872692_30d988ff-b8d9-45df-8217-e56b0d4d591c]",
        "2019-01-15 05:15:12  Suspicious powershell cmdlets executed (MSTICALERTSWIN1) [id:2518547714874872692_3eb0eb4b-0536-430c-8ab6-cd48524c14b1]",
        "2019-01-15 05:15:12  Suspicious Powershell Activity Detected (MSTICALERTSWIN1) [id:2518547714876077067_953def48-a24b-42a9-bd02-7221be90f84a]",
        "2019-01-15 05:15:12  Suspicious Powershell Activity Detected (MSTICALERTSWIN1) [id:2518547714873290756_df1b9eb2-05c4-4f7c-8540-cbb18ec5c608]",
        "2019-01-15 05:15:12  Detected obfuscated command line. (MSTICALERTSWIN1) [id:2518547714871530079_77211491-86de-4295-82bc-38e332fe1112]",
        "2019-01-15 05:15:13  Suspicious Powershell Activity Detected (MSTICALERTSWIN1) [id:2518547714867787710_76336679-bddf-460f-90fb-35a1386de7a6]",
        "2019-01-15 05:15:14  Executable found running from a suspicious location (MSTICALERTSWIN1) [id:2518547714853062206_f9ddd8b3-5fa8-4f2f-b811-bdca90091195]",
        "2019-01-15 05:15:14  Detected suspicious named pipe communications (MSTICALERTSWIN1) [id:2518547714859677078_9b4e4942-d564-4755-862c-7171d52921e3]",
        "2019-01-15 05:15:14  Suspicious process executed (MSTICALERTSWIN1) [id:2518547714854375707_e2a60bd1-d7c8-466d-a176-4333d4e0d1d5]",
        "2019-01-15 05:15:14  Suspicious WindowPosition registry value detected (MSTICALERTSWIN1) [id:2518547714858429362_9bfd0e4b-ec93-46bb-8eea-f72e8f1262f1]",
        "2019-01-15 05:15:14  Executable found running from a suspicious location (MSTICALERTSWIN1) [id:2518547714857061520_f4324711-aeae-4912-a634-331b7e7456b6]",
        "2019-01-15 05:15:15  Suspicious process executed (MSTICALERTSWIN1) [id:2518547714842732992_ad5981a5-fdcc-406a-8742-e50bd7f84917]",
        "2019-01-15 05:15:15  Detected anomalous mix of upper and lower case characters in command-line (MSTICALERTSWIN1) [id:2518547714844457503_55cd3e12-3a91-4b06-9be6-833df3365142]",
        "2019-01-15 05:15:15  Detected change to a registry key that can be abused to bypass UAC (MSTICALERTSWIN1) [id:2518547714844291280_8f71e695-ba9b-4c97-9770-63cdeb34b7b4]",
        "2019-01-15 05:15:15  Sticky keys attack detected (MSTICALERTSWIN1) [id:2518547714843796759_b3737297-038c-4514-a957-d591384b4256]",
        "2019-01-15 05:15:15  Detected suspicious use of FTP -s Switch (MSTICALERTSWIN1) [id:2518547714843218505_265472ff-3820-4dad-8da7-00e39e1a99fd]",
        "2019-01-15 05:15:16  Suspected Kerberos Golden Ticket attack parameters observed (MSTICALERTSWIN1) [id:2518547714838326136_e776fca2-4c01-43eb-ab97-b9845af3529c]",
        "2019-01-15 05:15:16  Detected suspicious new firewall rule (MSTICALERTSWIN1) [id:2518547714839319574_33edaa83-fe35-47de-9486-fc9792c5b65b]",
        "2019-01-15 05:15:16  Detected suspicious execution via rundll32.exe (MSTICALERTSWIN1) [id:2518547714834806864_4bb2ecc3-f4aa-40cd-a3d7-802fc9086e89]",
        "2019-01-15 05:15:16  Detected suspicious execution via rundll32.exe (MSTICALERTSWIN1) [id:2518547714835690929_8e73946b-ebea-4625-aa60-d97b82dcfb07]",
        "2019-01-15 05:15:16  Detected possible local reconnaissance activity (MSTICALERTSWIN1) [id:2518547714837217151_f0d023fb-376f-46ab-9976-a5825d826bea]",
        "2019-01-15 05:15:16  Detected suspicious Set-ExecutionPolicy and WinRM changes (MSTICALERTSWIN1) [id:2518547714832788202_b56b9e61-fefb-47a3-a34f-7c1b44f8268a]",
        "2019-01-15 05:15:16  Detected suspicious commandline used to start all executables in a directory (MSTICALERTSWIN1) [id:2518547714833232927_0e8db234-9727-41f3-a6e0-0773519603d2]",
        "2019-01-15 05:15:16  Detected potentially suspicious use of Telegram tool (MSTICALERTSWIN1) [id:2518547714833859291_4fa26308-1daf-49ee-8880-b194f950d8b0]",
        "2019-01-15 05:15:16  Detected actions indicative of disabling and deleting IIS log files. (MSTICALERTSWIN1) [id:2518547714831067013_8df27789-fb10-4035-ac48-cd0883b2e6b0]",
        "2019-01-15 05:15:17  Random process name detected (MSTICALERTSWIN1) [id:2518547714829244584_9984a237-2dd7-4932-bb8d-23ca535a6254]",
        "2019-01-15 05:15:17  Azure Security Center test alert (not a threat) (MSTICALERTSWIN1) [id:2518547714824290520_b2d9be9f-58e2-4174-8658-419670393253]",
        "2019-01-15 05:15:18  Detected suspicious file creation (MSTICALERTSWIN1) [id:2518547714816637303_3252483f-2fdb-411a-93f5-e268d5e56abf]",
        "2019-01-15 05:15:18  High risk software detected (MSTICALERTSWIN1) [id:2518547714813699414_d12ed618-567b-4b8f-8241-82ad4c1cb28e]",
        "2019-01-15 05:15:18  Detected possible execution of malware dropper (MSTICALERTSWIN1) [id:2518547714815009424_9a34d332-2fb6-4f3f-beb0-d9817dc9b7cd]",
        "2019-01-15 05:15:18  Ransomware indicators detected (MSTICALERTSWIN1) [id:2518547714812286467_d5e026fa-6687-495e-878d-c4c93477cc78]",
        "2019-01-15 05:15:18  Detected possible execution of keygen executable (MSTICALERTSWIN1) [id:2518547714814533914_38d53571-e98a-4bb6-a17f-0361a561019e]",
        "2019-01-15 05:15:18  Detected suspicious use of Pcalua.exe to launch executable code (MSTICALERTSWIN1) [id:2518547714811337754_ad1fd62a-9565-41e4-b94a-6264942033f6]",
        "2019-01-15 05:15:18  Detected the disabling of critical services (MSTICALERTSWIN1) [id:2518547714813299511_a5df127a-f7e8-44ff-b404-6d5b37d06488]",
        "2019-01-15 05:15:18  Detected suspicious file cleanup commands (MSTICALERTSWIN1) [id:2518547714814450855_c0822e2b-785b-41a8-8136-21b7430a0078]",
        "2019-01-15 05:15:18  Detected Petya ransomware indicators (MSTICALERTSWIN1) [id:2518547714812938298_fa4939d4-a20c-440a-839c-89c0c43e1ccc]",
        "2019-01-15 05:15:18  Detected suspicious execution of VBScript.Encode command (MSTICALERTSWIN1) [id:2518547714811804858_5b42a152-64c2-4f16-8cc3-887b8b0161fc]",
        "2019-01-15 05:15:18  Detected suspicious use of Cacls to lower the security state of the system. (MSTICALERTSWIN1) [id:2518547714815952205_1ba5718e-529b-441b-8036-ad06ee862e76]",
        "2019-01-15 05:15:19  Possible credential dumping detected (MSTICALERTSWIN1) [id:2518547714809416002_76bf04a5-71fa-487a-9742-d54941a7a194]",
        "2019-01-15 05:15:19  Suspicious download using Certutil detected (MSTICALERTSWIN1) [id:2518547714805546049_03e7bf17-8f77-42ca-8ac1-af8258f4d1ca]",
        "2019-01-15 09:15:03  Suspicious Account Creation Detected (MSTICALERTSWIN1) [id:2518547570966661760_526e34b6-6578-4fc0-9db6-e126b4d673f0]",
        "2019-01-15 09:15:07  Potential attempt to bypass AppLocker detected (MSTICALERTSWIN1) [id:2518547570924760670_9868ed7d-397e-4aa4-8dbd-5a1c5f736c1e]",
        "2019-01-15 09:15:10  Suspiciously named process detected (MSTICALERTSWIN1) [id:2518547570895430544_4ea6c432-6d20-4986-9679-ecf58ac4854d]",
        "2019-01-15 09:15:10  Digital currency mining related behavior detected (MSTICALERTSWIN1) [id:2518547570895430544_72351be4-ae78-4cc6-9f6a-1ff87c31baeb]",
        "2019-01-15 09:15:11  Suspicious Powershell Activity Detected (MSTICALERTSWIN1) [id:2518547570884378777_92a2f884-5827-4fb6-acf8-b0087b76aa73]",
        "2019-01-15 09:15:11  Suspicious Powershell Activity Detected (MSTICALERTSWIN1) [id:2518547570881721037_4ca5c629-673c-4372-9bd3-ab7bf6d6e6f0]",
        "2019-01-15 09:15:11  Suspicious Powershell Activity Detected (MSTICALERTSWIN1) [id:2518547570883109415_c762b0f7-a0f5-4dda-ab48-54b5ae6eade4]",
        "2019-01-15 09:15:11  Detected obfuscated command line. (MSTICALERTSWIN1) [id:2518547570880067443_c1a9004f-7f64-4144-8ce0-8f76f9041703]",
        "2019-01-15 09:15:12  Suspicious Powershell Activity Detected (MSTICALERTSWIN1) [id:2518547570876432155_ce7c7361-8ac9-47be-b8fb-7a87c87ee178]",
        "2019-01-15 09:15:13  Suspicious WindowPosition registry value detected (MSTICALERTSWIN1) [id:2518547570866947129_1b074412-133c-4ac9-8e3f-24103159b03e]",
        "2019-01-15 09:15:13  Executable found running from a suspicious location (MSTICALERTSWIN1) [id:2518547570865502616_c6f3dea2-fe36-4e65-b161-1b1cd1104eb3]",
        "2019-01-15 09:15:13  Executable found running from a suspicious location (MSTICALERTSWIN1) [id:2518547570860979996_bddac8c5-cba5-4da2-a6dd-c0a39fc2b256]",
        "2019-01-15 09:15:13  Suspicious process executed (MSTICALERTSWIN1) [id:2518547570862568702_029c9c95-c1fe-4419-bc3b-a6d832c87e65]",
        "2019-01-15 09:15:14  Detected anomalous mix of upper and lower case characters in command-line (MSTICALERTSWIN1) [id:2518547570852901341_3ca6ca5a-8bf2-417f-b8c9-3cea37c84f4b]",
        "2019-01-15 09:15:14  Suspicious process executed (MSTICALERTSWIN1) [id:2518547570851316041_43f7d8f3-fea5-4fca-a884-713c2d65203c]",
        "2019-01-15 09:15:16  Azure Security Center test alert (not a threat) (MSTICALERTSWIN1) [id:2518547570833725387_2df8ae94-03fe-4b9f-a3a9-f3c6dab95c05]",
        "2019-01-15 09:15:17  Ransomware indicators detected (MSTICALERTSWIN1) [id:2518547570821365949_48327b74-c904-402d-a1d8-2b3a882924e7]",
        "2019-01-15 09:15:17  Detected Petya ransomware indicators (MSTICALERTSWIN1) [id:2518547570821871899_e647375c-9979-47b5-9f78-f414a1aad26d]",
        "2019-01-15 11:45:00  Suspicious Account Creation Detected (MSTICALERTSWIN1) [id:2518547480991748435_836318d1-0fa0-4cfe-a3d0-2b1fdbaf2216]",
        "2019-01-15 11:45:01  Detected obfuscated command line. (MSTICALERTSWIN1) [id:2518547480982511513_adfabbe0-fce0-44f3-be4b-17283bd03bed]",
        "2019-01-15 11:45:01  Suspiciously named process detected (MSTICALERTSWIN1) [id:2518547480988516756_54bb943e-7fe9-4146-a43e-4064c8e0049f]",
        "2019-01-15 11:45:01  Digital currency mining related behavior detected (MSTICALERTSWIN1) [id:2518547480988516756_668ed54c-9e73-4d4f-a9c2-b88fd1b13db0]",
        "2019-01-15 11:45:01  Potential attempt to bypass AppLocker detected (MSTICALERTSWIN1) [id:2518547480989617678_f3490cf7-a303-4001-b7d6-8acf7e83f191]",
        "2019-01-15 11:45:01  Suspicious Powershell Activity Detected (MSTICALERTSWIN1) [id:2518547480982973701_24a6d6f3-acf1-41bd-a11f-01a1369bac02]",
        "2019-01-15 11:45:01  Suspicious Powershell Activity Detected (MSTICALERTSWIN1) [id:2518547480984263491_d46877bd-e04d-401a-99bd-eec2a6b25663]",
        "2019-01-15 11:45:01  Suspicious Powershell Activity Detected (MSTICALERTSWIN1) [id:2518547480983467170_9da8e3df-9c3b-4e20-8bd0-ace00aff9def]",
        "2019-01-15 11:45:01  Suspicious Powershell Activity Detected (MSTICALERTSWIN1) [id:2518547480980813134_5cb7ab95-6017-4031-afb2-e11518b0f5cc]",
        "2019-01-15 11:45:02  Executable found running from a suspicious location (MSTICALERTSWIN1) [id:2518547480975043692_7e663699-5412-496f-ac91-e21a7b6f0be5]",
        "2019-01-15 11:45:02  Suspicious WindowPosition registry value detected (MSTICALERTSWIN1) [id:2518547480977469312_e9ff6947-fd12-42d2-bb63-2d814f04482a]",
        "2019-01-15 11:45:02  Executable found running from a suspicious location (MSTICALERTSWIN1) [id:2518547480977057409_ed9d92ac-0ab8-4a2e-a1dd-f70ee30a9af1]",
        "2019-01-15 11:45:02  Detected anomalous mix of upper and lower case characters in command-line (MSTICALERTSWIN1) [id:2518547480970182118_c0558adc-b4a9-4289-b9ad-7e7260f1cde0]",
        "2019-01-15 11:45:02  Suspicious process executed (MSTICALERTSWIN1) [id:2518547480976076338_2a106d12-acd8-4dd7-9e1c-3c20b4eaa320]",
        "2019-01-15 11:45:03  Suspicious process executed (MSTICALERTSWIN1) [id:2518547480968677354_88eb8a87-a876-46aa-b8ed-be7298929ea8]",
        "2019-01-15 11:45:04  Random process name detected (MSTICALERTSWIN1) [id:2518547480956885358_b66e93d7-b38b-4785-baa5-093edc18e649]",
        "2019-01-15 11:45:05  Azure Security Center test alert (not a threat) (MSTICALERTSWIN1) [id:2518547480945920380_00d33245-c643-4155-8c05-6abc4ee3b3cd]",
        "2019-01-15 11:45:06  Ransomware indicators detected (MSTICALERTSWIN1) [id:2518547480937987105_ec1678a1-0fe8-44c5-91b5-621c40d2bb8c]",
        "2019-01-15 11:45:06  Detected Petya ransomware indicators (MSTICALERTSWIN1) [id:2518547480938543829_91a4f9a7-70ad-433b-a568-34314e3f467f]",
        "2019-01-15 13:15:10  Suspiciously named process detected (MSTICALERTSWIN1) [id:2518547426892072407_171b74b2-a431-4b55-8d69-128e5fb95329]",
        "2019-01-15 13:15:13  Suspicious WindowPosition registry value detected (MSTICALERTSWIN1) [id:2518547426863814510_75495c57-4fd6-4e27-b94c-c6f81f78bcb5]",
        "2019-01-15 13:15:14  Suspicious process executed (MSTICALERTSWIN1) [id:2518547426859453218_89d1850f-dccd-4d45-b194-650819d358d9]",
        "2019-01-15 13:15:14  Executable found running from a suspicious location (MSTICALERTSWIN1) [id:2518547426858055460_51b74398-40e2-4b1b-9d92-89c0004738c9]",
        "2019-01-15 13:15:15  Suspicious process executed (MSTICALERTSWIN1) [id:2518547426847947731_caa12d6c-4928-4787-90d4-cb27ff94373c]",
        "2019-01-15 13:15:17  Azure Security Center test alert (not a threat) (MSTICALERTSWIN1) [id:2518547426829675756_846ec406-bb3e-451b-bf6f-9e1e17a69bd6]",
        "2019-01-15 13:15:18  Ransomware indicators detected (MSTICALERTSWIN1) [id:2518547426817428483_636ab38f-2528-4356-8602-d0910f8ac600]",
        "2019-01-15 13:15:18  Detected Petya ransomware indicators (MSTICALERTSWIN1) [id:2518547426817928329_a4aa878d-93b5-4cd1-931f-30f85b9e6db2]",
        "2019-01-15 17:15:03  Suspicious Account Creation Detected (MSTICALERTSWIN1) [id:2518547282966696689_3db7e1e7-2edc-4dd9-8c1d-d908f5b8a904]",
        "2019-01-15 17:15:10  Suspiciously named process detected (MSTICALERTSWIN1) [id:2518547282892925953_0073e6d8-6c2e-42e4-8966-d1f5a3dd3517]",
        "2019-01-15 17:15:10  Digital currency mining related behavior detected (MSTICALERTSWIN1) [id:2518547282892925953_35c8d588-ddf7-46b5-a0bf-f47023f9343c]",
        "2019-01-15 17:15:10  Potential attempt to bypass AppLocker detected (MSTICALERTSWIN1) [id:2518547282896095305_82730ffa-b9ce-43f4-bf3c-a97113107cc5]",
        "2019-01-15 17:15:11  Suspicious Powershell Activity Detected (MSTICALERTSWIN1) [id:2518547282883193041_31ae6eeb-bd1d-4018-8df9-eeedd60bf1ab]",
        "2019-01-15 17:15:11  Suspicious Powershell Activity Detected (MSTICALERTSWIN1) [id:2518547282880013417_d65aa787-e867-43b1-9182-025a1a38173a]",
        "2019-01-15 17:15:11  Suspicious Powershell Activity Detected (MSTICALERTSWIN1) [id:2518547282881581273_ed5bcf39-ffd3-468a-82e3-28e108d4f06f]",
        "2019-01-15 17:15:12  Suspicious Powershell Activity Detected (MSTICALERTSWIN1) [id:2518547282874783943_bd1a0865-a507-4e2b-b8df-613238a950df]",
        "2019-01-15 17:15:12  Detected obfuscated command line. (MSTICALERTSWIN1) [id:2518547282878855119_d89d1ab7-e5b7-426c-a98f-eab95deea3ad]",
        "2019-01-15 17:15:13  Suspicious WindowPosition registry value detected (MSTICALERTSWIN1) [id:2518547282865194453_9895a5cc-6f49-45f5-a0eb-f05c1f11f264]",
        "2019-01-15 17:15:13  Executable found running from a suspicious location (MSTICALERTSWIN1) [id:2518547282863799328_84ea8dcd-9436-4b4d-82b2-36114028bd61]",
        "2019-01-15 17:15:14  Suspicious process executed (MSTICALERTSWIN1) [id:2518547282859754476_0c3ae402-a9ea-4d5c-9c09-4274b7847c2c]",
        "2019-01-15 17:15:14  Executable found running from a suspicious location (MSTICALERTSWIN1) [id:2518547282858353938_58851b10-8f5c-48f1-aade-b1529f4e2c7f]",
        "2019-01-15 17:15:14  Detected anomalous mix of upper and lower case characters in command-line (MSTICALERTSWIN1) [id:2518547282850984831_7f983018-fd59-4e9e-ba70-295f6beb0e9c]",
        "2019-01-15 17:15:15  Suspicious process executed (MSTICALERTSWIN1) [id:2518547282845656644_c7318da8-368f-47f8-bff5-e15600a3fb80]",
        "2019-01-15 17:15:18  Azure Security Center test alert (not a threat) (MSTICALERTSWIN1) [id:2518547282812706885_12ae1e22-347e-454c-ae0d-ebb48cdf189b]",
        "2019-01-15 17:15:19  Detected Petya ransomware indicators (MSTICALERTSWIN1) [id:2518547282803821916_c76cdb6c-cea0-4b2b-9ab6-1442a5857ed8]",
        "2019-01-15 17:15:19  Ransomware indicators detected (MSTICALERTSWIN1) [id:2518547282802847718_4a524cc8-7613-4c42-93a9-8c1e466a4476]"
       ],
       "description": "Select alert :",
       "index": 9,
       "layout": "IPY_MODEL_b3822c20db4244cc85f8fc232a74904b",
       "style": "IPY_MODEL_ed6e05dfc04d496288d9c4378d47c032"
      }
     },
     "f7f73851aa004e0ea65467128a9c25b5": {
      "model_module": "@jupyter-widgets/controls",
      "model_module_version": "1.5.0",
      "model_name": "DescriptionStyleModel",
      "state": {
       "description_width": "initial"
      }
     },
     "f89244cac8ee4f609216705ca3661cdd": {
      "model_module": "@jupyter-widgets/base",
      "model_module_version": "1.2.0",
      "model_name": "LayoutModel",
      "state": {}
     },
     "f8e86d8d9b9247cfb7e98f407ee6a030": {
      "model_module": "@jupyter-widgets/controls",
      "model_module_version": "1.5.0",
      "model_name": "ButtonStyleModel",
      "state": {}
     },
     "f999099fa7a643dcbf0ed481dcecc8cb": {
      "model_module": "@jupyter-widgets/controls",
      "model_module_version": "1.5.0",
      "model_name": "TextModel",
      "state": {
       "description": "Time (24hr)",
       "layout": "IPY_MODEL_460d336b20c04082b66c3f06325b0160",
       "style": "IPY_MODEL_95519aa367354e2fb27220306c975410",
       "value": "23:36:59.410918"
      }
     },
     "fa72be7130944fb98041115382883a15": {
      "model_module": "@jupyter-widgets/controls",
      "model_module_version": "1.5.0",
      "model_name": "DescriptionStyleModel",
      "state": {
       "description_width": ""
      }
     },
     "fad33e06c21446588920058ba20b3717": {
      "model_module": "@jupyter-widgets/controls",
      "model_module_version": "1.5.0",
      "model_name": "ButtonModel",
      "state": {
       "description": "⇽ Remove",
       "layout": "IPY_MODEL_54809e558baf464ab23efbe518d7a23f",
       "style": "IPY_MODEL_16be32a1f2614a8b8ca1f08e1f2a3df5"
      }
     },
     "fbdfe45f5d5141a9a4e441c2ec8ae83e": {
      "model_module": "@jupyter-widgets/base",
      "model_module_version": "1.2.0",
      "model_name": "LayoutModel",
      "state": {}
     },
     "fc5665a1f3944a118138e8698423f743": {
      "model_module": "@jupyter-widgets/base",
      "model_module_version": "1.2.0",
      "model_name": "LayoutModel",
      "state": {
       "width": "80%"
      }
     },
     "fc934d866cdd42388058d40e4ce1b10a": {
      "model_module": "@jupyter-widgets/base",
      "model_module_version": "1.2.0",
      "model_name": "LayoutModel",
      "state": {}
     },
     "fce0bfea88764df9988a8003630a59ef": {
      "model_module": "@jupyter-widgets/controls",
      "model_module_version": "1.5.0",
      "model_name": "HBoxModel",
      "state": {
       "children": [
        "IPY_MODEL_86ad1742c0844d4a87b5f50173e12235",
        "IPY_MODEL_719cb34ed4b6429da3d8f45b95ceccf5"
       ],
       "layout": "IPY_MODEL_4f7edb7a500447ec86a53bb4759f9a34"
      }
     },
     "fd6aa2bfdba741f7b0f53f9607a03dc9": {
      "model_module": "@jupyter-widgets/base",
      "model_module_version": "1.2.0",
      "model_name": "LayoutModel",
      "state": {}
     },
     "fdafe72f9cfc449cb47a49fa786634b9": {
      "model_module": "@jupyter-widgets/base",
      "model_module_version": "1.2.0",
      "model_name": "LayoutModel",
      "state": {
       "width": "50%"
      }
     },
     "fe73c495c0854f88ad3b5439ae27561f": {
      "model_module": "@jupyter-widgets/controls",
      "model_module_version": "1.5.0",
      "model_name": "TextModel",
      "state": {
       "description": "Query start time (UTC):",
       "layout": "IPY_MODEL_a77e5195e97e4d2393be13c2bb8ecd30",
       "style": "IPY_MODEL_ae304d3550ec4a769f37a4d6af6d2328",
       "value": "2019-08-18 22:37:02.768494"
      }
     },
     "fe7bd762dce245d28b83154e587bc96d": {
      "model_module": "@jupyter-widgets/controls",
      "model_module_version": "1.5.0",
      "model_name": "DescriptionStyleModel",
      "state": {
       "description_width": ""
      }
     },
     "fe957b86f208434c9d5cddee8d282188": {
      "model_module": "@jupyter-widgets/controls",
      "model_module_version": "1.5.0",
      "model_name": "ButtonStyleModel",
      "state": {}
     }
    },
    "version_major": 2,
    "version_minor": 0
   }
  }
 },
 "nbformat": 4,
 "nbformat_minor": 2
}
